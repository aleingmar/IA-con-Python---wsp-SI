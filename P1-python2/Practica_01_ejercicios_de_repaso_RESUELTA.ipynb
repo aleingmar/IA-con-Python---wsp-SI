{
 "cells": [
  {
   "cell_type": "markdown",
   "metadata": {},
   "source": [
    "# El lenguaje de programación _Python_"
   ]
  },
  {
   "cell_type": "markdown",
   "metadata": {},
   "source": [
    "El objetivo de esta práctica es realizar una serie de ejercicios de familiarización con el lenguaje de programación _Python_."
   ]
  },
  {
   "cell_type": "markdown",
   "metadata": {},
   "source": [
    "Para evaluar las celdas se puede usar uno de los siguientes tres comandos:\n",
    "* Control-Enter: evalúa la celda y permanece en ella\n",
    "* Mayúsculas-Enter: evalúa la celda y selecciona la siguiente celda\n",
    "* Alt-Enter: evalúa la celda e inserta una celda vacía justo debajo"
   ]
  },
  {
   "cell_type": "markdown",
   "metadata": {},
   "source": [
    "## Ejercicio 1"
   ]
  },
  {
   "cell_type": "markdown",
   "metadata": {},
   "source": [
    "Se pide definir una función `cuadrados` que, dada una secuencia `sec` de números, devuelva la lista de los cuadrados de esos números, en el mismo orden."
   ]
  },
  {
   "cell_type": "markdown",
   "metadata": {},
   "source": [
    "### Ejemplos:\n",
    "\n",
    "* `cuadrados([2, -1.2, 3e2, 1j])` debe devolver `[4, 1.44, 90000.0, (-1+0j)]`\n",
    "* `cuadrados(i for i in range(10))` debe devolver `[0, 1, 4, 9, 16, 25, 36, 49, 64, 81]`"
   ]
  },
  {
   "cell_type": "code",
   "execution_count": 1,
   "metadata": {},
   "outputs": [],
   "source": [
    "def cuadrados(sec):\n",
    "    ret = []\n",
    "    for elem in sec:\n",
    "        ret.append(elem*elem) # elem^2\n",
    "    return ret"
   ]
  },
  {
   "cell_type": "code",
   "execution_count": 2,
   "metadata": {},
   "outputs": [
    {
     "data": {
      "text/plain": [
       "[4, 1.44, 25, 49]"
      ]
     },
     "execution_count": 2,
     "metadata": {},
     "output_type": "execute_result"
    }
   ],
   "source": [
    "cuadrados([2, -1.2, 5, 7])"
   ]
  },
  {
   "cell_type": "code",
   "execution_count": 3,
   "metadata": {},
   "outputs": [
    {
     "data": {
      "text/plain": [
       "[0, 1, 4, 9, 16, 25, 36, 49, 64, 81]"
      ]
     },
     "execution_count": 3,
     "metadata": {},
     "output_type": "execute_result"
    }
   ],
   "source": [
    "cuadrados(range(10))"
   ]
  },
  {
   "cell_type": "markdown",
   "metadata": {},
   "source": [
    "Versión reducida usando listas por comprensión."
   ]
  },
  {
   "cell_type": "code",
   "execution_count": 4,
   "metadata": {},
   "outputs": [],
   "source": [
    "def cuadrados_red(sec):\n",
    "    return [elem*elem for elem in sec]"
   ]
  },
  {
   "cell_type": "code",
   "execution_count": 5,
   "metadata": {},
   "outputs": [
    {
     "data": {
      "text/plain": [
       "[4, 1.44, 25, 49]"
      ]
     },
     "execution_count": 5,
     "metadata": {},
     "output_type": "execute_result"
    }
   ],
   "source": [
    "cuadrados_red([2, -1.2, 5, 7])"
   ]
  },
  {
   "cell_type": "code",
   "execution_count": 6,
   "metadata": {},
   "outputs": [
    {
     "data": {
      "text/plain": [
       "[0, 1, 4, 9, 16, 25, 36, 49, 64, 81]"
      ]
     },
     "execution_count": 6,
     "metadata": {},
     "output_type": "execute_result"
    }
   ],
   "source": [
    "cuadrados_red(range(10))"
   ]
  },
  {
   "cell_type": "markdown",
   "metadata": {},
   "source": [
    "## Ejercicio 1.1\n",
    "\n",
    "Se pide definir una función `son_primos` que dada una secuencia sec de numeros, devuelva una lista de tuplas que con tienen el numero original acompañado de un valor lógico `True/False` indicando si el número es primo o no.\n",
    "\n",
    "*Ejemplo, dado una lista `[2,3,4,5,6,10,13]` devuelve `[(2, True), (3, True), (4, False), (5, True), (6, False), (10, False), (13, True)]`*\n",
    "\n",
    "Podemos empezar diseñando una funcion `es_primo` que dado un valor numérico me diga si es primo o no."
   ]
  },
  {
   "cell_type": "markdown",
   "metadata": {
    "tags": []
   },
   "source": [
    "### Notas\n",
    "- Descomponer el problema en más de una función puede facilitar la tarea\n",
    "- Operador división entera `//`\n",
    "- Operador resto `%`\n",
    "- Creación de tuplas `variable = (valor1, valor2, valor3)`"
   ]
  },
  {
   "cell_type": "markdown",
   "metadata": {},
   "source": [
    "Descomposición del problema:\n",
    "1. Función `es_primo`\n",
    "2. Función `son_primos`"
   ]
  },
  {
   "cell_type": "code",
   "execution_count": 87,
   "metadata": {},
   "outputs": [],
   "source": [
    "def es_primo(n):\n",
    "    if n < 2:\n",
    "        return False \n",
    "    #for num in range(2,n):\n",
    "    for i in range(2,(n // 2)+1):\n",
    "        if n % i == 0:\n",
    "            return False\n",
    "    return True"
   ]
  },
  {
   "cell_type": "code",
   "execution_count": 8,
   "metadata": {},
   "outputs": [],
   "source": [
    "def son_primos(sec):\n",
    "    ret = []\n",
    "    for elem in sec:\n",
    "        ret.append((elem, es_primo(elem)))\n",
    "    return ret"
   ]
  },
  {
   "cell_type": "code",
   "execution_count": 9,
   "metadata": {},
   "outputs": [
    {
     "data": {
      "text/plain": [
       "[(0, False),\n",
       " (1, False),\n",
       " (2, True),\n",
       " (3, True),\n",
       " (4, False),\n",
       " (5, True),\n",
       " (6, False),\n",
       " (10, False),\n",
       " (13, True)]"
      ]
     },
     "execution_count": 9,
     "metadata": {},
     "output_type": "execute_result"
    }
   ],
   "source": [
    "son_primos([0,1,2,3,4,5,6,10,13])"
   ]
  },
  {
   "cell_type": "markdown",
   "metadata": {},
   "source": [
    "Versión reducida de la función `son_primos` usando listas por comprensión."
   ]
  },
  {
   "cell_type": "code",
   "execution_count": 84,
   "metadata": {},
   "outputs": [],
   "source": [
    "def son_primos(sec):\n",
    "    return [(elem, es_primo(elem)) for elem in sec]"
   ]
  },
  {
   "cell_type": "code",
   "execution_count": 11,
   "metadata": {},
   "outputs": [
    {
     "data": {
      "text/plain": [
       "[(0, False),\n",
       " (1, False),\n",
       " (2, True),\n",
       " (3, True),\n",
       " (4, False),\n",
       " (5, True),\n",
       " (6, False),\n",
       " (10, False),\n",
       " (13, True)]"
      ]
     },
     "execution_count": 11,
     "metadata": {},
     "output_type": "execute_result"
    }
   ],
   "source": [
    "son_primos([0,1,2,3,4,5,6,10,13])"
   ]
  },
  {
   "cell_type": "markdown",
   "metadata": {},
   "source": [
    "Usando una sola función:"
   ]
  },
  {
   "cell_type": "code",
   "execution_count": 2,
   "metadata": {},
   "outputs": [],
   "source": [
    "def son_primos(sec):\n",
    "    ret = []\n",
    "    for n in sec:\n",
    "        if n < 2:\n",
    "            ret.append((n, False))\n",
    "            continue\n",
    "        for i in range(2,(n // 2)+1):\n",
    "            if n % i == 0:\n",
    "                ret.append((n, False))\n",
    "                break\n",
    "        else:\n",
    "            ret.append((n, True))\n",
    "    return ret"
   ]
  },
  {
   "cell_type": "code",
   "execution_count": 3,
   "metadata": {},
   "outputs": [
    {
     "data": {
      "text/plain": [
       "[(0, False),\n",
       " (1, False),\n",
       " (2, True),\n",
       " (3, True),\n",
       " (4, False),\n",
       " (5, True),\n",
       " (6, False),\n",
       " (10, False),\n",
       " (13, True)]"
      ]
     },
     "execution_count": 3,
     "metadata": {},
     "output_type": "execute_result"
    }
   ],
   "source": [
    "son_primos([0,1,2,3,4,5,6,10,13])"
   ]
  },
  {
   "cell_type": "markdown",
   "metadata": {},
   "source": [
    "¿Y si queremos filtrar los que son primos? Ejemplo, dado una lista `[2,3,4,5,6,10,13]` devuelve `[2,3,5,13]`"
   ]
  },
  {
   "cell_type": "code",
   "execution_count": 85,
   "metadata": {},
   "outputs": [],
   "source": [
    "def filtra_primos(sec):\n",
    "    return [elem for elem in sec if es_primo(elem)]"
   ]
  },
  {
   "cell_type": "code",
   "execution_count": 88,
   "metadata": {},
   "outputs": [
    {
     "data": {
      "text/plain": [
       "[2, 3, 5, 13]"
      ]
     },
     "execution_count": 88,
     "metadata": {},
     "output_type": "execute_result"
    }
   ],
   "source": [
    "filtra_primos([2,3,4,5,6,10,13])"
   ]
  },
  {
   "cell_type": "markdown",
   "metadata": {},
   "source": [
    "## Ejercicio 2"
   ]
  },
  {
   "cell_type": "markdown",
   "metadata": {},
   "source": [
    "Un número entero positivo se dice que es perfecto si coincide con la suma de todos sus divisores propios (es decir, distintos de él mismo). Se pide definir una función `escribe_perfectos` que, dados dos números enteros positivos `m` $\\leq$ `n`, imprima por pantalla todos los números perfectos entre `m` y `n`. Se pide también que se indiquen los divisores de cada número perfecto que se imprima."
   ]
  },
  {
   "cell_type": "markdown",
   "metadata": {},
   "source": [
    "### Ejemplos:\n",
    "\n",
    "* `escribe_perfectos(1, 1000)` debe escribir en pantalla:\n",
    "\n",
    "```\n",
    "El número 6 es perfecto y sus divisores son [1, 2, 3]\n",
    "El número 28 es perfecto y sus divisores son [1, 2, 4, 7, 14]\n",
    "El número 496 es perfecto y sus divisores son [1, 2, 4, 8, 16, 31, 62, 124, 248]\n",
    "```"
   ]
  },
  {
   "cell_type": "markdown",
   "metadata": {},
   "source": [
    "### Notas\n",
    "- Así se insertan las variables x e y en una cadena: `print('El valor de x es: {} y el de y es: {}'.format(x, y))`\n",
    "- Suma de los elementos de una lista `sum(lista)`\n",
    "\n",
    "### Descomposición:\n",
    "- Repetir por cada número entre m y n:\n",
    "    - Dado un número, calcular la lista de divisores (exluido dicho numero)\n",
    "    - sumar divisores y comprobar si es perfecto.\n",
    "    - Imprimir resultado"
   ]
  },
  {
   "cell_type": "markdown",
   "metadata": {},
   "source": [
    "**Version 1:** Descomponiendo el problema en 3 funciones. Tiene el inconveniente de que debemos ejecutar la función `divisores_numero` dos veces. Esta es la menos eficiente, el resto de versiones a continuación son similares."
   ]
  },
  {
   "cell_type": "code",
   "execution_count": 33,
   "metadata": {},
   "outputs": [],
   "source": [
    "def divisores(n):\n",
    "    divs = []\n",
    "    for i in range(1, (n//2)+1):\n",
    "        if n % i == 0:\n",
    "            divs.append(i)\n",
    "    return divs\n",
    "\n",
    "# Divisores usando listas por comprensión:\n",
    "# def divisoresRed(n):\n",
    "#     retrun [i for i in range(1, (n // 2)+1) if n % i == 0]\n",
    "\n",
    "def es_perfecto(n):\n",
    "    divs = divisores(n)\n",
    "    # return sum(divs) == n\n",
    "    if sum(divs) == n:\n",
    "        return True\n",
    "    else:\n",
    "        return False\n",
    "    \n",
    "def escribe_perfectos(m, n):\n",
    "    for num in range(m, n+1):\n",
    "        if es_perfecto(num):\n",
    "            divs = divisores(num)\n",
    "            print('El numero {} es perfecto y sus divisores son {}'.format(num, divs))"
   ]
  },
  {
   "cell_type": "code",
   "execution_count": 32,
   "metadata": {},
   "outputs": [
    {
     "name": "stdout",
     "output_type": "stream",
     "text": [
      "El numero 6 es perfecto y sus divisores son [1, 2, 3]\n",
      "El numero 28 es perfecto y sus divisores son [1, 2, 4, 7, 14]\n",
      "El numero 496 es perfecto y sus divisores son [1, 2, 4, 8, 16, 31, 62, 124, 248]\n"
     ]
    }
   ],
   "source": [
    "escribe_perfectos(1, 1000)"
   ]
  },
  {
   "cell_type": "markdown",
   "metadata": {},
   "source": [
    "**Versión 2:** función `divisores` y función `escribe_perfectos`."
   ]
  },
  {
   "cell_type": "code",
   "execution_count": 12,
   "metadata": {},
   "outputs": [],
   "source": [
    "def divisores(n):\n",
    "    divs = []\n",
    "    for i in range(1, (n//2)+1):\n",
    "        if n % i == 0:\n",
    "            divs.append(i)\n",
    "    return divs"
   ]
  },
  {
   "cell_type": "code",
   "execution_count": 13,
   "metadata": {},
   "outputs": [],
   "source": [
    "def escribe_perfectos(m, n):\n",
    "    for num in range(m, n+1):\n",
    "        divs = divisores(num)\n",
    "        if sum(divs) == num:\n",
    "            print('El número {} es perfecto y sus divisores son {}'.format(num, divs))"
   ]
  },
  {
   "cell_type": "code",
   "execution_count": 14,
   "metadata": {},
   "outputs": [
    {
     "name": "stdout",
     "output_type": "stream",
     "text": [
      "El número 6 es perfecto y sus divisores son [1, 2, 3]\n",
      "El número 28 es perfecto y sus divisores son [1, 2, 4, 7, 14]\n",
      "El número 496 es perfecto y sus divisores son [1, 2, 4, 8, 16, 31, 62, 124, 248]\n"
     ]
    }
   ],
   "source": [
    "escribe_perfectos(1, 1000)"
   ]
  },
  {
   "cell_type": "markdown",
   "metadata": {},
   "source": [
    "**Versión 3:** función `divisores_perfecto` (devuelve la lista de divisores si el número es perfecto, en caso contrario, devuelve `None`) y función `escribe_perfectos`."
   ]
  },
  {
   "cell_type": "code",
   "execution_count": 15,
   "metadata": {},
   "outputs": [],
   "source": [
    "def es_perfecto(n):\n",
    "    divs = []\n",
    "    for i in range(1, (n // 2)+1):\n",
    "        if n % i == 0:\n",
    "            divs.append(i)\n",
    "    if sum(divs)==n:\n",
    "        return divs\n",
    "    else:\n",
    "        return None"
   ]
  },
  {
   "cell_type": "code",
   "execution_count": 16,
   "metadata": {},
   "outputs": [],
   "source": [
    "def escribe_perfectos(m, n):\n",
    "    for num in range(m, n+1):\n",
    "        divs = es_perfecto(num)\n",
    "        # if divs:\n",
    "        if divs is not None:\n",
    "            print('El número {} es perfecto y sus divisores son {}'.format(num, divs))"
   ]
  },
  {
   "cell_type": "code",
   "execution_count": 17,
   "metadata": {},
   "outputs": [
    {
     "name": "stdout",
     "output_type": "stream",
     "text": [
      "El número 6 es perfecto y sus divisores son [1, 2, 3]\n",
      "El número 28 es perfecto y sus divisores son [1, 2, 4, 7, 14]\n",
      "El número 496 es perfecto y sus divisores son [1, 2, 4, 8, 16, 31, 62, 124, 248]\n"
     ]
    }
   ],
   "source": [
    "escribe_perfectos(1, 1000)"
   ]
  },
  {
   "cell_type": "markdown",
   "metadata": {},
   "source": [
    "**Versión 4:** Todo en una sola función."
   ]
  },
  {
   "cell_type": "code",
   "execution_count": 18,
   "metadata": {},
   "outputs": [],
   "source": [
    "def escribe_perfectos(m, n):\n",
    "    for num in range(m, n+1):\n",
    "        divs = []\n",
    "        for i in range(1, (num//2)+1):\n",
    "            if num % i == 0:\n",
    "                divs.append(i)\n",
    "        if sum(divs) == num:\n",
    "            print('El numero {} es perfecto y sus divisores son {}'.format(num, divs))\n",
    "            \n",
    "# Versión más eficiente usando un acumulador.          \n",
    "# def escribe_perfectos(m, n):\n",
    "#     for num in range(m, n):\n",
    "#         acc = 0\n",
    "#         divs = []\n",
    "#         for den in range(1, (num // 2) + 1):\n",
    "#             if (num % den) == 0:\n",
    "#                 acc += den\n",
    "#                 divs.append(den)\n",
    "#         if num == acc:\n",
    "#             print('El número {} es perfecto y sus divisores son {}'.format(num, divs))"
   ]
  },
  {
   "cell_type": "code",
   "execution_count": 19,
   "metadata": {},
   "outputs": [
    {
     "name": "stdout",
     "output_type": "stream",
     "text": [
      "El numero 6 es perfecto y sus divisores son [1, 2, 3]\n",
      "El numero 28 es perfecto y sus divisores son [1, 2, 4, 7, 14]\n",
      "El numero 496 es perfecto y sus divisores son [1, 2, 4, 8, 16, 31, 62, 124, 248]\n"
     ]
    }
   ],
   "source": [
    "escribe_perfectos(1, 1000)"
   ]
  },
  {
   "cell_type": "markdown",
   "metadata": {},
   "source": [
    "## Ejercicio 3"
   ]
  },
  {
   "cell_type": "markdown",
   "metadata": {},
   "source": [
    "Consideremos diccionarios cuyas claves son cadenas de caracteres de longitud uno y los valores asociados son números enteros no negativos, como por ejemplo el siguiente diccionario `d`:"
   ]
  },
  {
   "cell_type": "code",
   "execution_count": 25,
   "metadata": {},
   "outputs": [],
   "source": [
    "d = {'z': 7, 'a': 5, 'b': 10, 'c': 12, 'd': 11, 'e': 15, 'f': 20, 'g': 15, 'h': 9, 'i': 7, 'j': 2}"
   ]
  },
  {
   "cell_type": "markdown",
   "metadata": {},
   "source": [
    "Se pide definir una función `histograma_horizontal` que, dado un diccionario del tipo anterior, escriba en pantalla el histograma de barras horizontales asociado, imprimiendo las barras de arriba a abajo en el orden que determina la función `sorted` sobre las claves, tal y como se ilustra en el siguiente ejemplo:"
   ]
  },
  {
   "cell_type": "markdown",
   "metadata": {},
   "source": [
    "* `histograma_horizontal(d)` debe escribir en pantalla:\n",
    "\n",
    "```\n",
    "a: *****\n",
    "b: **********\n",
    "c: ************\n",
    "d: ***********\n",
    "e: ***************\n",
    "f: ********************\n",
    "g: ***************\n",
    "h: *********\n",
    "i: *******\n",
    "j: **\n",
    "```"
   ]
  },
  {
   "cell_type": "markdown",
   "metadata": {},
   "source": [
    "### Notas:\n",
    "- Obtener todas las claves de un diccionario: `d.keys()`\n",
    "- Obtener todos los valores de un diccionario: `d.values()`\n",
    "- Obtener todos los pares `(clave, valor)` de un diccionario: `d.items()`\n",
    "- Acceder a un elemento de un diccionario dada su clave: `d[clave]`\n",
    "- Ordenar una coleccion `sorted(col)`\n",
    "- Repetir un caracter N veces: `caracter*N`"
   ]
  },
  {
   "cell_type": "markdown",
   "metadata": {},
   "source": [
    "**Versión 1:** Usando un bucle para construir la cadena."
   ]
  },
  {
   "cell_type": "code",
   "execution_count": 26,
   "metadata": {},
   "outputs": [],
   "source": [
    "def histograma_horizontal(d):\n",
    "    for k in sorted(d.keys()):\n",
    "        cad = ''\n",
    "        for i in range(d[k]):\n",
    "            cad += '*'\n",
    "        print('{}: {}'.format(k, cad))"
   ]
  },
  {
   "cell_type": "code",
   "execution_count": 27,
   "metadata": {},
   "outputs": [
    {
     "name": "stdout",
     "output_type": "stream",
     "text": [
      "a: *****\n",
      "b: **********\n",
      "c: ************\n",
      "d: ***********\n",
      "e: ***************\n",
      "f: ********************\n",
      "g: ***************\n",
      "h: *********\n",
      "i: *******\n",
      "j: **\n",
      "z: *******\n"
     ]
    }
   ],
   "source": [
    "histograma_horizontal(d)"
   ]
  },
  {
   "cell_type": "markdown",
   "metadata": {},
   "source": [
    "**Versión 1.1:** Usando un bucle `while` para construir la cadena."
   ]
  },
  {
   "cell_type": "code",
   "execution_count": 28,
   "metadata": {},
   "outputs": [],
   "source": [
    "def histograma_horizontal(d):\n",
    "    for k in sorted(d.keys()):\n",
    "        cad = ''\n",
    "        i = 0\n",
    "        while i < d[k]:\n",
    "            cad += '*'\n",
    "            i += 1\n",
    "        print('{}: {}'.format(k, cad))"
   ]
  },
  {
   "cell_type": "code",
   "execution_count": 29,
   "metadata": {},
   "outputs": [
    {
     "name": "stdout",
     "output_type": "stream",
     "text": [
      "a: *****\n",
      "b: **********\n",
      "c: ************\n",
      "d: ***********\n",
      "e: ***************\n",
      "f: ********************\n",
      "g: ***************\n",
      "h: *********\n",
      "i: *******\n",
      "j: **\n",
      "z: *******\n"
     ]
    }
   ],
   "source": [
    "histograma_horizontal(d)"
   ]
  },
  {
   "cell_type": "markdown",
   "metadata": {},
   "source": [
    "**Versión 2:** Usando el operador `*` para construir la cadena."
   ]
  },
  {
   "cell_type": "code",
   "execution_count": 30,
   "metadata": {},
   "outputs": [],
   "source": [
    "def histograma_horizontal(d):\n",
    "    for k in sorted(d.keys()):\n",
    "        print('{}: {}'.format(k, d[k]*'*'))"
   ]
  },
  {
   "cell_type": "code",
   "execution_count": 31,
   "metadata": {},
   "outputs": [
    {
     "name": "stdout",
     "output_type": "stream",
     "text": [
      "a: *****\n",
      "b: **********\n",
      "c: ************\n",
      "d: ***********\n",
      "e: ***************\n",
      "f: ********************\n",
      "g: ***************\n",
      "h: *********\n",
      "i: *******\n",
      "j: **\n",
      "z: *******\n"
     ]
    }
   ],
   "source": [
    "histograma_horizontal(d)"
   ]
  },
  {
   "cell_type": "markdown",
   "metadata": {},
   "source": [
    "Se pide definir una función `histograma_vertical` que, dado un diccionario del tipo anterior, escriba en pantalla el histograma de barras verticales asociado, imprimiendo las barras de izquierda a derecha en el orden que determina la función `sorted` sobre las claves, tal y como se ilustra en el siguiente ejemplo:"
   ]
  },
  {
   "cell_type": "markdown",
   "metadata": {},
   "source": [
    "* `histograma_vertical(d)` debe escribir en pantalla:\n",
    "\n",
    "```\n",
    "          *        \n",
    "          *        \n",
    "          *        \n",
    "          *        \n",
    "          *        \n",
    "        * * *      \n",
    "        * * *      \n",
    "        * * *      \n",
    "    *   * * *      \n",
    "    * * * * *      \n",
    "  * * * * * *      \n",
    "  * * * * * * *    \n",
    "  * * * * * * *    \n",
    "  * * * * * * * *  \n",
    "  * * * * * * * *  \n",
    "* * * * * * * * *  \n",
    "* * * * * * * * *  \n",
    "* * * * * * * * *  \n",
    "* * * * * * * * * *\n",
    "* * * * * * * * * *\n",
    "a b c d e f g h i j\n",
    "```"
   ]
  },
  {
   "cell_type": "markdown",
   "metadata": {},
   "source": [
    "**Versión 1:** Usando un bucle para construir la última línea."
   ]
  },
  {
   "cell_type": "code",
   "execution_count": 9,
   "metadata": {},
   "outputs": [],
   "source": [
    "def histograma_vertical(d):\n",
    "    max_val = max(d.values())\n",
    "    for i in range(max_val, 0, -1):\n",
    "        cad = ''\n",
    "        for k in sorted(d.keys()):\n",
    "            if d[k] < i:\n",
    "                cad += '  '\n",
    "            else:\n",
    "                cad += '* '\n",
    "        print(cad)\n",
    "    cad = ''\n",
    "    for k in sorted(d.keys()):\n",
    "        cad += k+' '\n",
    "    print(cad)"
   ]
  },
  {
   "cell_type": "code",
   "execution_count": 10,
   "metadata": {},
   "outputs": [
    {
     "name": "stdout",
     "output_type": "stream",
     "text": [
      "          *         \n",
      "          *         \n",
      "          *         \n",
      "          *         \n",
      "          *         \n",
      "        * * *       \n",
      "        * * *       \n",
      "        * * *       \n",
      "    *   * * *       \n",
      "    * * * * *       \n",
      "  * * * * * *       \n",
      "  * * * * * * *     \n",
      "  * * * * * * *     \n",
      "  * * * * * * * *   \n",
      "  * * * * * * * *   \n",
      "* * * * * * * * *   \n",
      "* * * * * * * * *   \n",
      "* * * * * * * * *   \n",
      "* * * * * * * * * * \n",
      "* * * * * * * * * * \n",
      "a b c d e f g h i j \n"
     ]
    }
   ],
   "source": [
    "histograma_vertical(d)"
   ]
  },
  {
   "cell_type": "markdown",
   "metadata": {},
   "source": [
    "**Versión 2:** Usando un el método `join` para construir la última línea."
   ]
  },
  {
   "cell_type": "code",
   "execution_count": 11,
   "metadata": {},
   "outputs": [],
   "source": [
    "def histograma_vertical(d):\n",
    "    max_val = max(d.values())\n",
    "    for i in range(max_val, 0, -1):\n",
    "        cad = ''\n",
    "        for k in sorted(d.keys()):\n",
    "            if d[k] < i:\n",
    "                cad += '  '\n",
    "            else:\n",
    "                cad += '* '\n",
    "        print(cad)\n",
    "    print(' '.join(d.keys()))"
   ]
  },
  {
   "cell_type": "code",
   "execution_count": 12,
   "metadata": {},
   "outputs": [
    {
     "name": "stdout",
     "output_type": "stream",
     "text": [
      "          *         \n",
      "          *         \n",
      "          *         \n",
      "          *         \n",
      "          *         \n",
      "        * * *       \n",
      "        * * *       \n",
      "        * * *       \n",
      "    *   * * *       \n",
      "    * * * * *       \n",
      "  * * * * * *       \n",
      "  * * * * * * *     \n",
      "  * * * * * * *     \n",
      "  * * * * * * * *   \n",
      "  * * * * * * * *   \n",
      "* * * * * * * * *   \n",
      "* * * * * * * * *   \n",
      "* * * * * * * * *   \n",
      "* * * * * * * * * * \n",
      "* * * * * * * * * * \n",
      "a b c d e f g h i j\n"
     ]
    }
   ],
   "source": [
    "histograma_vertical(d)"
   ]
  },
  {
   "cell_type": "markdown",
   "metadata": {},
   "source": [
    "## Ejercicio 4"
   ]
  },
  {
   "cell_type": "markdown",
   "metadata": {},
   "source": [
    "La profundidad de una lista anidada es el número máximo de anidamientos en la lista. Se pide definir una función `profundidad` que, dada una lista `l`, devuelva la profundidad de `l`.\n",
    "\n",
    "Indicación: para saber si un dato es una lista, puede que sea útil la función `isinstance`. En concreto, `isinstance(x, list)` comprueba si `x` es una lista."
   ]
  },
  {
   "cell_type": "markdown",
   "metadata": {
    "tags": []
   },
   "source": [
    "### Ejemplos:\n",
    "\n",
    "* `profundidad(3)` debe devolver `0`\n",
    "* `profundidad([7, 5, 9, 5, 6])` debe devolver `1`\n",
    "* `profundidad([1, [1, [1, [1, 1], 1], [1, 1]], 1])` debe devolver `4`"
   ]
  },
  {
   "cell_type": "code",
   "execution_count": 20,
   "metadata": {},
   "outputs": [],
   "source": [
    "def profundidad(l, profundidad_actual=0):\n",
    "    if not l or not isinstance(l, list):\n",
    "        return profundidad_actual\n",
    "    return max(profundidad(l[0], profundidad_actual+1), profundidad(l[1:], profundidad_actual))"
   ]
  },
  {
   "cell_type": "code",
   "execution_count": 22,
   "metadata": {},
   "outputs": [
    {
     "name": "stdout",
     "output_type": "stream",
     "text": [
      "0\n",
      "1\n",
      "4\n",
      "7\n"
     ]
    }
   ],
   "source": [
    "print(profundidad(3))\n",
    "print(profundidad([7, 5, 9, 5, 6]))\n",
    "print(profundidad([1, [1, [1, [1, 1], 1], [1, 1]], 1]))\n",
    "print(profundidad([1, [1, [1, [1, 1], 1], [1, 1]], 1, [1, 1, [1, [1, [[1, [1, 1], 1], 1, 1], 1]], [1, 1]]]))"
   ]
  },
  {
   "cell_type": "markdown",
   "metadata": {},
   "source": [
    "Veamos una versión un poco más desarrollada de la misma función."
   ]
  },
  {
   "cell_type": "code",
   "execution_count": 23,
   "metadata": {},
   "outputs": [],
   "source": [
    "def profundidad(l, profundidad_actual = 0):\n",
    "    if not l or not isinstance(l, list):\n",
    "        return profundidad_actual\n",
    "    else:\n",
    "        lista_profundidades = []\n",
    "        for item in l:\n",
    "            lista_profundidades.append(profundidad(item, profundidad_actual + 1))\n",
    "    return max(lista_profundidades)"
   ]
  },
  {
   "cell_type": "code",
   "execution_count": 24,
   "metadata": {},
   "outputs": [
    {
     "name": "stdout",
     "output_type": "stream",
     "text": [
      "0\n",
      "1\n",
      "4\n",
      "7\n"
     ]
    }
   ],
   "source": [
    "print(profundidad(3))\n",
    "print(profundidad([7, 5, 9, 5, 6]))\n",
    "print(profundidad([1, [1, [1, [1, 1], 1], [1, 1]], 1]))\n",
    "print(profundidad([1, [1, [1, [1, 1], 1], [1, 1]], 1, [1, 1, [1, [1, [[1, [1, 1], 1], 1, 1], 1]], [1, 1]]]))"
   ]
  },
  {
   "cell_type": "markdown",
   "metadata": {
    "tags": []
   },
   "source": [
    "## Ejercicio 5\n",
    "\n",
    "Definir la función compresion(l) que devuelva la lista resultante de comprimir la lista l que recibe como entrada, en el siguiente sentido: \n",
    "* Si el elemento x aparece n (n > 1) veces de manera consecutiva en l sustituimos esas n ocurrencias por la tupla (n, x)\n",
    "* Si el elemento x es distinto de sus vecinos, entonces lo dejamos igual\n",
    "\n",
    "### Ejemplos\n",
    "\n",
    "- `compresión([1, 1, 1, 2, 1, 3, 2, 4, 4, 6, 8, 8, 8])` debe devolver `[[3, 1], 2, 1, 3, 2, [2, 4], 6, [3, 8]]`\n",
    "- `compresión([\"a\", \"a\", \"a\", \"b\", \"a\", \"c\", \"b\", \"d\", \"d\", \"f\", \"h\", \"h\", \"h\"])` debe devolver `[[3, 'a'], 'b', 'a', 'c', 'b', [2, 'd'], 'f', [3, 'h']]`"
   ]
  },
  {
   "cell_type": "markdown",
   "metadata": {},
   "source": [
    "**Version 1:**"
   ]
  },
  {
   "cell_type": "code",
   "execution_count": 80,
   "metadata": {},
   "outputs": [],
   "source": [
    "def compresion(l):\n",
    "    ret = []\n",
    "    repeticiones = 1\n",
    "    for i in range(len(l)):\n",
    "        if i+1 < len(l) and l[i] == l[i+1]:\n",
    "            repeticiones += 1\n",
    "        elif repeticiones > 1:\n",
    "            ret.append([repeticiones, l[i]])\n",
    "            repeticiones = 1\n",
    "        else:\n",
    "            ret.append(l[i])\n",
    "    return ret"
   ]
  },
  {
   "cell_type": "code",
   "execution_count": 81,
   "metadata": {},
   "outputs": [
    {
     "name": "stdout",
     "output_type": "stream",
     "text": [
      "[[3, 1], 2, 1, 3, 2, [2, 4], 6, [3, 8]]\n",
      "[[3, 1], 2, 1, 3, 2, [2, 4], 6, [3, 8], 5]\n",
      "[[3, 'a'], 'b', 'a', 'c', 'b', [2, 'd'], 'f', [3, 'h']]\n",
      "[[3, 'a'], 'b', 'a', 'c', 'b', [2, 'd'], 'f', [3, 'h'], 'j']\n"
     ]
    }
   ],
   "source": [
    "print(compresion([1, 1, 1, 2, 1, 3, 2, 4, 4, 6, 8, 8, 8]))\n",
    "print(compresion([1, 1, 1, 2, 1, 3, 2, 4, 4, 6, 8, 8, 8, 5]))\n",
    "print(compresion([\"a\", \"a\", \"a\", \"b\", \"a\", \"c\", \"b\", \"d\", \"d\", \"f\", \"h\", \"h\", \"h\"]))\n",
    "print(compresion([\"a\", \"a\", \"a\", \"b\", \"a\", \"c\", \"b\", \"d\", \"d\", \"f\", \"h\", \"h\", \"h\", \"j\"]))"
   ]
  },
  {
   "cell_type": "markdown",
   "metadata": {},
   "source": [
    "**Versión 2:**"
   ]
  },
  {
   "cell_type": "code",
   "execution_count": 82,
   "metadata": {},
   "outputs": [],
   "source": [
    "def compresion(l):\n",
    "    ret = []\n",
    "    repeticiones = 1\n",
    "    for i in range(len(l)-1):\n",
    "        if l[i] == l[i+1]:\n",
    "            repeticiones += 1\n",
    "        elif repeticiones > 1:\n",
    "            ret.append([repeticiones, l[i]])\n",
    "            repeticiones = 1\n",
    "        else:\n",
    "            ret.append(l[i])\n",
    "    else:\n",
    "        if repeticiones > 1:\n",
    "            ret.append([repeticiones, l[-1]])\n",
    "        else:\n",
    "             ret.append(l[-1])\n",
    "    return ret"
   ]
  },
  {
   "cell_type": "code",
   "execution_count": 83,
   "metadata": {
    "scrolled": true
   },
   "outputs": [
    {
     "name": "stdout",
     "output_type": "stream",
     "text": [
      "[[3, 1], 2, 1, 3, 2, [2, 4], 6, [3, 8]]\n",
      "[[3, 1], 2, 1, 3, 2, [2, 4], 6, [3, 8], 5]\n",
      "[[3, 'a'], 'b', 'a', 'c', 'b', [2, 'd'], 'f', [3, 'h']]\n",
      "[[3, 'a'], 'b', 'a', 'c', 'b', [2, 'd'], 'f', [3, 'h'], 'j']\n"
     ]
    }
   ],
   "source": [
    "print(compresion([1, 1, 1, 2, 1, 3, 2, 4, 4, 6, 8, 8, 8]))\n",
    "print(compresion([1, 1, 1, 2, 1, 3, 2, 4, 4, 6, 8, 8, 8, 5]))\n",
    "print(compresion([\"a\", \"a\", \"a\", \"b\", \"a\", \"c\", \"b\", \"d\", \"d\", \"f\", \"h\", \"h\", \"h\"]))\n",
    "print(compresion([\"a\", \"a\", \"a\", \"b\", \"a\", \"c\", \"b\", \"d\", \"d\", \"f\", \"h\", \"h\", \"h\", \"j\"]))"
   ]
  },
  {
   "cell_type": "markdown",
   "metadata": {},
   "source": [
    "## Ejercicio 6\n",
    "\n",
    "Definir la función descompresión(l) que devuelva la lista l descomprimida, suponiendo que ha sido comprimida con el método del apartado anterior.\n",
    "\n",
    "### Ejemplos\n",
    "- `descompresión([[3, 1], 2, 1, 3, 2, [2, 4], 6, [3, 8]])` debe devolver `[1, 1, 1, 2, 1, 3, 2, 4, 4, 6, 8, 8, 8]`"
   ]
  },
  {
   "cell_type": "markdown",
   "metadata": {},
   "source": [
    "**Versión 1:**"
   ]
  },
  {
   "cell_type": "code",
   "execution_count": 36,
   "metadata": {},
   "outputs": [],
   "source": [
    "def descompresion(l):\n",
    "    ret = []\n",
    "    \n",
    "    for elem in l:\n",
    "        if isinstance(elem, list):\n",
    "            ret.extend(elem[0]*[elem[1]])\n",
    "        else:\n",
    "            ret.append(elem)\n",
    "    return ret"
   ]
  },
  {
   "cell_type": "code",
   "execution_count": 37,
   "metadata": {},
   "outputs": [
    {
     "data": {
      "text/plain": [
       "[1, 1, 1, 2, 1, 3, 2, 4, 4, 6, 8, 8, 8]"
      ]
     },
     "execution_count": 37,
     "metadata": {},
     "output_type": "execute_result"
    }
   ],
   "source": [
    "descompresion([[3, 1], 2, 1, 3, 2, [2, 4], 6, [3, 8]])"
   ]
  },
  {
   "cell_type": "markdown",
   "metadata": {},
   "source": [
    "**Versión 2:** usando excepciones en vez de if/else."
   ]
  },
  {
   "cell_type": "code",
   "execution_count": 38,
   "metadata": {},
   "outputs": [],
   "source": [
    "def descompresion(l):\n",
    "    ret = []\n",
    "    \n",
    "    for elem in l:\n",
    "        # print(elem)\n",
    "        try:\n",
    "            ret.extend(elem[0]*[elem[1]])\n",
    "        except TypeError:\n",
    "            ret.append(elem)\n",
    "    return ret"
   ]
  },
  {
   "cell_type": "code",
   "execution_count": 39,
   "metadata": {},
   "outputs": [
    {
     "data": {
      "text/plain": [
       "[1, 1, 1, 2, 1, 3, 2, 4, 4, 6, 8, 8, 8]"
      ]
     },
     "execution_count": 39,
     "metadata": {},
     "output_type": "execute_result"
    }
   ],
   "source": [
    "descompresion([[3, 1], 2, 1, 3, 2, [2, 4], 6, [3, 8]])"
   ]
  },
  {
   "cell_type": "markdown",
   "metadata": {},
   "source": [
    "## Ejercicio 7"
   ]
  },
  {
   "cell_type": "markdown",
   "metadata": {},
   "source": [
    "Supongamos que queremos simular la trayectoria de un proyectil que se dispara en un punto dado a una determinada altura inicial. El disparo se realiza hacia adelante con una velocidad inicial y con un determinado ángulo. Inicialmente el proyectil avanzará subiendo, pero por la fuerza de la gravedad, en un momento dado empezará a bajar hasta que aterrice. Por simplificar, supondremos que no existe rozamiento ni resistencia del viento.\n",
    "\n",
    "Se pide definir una clase `Proyectil` que sirva para representar el estado del proyectil en un instante de tiempo dado. Para ello, se necesitan al menos atributos de datos que guarden la siguiente información:\n",
    "* Distancia recorrida (en horizontal)\n",
    "* Altura\n",
    "* Velocidad horizontal\n",
    "* Velocidad vertical\n",
    "\n",
    "Además, se pide dotar a la clase `Proyectil` de los siguientes tres métodos:\n",
    "* obtener_pos_x: devuelve la distancia horizontal recorrida \n",
    "* obtener_pos_y: devuelve la distancia vertical recorrida \n",
    "* `actualizar_posicion`: dada una cantidad `t` de segundos, actualiza la posición y la velocidad del proyectil tras haber transcurrido ese tiempo\n",
    "\n",
    "Una vez definida la clase `Proyectil`, se pide definir una función `aterriza` que, dados los datos de `altura`, `velocidad`, `angulo` e `intervalo`, imprima por pantalla las distintas posiciones por las que pasa un proyectil que se ha disparado con esa `velocidad`, `angulo` (en grados) y una `altura` inicial. Se mostrará la posición del proyectil en cada `intervalo` de tiempo, hasta que aterriza. Además también debe imprimir la altura máxima que ha alcanzado al final de cada intervalo, cuántos intervalos de tiempo ha tardado en aterrizar y el alcance que ha tenido.\n",
    "\n",
    "Indicaciones:\n",
    "1. Si el proyectil tiene una velocidad inicial $v$ y se lanza con un ángulo $\\theta$, las componentes horizontal y vertical de la velocidad inicial son $v \\times \\cos(\\theta)$ y $v \\times \\sin(\\theta)$, respectivamente.\n",
    "2. La componente horizontal de la velocidad, en ausencia de rozamiento y viento, podemos suponer que permanece constante.\n",
    "3. La componente vertical de la velocidad cambia de la siguiente manera tras un intervalo de tiempo $t$: si $vy_0$ es la velocidad vertical al inicio del intervalo, entonces al final del intervalo tiene una velocidad $vy_1 = vy_0 - 9.8 \\times t$, debido a la gravedad de la Tierra.\n",
    "4. En ese caso, si el proyectil se encuentra a una altura $h_0$, tras un intervalo de tiempo $t$ se encontrará a una altura $h_1 = h_0 + vm  \\times t$, donde $vm$ es la media entre las anteriores $vy_0$ y $vy_1$."
   ]
  },
  {
   "cell_type": "markdown",
   "metadata": {},
   "source": [
    "### Ejemplo:\n",
    "\n",
    "* `aterriza(30, 1, 20, 0.1)` debe escribir en pantalla:\n",
    "\n",
    "```\n",
    "Proyectil en posición(0.0, 30.0)\n",
    "Proyectil en posición(0.1, 30.0)\n",
    "Proyectil en posición(0.2, 29.9)\n",
    "Proyectil en posición(0.3, 29.7)\n",
    "Proyectil en posición(0.4, 29.4)\n",
    "Proyectil en posición(0.5, 28.9)\n",
    "Proyectil en posición(0.6, 28.4)\n",
    "Proyectil en posición(0.7, 27.8)\n",
    "Proyectil en posición(0.8, 27.1)\n",
    "Proyectil en posición(0.8, 26.3)\n",
    "Proyectil en posición(0.9, 25.4)\n",
    "Proyectil en posición(1.0, 24.4)\n",
    "Proyectil en posición(1.1, 23.4)\n",
    "Proyectil en posición(1.2, 22.2)\n",
    "Proyectil en posición(1.3, 20.9)\n",
    "Proyectil en posición(1.4, 19.5)\n",
    "Proyectil en posición(1.5, 18.0)\n",
    "Proyectil en posición(1.6, 16.4)\n",
    "Proyectil en posición(1.7, 14.7)\n",
    "Proyectil en posición(1.8, 13.0)\n",
    "Proyectil en posición(1.9, 11.1)\n",
    "Proyectil en posición(2.0, 9.1)\n",
    "Proyectil en posición(2.1, 7.0)\n",
    "Proyectil en posición(2.2, 4.9)\n",
    "Proyectil en posición(2.3, 2.6)\n",
    "Proyectil en posición(2.3, 0.2)\n",
    "\n",
    "Tras 26 intervalos de 0.1 segundos (2.6 segundos) el proyectil ha aterrizado.\n",
    "Ha recorrido una distancia de 2.4 metros\n",
    "Ha alcanzado una altura máxima de 30.0 metros\n",
    "```"
   ]
  },
  {
   "cell_type": "code",
   "execution_count": 25,
   "metadata": {},
   "outputs": [],
   "source": [
    "class Proyectil(object):\n",
    "    def __init__(self, altura, vhorizontal, vvertical):\n",
    "        self.distancia_recorrida = 0\n",
    "        self.altura = altura\n",
    "        self.vhorizontal = vhorizontal\n",
    "        self.vvertical = vvertical\n",
    "        \n",
    "    def obtener_pos_x(self):\n",
    "        return self.distancia_recorrida\n",
    "    \n",
    "    def obtener_pos_y(self):\n",
    "        return self.altura\n",
    "    \n",
    "    def actualizar_posicion(self, t):\n",
    "        vvertical_final = self.vvertical - 9.8*t\n",
    "        vmedia = (self.vvertical + vvertical_final)/2\n",
    "        self.altura += vmedia*t\n",
    "        self.vvertical = vvertical_final\n",
    "        self.distancia_recorrida += self.vhorizontal*t"
   ]
  },
  {
   "cell_type": "code",
   "execution_count": 26,
   "metadata": {},
   "outputs": [],
   "source": [
    "from math import cos, sin, radians\n",
    "\n",
    "def aterriza(altura, velocidad, angulo, intervalo):\n",
    "    vihorizontal = velocidad*cos(radians(angulo))\n",
    "    vivertical = velocidad*sin(radians(angulo))\n",
    "    print(vihorizontal)\n",
    "    print(vivertical)\n",
    "    proyectil = Proyectil(altura, vihorizontal, vivertical)\n",
    "    altura_max = altura\n",
    "    t = 0\n",
    "    while proyectil.obtener_pos_y() > 0:\n",
    "        t += intervalo\n",
    "        print('Proyectil en posición({},{})'.format(proyectil.obtener_pos_x(), proyectil.obtener_pos_y()))\n",
    "        proyectil.actualizar_posicion(intervalo)\n",
    "        if proyectil.obtener_pos_y() > altura_max:\n",
    "            altura_max = proyectil.obtener_pos_y()\n",
    "    print('Tras {} intervalos de {} ({} segundos) el proyectil ha aterrizado.'.format(t/intervalo, intervalo, t))\n",
    "    print('Ha recorrido una distancia de {}'.format(proyectil.obtener_pos_x()))\n",
    "    print('Ha alcanzado una altura máxima de {} metros'.format(altura_max))"
   ]
  },
  {
   "cell_type": "code",
   "execution_count": 27,
   "metadata": {},
   "outputs": [
    {
     "name": "stdout",
     "output_type": "stream",
     "text": [
      "0.9396926207859084\n",
      "0.3420201433256687\n",
      "Proyectil en posición(0,30)\n",
      "Proyectil en posición(0.09396926207859085,29.985202014332568)\n",
      "Proyectil en posición(0.1879385241571817,29.872404028665134)\n",
      "Proyectil en posición(0.28190778623577256,29.6616060429977)\n",
      "Proyectil en posición(0.3758770483143634,29.352808057330268)\n",
      "Proyectil en posición(0.46984631039295427,28.946010071662833)\n",
      "Proyectil en posición(0.5638155724715451,28.4412120859954)\n",
      "Proyectil en posición(0.657784834550136,27.838414100327967)\n",
      "Proyectil en posición(0.7517540966287268,27.137616114660535)\n",
      "Proyectil en posición(0.8457233587073176,26.3388181289931)\n",
      "Proyectil en posición(0.9396926207859084,25.442020143325667)\n",
      "Proyectil en posición(1.0336618828644992,24.447222157658235)\n",
      "Proyectil en posición(1.12763114494309,23.3544241719908)\n",
      "Proyectil en posición(1.2216004070216808,22.163626186323366)\n",
      "Proyectil en posición(1.3155696691002716,20.874828200655934)\n",
      "Proyectil en posición(1.4095389311788624,19.4880302149885)\n",
      "Proyectil en posición(1.5035081932574532,18.003232229321064)\n",
      "Proyectil en posición(1.597477455336044,16.42043424365363)\n",
      "Proyectil en posición(1.6914467174146348,14.739636257986197)\n",
      "Proyectil en posición(1.7854159794932256,12.960838272318764)\n",
      "Proyectil en posición(1.8793852415718164,11.08404028665133)\n",
      "Proyectil en posición(1.9733545036504072,9.109242300983897)\n",
      "Proyectil en posición(2.067323765728998,7.036444315316464)\n",
      "Proyectil en posición(2.161293027807589,4.86564632964903)\n",
      "Proyectil en posición(2.2552622898861796,2.5968483439815957)\n",
      "Proyectil en posición(2.3492315519647704,0.2300503583141622)\n",
      "Tras 26.000000000000007 intervalos de 0.1 (2.600000000000001 segundos) el proyectil ha aterrizado.\n",
      "Ha recorrido una distancia de 2.443200814043361\n",
      "Ha alcanzado una altura máxima de 30 metros\n"
     ]
    }
   ],
   "source": [
    "aterriza(30, 1, 20, 0.1)"
   ]
  },
  {
   "cell_type": "markdown",
   "metadata": {},
   "source": [
    "## Ejercicio 8"
   ]
  },
  {
   "cell_type": "markdown",
   "metadata": {},
   "source": [
    "Definir una función mi_grep(cadena,fichero) similar al comando grep de unix (sin uso de patrones). Es decir, escribe por pantalla las líneas de fichero en las que ocurre cadena, junto con el número de línea."
   ]
  },
  {
   "cell_type": "code",
   "execution_count": 28,
   "metadata": {},
   "outputs": [],
   "source": [
    "def mi_grep(cadena, fichero):\n",
    "    file = open(fichero, 'r')\n",
    "    n = len(cadena)\n",
    "    for line in file: \n",
    "        index = line.find(cadena)\n",
    "        if index != -1:\n",
    "            print(line[:-1])\n",
    "            print('{}{}'.format(' '*index, '^'*n))\n",
    "    file.close()"
   ]
  },
  {
   "cell_type": "code",
   "execution_count": 29,
   "metadata": {},
   "outputs": [
    {
     "name": "stdout",
     "output_type": "stream",
     "text": [
      "catorce versos dicen que es soneto;\n",
      "        ^^^^^\n",
      "pues fin con este verso le voy dando.\n",
      "                  ^^^^^\n",
      "que voy los trece versos acabando;\n",
      "                  ^^^^^\n"
     ]
    }
   ],
   "source": [
    "# Usamos el soneto \"Un soneto me manda hacer Violante\" de Lope de Vega\n",
    "# que hemos guardado en el fichero \"soneto.txt\"\n",
    "\n",
    "mi_grep(\"verso\",\"soneto.txt\")\n",
    "\n",
    "# Salida esperada:\n",
    "# Línea 2: catorce versos dicen que es soneto;\n",
    "#                  ^^^^^\n",
    "# Línea 10: pues fin con este verso le voy dando.\n",
    "#                             ^^^^^\n",
    "# Línea 12: que voy los trece versos acabando;\n",
    "#                             ^^^^^"
   ]
  },
  {
   "cell_type": "markdown",
   "metadata": {},
   "source": [
    "## Ejercicio 9: Problema del viajante - Resolución por fuerza bruta"
   ]
  },
  {
   "cell_type": "markdown",
   "metadata": {},
   "source": [
    "El objetivo de este ejercicio preliminar es constatar la dificultad de resolver el problema del viajante por fuerza bruta cuando aumenta el número de ciudades."
   ]
  },
  {
   "cell_type": "code",
   "execution_count": 1,
   "metadata": {},
   "outputs": [],
   "source": [
    "import random, time, math\n",
    "from itertools import permutations"
   ]
  },
  {
   "cell_type": "markdown",
   "metadata": {},
   "source": [
    "Primero definiremos clase `Viajante_n` que nos permita crear problemas del viajante con diferente numero de ciudades. Cada instancia de la clase dependerá de un valor $n$ que indicará el número de ciudades y de un parámetro `escala`. Las coordenadas `x` e `y` de cada ciudad se tomaran aleatoriamente en el rango `[-escala,+escala]`.\n",
    "\n",
    "*¿Qué necesitamos en la clase viajante para representar y resolver el problema?*\n",
    "..."
   ]
  },
  {
   "cell_type": "code",
   "execution_count": 10,
   "metadata": {},
   "outputs": [],
   "source": [
    "class Viajante_n():\n",
    "    \n",
    "    # Información necesaria:\n",
    "    # - ciudaes\n",
    "    # - coordenadas de ciudades\n",
    "    # - ¿Qué estructura de datos es la más adecuada?\n",
    "    def __init__(self, n, escala):\n",
    "        # self.\n",
    "        self.coordenadas = {}\n",
    "        for i in range(n):\n",
    "#             self.coordenadas[i] = (random.uniform(-escala,escala),random.uniform(-escala,escala))\n",
    "            self.coordenadas[i] = (random.uniform(0,escala),random.uniform(0,escala))\n",
    "     \n",
    "    # Distancia Manhattan: ABS(x1-x2) + ABS(y1-y2)\n",
    "    def distancia_manhattan(self, c1, c2):\n",
    "        coord_c1 = self.coordenadas[c1]\n",
    "        coord_c2 = self.coordenadas[c2]\n",
    "        return abs(coord_c1[0]-coord_c2[0]) + abs(coord_c1[1]-coord_c2[1])\n",
    "        \n",
    "    # Distancia Euclidea: SQRT((x1-x2)^2 + (y1-y2)^2)\n",
    "    # Raíz cuadrada: math.sqrt()\n",
    "    def distancia_euclidea(self, c1, c2):\n",
    "        coord_c1 = self.coordenadas[c1]\n",
    "        coord_c2 = self.coordenadas[c2]\n",
    "        return math.sqrt((coord_c1[0]-coord_c2[0])**2 + (coord_c1[1]-coord_c2[1])**2) # Euclidea\n",
    "    \n",
    "    # Opcional: Personalizar la representación en texto de las instancias de la clase.\n",
    "    def __str__(self):\n",
    "        ret = \"Problema del viajante de {} ciudades.\".format(len(self.coordenadas))\n",
    "        for c, coords in self.coordenadas.items():\n",
    "            ret += \"\\nLas coordenadas de la ciudad {} son {}:\".format(c, coords)\n",
    "        return ret\n",
    "\n",
    "    # Ejemplo llamada función: distancia_circuito([0, 3, 1, 2])\n",
    "    def distancia_circuito(self, circuito):\n",
    "        ret = 0\n",
    "        for i in range(len(circuito)-1):\n",
    "            ret += self.distancia_euclidea(circuito[i], circuito[i+1])\n",
    "        ret += self.distancia_euclidea(circuito[-1], circuito[0])\n",
    "        return ret\n",
    "    \n",
    "    # Podemos simplificar la función anterior usando listas por comprensión.\n",
    "    def distancia_circuito_lc(self, circuito):\n",
    "        return sum([self.distancia_euclidea(i, i+1) for i in range(len(circuito)-1)]) + self.distancia_euclidea(-1, 0)"
   ]
  },
  {
   "cell_type": "markdown",
   "metadata": {},
   "source": [
    "A continuación definiremos la función `optimizacion_por_fuerza_bruta(pv)` que toma una instancia concreta de la clase `Viajante_n`, devuelve la ruta de mínima distancia, la distancia de esa ruta e imprime el tiempo (en segundos) necesario para realizar los cálculos. \n",
    "\n",
    "*¿En que consistiría una estrategia por fuerza bruta para resolver el problema?*"
   ]
  },
  {
   "cell_type": "code",
   "execution_count": 13,
   "metadata": {},
   "outputs": [],
   "source": [
    "# Para inicializar una variable con un número muy alto, podemos usar infinito (math.inf).\n",
    "def optimizacion_por_fuerza_bruta(pv):\n",
    "    ti = time.time()\n",
    "    posibles_rutas = permutations(pv.coordenadas.keys())\n",
    "    menor_distancia = math.inf\n",
    "    menor_ruta = None\n",
    "    \n",
    "    for ruta in posibles_rutas:\n",
    "        d_ruta = pv.distancia_circuito(ruta)\n",
    "        if d_ruta < menor_distancia:\n",
    "            menor_distancia = d_ruta\n",
    "            menor_ruta = ruta\n",
    "    \n",
    "    tf = time.time() - ti\n",
    "    print(\"Tiempo empleado en encontrar la mejor ruta: {}\".format(tf))\n",
    "    print(\"Se han procesado {} rutas posibles\".format(math.factorial(len(pv.coordenadas))))\n",
    "    \n",
    "    return menor_ruta, menor_distancia"
   ]
  },
  {
   "cell_type": "markdown",
   "metadata": {},
   "source": [
    "Prueba con los siguientes ejemplos:"
   ]
  },
  {
   "cell_type": "code",
   "execution_count": 14,
   "metadata": {},
   "outputs": [
    {
     "name": "stdout",
     "output_type": "stream",
     "text": [
      "Tiempo empleado en encontrar la mejor ruta: 0.00020122528076171875\n",
      "Se han procesado 24 rutas posibles\n"
     ]
    },
    {
     "data": {
      "text/plain": [
       "((0, 1, 3, 2), 32.90192836044443)"
      ]
     },
     "execution_count": 14,
     "metadata": {},
     "output_type": "execute_result"
    }
   ],
   "source": [
    "pv4=Viajante_n(4,10)\n",
    "optimizacion_por_fuerza_bruta(pv4)"
   ]
  },
  {
   "cell_type": "code",
   "execution_count": 15,
   "metadata": {},
   "outputs": [
    {
     "name": "stdout",
     "output_type": "stream",
     "text": [
      "Tiempo empleado en encontrar la mejor ruta: 0.007700204849243164\n",
      "Se han procesado 720 rutas posibles\n"
     ]
    },
    {
     "data": {
      "text/plain": [
       "((0, 4, 5, 3, 2, 1), 99.19100994993548)"
      ]
     },
     "execution_count": 15,
     "metadata": {},
     "output_type": "execute_result"
    }
   ],
   "source": [
    "pv6=Viajante_n(6,30)\n",
    "optimizacion_por_fuerza_bruta(pv6)"
   ]
  },
  {
   "cell_type": "code",
   "execution_count": 16,
   "metadata": {},
   "outputs": [
    {
     "name": "stdout",
     "output_type": "stream",
     "text": [
      "Tiempo empleado en encontrar la mejor ruta: 0.24517059326171875\n",
      "Se han procesado 40320 rutas posibles\n"
     ]
    },
    {
     "data": {
      "text/plain": [
       "((0, 1, 3, 6, 4, 7, 2, 5), 244.09887560401538)"
      ]
     },
     "execution_count": 16,
     "metadata": {},
     "output_type": "execute_result"
    }
   ],
   "source": [
    "pv8=Viajante_n(8,40)\n",
    "optimizacion_por_fuerza_bruta(pv8)"
   ]
  },
  {
   "cell_type": "code",
   "execution_count": 17,
   "metadata": {},
   "outputs": [
    {
     "name": "stdout",
     "output_type": "stream",
     "text": [
      "Tiempo empleado en encontrar la mejor ruta: 1.820465326309204\n",
      "Se han procesado 362880 rutas posibles\n"
     ]
    },
    {
     "data": {
      "text/plain": [
       "((1, 7, 2, 0, 4, 6, 5, 8, 3), 231.73415188095325)"
      ]
     },
     "execution_count": 17,
     "metadata": {},
     "output_type": "execute_result"
    }
   ],
   "source": [
    "pv9=Viajante_n(9,40)\n",
    "optimizacion_por_fuerza_bruta(pv9)"
   ]
  },
  {
   "cell_type": "markdown",
   "metadata": {},
   "source": [
    "Cuidado con las siguientes pruebas. Dependiendo de tu ordenador, la computación puede tardar bastante."
   ]
  },
  {
   "cell_type": "code",
   "execution_count": 18,
   "metadata": {
    "scrolled": true
   },
   "outputs": [
    {
     "name": "stdout",
     "output_type": "stream",
     "text": [
      "Tiempo empleado en encontrar la mejor ruta: 19.51688265800476\n",
      "Se han procesado 3628800 rutas posibles\n"
     ]
    },
    {
     "data": {
      "text/plain": [
       "((1, 0, 2, 9, 6, 5, 3, 7, 4, 8), 240.91220565999632)"
      ]
     },
     "execution_count": 18,
     "metadata": {},
     "output_type": "execute_result"
    }
   ],
   "source": [
    "pv10=Viajante_n(10,50)\n",
    "optimizacion_por_fuerza_bruta(pv10)"
   ]
  },
  {
   "cell_type": "code",
   "execution_count": null,
   "metadata": {},
   "outputs": [],
   "source": [
    "pv12=Viajante_n(12,60)\n",
    "optimizacion_por_fuerza_bruta(pv12)"
   ]
  }
 ],
 "metadata": {
  "kernelspec": {
   "display_name": "Python 3",
   "language": "python",
   "name": "python3"
  },
  "language_info": {
   "codemirror_mode": {
    "name": "ipython",
    "version": 3
   },
   "file_extension": ".py",
   "mimetype": "text/x-python",
   "name": "python",
   "nbconvert_exporter": "python",
   "pygments_lexer": "ipython3",
   "version": "3.8.3"
  }
 },
 "nbformat": 4,
 "nbformat_minor": 4
}
