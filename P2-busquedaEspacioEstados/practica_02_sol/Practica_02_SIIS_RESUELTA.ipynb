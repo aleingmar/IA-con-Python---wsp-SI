{
 "cells": [
  {
   "cell_type": "markdown",
   "metadata": {},
   "source": [
    "# Rompecabezas de las Torres de Hanoi"
   ]
  },
  {
   "cell_type": "markdown",
   "metadata": {},
   "source": [
    "El rompecabezas de las Torres de Hanoi consta de tres varillas verticales y un número de discos, que determinará la complejidad del problema, todos de distinto tamaño y apilados de mayor a menor radio en la primera varilla.\n",
    "\n",
    "El objetivo del juego es pasar todos los discos de la primera a la última varilla, siguiendo tres simples reglas:\n",
    "1. Se desplaza un disco cada vez.\n",
    "2. Solo se pueden desplazar los discos de arriba de las varillas.\n",
    "3. No se puede colocar un disco sobre otro más pequeño."
   ]
  },
  {
   "cell_type": "markdown",
   "metadata": {},
   "source": [
    "En esta primera parte de la práctica se mostrará cómo implementar el rompecabezas de las Torres de Hanoi como un problema de espacio de estados y se aplicarán distintos algoritmos de búsqueda para resolverlo."
   ]
  },
  {
   "cell_type": "markdown",
   "metadata": {},
   "source": [
    "Para implementar un problema de espacio de estados se pueden hacer uso de las clases de objetos proporcionadas por el módulo `problema_espacio_estados`."
   ]
  },
  {
   "cell_type": "code",
   "execution_count": 2,
   "metadata": {},
   "outputs": [],
   "source": [
    "import problema_espacio_estados as probee"
   ]
  },
  {
   "cell_type": "markdown",
   "metadata": {},
   "source": [
    "Los algoritmos de búsqueda están implementados en el módulo `busqueda_espacio_estados`."
   ]
  },
  {
   "cell_type": "code",
   "execution_count": 3,
   "metadata": {},
   "outputs": [],
   "source": [
    "import busqueda_espacio_estados as busqee"
   ]
  },
  {
   "cell_type": "markdown",
   "metadata": {},
   "source": [
    "El siguiente módulo será de utilidad para copiar un estado en otro estado igual, pero completamente nuevo e independiente."
   ]
  },
  {
   "cell_type": "code",
   "execution_count": 4,
   "metadata": {},
   "outputs": [],
   "source": [
    "import copy"
   ]
  },
  {
   "cell_type": "markdown",
   "metadata": {},
   "source": [
    "El primer paso es decidir cómo se van a implementar los estados. Para el rompecabezas de las Torres de Hanoi una opción es hacerlo mediante una lista que guarde para cada varilla el conjunto de los discos que hay en ella."
   ]
  },
  {
   "cell_type": "code",
   "execution_count": 5,
   "metadata": {},
   "outputs": [],
   "source": [
    "estado1 = [{2}, set(), {1}]\n",
    "estado2 = [{1}, set(), {2}]"
   ]
  },
  {
   "cell_type": "markdown",
   "metadata": {},
   "source": [
    "A continuación hay que implementar las acciones como instancias de la clase `Accion`, proporcionando un nombre, una función de aplicabilidad y una función de aplicación para cada acción. Por ejemplo, la acción `De 1 a 3` que mueve un disco de la primera a la tercera varilla se puede implementar de la siguiente manera:"
   ]
  },
  {
   "cell_type": "code",
   "execution_count": 6,
   "metadata": {},
   "outputs": [],
   "source": [
    "def esta_vacia(estado, varilla):\n",
    "    return not estado[varilla - 1]\n",
    "\n",
    "def disco_superior(estado, varilla):\n",
    "    return min(estado[varilla - 1])\n",
    "\n",
    "def aplicabilidad(estado):\n",
    "    return (not esta_vacia(estado, 1) and\n",
    "            (esta_vacia(estado, 3) or\n",
    "             disco_superior(estado, 1) < disco_superior(estado, 3)))\n",
    "\n",
    "def quitar_disco(estado, varilla):\n",
    "    disco = disco_superior(estado, varilla)\n",
    "    estado[varilla - 1].remove(disco)\n",
    "    return disco\n",
    "\n",
    "def poner_disco(estado, varilla, disco):\n",
    "    estado[varilla - 1].add(disco)\n",
    "\n",
    "def aplicacion(estado):\n",
    "    nuevo_estado = copy.deepcopy(estado)\n",
    "    disco = quitar_disco(nuevo_estado, 1)\n",
    "    poner_disco(nuevo_estado, 3, disco)\n",
    "    return nuevo_estado\n",
    "\n",
    "a13 = probee.Accion('De 1 a 3', aplicabilidad, aplicacion)"
   ]
  },
  {
   "cell_type": "code",
   "execution_count": 7,
   "metadata": {},
   "outputs": [
    {
     "data": {
      "text/plain": [
       "False"
      ]
     },
     "execution_count": 7,
     "metadata": {},
     "output_type": "execute_result"
    }
   ],
   "source": [
    "a13.es_aplicable(estado1)"
   ]
  },
  {
   "cell_type": "code",
   "execution_count": 8,
   "metadata": {},
   "outputs": [
    {
     "data": {
      "text/plain": [
       "True"
      ]
     },
     "execution_count": 8,
     "metadata": {},
     "output_type": "execute_result"
    }
   ],
   "source": [
    "a13.es_aplicable(estado2)"
   ]
  },
  {
   "cell_type": "code",
   "execution_count": 9,
   "metadata": {},
   "outputs": [
    {
     "data": {
      "text/plain": [
       "[set(), set(), {1, 2}]"
      ]
     },
     "execution_count": 9,
     "metadata": {},
     "output_type": "execute_result"
    }
   ],
   "source": [
    "a13.aplicar(estado2)"
   ]
  },
  {
   "cell_type": "markdown",
   "metadata": {},
   "source": [
    "Normalmente las acciones se pueden agrupar en distintos tipos, cada uno de los cuales puede ser implementado de manera abstracta mediante una clase que herede de la clase `Accion`."
   ]
  },
  {
   "cell_type": "markdown",
   "metadata": {},
   "source": [
    "Para el rompecabezas de las Torres de Hanoi, todas las acciones son del tipo mover un disco de una varilla a otra. En este caso, consideramos que el coste de mover un disco es siempre 1, el valor por defecto. En caso de que fuera distinto, al crear una instancia de la clase `Accion` se puede proporcionar una función `coste`, o bien al heredar de la clase `Accion` se puede redefinir el método `coste_de_aplicar`."
   ]
  },
  {
   "cell_type": "code",
   "execution_count": 10,
   "metadata": {},
   "outputs": [],
   "source": [
    "class MoverDisco(probee.Accion):\n",
    "    def __init__(self, i, j):\n",
    "        nombre = 'De {} a {}'.format(i, j)\n",
    "        super().__init__(nombre)\n",
    "        self.varilla_de = i\n",
    "        self.varilla_a = j\n",
    "    \n",
    "    def esta_vacia(self, estado, varilla):\n",
    "        return not estado[varilla - 1]\n",
    "    \n",
    "    def disco_superior(self, estado, varilla):\n",
    "        return min(estado[varilla - 1])\n",
    "    \n",
    "    def es_aplicable(self, estado):\n",
    "        return (not self.esta_vacia(estado, self.varilla_de) and\n",
    "                (self.esta_vacia(estado, self.varilla_a) or\n",
    "                 self.disco_superior(estado, self.varilla_de) < \n",
    "                 self.disco_superior(estado, self.varilla_a)))\n",
    "    \n",
    "    def quitar_disco(self, estado, varilla):\n",
    "        disco = self.disco_superior(estado, varilla)\n",
    "        estado[varilla - 1].remove(disco)\n",
    "        return disco\n",
    "\n",
    "    def poner_disco(self, estado, varilla, disco):\n",
    "        estado[varilla - 1].add(disco)\n",
    "    \n",
    "    def aplicar(self, estado):\n",
    "        nuevo_estado = copy.deepcopy(estado)\n",
    "        disco = self.quitar_disco(nuevo_estado, self.varilla_de)\n",
    "        self.poner_disco(nuevo_estado, self.varilla_a, disco)\n",
    "        return nuevo_estado"
   ]
  },
  {
   "cell_type": "markdown",
   "metadata": {},
   "source": [
    "Finalmente, un problema de espacio de estados se implementa como una instancia de la clase `ProblemaEspacioEstados`, proporcionando una lista de acciones, un estado inicial y una lista de estados finales."
   ]
  },
  {
   "cell_type": "code",
   "execution_count": 11,
   "metadata": {},
   "outputs": [],
   "source": [
    "acciones = [MoverDisco(i, j) for i in range(1, 4) for j in range(1, 4) if i != j]\n",
    "estado_inicial = [{1, 2}, set(), set()]\n",
    "estado_final = [set(), set(), {1, 2}]\n",
    "Torres_Hanoi_2_discos = probee.ProblemaEspacioEstados(\n",
    "    acciones, estado_inicial, [estado_final])"
   ]
  },
  {
   "cell_type": "code",
   "execution_count": 12,
   "metadata": {},
   "outputs": [
    {
     "data": {
      "text/plain": [
       "False"
      ]
     },
     "execution_count": 12,
     "metadata": {},
     "output_type": "execute_result"
    }
   ],
   "source": [
    "Torres_Hanoi_2_discos.es_estado_final(estado1)"
   ]
  },
  {
   "cell_type": "code",
   "execution_count": 13,
   "metadata": {},
   "outputs": [
    {
     "data": {
      "text/plain": [
       "True"
      ]
     },
     "execution_count": 13,
     "metadata": {},
     "output_type": "execute_result"
    }
   ],
   "source": [
    "Torres_Hanoi_2_discos.es_estado_final(a13.aplicar(estado2))"
   ]
  },
  {
   "cell_type": "code",
   "execution_count": 14,
   "metadata": {},
   "outputs": [
    {
     "name": "stdout",
     "output_type": "stream",
     "text": [
      "De 1 a 2\n",
      "De 3 a 1\n",
      "De 3 a 2\n"
     ]
    }
   ],
   "source": [
    "for accion in Torres_Hanoi_2_discos.acciones_aplicables(estado1):\n",
    "    print(accion.nombre)"
   ]
  },
  {
   "cell_type": "code",
   "execution_count": 15,
   "metadata": {},
   "outputs": [
    {
     "name": "stdout",
     "output_type": "stream",
     "text": [
      "[set(), {2}, {1}]\n",
      "[{1, 2}, set(), set()]\n",
      "[{2}, {1}, set()]\n"
     ]
    }
   ],
   "source": [
    "for accion in Torres_Hanoi_2_discos.acciones_aplicables(estado1):\n",
    "    print(accion.aplicar(estado1))"
   ]
  },
  {
   "cell_type": "markdown",
   "metadata": {},
   "source": [
    "El procedimiento para realizar una búsqueda en un espacio de estados consiste en crear una instancia de una clase que implemente un algoritmo de búsqueda, proporcionando los argumentos necesarios, y aplicar el método buscar de esa instancia al problema de espacio de estados.\n",
    "\n",
    "Las clases correspondientes a los algoritmos de búsqueda más comunes son las siguientes:\n",
    "* `BúsquedaEnAnchura`\n",
    "* `BúsquedaEnProfundidad`\n",
    "* `BúsquedaPrimeroElMejor`: hay que proporcionar la función de evaluación heurística `h`.\n",
    "* `BúsquedaÓptima`\n",
    "* `BúsquedaAEstrella`: hay que proporcionar la función de estimación del coste `f = g + h`.\n",
    "\n",
    "Adicionalmente, todas las clases anteriores admiten establecer el argumento `detallado` a `True`, para que al realizar una búsqueda se imprima por pantalla su traza."
   ]
  },
  {
   "cell_type": "code",
   "execution_count": 16,
   "metadata": {},
   "outputs": [],
   "source": [
    "b_anchura = busqee.BusquedaEnAnchura(detallado=True)"
   ]
  },
  {
   "cell_type": "code",
   "execution_count": 17,
   "metadata": {},
   "outputs": [
    {
     "name": "stdout",
     "output_type": "stream",
     "text": [
      "Nodo(1): Estado: [{1, 2}, set(), set()]; Prof: 0\n",
      "  Nodo(2): Estado: [{2}, {1}, set()]; Prof: 1\n",
      "  Nodo(3): Estado: [{2}, set(), {1}]; Prof: 1\n",
      "    Nodo(4): Estado: [set(), {1}, {2}]; Prof: 2\n",
      "    Nodo(5): Estado: [set(), {2}, {1}]; Prof: 2\n",
      "      Nodo(6): Estado: [{1}, set(), {2}]; Prof: 3\n",
      "      Nodo(7): Estado: [set(), set(), {1, 2}]; Prof: 3\n"
     ]
    },
    {
     "data": {
      "text/plain": [
       "['De 1 a 2', 'De 1 a 3', 'De 2 a 3']"
      ]
     },
     "execution_count": 17,
     "metadata": {},
     "output_type": "execute_result"
    }
   ],
   "source": [
    "b_anchura.buscar(Torres_Hanoi_2_discos)"
   ]
  },
  {
   "cell_type": "code",
   "execution_count": 18,
   "metadata": {},
   "outputs": [],
   "source": [
    "b_profundidad = busqee.BusquedaEnProfundidad(detallado=True)"
   ]
  },
  {
   "cell_type": "code",
   "execution_count": 19,
   "metadata": {},
   "outputs": [
    {
     "name": "stdout",
     "output_type": "stream",
     "text": [
      "Nodo(1): Estado: [{1, 2}, set(), set()]; Prof: 0\n",
      "  Nodo(2): Estado: [{2}, set(), {1}]; Prof: 1\n",
      "    Nodo(3): Estado: [set(), {2}, {1}]; Prof: 2\n",
      "      Nodo(4): Estado: [set(), {1, 2}, set()]; Prof: 3\n",
      "      Nodo(5): Estado: [{1}, {2}, set()]; Prof: 3\n",
      "        Nodo(6): Estado: [{1}, set(), {2}]; Prof: 4\n",
      "          Nodo(7): Estado: [set(), set(), {1, 2}]; Prof: 5\n"
     ]
    },
    {
     "data": {
      "text/plain": [
       "['De 1 a 3', 'De 1 a 2', 'De 3 a 1', 'De 2 a 3', 'De 1 a 3']"
      ]
     },
     "execution_count": 19,
     "metadata": {},
     "output_type": "execute_result"
    }
   ],
   "source": [
    "b_profundidad.buscar(Torres_Hanoi_2_discos)"
   ]
  },
  {
   "cell_type": "markdown",
   "metadata": {},
   "source": [
    "Podemos parametrizar la implementación del rompecabezas de las Torres de Hanoi para que dependa del número `n` de discos. Para ello basta implementar una clase que herede de la clase `ProblemaEspacioEstados`. Aprovechamos también para, en lugar de enumerar los estados finales, realizar una descripción declarativa de los mismos redefiniendo el método `es_estado_final`."
   ]
  },
  {
   "cell_type": "code",
   "execution_count": 20,
   "metadata": {},
   "outputs": [],
   "source": [
    "class TorresHanoi(probee.ProblemaEspacioEstados):\n",
    "    def __init__(self, n):\n",
    "        acciones = [MoverDisco(i, j) for i in range(1, 4) for j in range(1, 4) if i != j]\n",
    "        estado_inicial = [set(range(1, n + 1)), set(), set()]\n",
    "        super().__init__(acciones, estado_inicial)\n",
    "        self.n = n\n",
    "    \n",
    "    def es_estado_final(self, estado):\n",
    "        return estado[2] == set(range(1, self.n + 1))"
   ]
  },
  {
   "cell_type": "markdown",
   "metadata": {},
   "source": [
    "Con un número de discos igual a 8, el coste en tiempo de los algoritmos de búsqueda en anchura y profundidad comienza a no ser asumible, por lo que debemos pasar a realizar una búsqueda informada."
   ]
  },
  {
   "cell_type": "code",
   "execution_count": 21,
   "metadata": {},
   "outputs": [],
   "source": [
    "Torres_Hanoi_8_discos = TorresHanoi(8)"
   ]
  },
  {
   "cell_type": "code",
   "execution_count": 22,
   "metadata": {},
   "outputs": [],
   "source": [
    "b_anchura = busqee.BusquedaEnAnchura()"
   ]
  },
  {
   "cell_type": "code",
   "execution_count": 23,
   "metadata": {},
   "outputs": [
    {
     "name": "stdout",
     "output_type": "stream",
     "text": [
      "Tiempo transcurrido: 18.29 segundos.\n"
     ]
    }
   ],
   "source": [
    "from time import time\n",
    "ti = time()\n",
    "sol = b_anchura.buscar(Torres_Hanoi_8_discos)\n",
    "print('Tiempo transcurrido: {} segundos.'.format(round(time() - ti,2)))"
   ]
  },
  {
   "cell_type": "markdown",
   "metadata": {},
   "source": [
    "La solución de menor tamaño para la instancia del problema con 8 discos tiene 255 pasos."
   ]
  },
  {
   "cell_type": "code",
   "execution_count": 24,
   "metadata": {},
   "outputs": [
    {
     "data": {
      "text/plain": [
       "255"
      ]
     },
     "execution_count": 24,
     "metadata": {},
     "output_type": "execute_result"
    }
   ],
   "source": [
    "len(sol)"
   ]
  },
  {
   "cell_type": "code",
   "execution_count": 25,
   "metadata": {},
   "outputs": [],
   "source": [
    "# sol"
   ]
  },
  {
   "cell_type": "markdown",
   "metadata": {},
   "source": [
    "Vamos a medir el tiempo de ejecución para distintas instancias del problema."
   ]
  },
  {
   "cell_type": "code",
   "execution_count": 26,
   "metadata": {},
   "outputs": [
    {
     "name": "stdout",
     "output_type": "stream",
     "text": [
      "N discos: 1 Tamaño solución: 1 Tiempo transcurrido: 0.001 segundos.\n",
      "N discos: 2 Tamaño solución: 3 Tiempo transcurrido: 0.001 segundos.\n",
      "N discos: 3 Tamaño solución: 7 Tiempo transcurrido: 0.00499 segundos.\n",
      "N discos: 4 Tamaño solución: 15 Tiempo transcurrido: 0.01384 segundos.\n",
      "N discos: 5 Tamaño solución: 31 Tiempo transcurrido: 0.07402 segundos.\n",
      "N discos: 6 Tamaño solución: 63 Tiempo transcurrido: 0.27717 segundos.\n",
      "N discos: 7 Tamaño solución: 127 Tiempo transcurrido: 2.10687 segundos.\n",
      "N discos: 8 Tamaño solución: 255 Tiempo transcurrido: 12.33921 segundos.\n"
     ]
    }
   ],
   "source": [
    "MAX_DISCOS = 8\n",
    "b_anchura = busqee.BusquedaEnAnchura()\n",
    "\n",
    "for i in range(1, MAX_DISCOS + 1):\n",
    "    Torres_Hanoi_N_discos = TorresHanoi(i)\n",
    "    ti = time()\n",
    "    sol = b_anchura.buscar(Torres_Hanoi_N_discos)\n",
    "    print('N discos: {} Tamaño solución: {} Tiempo transcurrido: {} segundos.'.format(i, len(sol), round(time() - ti,5)))"
   ]
  },
  {
   "cell_type": "markdown",
   "metadata": {},
   "source": [
    "# Ejercicio: El problema de las Jarras"
   ]
  },
  {
   "cell_type": "markdown",
   "metadata": {},
   "source": [
    "- **Enunciado**:\n",
    "    - Se tienen dos jarras, de 4 y 3 litros respectivamente.\n",
    "    - Ninguna de ellas tiene marcas de medición.\n",
    "    - Se tiene una bomba que permite llenar las jarras de agua.\n",
    "    - Averiguar cómo se puede lograr tener exactamente 2 litrosde agua en la jarra de 4 litros de capacidad.\n",
    "- **Estado inicial**: (0 0).\n",
    "- **Estados finales**: todos los estados de la forma (2 y).\n",
    "- **Acciones**:\n",
    "    - Llenar la jarra de 4 litros con la bomba.\n",
    "    - Llenar la jarra de 3 litros con la bomba.\n",
    "    - Vaciar la jarra de 4 litros en el suelo.\n",
    "    - Vaciar la jarra de 3 litros en el suelo.\n",
    "    - Trasvasar de la jarra de 4 litros a la jarra de 3 litros. Si se llena la jarra de 3 litros, el sobrante permanece en la jarra de 4 litros.\n",
    "    - Trasvasar de jarra de 3 litros a la jarra de 4 litros. Si se llena la jarra de 4 litros, el sobrante permanece en la jarra de 3 litros.\n",
    "    \n",
    "**NOTA:** Se ha usado una lista para representar el estado, al final del notebook se proporciona una solución al problema usando tuplas."
   ]
  },
  {
   "cell_type": "markdown",
   "metadata": {},
   "source": [
    "Llenar la jarra de 4 litros con la bomba."
   ]
  },
  {
   "cell_type": "code",
   "execution_count": 27,
   "metadata": {},
   "outputs": [],
   "source": [
    "# ESTADO: [x,y]\n",
    "# La jarra de 4 contiene x litros y la jarra de 3 contiene y litros.\n",
    "\n",
    "###########################\n",
    "### Opcion 1: Funciones ###\n",
    "###########################\n",
    "\n",
    "def aplicabilidad(estado):\n",
    "    return estado[0] < 4\n",
    "\n",
    "def aplicacion(estado):\n",
    "    nuevo_estado = copy.deepcopy(estado)\n",
    "    nuevo_estado[0] = 4\n",
    "    return nuevo_estado\n",
    "\n",
    "llenar4 = probee.Accion('Llenar jarra de 4', aplicabilidad, aplicacion)\n",
    "\n",
    "###########################\n",
    "### Opcion 2: Clases    ###\n",
    "###########################\n",
    "# IMPORTANTE: No cambiar los nombres de las funciones es_aplicable y aplicar.\n",
    "class LlenarJarraDe4(probee.Accion):\n",
    "    def __init__(self):\n",
    "        nombre = 'Llenar jarra de 4'\n",
    "        super().__init__(nombre)\n",
    "    \n",
    "    def es_aplicable(self, estado):\n",
    "        return estado[0] < 4\n",
    "    \n",
    "    def aplicar(self, estado):\n",
    "        nuevo_estado = copy.deepcopy(estado)\n",
    "        nuevo_estado[0] = 4\n",
    "        return nuevo_estado\n",
    "    \n",
    "llenar4 = LlenarJarraDe4()"
   ]
  },
  {
   "cell_type": "markdown",
   "metadata": {},
   "source": [
    "Llenar la jarra de 3 litros con la bomba."
   ]
  },
  {
   "cell_type": "code",
   "execution_count": 28,
   "metadata": {},
   "outputs": [],
   "source": [
    "class LlenarJarraDe3(probee.Accion):\n",
    "    def __init__(self):\n",
    "        nombre = 'Llenar jarra de 3'\n",
    "        super().__init__(nombre)\n",
    "    \n",
    "    def es_aplicable(self, estado):\n",
    "        return estado[1] < 3\n",
    "    \n",
    "    def aplicar(self, estado):\n",
    "        nuevo_estado = copy.deepcopy(estado)\n",
    "        nuevo_estado[1] = 3\n",
    "        return nuevo_estado"
   ]
  },
  {
   "cell_type": "markdown",
   "metadata": {},
   "source": [
    "Vaciar la jarra de 4 litros en el suelo."
   ]
  },
  {
   "cell_type": "code",
   "execution_count": 29,
   "metadata": {},
   "outputs": [],
   "source": [
    "class VaciarJarraDe4(probee.Accion):\n",
    "    def __init__(self):\n",
    "        nombre = 'Vaciar jarra de 4'\n",
    "        super().__init__(nombre)\n",
    "    \n",
    "    def es_aplicable(self, estado):\n",
    "        return estado[0] > 0\n",
    "    \n",
    "    def aplicar(self, estado):\n",
    "        nuevo_estado = copy.deepcopy(estado)\n",
    "        nuevo_estado[0] = 0\n",
    "        return nuevo_estado"
   ]
  },
  {
   "cell_type": "markdown",
   "metadata": {},
   "source": [
    "Vaciar la jarra de 3 litros en el suelo."
   ]
  },
  {
   "cell_type": "code",
   "execution_count": 30,
   "metadata": {},
   "outputs": [],
   "source": [
    "class VaciarJarraDe3(probee.Accion):\n",
    "    def __init__(self):\n",
    "        nombre = 'Vaciar jarra de 3'\n",
    "        super().__init__(nombre)\n",
    "    \n",
    "    def es_aplicable(self, estado):\n",
    "        return estado[1] > 0\n",
    "    \n",
    "    def aplicar(self, estado):\n",
    "        nuevo_estado = copy.deepcopy(estado)\n",
    "        nuevo_estado[1] = 0\n",
    "        return nuevo_estado"
   ]
  },
  {
   "cell_type": "markdown",
   "metadata": {},
   "source": [
    "Trasvasar de la jarra de 4 litros a la jarra de 3 litros."
   ]
  },
  {
   "cell_type": "code",
   "execution_count": 31,
   "metadata": {},
   "outputs": [],
   "source": [
    "class TrasvasarJarraDe4aJarraDe3(probee.Accion):\n",
    "    def __init__(self):\n",
    "        nombre = 'Trasvasar de jarra de 4 a jarra de 3'\n",
    "        super().__init__(nombre)\n",
    "    \n",
    "    def es_aplicable(self, estado):\n",
    "        return estado[0] > 0 and estado[1] < 3\n",
    "    \n",
    "    def aplicar(self, estado):\n",
    "        nuevo_estado = copy.deepcopy(estado)\n",
    "        if (estado[0] + estado[1]) > 3:\n",
    "            nuevo_estado[0] = estado[0] - 3 + estado[1]\n",
    "            nuevo_estado[1] = 3\n",
    "        else:\n",
    "            nuevo_estado[0] = 0\n",
    "            nuevo_estado[1] = estado[0] + estado[1]\n",
    "        return nuevo_estado"
   ]
  },
  {
   "cell_type": "markdown",
   "metadata": {},
   "source": [
    "Trasvasar de la jarra de 3 litros a la jarra de 4 litros."
   ]
  },
  {
   "cell_type": "code",
   "execution_count": 32,
   "metadata": {},
   "outputs": [],
   "source": [
    "class TrasvasarJarraDe3aJarraDe4(probee.Accion):\n",
    "    def __init__(self):\n",
    "        nombre = 'Trasvasar de jarra de 3 a jarra de 4'\n",
    "        super().__init__(nombre)\n",
    "    \n",
    "    def es_aplicable(self, estado):\n",
    "        return estado[1] > 0 and estado[0] < 4\n",
    "    \n",
    "    def aplicar(self, estado):\n",
    "        nuevo_estado = copy.deepcopy(estado)\n",
    "        if (estado[0] + estado[1]) > 4:\n",
    "            nuevo_estado[0] = 4\n",
    "            nuevo_estado[1] = estado[1] - 4 + estado[0]\n",
    "        else:\n",
    "            nuevo_estado[0] = estado[0] + estado[1]\n",
    "            nuevo_estado[1] = 0\n",
    "        return nuevo_estado\n",
    "\n",
    "####################################################\n",
    "# IMPLEMENTACIONES ALTERNATIVAS DEL MÉTODO APLICAR #\n",
    "####################################################\n",
    "#      def aplicar(self, estado):\n",
    "#         nuevo_estado = copy.deepcopy(estado)\n",
    "        \n",
    "#         nuevo_estado[1] = estado[0]+estado[1]\n",
    "#         nuevo_estado[0] = 0\n",
    "#         if nuevo_estado[1] > 3:\n",
    "#             nuevo_estado[1] = 3\n",
    "#             nuevo_estado[0] = estado[0] - (3 - estado[1])\n",
    "#         return nuevo_estado\n",
    "    \n",
    "#     def aplicar(self, estado):\n",
    "#         nuevo_estado = copy.deepcopy(estado)\n",
    "        \n",
    "#         for cantidad in range(estado[0]+1):\n",
    "#             if estado[1]+cantidad == 3 or estado[0]-cantidad == 0:\n",
    "#                 nuevo_estado[0] = estado[0] - cantidad\n",
    "#                 nuevo_estado[1] = estado[1] + cantidad\n",
    "#         return nuevo_estado"
   ]
  },
  {
   "cell_type": "code",
   "execution_count": 33,
   "metadata": {},
   "outputs": [],
   "source": [
    "acciones = [LlenarJarraDe4(), LlenarJarraDe3(), VaciarJarraDe4(), VaciarJarraDe3(), \n",
    "            TrasvasarJarraDe4aJarraDe3(), TrasvasarJarraDe3aJarraDe4()]\n",
    "estado_inicial = [0, 0]\n",
    "estados_finales = [[2, i] for i in range(4)]\n",
    "Jarras_4_3 = probee.ProblemaEspacioEstados(acciones, estado_inicial, estados_finales)"
   ]
  },
  {
   "cell_type": "code",
   "execution_count": 34,
   "metadata": {},
   "outputs": [
    {
     "name": "stdout",
     "output_type": "stream",
     "text": [
      "Nodo(1): Estado: [0, 0]; Prof: 0\n",
      "  Nodo(2): Estado: [4, 0]; Prof: 1\n",
      "  Nodo(3): Estado: [0, 3]; Prof: 1\n",
      "    Nodo(4): Estado: [4, 3]; Prof: 2\n",
      "    Nodo(5): Estado: [1, 3]; Prof: 2\n",
      "    Nodo(6): Estado: [3, 0]; Prof: 2\n",
      "      Nodo(7): Estado: [1, 0]; Prof: 3\n",
      "      Nodo(8): Estado: [3, 3]; Prof: 3\n",
      "        Nodo(9): Estado: [0, 1]; Prof: 4\n",
      "        Nodo(10): Estado: [4, 2]; Prof: 4\n",
      "          Nodo(11): Estado: [4, 1]; Prof: 5\n",
      "          Nodo(12): Estado: [0, 2]; Prof: 5\n",
      "            Nodo(13): Estado: [2, 3]; Prof: 6\n"
     ]
    },
    {
     "data": {
      "text/plain": [
       "['Llenar jarra de 4',\n",
       " 'Trasvasar de jarra de 4 a jarra de 3',\n",
       " 'Vaciar jarra de 3',\n",
       " 'Trasvasar de jarra de 4 a jarra de 3',\n",
       " 'Llenar jarra de 4',\n",
       " 'Trasvasar de jarra de 4 a jarra de 3']"
      ]
     },
     "execution_count": 34,
     "metadata": {},
     "output_type": "execute_result"
    }
   ],
   "source": [
    "b_anchura = busqee.BusquedaEnAnchura(detallado=True)\n",
    "b_anchura.buscar(Jarras_4_3)"
   ]
  },
  {
   "cell_type": "code",
   "execution_count": 35,
   "metadata": {},
   "outputs": [
    {
     "name": "stdout",
     "output_type": "stream",
     "text": [
      "Nodo(1): Estado: [0, 0]; Prof: 0\n",
      "  Nodo(2): Estado: [0, 3]; Prof: 1\n",
      "    Nodo(3): Estado: [3, 0]; Prof: 2\n",
      "      Nodo(4): Estado: [3, 3]; Prof: 3\n",
      "        Nodo(5): Estado: [4, 2]; Prof: 4\n",
      "          Nodo(6): Estado: [0, 2]; Prof: 5\n",
      "            Nodo(7): Estado: [2, 0]; Prof: 6\n"
     ]
    },
    {
     "data": {
      "text/plain": [
       "['Llenar jarra de 3',\n",
       " 'Trasvasar de jarra de 3 a jarra de 4',\n",
       " 'Llenar jarra de 3',\n",
       " 'Trasvasar de jarra de 3 a jarra de 4',\n",
       " 'Vaciar jarra de 4',\n",
       " 'Trasvasar de jarra de 3 a jarra de 4']"
      ]
     },
     "execution_count": 35,
     "metadata": {},
     "output_type": "execute_result"
    }
   ],
   "source": [
    "b_profundidad = busqee.BusquedaEnProfundidad(detallado=True)\n",
    "b_profundidad.buscar(Jarras_4_3)"
   ]
  },
  {
   "cell_type": "markdown",
   "metadata": {},
   "source": [
    "- ¿Cómo podríamos generalizar la implementación para, por un lado reducir el número de acciones, y por otro poder trabajar con jarras de capacidades diferentes a 4 y 3?"
   ]
  },
  {
   "cell_type": "markdown",
   "metadata": {},
   "source": [
    "### ANEXO: El problema de las Jarras con tuplas"
   ]
  },
  {
   "cell_type": "markdown",
   "metadata": {},
   "source": [
    "- **Enunciado**:\n",
    "    - Se tienen dos jarras, de 4 y 3 litros respectivamente.\n",
    "    - Ninguna de ellas tiene marcas de medición.\n",
    "    - Se tiene una bomba que permite llenar las jarras de agua.\n",
    "    - Averiguar cómo se puede lograr tener exactamente 2 litrosde agua en la jarra de 4 litros de capacidad.\n",
    "- **Estado inicial**: (0 0).\n",
    "- **Estados finales**: todos los estados de la forma (2 y).\n",
    "- **Acciones**:\n",
    "    - Llenar la jarra de 4 litros con la bomba.\n",
    "    - Llenar la jarra de 3 litros con la bomba.\n",
    "    - Vaciar la jarra de 4 litros en el suelo.\n",
    "    - Vaciar la jarra de 3 litros en el suelo.\n",
    "    - Trasvasar de la jarra de 4 litros a la jarra de 3 litros. Si se llena la jarra de 3 litros, el sobrante permanece en la jarra de 4 litros.\n",
    "    - Trasvasar de jarra de 3 litros a la jarra de 4 litros. Si se llena la jarra de 4 litros, el sobrante permanece en la jarra de 3 litros."
   ]
  },
  {
   "cell_type": "markdown",
   "metadata": {},
   "source": [
    "Llenar la jarra de 4 litros con la bomba."
   ]
  },
  {
   "cell_type": "code",
   "execution_count": 36,
   "metadata": {},
   "outputs": [],
   "source": [
    "class LlenarJarraDe4(probee.Accion):\n",
    "    def __init__(self):\n",
    "        nombre = 'Llenar jarra de 4'\n",
    "        super().__init__(nombre)\n",
    "    \n",
    "    def es_aplicable(self, estado):\n",
    "        return estado[0] < 4\n",
    "    \n",
    "    def aplicar(self, estado):\n",
    "        return (4, estado[1])"
   ]
  },
  {
   "cell_type": "markdown",
   "metadata": {},
   "source": [
    "Llenar la jarra de 3 litros con la bomba."
   ]
  },
  {
   "cell_type": "code",
   "execution_count": 37,
   "metadata": {},
   "outputs": [],
   "source": [
    "class LlenarJarraDe3(probee.Accion):\n",
    "    def __init__(self):\n",
    "        nombre = 'Llenar jarra de 3'\n",
    "        super().__init__(nombre)\n",
    "    \n",
    "    def es_aplicable(self, estado):\n",
    "        return estado[1] < 3\n",
    "    \n",
    "    def aplicar(self, estado):\n",
    "        return (estado[0], 3)"
   ]
  },
  {
   "cell_type": "markdown",
   "metadata": {},
   "source": [
    "Vaciar la jarra de 4 litros en el suelo."
   ]
  },
  {
   "cell_type": "code",
   "execution_count": 38,
   "metadata": {},
   "outputs": [],
   "source": [
    "class VaciarJarraDe4(probee.Accion):\n",
    "    def __init__(self):\n",
    "        nombre = 'Vaciar jarra de 4'\n",
    "        super().__init__(nombre)\n",
    "    \n",
    "    def es_aplicable(self, estado):\n",
    "        return estado[0] > 0\n",
    "    \n",
    "    def aplicar(self, estado):\n",
    "        return (0, estado[1])"
   ]
  },
  {
   "cell_type": "markdown",
   "metadata": {},
   "source": [
    "Vaciar la jarra de 3 litros en el suelo."
   ]
  },
  {
   "cell_type": "code",
   "execution_count": 39,
   "metadata": {},
   "outputs": [],
   "source": [
    "class VaciarJarraDe3(probee.Accion):\n",
    "    def __init__(self):\n",
    "        nombre = 'Vaciar jarra de 3'\n",
    "        super().__init__(nombre)\n",
    "    \n",
    "    def es_aplicable(self, estado):\n",
    "        return estado[1] > 0\n",
    "    \n",
    "    def aplicar(self, estado):\n",
    "        return (estado[0], 0)"
   ]
  },
  {
   "cell_type": "markdown",
   "metadata": {},
   "source": [
    "Trasvasar de la jarra de 4 litros a la jarra de 3 litros."
   ]
  },
  {
   "cell_type": "code",
   "execution_count": 40,
   "metadata": {},
   "outputs": [],
   "source": [
    "class TrasvasarJarraDe4aJarraDe3(probee.Accion):\n",
    "    def __init__(self):\n",
    "        nombre = 'Trasvasar de jarra de 4 a jarra de 3'\n",
    "        super().__init__(nombre)\n",
    "    \n",
    "    def es_aplicable(self, estado):\n",
    "        return estado[0] > 0 and estado[1] < 3\n",
    "    \n",
    "    def aplicar(self, estado):\n",
    "        if (estado[0] + estado[1]) > 3:\n",
    "            nuevo_estado = (estado[0] - 3 + estado[1], 3)\n",
    "        else:\n",
    "            nuevo_estado = (0, estado[0] + estado[1])\n",
    "        return nuevo_estado"
   ]
  },
  {
   "cell_type": "markdown",
   "metadata": {},
   "source": [
    "Trasvasar de la jarra de 3 litros a la jarra de 4 litros."
   ]
  },
  {
   "cell_type": "code",
   "execution_count": 41,
   "metadata": {},
   "outputs": [],
   "source": [
    "class TrasvasarJarraDe3aJarraDe4(probee.Accion):\n",
    "    def __init__(self):\n",
    "        nombre = 'Trasvasar de jarra de 3 a jarra de 4'\n",
    "        super().__init__(nombre)\n",
    "    \n",
    "    def es_aplicable(self, estado):\n",
    "        return estado[1] > 0 and estado[0] < 4\n",
    "    \n",
    "    def aplicar(self, estado):\n",
    "        if (estado[0] + estado[1]) > 4:\n",
    "            nuevo_estado = (4, estado[1] - 4 + estado[0])\n",
    "        else:\n",
    "            nuevo_estado = (estado[0] + estado[1], 0)\n",
    "        return nuevo_estado"
   ]
  },
  {
   "cell_type": "code",
   "execution_count": 42,
   "metadata": {},
   "outputs": [],
   "source": [
    "acciones = [LlenarJarraDe4(), LlenarJarraDe3(), VaciarJarraDe4(), VaciarJarraDe3(), \n",
    "            TrasvasarJarraDe4aJarraDe3(), TrasvasarJarraDe3aJarraDe4()]\n",
    "estado_inicial = (0, 0)\n",
    "estados_finales = [(2, i) for i in range(4)]\n",
    "Jarras_4_3 = probee.ProblemaEspacioEstados(acciones, estado_inicial, estados_finales)"
   ]
  },
  {
   "cell_type": "code",
   "execution_count": 43,
   "metadata": {},
   "outputs": [
    {
     "name": "stdout",
     "output_type": "stream",
     "text": [
      "Nodo(1): Estado: (0, 0); Prof: 0\n",
      "  Nodo(2): Estado: (4, 0); Prof: 1\n",
      "  Nodo(3): Estado: (0, 3); Prof: 1\n",
      "    Nodo(4): Estado: (4, 3); Prof: 2\n",
      "    Nodo(5): Estado: (1, 3); Prof: 2\n",
      "    Nodo(6): Estado: (3, 0); Prof: 2\n",
      "      Nodo(7): Estado: (1, 0); Prof: 3\n",
      "      Nodo(8): Estado: (3, 3); Prof: 3\n",
      "        Nodo(9): Estado: (0, 1); Prof: 4\n",
      "        Nodo(10): Estado: (4, 2); Prof: 4\n",
      "          Nodo(11): Estado: (4, 1); Prof: 5\n",
      "          Nodo(12): Estado: (0, 2); Prof: 5\n",
      "            Nodo(13): Estado: (2, 3); Prof: 6\n"
     ]
    },
    {
     "data": {
      "text/plain": [
       "['Llenar jarra de 4',\n",
       " 'Trasvasar de jarra de 4 a jarra de 3',\n",
       " 'Vaciar jarra de 3',\n",
       " 'Trasvasar de jarra de 4 a jarra de 3',\n",
       " 'Llenar jarra de 4',\n",
       " 'Trasvasar de jarra de 4 a jarra de 3']"
      ]
     },
     "execution_count": 43,
     "metadata": {},
     "output_type": "execute_result"
    }
   ],
   "source": [
    "b_anchura = busqee.BusquedaEnAnchura(detallado=True)\n",
    "b_anchura.buscar(Jarras_4_3)"
   ]
  },
  {
   "cell_type": "code",
   "execution_count": 44,
   "metadata": {},
   "outputs": [
    {
     "name": "stdout",
     "output_type": "stream",
     "text": [
      "Nodo(1): Estado: (0, 0); Prof: 0\n",
      "  Nodo(2): Estado: (0, 3); Prof: 1\n",
      "    Nodo(3): Estado: (3, 0); Prof: 2\n",
      "      Nodo(4): Estado: (3, 3); Prof: 3\n",
      "        Nodo(5): Estado: (4, 2); Prof: 4\n",
      "          Nodo(6): Estado: (0, 2); Prof: 5\n",
      "            Nodo(7): Estado: (2, 0); Prof: 6\n"
     ]
    },
    {
     "data": {
      "text/plain": [
       "['Llenar jarra de 3',\n",
       " 'Trasvasar de jarra de 3 a jarra de 4',\n",
       " 'Llenar jarra de 3',\n",
       " 'Trasvasar de jarra de 3 a jarra de 4',\n",
       " 'Vaciar jarra de 4',\n",
       " 'Trasvasar de jarra de 3 a jarra de 4']"
      ]
     },
     "execution_count": 44,
     "metadata": {},
     "output_type": "execute_result"
    }
   ],
   "source": [
    "b_profundidad = busqee.BusquedaEnProfundidad(detallado=True)\n",
    "b_profundidad.buscar(Jarras_4_3)"
   ]
  },
  {
   "cell_type": "code",
   "execution_count": null,
   "metadata": {},
   "outputs": [],
   "source": []
  }
 ],
 "metadata": {
  "anaconda-cloud": {},
  "kernelspec": {
   "display_name": "Python 3",
   "language": "python",
   "name": "python3"
  },
  "language_info": {
   "codemirror_mode": {
    "name": "ipython",
    "version": 3
   },
   "file_extension": ".py",
   "mimetype": "text/x-python",
   "name": "python",
   "nbconvert_exporter": "python",
   "pygments_lexer": "ipython3",
   "version": "3.8.3"
  }
 },
 "nbformat": 4,
 "nbformat_minor": 4
}
