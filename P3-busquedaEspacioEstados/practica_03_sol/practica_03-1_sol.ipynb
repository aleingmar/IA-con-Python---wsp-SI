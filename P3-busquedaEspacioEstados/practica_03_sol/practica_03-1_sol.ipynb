{
 "cells": [
  {
   "cell_type": "markdown",
   "metadata": {},
   "source": [
    "# Búsqueda no informada con coste variable - El problema del viaje\n"
   ]
  },
  {
   "cell_type": "code",
   "execution_count": 1,
   "metadata": {},
   "outputs": [],
   "source": [
    "import problema_espacio_estados as probee\n",
    "import busqueda_espacio_estados as busqee\n",
    "import copy"
   ]
  },
  {
   "cell_type": "markdown",
   "metadata": {},
   "source": [
    "Hasta ahora hemos trabajado con problemas en los que todas las acciones tienen el mismo coste. Veamos con un ejemplo sencillo, como afecta el coste a los diferentes algoritmos.\n",
    "\n",
    "Tenemos una serie de ciudades y la distancia entre estas (**no son totalmente fieles a la realidad**). No todas las ciudades están conectadas con todas."
   ]
  },
  {
   "cell_type": "code",
   "execution_count": 2,
   "metadata": {},
   "outputs": [],
   "source": [
    "ciudades = ['AL', 'CA', 'CO', 'GR', 'HU', 'JA', 'MA', 'SE']\n",
    "distancias = [[0, 0, 0, 175, 0, 235, 0, 0],\n",
    "              [0, 0, 0, 0, 0, 0, 240, 125],\n",
    "              [0, 0, 0, 210, 0, 110, 175, 140],\n",
    "              [175, 0, 210, 0, 0, 100, 130, 0],\n",
    "              [0, 0, 0, 0, 0, 0, 0, 95],\n",
    "              [235, 0, 110, 100, 0, 0, 0, 0],\n",
    "              [0, 240, 175, 130, 0, 0, 0, 215],\n",
    "              [0, 125, 140, 0, 95, 0, 215, 0]]"
   ]
  },
  {
   "cell_type": "markdown",
   "metadata": {},
   "source": [
    "Veamos la información que nos proporciona la matriz anterior."
   ]
  },
  {
   "cell_type": "code",
   "execution_count": 3,
   "metadata": {},
   "outputs": [
    {
     "name": "stdout",
     "output_type": "stream",
     "text": [
      "AL es accesible desde GR y están separadas por 175 Km.\n",
      "AL es accesible desde JA y están separadas por 235 Km.\n",
      "CA es accesible desde MA y están separadas por 240 Km.\n",
      "CA es accesible desde SE y están separadas por 125 Km.\n",
      "CO es accesible desde GR y están separadas por 210 Km.\n",
      "CO es accesible desde JA y están separadas por 110 Km.\n",
      "CO es accesible desde MA y están separadas por 175 Km.\n",
      "CO es accesible desde SE y están separadas por 140 Km.\n",
      "GR es accesible desde AL y están separadas por 175 Km.\n",
      "GR es accesible desde CO y están separadas por 210 Km.\n",
      "GR es accesible desde JA y están separadas por 100 Km.\n",
      "GR es accesible desde MA y están separadas por 130 Km.\n",
      "HU es accesible desde SE y están separadas por 95 Km.\n",
      "JA es accesible desde AL y están separadas por 235 Km.\n",
      "JA es accesible desde CO y están separadas por 110 Km.\n",
      "JA es accesible desde GR y están separadas por 100 Km.\n",
      "MA es accesible desde CA y están separadas por 240 Km.\n",
      "MA es accesible desde CO y están separadas por 175 Km.\n",
      "MA es accesible desde GR y están separadas por 130 Km.\n",
      "MA es accesible desde SE y están separadas por 215 Km.\n",
      "SE es accesible desde CA y están separadas por 125 Km.\n",
      "SE es accesible desde CO y están separadas por 140 Km.\n",
      "SE es accesible desde HU y están separadas por 95 Km.\n",
      "SE es accesible desde MA y están separadas por 215 Km.\n"
     ]
    }
   ],
   "source": [
    "for i,c1 in enumerate(ciudades):\n",
    "    for j,c2 in enumerate(ciudades):\n",
    "        if distancias[i][j] != 0:\n",
    "            print('{} es accesible desde {} y están separadas por {} Km.'.format(c1, c2, distancias[i][j]))"
   ]
  },
  {
   "cell_type": "markdown",
   "metadata": {},
   "source": [
    "### Acciónes sin considerar distancia entre ciudades (todas están igual de lejos)."
   ]
  },
  {
   "cell_type": "markdown",
   "metadata": {},
   "source": [
    "Vamos a hacer una primera versión en la que no consideramos la distancia entre ciudades"
   ]
  },
  {
   "cell_type": "code",
   "execution_count": 4,
   "metadata": {},
   "outputs": [],
   "source": [
    "class Viajar_sin_coste(probee.Accion):\n",
    "    def __init__(self, desde, hasta, ciudades, distancias):\n",
    "        super().__init__(\"Viajar desde {} hasta {}. Distancia: {}\".format(ciudades[desde], ciudades[hasta], distancias[desde][hasta]))\n",
    "        self.desde = desde\n",
    "        self.hasta= hasta\n",
    "        self.ciudades = ciudades\n",
    "        self.distancia = distancias[desde][hasta]\n",
    "    \n",
    "    def es_aplicable(self, estado):\n",
    "        return estado == self.desde\n",
    "    \n",
    "    def aplicar(self, estado):\n",
    "        return self.hasta\n",
    "    \n",
    "#     def coste_de_aplicar(self, estado):\n",
    "#         return 1"
   ]
  },
  {
   "cell_type": "code",
   "execution_count": 5,
   "metadata": {},
   "outputs": [],
   "source": [
    "acciones = [Viajar_sin_coste(i, j, ciudades, distancias) \n",
    "            for i in range(len(ciudades)) \n",
    "            for j in range(len(ciudades)) if i != j and distancias[i][j] != 0]\n",
    "\n",
    "estado_inicial = ciudades.index('HU')\n",
    "estado_final = ciudades.index('AL')\n",
    "viaje_HU_AL_sin_coste = probee.ProblemaEspacioEstados(acciones, estado_inicial, [estado_final])"
   ]
  },
  {
   "cell_type": "markdown",
   "metadata": {},
   "source": [
    "Veamos las soluciones que obtenemos usando diferentes algoritmos de búsqueda no informada."
   ]
  },
  {
   "cell_type": "code",
   "execution_count": 6,
   "metadata": {},
   "outputs": [
    {
     "name": "stdout",
     "output_type": "stream",
     "text": [
      "Nodo: Estado: 4; Prof: 0\n",
      "  Nodo: Estado: 7; Prof: 1\n",
      "    Nodo: Estado: 6; Prof: 2\n",
      "      Nodo: Estado: 3; Prof: 3\n",
      "        Nodo: Estado: 5; Prof: 4\n",
      "        Nodo: Estado: 0; Prof: 4\n"
     ]
    },
    {
     "data": {
      "text/plain": [
       "['Viajar desde HU hasta SE. Distancia: 95',\n",
       " 'Viajar desde SE hasta MA. Distancia: 215',\n",
       " 'Viajar desde MA hasta GR. Distancia: 130',\n",
       " 'Viajar desde GR hasta AL. Distancia: 175']"
      ]
     },
     "execution_count": 6,
     "metadata": {},
     "output_type": "execute_result"
    }
   ],
   "source": [
    "b_profundidad = busqee.BusquedaEnProfundidad(detallado=True)\n",
    "b_profundidad.buscar(viaje_HU_AL_sin_coste)"
   ]
  },
  {
   "cell_type": "code",
   "execution_count": 7,
   "metadata": {},
   "outputs": [
    {
     "name": "stdout",
     "output_type": "stream",
     "text": [
      "Nodo: Estado: 4; Prof: 0\n",
      "  Nodo: Estado: 7; Prof: 1\n",
      "    Nodo: Estado: 1; Prof: 2\n",
      "    Nodo: Estado: 2; Prof: 2\n",
      "    Nodo: Estado: 6; Prof: 2\n",
      "      Nodo: Estado: 3; Prof: 3\n",
      "      Nodo: Estado: 5; Prof: 3\n",
      "        Nodo: Estado: 0; Prof: 4\n"
     ]
    },
    {
     "data": {
      "text/plain": [
       "['Viajar desde HU hasta SE. Distancia: 95',\n",
       " 'Viajar desde SE hasta CO. Distancia: 140',\n",
       " 'Viajar desde CO hasta GR. Distancia: 210',\n",
       " 'Viajar desde GR hasta AL. Distancia: 175']"
      ]
     },
     "execution_count": 7,
     "metadata": {},
     "output_type": "execute_result"
    }
   ],
   "source": [
    "b_anchura = busqee.BusquedaEnAnchura(detallado=True)\n",
    "b_anchura.buscar(viaje_HU_AL_sin_coste)"
   ]
  },
  {
   "cell_type": "code",
   "execution_count": 8,
   "metadata": {},
   "outputs": [
    {
     "name": "stdout",
     "output_type": "stream",
     "text": [
      "Nodo: Estado: 4; Prof: 0; Valoración: 0; Coste: 0\n",
      "  Nodo: Estado: 7; Prof: 1; Valoración: 1; Coste: 1\n",
      "    Nodo: Estado: 1; Prof: 2; Valoración: 2; Coste: 2\n",
      "    Nodo: Estado: 2; Prof: 2; Valoración: 2; Coste: 2\n",
      "    Nodo: Estado: 6; Prof: 2; Valoración: 2; Coste: 2\n",
      "      Nodo: Estado: 3; Prof: 3; Valoración: 3; Coste: 3\n",
      "      Nodo: Estado: 5; Prof: 3; Valoración: 3; Coste: 3\n",
      "        Nodo: Estado: 0; Prof: 4; Valoración: 4; Coste: 4\n"
     ]
    },
    {
     "data": {
      "text/plain": [
       "['Viajar desde HU hasta SE. Distancia: 95',\n",
       " 'Viajar desde SE hasta CO. Distancia: 140',\n",
       " 'Viajar desde CO hasta GR. Distancia: 210',\n",
       " 'Viajar desde GR hasta AL. Distancia: 175']"
      ]
     },
     "execution_count": 8,
     "metadata": {},
     "output_type": "execute_result"
    }
   ],
   "source": [
    "b_optima = busqee.BusquedaOptima(detallado=True)\n",
    "b_optima.buscar(viaje_HU_AL_sin_coste)"
   ]
  },
  {
   "cell_type": "markdown",
   "metadata": {},
   "source": [
    "#### Resultados (sin considerar distancias):\n",
    "- Búsqueda en profundidad:   \n",
    "    - **['HU', 'SE', 'MA', 'GR', 'AL'] 615 Km.**\n",
    "- Búsqueda en anchura:       \n",
    "    - **['HU', 'SE', 'CO', 'GR', 'AL'] 620 Km.**\n",
    "- Búsqueda Óptima:           \n",
    "    - **['HU', 'SE', 'CO', 'GR', 'AL'] 620 Km.**\n",
    "\n",
    "¿Por qué ha obtenido la búsqueda en profundidad mejor resultado?"
   ]
  },
  {
   "cell_type": "markdown",
   "metadata": {},
   "source": [
    "### Acciónes considerarando distancias entre ciudades."
   ]
  },
  {
   "cell_type": "code",
   "execution_count": 9,
   "metadata": {},
   "outputs": [],
   "source": [
    "class Viajar_con_coste(probee.Accion):\n",
    "    def __init__(self, desde, hasta, ciudades, distancias):\n",
    "        super().__init__(\"Viajar desde {} hasta {}. Distancia: {}\".format(ciudades[desde], ciudades[hasta], distancias[desde][hasta]))\n",
    "        self.desde = desde\n",
    "        self.hasta= hasta\n",
    "        self.ciudades = ciudades\n",
    "        self.distancia = distancias[desde][hasta]\n",
    "    \n",
    "    def es_aplicable(self, estado):\n",
    "        return estado == self.desde\n",
    "    \n",
    "    def aplicar(self, estado):\n",
    "        return self.hasta\n",
    "    \n",
    "    def coste_de_aplicar(self, estado):\n",
    "        return self.distancia"
   ]
  },
  {
   "cell_type": "code",
   "execution_count": 10,
   "metadata": {},
   "outputs": [],
   "source": [
    "acciones = [Viajar_con_coste(i, j, ciudades, distancias) \n",
    "            for i in range(len(ciudades)) \n",
    "            for j in range(len(ciudades)) if i != j and distancias[i][j] != 0]\n",
    "\n",
    "estado_inicial = ciudades.index('HU')\n",
    "estado_final = ciudades.index('AL')\n",
    "viaje_HU_AL_con_coste = probee.ProblemaEspacioEstados(acciones, estado_inicial, [estado_final])"
   ]
  },
  {
   "cell_type": "markdown",
   "metadata": {},
   "source": [
    "Veamos las soluciones que obtenemos usando diferentes algoritmos de búsqueda no informada."
   ]
  },
  {
   "cell_type": "code",
   "execution_count": 11,
   "metadata": {},
   "outputs": [
    {
     "name": "stdout",
     "output_type": "stream",
     "text": [
      "Nodo: Estado: 4; Prof: 0\n",
      "  Nodo: Estado: 7; Prof: 1\n",
      "    Nodo: Estado: 6; Prof: 2\n",
      "      Nodo: Estado: 3; Prof: 3\n",
      "        Nodo: Estado: 5; Prof: 4\n",
      "        Nodo: Estado: 0; Prof: 4\n"
     ]
    },
    {
     "data": {
      "text/plain": [
       "['Viajar desde HU hasta SE. Distancia: 95',\n",
       " 'Viajar desde SE hasta MA. Distancia: 215',\n",
       " 'Viajar desde MA hasta GR. Distancia: 130',\n",
       " 'Viajar desde GR hasta AL. Distancia: 175']"
      ]
     },
     "execution_count": 11,
     "metadata": {},
     "output_type": "execute_result"
    }
   ],
   "source": [
    "b_profundidad = busqee.BusquedaEnProfundidad(detallado=True)\n",
    "b_profundidad.buscar(viaje_HU_AL_con_coste)"
   ]
  },
  {
   "cell_type": "code",
   "execution_count": 12,
   "metadata": {},
   "outputs": [
    {
     "name": "stdout",
     "output_type": "stream",
     "text": [
      "Nodo: Estado: 4; Prof: 0\n",
      "  Nodo: Estado: 7; Prof: 1\n",
      "    Nodo: Estado: 1; Prof: 2\n",
      "    Nodo: Estado: 2; Prof: 2\n",
      "    Nodo: Estado: 6; Prof: 2\n",
      "      Nodo: Estado: 3; Prof: 3\n",
      "      Nodo: Estado: 5; Prof: 3\n",
      "        Nodo: Estado: 0; Prof: 4\n"
     ]
    },
    {
     "data": {
      "text/plain": [
       "['Viajar desde HU hasta SE. Distancia: 95',\n",
       " 'Viajar desde SE hasta CO. Distancia: 140',\n",
       " 'Viajar desde CO hasta GR. Distancia: 210',\n",
       " 'Viajar desde GR hasta AL. Distancia: 175']"
      ]
     },
     "execution_count": 12,
     "metadata": {},
     "output_type": "execute_result"
    }
   ],
   "source": [
    "b_anchura = busqee.BusquedaEnAnchura(detallado=True)\n",
    "b_anchura.buscar(viaje_HU_AL_con_coste)"
   ]
  },
  {
   "cell_type": "code",
   "execution_count": 13,
   "metadata": {},
   "outputs": [
    {
     "name": "stdout",
     "output_type": "stream",
     "text": [
      "Nodo: Estado: 4; Prof: 0; Valoración: 0; Coste: 0\n",
      "  Nodo: Estado: 7; Prof: 1; Valoración: 95; Coste: 95\n",
      "    Nodo: Estado: 1; Prof: 2; Valoración: 220; Coste: 220\n",
      "    Nodo: Estado: 2; Prof: 2; Valoración: 235; Coste: 235\n",
      "    Nodo: Estado: 6; Prof: 2; Valoración: 310; Coste: 310\n",
      "      Nodo: Estado: 5; Prof: 3; Valoración: 345; Coste: 345\n",
      "      Nodo: Estado: 3; Prof: 3; Valoración: 440; Coste: 440\n",
      "      Nodo: Estado: 3; Prof: 3; Valoración: 445; Coste: 445\n",
      "        Nodo: Estado: 0; Prof: 4; Valoración: 580; Coste: 580\n"
     ]
    },
    {
     "data": {
      "text/plain": [
       "['Viajar desde HU hasta SE. Distancia: 95',\n",
       " 'Viajar desde SE hasta CO. Distancia: 140',\n",
       " 'Viajar desde CO hasta JA. Distancia: 110',\n",
       " 'Viajar desde JA hasta AL. Distancia: 235']"
      ]
     },
     "execution_count": 13,
     "metadata": {},
     "output_type": "execute_result"
    }
   ],
   "source": [
    "b_optima = busqee.BusquedaOptima(detallado=True)\n",
    "b_optima.buscar(viaje_HU_AL_con_coste)"
   ]
  },
  {
   "cell_type": "markdown",
   "metadata": {},
   "source": [
    "#### Resultados (considerando distancias):\n",
    "- Búsqueda en profundidad:   \n",
    "    - **['HU', 'SE', 'MA', 'GR', 'AL'] 615 Km.**\n",
    "- Búsqueda en anchura:       \n",
    "    - **['HU', 'SE', 'CO', 'GR', 'AL'] 620 Km.**\n",
    "- Búsqueda Óptima:           \n",
    "    - **['HU', 'SE', 'CO', 'JA', 'AL'] 580 Km.**\n",
    "    \n",
    "Como podemos observar, la búsqueda óptima ha obtenido una solución mejor."
   ]
  }
 ],
 "metadata": {
  "anaconda-cloud": {},
  "kernelspec": {
   "display_name": "Python 3",
   "language": "python",
   "name": "python3"
  },
  "language_info": {
   "codemirror_mode": {
    "name": "ipython",
    "version": 3
   },
   "file_extension": ".py",
   "mimetype": "text/x-python",
   "name": "python",
   "nbconvert_exporter": "python",
   "pygments_lexer": "ipython3",
   "version": "3.8.3"
  }
 },
 "nbformat": 4,
 "nbformat_minor": 2
}
