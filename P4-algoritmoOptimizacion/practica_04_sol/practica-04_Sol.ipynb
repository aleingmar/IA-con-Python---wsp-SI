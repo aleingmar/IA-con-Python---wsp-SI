{
 "cells": [
  {
   "cell_type": "markdown",
   "metadata": {
    "ein.tags": [
     "worksheet-0"
    ],
    "slideshow": {
     "slide_type": "-"
    }
   },
   "source": [
    "# El problema de las tarjetas numeradas"
   ]
  },
  {
   "cell_type": "markdown",
   "metadata": {
    "ein.tags": [
     "worksheet-0"
    ],
    "slideshow": {
     "slide_type": "-"
    }
   },
   "source": [
    "Problema 4 del boletín: Se tienen diez tarjetas, numeradas de 1 a 10. El problema consiste en disponer esas tarjetas en dos pilas, $P_1$ y $P_2$, de tal forma que la suma de los números de las tarjetas en $P_1$ sea lo más próxima posible a 36 y el producto de los números de las tarjetas en $P_2$ sea los más próximo posible a 360."
   ]
  },
  {
   "cell_type": "markdown",
   "metadata": {
    "ein.tags": [
     "worksheet-0"
    ],
    "slideshow": {
     "slide_type": "-"
    }
   },
   "source": [
    "Para resolver el problema mediante algoritmos genéticos definimos los parámetros necesarios de la siguiente manera:\n",
    "* Los genes son 0 y 1.\n",
    "* Los individuos son cromosomas de longitud 10.\n",
    "* Cada individuo representa la solución en la que la tarjeta $i$-ésima va a la pila $P_1$ si el gen $i$-ésimo es 0 y a la pila $P_2$ si es 1.\n",
    "* La evaluación del fenotipo de cada individuo es la diferencia en valor absoluto de la suma de las tarjetas en la pila $P_1$ con respecto a 36, más la diferencia en valor absoluto del producto de las tarjetas en $P_2$ con respecto a 360.\n",
    "\n",
    "Se trata entonces de un problema de minimización, donde la solución perfecta sería la evaluada con 0."
   ]
  },
  {
   "cell_type": "markdown",
   "metadata": {
    "tags": []
   },
   "source": [
    "## Paquete DEAP\n",
    "\n",
    "El paquete de _Python_ [DEAP](https://deap.readthedocs.io/en/master/) proporciona un marco de trabajo para la computación evolutiva, en particular los algoritmos genéticos.\n",
    "\n",
    "Es necesario instalar el paquete deap para realizar la práctica:"
   ]
  },
  {
   "cell_type": "code",
   "execution_count": 1,
   "metadata": {},
   "outputs": [],
   "source": [
    "# Sólo si la importación de los módulos que se indica a continuación falla. \n",
    "# Puede ser necesario reiniciar el kernel a continuación.\n",
    "# !pip install deap"
   ]
  },
  {
   "cell_type": "markdown",
   "metadata": {},
   "source": [
    "Si la instrucción anterior produce un error, probablemente sea un problema de permisos. En este caso, prueba la siguiente instrucción:"
   ]
  },
  {
   "cell_type": "code",
   "execution_count": 2,
   "metadata": {
    "scrolled": true
   },
   "outputs": [],
   "source": [
    "# !pip install --user deap"
   ]
  },
  {
   "cell_type": "markdown",
   "metadata": {},
   "source": [
    "**Importante:** Para que los cambios tengan efecto, debes reiniciar el kernel (menu Kernel > Restart), o en su defecto, cerrar completamente Anaconda y volver a abrirlo. No es suficiente con cerrar y abrir el notebook. Para comprobar que todo está correcto, ejecuta la siguiente viñeta para cargar la librería. Si no recibes ningún error es que el paquete DEAP ha sido instalado correctamente."
   ]
  },
  {
   "cell_type": "markdown",
   "metadata": {
    "ein.tags": [
     "worksheet-0"
    ],
    "slideshow": {
     "slide_type": "-"
    }
   },
   "source": [
    "En primer lugar, importamos los módulos necesarios:"
   ]
  },
  {
   "cell_type": "code",
   "execution_count": 3,
   "metadata": {
    "autoscroll": "json-false",
    "ein.tags": [
     "worksheet-0"
    ],
    "slideshow": {
     "slide_type": "-"
    },
    "tags": []
   },
   "outputs": [],
   "source": [
    "import random\n",
    "from deap import base, creator, tools, algorithms\n",
    "import numpy"
   ]
  },
  {
   "cell_type": "markdown",
   "metadata": {
    "ein.tags": [
     "worksheet-0"
    ],
    "slideshow": {
     "slide_type": "-"
    }
   },
   "source": [
    "En la literatura acerca de los algoritmos genéticos podemos encontrar multitud de maneras de representar los individuos. Debido a ello, el paquete DEAP no proporciona representaciones concretas, sino que implementa un mecanismo general para declararlas. Para atenernos a la representación de un individuo como una secuencia de genes considerada en clase, declararemos una clase `individuoTarjetas` que herede del tipo _list_ de _Python_."
   ]
  },
  {
   "cell_type": "markdown",
   "metadata": {
    "ein.tags": [
     "worksheet-0"
    ],
    "slideshow": {
     "slide_type": "-"
    }
   },
   "source": [
    "Todo individuo debe tener un atributo `fitness` que guarde su evaluación. Hay que tener en cuenta no obstante que el paquete DEAP trata a la optimización uniobjetivo, en la que a cada individuo se le asocia un único valor de _fitness_, como un caso particular de optimización multiobjetivo, en la que a cada individuo se le asocian varios valores de _fitness_, con un determinado peso cada uno. Es por ello que el valor que se guarde en el atributo `fitness` de cada individuo será una tupla con el valor de cada función _fitness_ multiplicado por el peso asociado."
   ]
  },
  {
   "cell_type": "markdown",
   "metadata": {
    "ein.tags": [
     "worksheet-0"
    ],
    "slideshow": {
     "slide_type": "-"
    }
   },
   "source": [
    "Por tanto, para representar las evaluaciones de los individuos deberemos declarar una clase que herede de la clase `base.Fitness` (que se encargará de automatizar el producto de los valores por los pesos) y en la que establezcamos en el atributo `weights` una tupla con los valores de los pesos, como números reales. En el caso de la optimización uniobjetivo, que es la considerada en clase, trabajaríamos con tuplas de longitud 1. Debe tenerse en cuenta que los algoritmos implementados en el paquete DEAP tratan de encontrar el individuo con evaluación máxima, por lo que para un problema de maximización bastaría usar la tupla `(1.0,)` como valor para el atributo `weights`. Para un problema de minimización habría que modificar la función *fitness*, aunque para simplemente cambiarle el signo bastaría usar la tupla `(-1.0,)` como valor para el atributo `weights`."
   ]
  },
  {
   "cell_type": "markdown",
   "metadata": {
    "ein.tags": [
     "worksheet-0"
    ],
    "slideshow": {
     "slide_type": "-"
    }
   },
   "source": [
    "Por último, el paquete DEAP implementa un mecanismo, a través de la función `creator.create`, para declarar una clase de objetos que herede de la clase base especificada y tenga los valores indicados para los atributos especificados. Esas clases se crearían dentro del módulo `creator`."
   ]
  },
  {
   "cell_type": "markdown",
   "metadata": {
    "ein.tags": [
     "worksheet-0"
    ],
    "slideshow": {
     "slide_type": "-"
    }
   },
   "source": [
    "Declaramos la clase `criterioTarjetas` en el módulo `creator` con la siguiente expresión:"
   ]
  },
  {
   "cell_type": "code",
   "execution_count": 4,
   "metadata": {
    "autoscroll": "json-false",
    "ein.tags": [
     "worksheet-0"
    ],
    "slideshow": {
     "slide_type": "-"
    },
    "tags": []
   },
   "outputs": [],
   "source": [
    "creator.create('criterioTarjetas', base.Fitness, weights=(-1.0,))"
   ]
  },
  {
   "cell_type": "markdown",
   "metadata": {
    "ein.tags": [
     "worksheet-0"
    ],
    "slideshow": {
     "slide_type": "-"
    }
   },
   "source": [
    "A continuación declaramos la clase `individuoTarjetas` en el módulo `creator`, usando como valor para el atributo `fitness` un objeto de la clase `criterioTrajetas`, con la siguiente expresión:"
   ]
  },
  {
   "cell_type": "code",
   "execution_count": 5,
   "metadata": {
    "autoscroll": "json-false",
    "ein.tags": [
     "worksheet-0"
    ],
    "slideshow": {
     "slide_type": "-"
    },
    "tags": []
   },
   "outputs": [],
   "source": [
    "creator.create('individuoTarjetas', list, fitness = creator.criterioTarjetas)"
   ]
  },
  {
   "cell_type": "markdown",
   "metadata": {
    "ein.tags": [
     "worksheet-0"
    ],
    "slideshow": {
     "slide_type": "-"
    }
   },
   "source": [
    "Ahora debemos crear una _caja de herramientas_ (_toolbox_) en la que registremos todos los elementos necesarios para poder aplicar un algoritmo genético."
   ]
  },
  {
   "cell_type": "code",
   "execution_count": 6,
   "metadata": {
    "autoscroll": "json-false",
    "ein.tags": [
     "worksheet-0"
    ],
    "slideshow": {
     "slide_type": "-"
    },
    "tags": []
   },
   "outputs": [],
   "source": [
    "cajaTarjetas = base.Toolbox()"
   ]
  },
  {
   "cell_type": "markdown",
   "metadata": {
    "ein.tags": [
     "worksheet-0"
    ],
    "slideshow": {
     "slide_type": "-"
    }
   },
   "source": [
    "El método `register` de la caja de herramientas permite registrar funciones, dándole un nombre y estableciendo unos valores por defecto de los argumentos."
   ]
  },
  {
   "cell_type": "markdown",
   "metadata": {
    "ein.tags": [
     "worksheet-0"
    ],
    "slideshow": {
     "slide_type": "-"
    }
   },
   "source": [
    "En primer lugar registramos una función `genTarjetas` que devuelve un 0 o un 1 de manera aleatoria."
   ]
  },
  {
   "cell_type": "code",
   "execution_count": 7,
   "metadata": {
    "autoscroll": "json-false",
    "ein.tags": [
     "worksheet-0"
    ],
    "slideshow": {
     "slide_type": "-"
    },
    "tags": []
   },
   "outputs": [],
   "source": [
    "cajaTarjetas.register('genTarjetas', random.randint, 0, 1)"
   ]
  },
  {
   "cell_type": "code",
   "execution_count": 8,
   "metadata": {
    "autoscroll": "json-false",
    "ein.tags": [
     "worksheet-0"
    ],
    "slideshow": {
     "slide_type": "-"
    },
    "tags": []
   },
   "outputs": [
    {
     "name": "stdout",
     "output_type": "stream",
     "text": [
      "1\n",
      "0\n",
      "1\n",
      "1\n",
      "0\n"
     ]
    }
   ],
   "source": [
    "random.seed(12345)  # Semilla para el mecanismo de generación de números aleatorios\n",
    "for _ in range(5):\n",
    "    print(cajaTarjetas.genTarjetas())"
   ]
  },
  {
   "cell_type": "markdown",
   "metadata": {
    "ein.tags": [
     "worksheet-0"
    ],
    "slideshow": {
     "slide_type": "-"
    }
   },
   "source": [
    "Para generar un individuo debemos generar 10 genes de manera aleatoria. La función `initRepeat` del módulo `tools` aplicada a los argumentos `container`, `func` y `n` guarda en el contenedor `container` los resultados obtenidos al aplicar `n` veces la función `func`. Podemos entonces registrar de la siguiente manera en la caja de herramientas una función `generaIndTarjetas` que devuelve un individuo aleatorio."
   ]
  },
  {
   "cell_type": "code",
   "execution_count": 9,
   "metadata": {
    "autoscroll": "json-false",
    "ein.tags": [
     "worksheet-0"
    ],
    "slideshow": {
     "slide_type": "-"
    },
    "tags": []
   },
   "outputs": [],
   "source": [
    "cajaTarjetas.register('generaIndTarjetas', tools.initRepeat, \n",
    "                      container = creator.individuoTarjetas, \n",
    "                      func = cajaTarjetas.genTarjetas, \n",
    "                      n = 10)"
   ]
  },
  {
   "cell_type": "code",
   "execution_count": 10,
   "metadata": {
    "autoscroll": "json-false",
    "ein.tags": [
     "worksheet-0"
    ],
    "slideshow": {
     "slide_type": "-"
    }
   },
   "outputs": [
    {
     "data": {
      "text/plain": [
       "[1, 0, 1, 1, 0, 1, 1, 0, 1, 0]"
      ]
     },
     "execution_count": 10,
     "metadata": {},
     "output_type": "execute_result"
    }
   ],
   "source": [
    "random.seed(12345)\n",
    "cajaTarjetas.generaIndTarjetas()"
   ]
  },
  {
   "cell_type": "markdown",
   "metadata": {
    "ein.tags": [
     "worksheet-0"
    ],
    "slideshow": {
     "slide_type": "-"
    }
   },
   "source": [
    "Consideraremos una población como una lista de 10 individuos. Haciendo uso de nuevo de la función `initRepeat` podemos registrar en la caja de herramientas una función `generaPobTarjetas` que devuelve una población aleatoria."
   ]
  },
  {
   "cell_type": "code",
   "execution_count": 11,
   "metadata": {
    "autoscroll": "json-false",
    "ein.tags": [
     "worksheet-0"
    ],
    "slideshow": {
     "slide_type": "-"
    }
   },
   "outputs": [],
   "source": [
    "cajaTarjetas.register('generaPobTarjetas', tools.initRepeat,\n",
    "                      container = list, \n",
    "                      func = cajaTarjetas.generaIndTarjetas, \n",
    "                      n = 10)"
   ]
  },
  {
   "cell_type": "code",
   "execution_count": 12,
   "metadata": {
    "autoscroll": "json-false",
    "ein.tags": [
     "worksheet-0"
    ],
    "slideshow": {
     "slide_type": "-"
    }
   },
   "outputs": [
    {
     "data": {
      "text/plain": [
       "[[1, 0, 1, 1, 0, 1, 1, 0, 1, 0],\n",
       " [1, 1, 0, 0, 1, 0, 1, 0, 0, 0],\n",
       " [0, 0, 1, 1, 0, 1, 1, 0, 1, 0],\n",
       " [0, 0, 0, 1, 0, 1, 0, 0, 1, 0],\n",
       " [1, 0, 0, 0, 1, 0, 0, 1, 1, 0],\n",
       " [0, 0, 1, 0, 0, 0, 1, 1, 0, 1],\n",
       " [1, 0, 0, 0, 1, 0, 1, 0, 0, 1],\n",
       " [0, 0, 1, 0, 0, 1, 1, 1, 0, 1],\n",
       " [0, 0, 0, 1, 0, 1, 0, 0, 0, 0],\n",
       " [1, 0, 0, 0, 0, 0, 1, 0, 0, 1]]"
      ]
     },
     "execution_count": 12,
     "metadata": {},
     "output_type": "execute_result"
    }
   ],
   "source": [
    "random.seed(12345)\n",
    "cajaTarjetas.generaPobTarjetas()"
   ]
  },
  {
   "cell_type": "markdown",
   "metadata": {
    "ein.tags": [
     "worksheet-0"
    ],
    "slideshow": {
     "slide_type": "-"
    }
   },
   "source": [
    "A continuación registramos la función que permite evaluar el fenotipo de cada individuo. __La función debe devolver una tupla y los algoritmos genéticos implementados en el paquete DEAP esperan que esté registrada con el nombre__ `evaluate`."
   ]
  },
  {
   "cell_type": "code",
   "execution_count": 13,
   "metadata": {},
   "outputs": [],
   "source": [
    "def fenotipoIndTarjetas(individuo):\n",
    "    P1 = []\n",
    "    P2 = []\n",
    "    for i in range(10):\n",
    "        if individuo[i] == 0:\n",
    "            P1.append(i + 1)\n",
    "        else:\n",
    "            P2.append(i + 1)\n",
    "    return (P1, P2)\n",
    "\n",
    "def evaluaIndTarjetas(individuo):\n",
    "    P1, P2 = fenotipoIndTarjetas(individuo)\n",
    "    return (abs(sum(P1) - 36) + abs(numpy.prod(P2) - 360),)\n",
    "\n",
    "cajaTarjetas.register('evaluate', evaluaIndTarjetas)"
   ]
  },
  {
   "cell_type": "code",
   "execution_count": 14,
   "metadata": {
    "autoscroll": "json-false",
    "ein.tags": [
     "worksheet-0"
    ],
    "slideshow": {
     "slide_type": "-"
    }
   },
   "outputs": [
    {
     "data": {
      "text/plain": [
       "([4, 5, 7, 9], [1, 2, 3, 6, 8, 10])"
      ]
     },
     "execution_count": 14,
     "metadata": {},
     "output_type": "execute_result"
    }
   ],
   "source": [
    "fenotipoIndTarjetas([1, 1, 1, 0, 0, 1, 0, 1, 0, 1])"
   ]
  },
  {
   "cell_type": "code",
   "execution_count": 15,
   "metadata": {
    "autoscroll": "json-false",
    "ein.tags": [
     "worksheet-0"
    ],
    "slideshow": {
     "slide_type": "-"
    }
   },
   "outputs": [
    {
     "data": {
      "text/plain": [
       "(2531,)"
      ]
     },
     "execution_count": 15,
     "metadata": {},
     "output_type": "execute_result"
    }
   ],
   "source": [
    "cajaTarjetas.evaluate([1, 1, 1, 0, 0, 1, 0, 1, 0, 1])"
   ]
  },
  {
   "cell_type": "markdown",
   "metadata": {},
   "source": [
    "**Pregunta:** ¿Cómo podríamos convertir este problema de minimización en uno de maximización?"
   ]
  },
  {
   "cell_type": "markdown",
   "metadata": {
    "ein.tags": [
     "worksheet-0"
    ],
    "slideshow": {
     "slide_type": "-"
    }
   },
   "source": [
    "Una vez registradas todas las funciones relativas a los individuos, pasamos a registrar los operadores que utilizaremos en el algoritmo genético. El paquete DEAP proporciona implementaciones de muchos operadores habituales (véase https://deap.readthedocs.io/en/master/api/tools.html#operators), entre ellos el cruce en un punto (función `cxOnePoint` del módulo `tools`) y la mutación de cadenas de bits (función `mutFlipBit` del módulo `tools`). __Los algoritmos genéticos implementados en el paquete DEAP esperan que el operador de cruce esté registrado con el nombre__ `mate` __y el operador de mutación con el nombre__ `mutate`."
   ]
  },
  {
   "cell_type": "code",
   "execution_count": 16,
   "metadata": {
    "autoscroll": "json-false",
    "ein.tags": [
     "worksheet-0"
    ],
    "slideshow": {
     "slide_type": "-"
    }
   },
   "outputs": [],
   "source": [
    "cajaTarjetas.register('mate', tools.cxOnePoint)\n",
    "cajaTarjetas.register('mutate', tools.mutFlipBit, indpb = 0.1)"
   ]
  },
  {
   "cell_type": "markdown",
   "metadata": {},
   "source": [
    "El parámetro `indpb` indica la probabilidad de que un gen mute. Si por ejemplo, tenemos 10 genes y `indpb=0.3`, se modificarán, en promedio, 3 genes."
   ]
  },
  {
   "cell_type": "code",
   "execution_count": 17,
   "metadata": {
    "autoscroll": "json-false",
    "ein.tags": [
     "worksheet-0"
    ],
    "slideshow": {
     "slide_type": "-"
    }
   },
   "outputs": [
    {
     "data": {
      "text/plain": [
       "([1, 1, 1, 1, 1, 0, 0, 1, 1, 1], [0, 0, 0, 0, 0, 1, 1, 0, 0, 0])"
      ]
     },
     "execution_count": 17,
     "metadata": {},
     "output_type": "execute_result"
    }
   ],
   "source": [
    "random.seed(12345)\n",
    "cajaTarjetas.mate([1, 1, 1, 1, 1, 0, 0, 0, 0, 0], [0, 0, 0, 0, 0, 1, 1, 1, 1, 1])"
   ]
  },
  {
   "cell_type": "code",
   "execution_count": 18,
   "metadata": {
    "autoscroll": "json-false",
    "ein.tags": [
     "worksheet-0"
    ],
    "slideshow": {
     "slide_type": "-"
    }
   },
   "outputs": [
    {
     "data": {
      "text/plain": [
       "([0, 1, 0, 0, 0, 0, 0, 0, 0, 0],)"
      ]
     },
     "execution_count": 18,
     "metadata": {},
     "output_type": "execute_result"
    }
   ],
   "source": [
    "random.seed(12345)\n",
    "cajaTarjetas.mutate([0, 0, 0, 0, 0, 0, 0, 0, 0, 0])"
   ]
  },
  {
   "cell_type": "markdown",
   "metadata": {
    "ein.tags": [
     "worksheet-0"
    ],
    "slideshow": {
     "slide_type": "-"
    }
   },
   "source": [
    "Finalmente, como método de selección de individuos registramos en la caja de herramientas el método de selección por torneo, en el que para seleccionar un individuo se elige al azar una cierta cantidad de individuos y de entre ellos se selecciona el más apto. Este método está implementado en la función `selTournament` del módulo `tools`. __Los algoritmos genéticos implementados en el paquete DEAP esperan que el método de selección esté registrado con el nombre__ `select`.\n",
    "\n",
    "__Nota__: la función _fitness_ que hemos definido es no negativa y, para transformar este problema de minimización en un problema de maximización, sus valores se ven luego multiplicados por el peso `-1.0` que establecimos en la clase `criterioTarjetas`. Por lo tanto, no es posible usar por esta vía el método de selección por ruleta aleatoria, ya que todos los valores con los que se trabaja finalmente son negativos. En caso de querer usar este método, habría que modificar la función _fitness_ como se explicó en el tema y usar `1.0` como peso."
   ]
  },
  {
   "cell_type": "code",
   "execution_count": 19,
   "metadata": {
    "autoscroll": "json-false",
    "ein.tags": [
     "worksheet-0"
    ],
    "slideshow": {
     "slide_type": "-"
    }
   },
   "outputs": [],
   "source": [
    "cajaTarjetas.register('select', tools.selTournament, tournsize=3)"
   ]
  },
  {
   "cell_type": "code",
   "execution_count": 20,
   "metadata": {
    "autoscroll": "json-false",
    "ein.tags": [
     "worksheet-0"
    ],
    "slideshow": {
     "slide_type": "-"
    }
   },
   "outputs": [
    {
     "data": {
      "text/plain": [
       "[[0, 0, 0, 1, 0, 1, 0, 0, 0, 0],\n",
       " [0, 0, 1, 0, 0, 1, 1, 1, 0, 1],\n",
       " [0, 0, 0, 1, 0, 1, 0, 0, 1, 0],\n",
       " [0, 0, 1, 0, 0, 0, 1, 1, 0, 1],\n",
       " [1, 0, 0, 0, 1, 0, 1, 0, 0, 1]]"
      ]
     },
     "execution_count": 20,
     "metadata": {},
     "output_type": "execute_result"
    }
   ],
   "source": [
    "random.seed(12345)\n",
    "P = cajaTarjetas.generaPobTarjetas()\n",
    "cajaTarjetas.select(P, 5)"
   ]
  },
  {
   "cell_type": "markdown",
   "metadata": {
    "ein.tags": [
     "worksheet-0"
    ],
    "slideshow": {
     "slide_type": "-"
    }
   },
   "source": [
    "Estamos ya en condiciones de resolver el problema planteado mediante un algoritmo genético. Este puede ser uno implementado _ad hoc_ por nosotros, o puede ser uno de los ya implementados en el paquete DEAP (véase http://deap.readthedocs.org/en/1.0.x/api/algo.html)."
   ]
  },
  {
   "cell_type": "markdown",
   "metadata": {
    "ein.tags": [
     "worksheet-0"
    ],
    "slideshow": {
     "slide_type": "-"
    }
   },
   "source": [
    "Por ejemplo, la función `eaSimple` del módulo `algorithms` implementa el siguiente algoritmo genético:\n",
    "1. Evaluar los individuos de la población inicial.\n",
    "2. Repetir para el número de generaciones especificado:\n",
    "  1. Aplicar el procedimiento de selección para reemplazar a la población por completo.\n",
    "  2. Para cada par de individuos $x_{i}$ y $x_{i+1}$, cruzarlos con la probabilidad especificada, siendo reemplazados por sus hijos en caso de que sí se crucen.\n",
    "  3. Para cada individuo, mutarlo con la probabilidad especificada, siendo reemplazado por el nuevo individuo en caso de que sí mute.\n",
    "  4. Evaluar los individuos de la nueva población.\n",
    "\n",
    "__Nota de implementación__: el _fitness_ de los individuos que permanecen de una generación a la siguiente no se reevalúa. El resultado devuelto por el algoritmo es una tupla con la población final y un registro indicando para cada generación a cuántos individuos nuevos ha debido calcularse su _fitness_."
   ]
  },
  {
   "cell_type": "code",
   "execution_count": 21,
   "metadata": {},
   "outputs": [
    {
     "name": "stdout",
     "output_type": "stream",
     "text": [
      "[0, 0, 0, 0, 1, 0, 1, 0, 0, 1] ([1, 2, 3, 4, 6, 8, 9], [5, 7, 10]) (13,)\n",
      "[1, 0, 0, 0, 0, 1, 1, 0, 0, 1] ([2, 3, 4, 5, 8, 9], [1, 6, 7, 10]) (65,)\n",
      "[0, 0, 0, 0, 1, 0, 1, 1, 0, 1] ([1, 2, 3, 4, 6, 9], [5, 7, 8, 10]) (2451,)\n",
      "[0, 0, 0, 0, 1, 0, 1, 0, 0, 1] ([1, 2, 3, 4, 6, 8, 9], [5, 7, 10]) (13,)\n",
      "[0, 0, 0, 0, 1, 0, 1, 0, 0, 1] ([1, 2, 3, 4, 6, 8, 9], [5, 7, 10]) (13,)\n",
      "[0, 1, 0, 0, 1, 0, 1, 0, 0, 0] ([1, 3, 4, 6, 8, 9, 10], [2, 5, 7]) (295,)\n",
      "[0, 0, 0, 0, 1, 0, 1, 0, 0, 1] ([1, 2, 3, 4, 6, 8, 9], [5, 7, 10]) (13,)\n",
      "[0, 0, 0, 0, 1, 0, 1, 0, 0, 1] ([1, 2, 3, 4, 6, 8, 9], [5, 7, 10]) (13,)\n",
      "[0, 0, 0, 0, 1, 0, 1, 0, 0, 1] ([1, 2, 3, 4, 6, 8, 9], [5, 7, 10]) (13,)\n",
      "[1, 0, 0, 1, 1, 1, 1, 0, 0, 1] ([2, 3, 8, 9], [1, 4, 5, 6, 7, 10]) (8054,)\n",
      "gen\tnevals\n",
      "0  \t10    \n",
      "1  \t8     \n",
      "2  \t8     \n",
      "3  \t6     \n",
      "4  \t5     \n",
      "5  \t8     \n",
      "6  \t5     \n",
      "7  \t7     \n",
      "8  \t7     \n",
      "9  \t4     \n",
      "10 \t8     \n",
      "11 \t5     \n",
      "12 \t8     \n",
      "13 \t8     \n",
      "14 \t5     \n",
      "15 \t8     \n",
      "16 \t6     \n",
      "17 \t5     \n",
      "18 \t4     \n",
      "19 \t4     \n",
      "20 \t7     \n"
     ]
    }
   ],
   "source": [
    "random.seed(12345)\n",
    "pobInicial = cajaTarjetas.generaPobTarjetas()\n",
    "pobFinal, registro = algorithms.eaSimple(pobInicial, cajaTarjetas, \n",
    "                                         cxpb = 0.5,  # Probabilidad de cruzamiento\n",
    "                                         mutpb = 0.3,  # Probabilidad de mutación\n",
    "                                         ngen = 20,  # Número de generaciones\n",
    "                                         verbose = False)\n",
    "\n",
    "for individuo in pobFinal:\n",
    "    print(individuo, fenotipoIndTarjetas(individuo), cajaTarjetas.evaluate(individuo))\n",
    "\n",
    "print(registro)"
   ]
  },
  {
   "cell_type": "markdown",
   "metadata": {
    "ein.tags": [
     "worksheet-0"
    ],
    "slideshow": {
     "slide_type": "-"
    }
   },
   "source": [
    "Todas las funciones del paquete DEAP que implementan algoritmos genéticos admiten el cálculo de estadísticas y un _salón de la fama_ con los mejores individuos que hayan aparecido a lo largo de la evolución de la población."
   ]
  },
  {
   "cell_type": "code",
   "execution_count": 22,
   "metadata": {
    "autoscroll": "json-false",
    "ein.tags": [
     "worksheet-0"
    ],
    "slideshow": {
     "slide_type": "-"
    }
   },
   "outputs": [],
   "source": [
    "# Estadísticas sobre el fitness de los individuos: mínimo, media y máximo\n",
    "# Nota: usamos para ello las funciones correspondientes de numpy, porque los\n",
    "# valores de fitness están guardados en tuplas\n",
    "estadísticas = tools.Statistics(lambda ind: ind.fitness.values)\n",
    "estadísticas.register(\"mínimo\", numpy.min)\n",
    "estadísticas.register(\"media\", numpy.mean)\n",
    "estadísticas.register(\"máximo\", numpy.max)\n",
    "\n",
    "# Salón de la fama para recopilar los tres mejores individuos de todas las generaciones\n",
    "salón_fama = tools.HallOfFame(3)"
   ]
  },
  {
   "cell_type": "code",
   "execution_count": 23,
   "metadata": {
    "autoscroll": "json-false",
    "ein.tags": [
     "worksheet-0"
    ],
    "slideshow": {
     "slide_type": "-"
    }
   },
   "outputs": [
    {
     "name": "stdout",
     "output_type": "stream",
     "text": [
      "gen\tnevals\tmínimo\tmedia \tmáximo\n",
      "0  \t10    \t4     \t2052.9\t9735  \n",
      "1  \t8     \t14    \t2264.8\t18559 \n",
      "2  \t8     \t13    \t388.6 \t2803  \n",
      "3  \t6     \t13    \t122   \t1048  \n",
      "4  \t5     \t13    \t65.6  \t346   \n",
      "5  \t8     \t13    \t255.2 \t1749  \n",
      "6  \t5     \t13    \t6725.7\t66861 \n",
      "7  \t7     \t13    \t216.8 \t1750  \n",
      "8  \t7     \t13    \t41.1  \t292   \n",
      "9  \t4     \t13    \t152.1 \t1047  \n",
      "10 \t8     \t13    \t251.8 \t1048  \n",
      "11 \t5     \t13    \t79.6  \t346   \n",
      "12 \t8     \t13    \t292   \t2802  \n",
      "13 \t8     \t13    \t81.3  \t696   \n",
      "14 \t5     \t13    \t2844.7\t24858 \n",
      "15 \t8     \t13    \t1750.7\t10855 \n",
      "16 \t6     \t13    \t449.8 \t2451  \n",
      "17 \t5     \t13    \t88.1  \t696   \n",
      "18 \t4     \t13    \t13    \t13    \n",
      "19 \t4     \t13    \t186.6 \t1749  \n",
      "20 \t7     \t13    \t1094.3\t8054  \n"
     ]
    }
   ],
   "source": [
    "random.seed(12345)\n",
    "pobInicial = cajaTarjetas.generaPobTarjetas()\n",
    "pobFinal, registro = algorithms.eaSimple(pobInicial, cajaTarjetas, \n",
    "                                         cxpb = 0.5,  # Probabilidad de cruzamiento\n",
    "                                         mutpb = 0.3,  # Probabilidad de mutación\n",
    "                                         ngen = 20,  # Número de generaciones\n",
    "                                         stats = estadísticas,\n",
    "                                         halloffame = salón_fama)"
   ]
  },
  {
   "cell_type": "code",
   "execution_count": 24,
   "metadata": {
    "autoscroll": "json-false",
    "ein.tags": [
     "worksheet-0"
    ],
    "slideshow": {
     "slide_type": "-"
    }
   },
   "outputs": [
    {
     "name": "stdout",
     "output_type": "stream",
     "text": [
      "Las tres mejores soluciones encontradas han sido:\n",
      "Individuo: P1=[2, 3, 4, 6, 7, 10], P2=[1, 5, 8, 9]; Fitness: 4.0\n",
      "Individuo: P1=[1, 2, 3, 4, 6, 8, 9], P2=[5, 7, 10]; Fitness: 13.0\n",
      "Individuo: P1=[2, 3, 4, 6, 8, 9], P2=[1, 5, 7, 10]; Fitness: 14.0\n"
     ]
    }
   ],
   "source": [
    "print('Las tres mejores soluciones encontradas han sido:')\n",
    "for individuo in salón_fama:\n",
    "    print('Individuo: P1={1}, P2={2}; Fitness: {0}'.format(\n",
    "        individuo.fitness.values[0], *fenotipoIndTarjetas(individuo)))"
   ]
  },
  {
   "cell_type": "markdown",
   "metadata": {
    "jp-MarkdownHeadingCollapsed": true,
    "tags": []
   },
   "source": [
    "## Resumen\n",
    "\n",
    "### Genes e individuos - cruce y mutación\n",
    "- Hemos visto un ejemplo en el que usamos individuos con genes binarios\n",
    "    - Mutación de un individuo (independiente para cada gen): intercambio de bit\n",
    "    - Cruce de dos individuos: intercambio de valores (cruce en un punto y otras variantes)\n",
    "- Los genes también pueden ser números naturales\n",
    "    - Mutación de un individuo (independiente para cada gen): reemplazo del gen por un valor generado aleatoriamente dentro de un rango o siguiendo cierta distribución estadística\n",
    "    - Cruce de dos individuos: intercambio de valores (cruce en un punto y otras variantes)\n",
    "- ¿Y si nuestro individuo está compuesto por números naturales sin repetición? ¿Tienen validez los operadores anteriores?\n",
    "    - Mutación de un individuo (varios genes participan): intercambio de genes (mutación por intercambio y otras variantes)\n",
    "    - Cruce de dos individuos: intercambio de valores evitando repeticiones (cruce basado en orden y cruce basado en ciclos)\n",
    "    \n",
    "#### Operadores de cruce y mutación implementados en la librería DEAP:\n",
    "A continuación se enumeran los operadores vistos en clase. En la documentación podemos consultarlos todos: https://deap.readthedocs.io/en/master/api/tools.html#operators\n",
    "\n",
    "- Genes binarios y numéricos - mutación:\n",
    "    - Intercambio de bit (solo binario): https://deap.readthedocs.io/en/master/api/tools.html#deap.tools.mutFlipBit\n",
    "    - Reemplazo por otro valor generado aleatoriamente: https://deap.readthedocs.io/en/master/api/tools.html#deap.tools.mutUniformInt\n",
    "    - Mutación por intercambio (permutación): https://deap.readthedocs.io/en/master/api/tools.html#deap.tools.mutShuffleIndexes\n",
    "- Genes binarios y numéricos - cruce:\n",
    "    - Cruce en un punto: https://deap.readthedocs.io/en/master/api/tools.html#deap.tools.cxOnePoint\n",
    "    - Cruce en dos puntos:https://deap.readthedocs.io/en/master/api/tools.html#deap.tools.cxTwoPoint\n",
    "    - Cruce multipunto: https://deap.readthedocs.io/en/master/api/tools.html#deap.tools.cxUniform\n",
    "- Genes numéricos sin repetición (permutaciones):\n",
    "    - cruce basado en orden: https://deap.readthedocs.io/en/master/api/tools.html#deap.tools.cxOrdered\n",
    "    \n",
    "### Operadores de selección\n",
    "\n",
    "- Selección por ruleta: \n",
    "    - Es el método de selección visto en clase\n",
    "    - Selección aleatoria de individuos\n",
    "    - La probabilidad para cada individuo de ser seleccionado, varía en función de su utilidad\n",
    "    - **Solo válido para problemas de maximización**\n",
    "- Selección por torneo:\n",
    "    - Para seleccionar N individuos, se realizan N torneos\n",
    "    - Un torneo consiste en seleccionar aleatoriamente K individuos y devolver aquel con mayor utilidad\n",
    "    - **Válido tanto para problemas de maximización como de minimización**\n",
    "    \n",
    "#### Operadores selección implementados en la librería DEAP:\n",
    "\n",
    "- Selección por ruleta: https://deap.readthedocs.io/en/master/api/tools.html#deap.tools.selRoulette\n",
    "- Selección por torneo:https://deap.readthedocs.io/en/master/api/tools.html#deap.tools.selTournament"
   ]
  },
  {
   "cell_type": "markdown",
   "metadata": {
    "ein.tags": [
     "worksheet-0"
    ],
    "slideshow": {
     "slide_type": "-"
    }
   },
   "source": [
    "# El problema de la mochila"
   ]
  },
  {
   "cell_type": "markdown",
   "metadata": {
    "ein.tags": [
     "worksheet-0"
    ],
    "slideshow": {
     "slide_type": "-"
    }
   },
   "source": [
    "El _problema de la mochila_ (_knapsack problem_) es un problema de optimización combinatoria que aparece en procesos de decisión del mundo real en una amplia variedad de campos. El problema se puede enunciar de manera abstracta como sigue:\n",
    "> Dado un conjunto de elementos, cada uno de ellos con un peso y un valor, determinar la cantidad de cada elemento a incluir en una colección de tal manera que el peso total sea menor o igual que un límite dado y el valor total sea lo mayor posible.\n",
    "\n",
    "En esta práctica nos restringiremos al problema de la mochila 0-1, en el que cada elemento solo se puede incluir a lo sumo una vez en la colección. En concreto, consideraremos la instancia que consiste de 1000 elementos, con los pesos y valores recogidos en el fichero `instancia_knapsack.txt`, y con un peso límite de 4816. Para esta instancia la solución óptima tiene un valor de 27147."
   ]
  },
  {
   "cell_type": "markdown",
   "metadata": {
    "ein.tags": [
     "worksheet-0"
    ],
    "slideshow": {
     "slide_type": "-"
    }
   },
   "source": [
    "Los pesos y los valores de los elementos de la instancia se pueden leer del fichero evaluando las siguientes expresiones:"
   ]
  },
  {
   "cell_type": "code",
   "execution_count": 25,
   "metadata": {
    "autoscroll": "json-false",
    "ein.tags": [
     "worksheet-0"
    ],
    "slideshow": {
     "slide_type": "-"
    }
   },
   "outputs": [
    {
     "name": "stdout",
     "output_type": "stream",
     "text": [
      "[506, 416, 992, 649, 237, 457, 815, 446, 422, 791, 359, 667, 598, 7, 544, 334, 766, 994, 893, 633, 131, 428, 700, 617, 874, 720, 419, 794, 196, 997, 116, 908, 539, 707, 569, 537, 931, 726, 487, 772, 513, 81, 943, 58, 303, 764, 536, 724, 789]\n",
      "[886, 814, 1151, 983, 629, 848, 1074, 839, 819, 1062, 762, 994, 950, 111, 914, 737, 1049, 1152, 1110, 973, 474, 824, 1013, 963, 1101, 1024, 816, 1063, 575, 1153, 447, 1117, 910, 1017, 931, 909, 1126, 1027, 871, 1052, 891, 375, 1131, 318, 705, 1048, 908, 1026, 1061]\n"
     ]
    }
   ],
   "source": [
    "PESOS = []\n",
    "VALORES = []\n",
    "with open('instancia_knapsack.txt', 'r') as fichero:\n",
    "    for línea in fichero:\n",
    "        peso, valor = tuple(línea.split())\n",
    "        PESOS.append(int(peso))\n",
    "        VALORES.append(int(valor))\n",
    "        \n",
    "print(PESOS[1:50])        \n",
    "print(VALORES[1:50])        "
   ]
  },
  {
   "cell_type": "markdown",
   "metadata": {
    "ein.tags": [
     "worksheet-0"
    ],
    "slideshow": {
     "slide_type": "-"
    }
   },
   "source": [
    "__Ejercicio 1__: para resolver un problema de la mochila 0-1 mediante algoritmos genéticos definimos los parámetros necesarios como sigue:\n",
    "* Los genes son 0 y 1.\n",
    "* Los individuos son cromosomas de longitud la cantidad de elementos disponibles.\n",
    "* Cada individuo representa la solución en la que el elemento $i$-ésimo se incluye en la colección si y solo si el gen $i$-ésimo es 1.\n",
    "* La evaluación del fenotipo de cada individuo es la suma de los valores de los elementos incluidos en la colección, salvo que el peso supere el límite establecido, en cuyo caso es $-\\infty$ (penalización por _pena de muerte_).\n",
    "\n",
    "Se pide implementar esta representación en una caja de herramientas que permita realizar las pruebas experimentales que se piden en el ejercicio 5."
   ]
  },
  {
   "cell_type": "code",
   "execution_count": 26,
   "metadata": {},
   "outputs": [],
   "source": [
    "# import random\n",
    "# from deap import base, creator, tools, algorithms\n",
    "# import numpy\n",
    "# import math\n",
    "#\n",
    "# <NOM_CajaHerramientas> = base.Toolbox()\n",
    "\n",
    "# creator.create('<NOM_CriterioEvaluacion>', base.Fitness, weights = <tuplaPesos>)\n",
    "# creator.create('<NOM_EstructuraIndividuo>', list, fitness = creator.NOM_CriterioEvaluacion)\n",
    "\n",
    "# <NOM_CajaHerramientas>.register('<NOM_CrearGen>', ...)\n",
    "\n",
    "# <NOM_CajaHerramientas>.register('<NOM_CrearIndividuo>', tools.initRepeat,\n",
    "#                                 container = creator.<NOM_EstructuraIndividuo>, \n",
    "#                                 func = <NOM_CajaHerramientas>.<NOM_CrearGen>, \n",
    "#                                 n = <N_tamIndividuo>)\n",
    "# <NOM_CajaHerramientas>.register('<NOM_CrearPoblacion>', tools.initRepeat,\n",
    "#                                 container = list, \n",
    "#                                 func = <NOM_CajaHerramientas>.<NOM_CrearIndividuo>, \n",
    "#                                 n = <N_tamPoblacion>)\n",
    "#\n",
    "# def <Nom_Fitness>(individuo):\n",
    "#   ...\n",
    "#\n",
    "# <NOM_CajaHerramientas>.register('evaluate', <Nom_Fitness>)\n",
    "#\n",
    "# <NOM_CajaHerramientas>.register('mate', ...)\n",
    "# <NOM_CajaHerramientas>.register('mutate', ...)\n",
    "# <NOM_CajaHerramientas>.register('select', ...)\n",
    "#\n",
    "# <NOM_Estadisticas> = tools.Statistics(lambda ind: ind.fitness.values)\n",
    "# <NOM_Estadisticas>.register(\"mínimo\", numpy.min)\n",
    "# <NOM_Estadisticas>.register(\"media\", numpy.mean)\n",
    "# <NOM_Estadisticas>.register(\"máximo\", numpy.max)\n",
    "#\n",
    "# <NOM_SalonFama> = tools.HallOfFame(<N_mejoresSeleccionados>)\n",
    "#\n",
    "# random.seed(12345)\n",
    "# población, registro = algorithms.eaSimple(<NOM_CajaHerramientas>.<NOM_CrearPoblacion>(),\n",
    "#                                           <NOM_CajaHerramientas>,\n",
    "#                                           cxpb = 0.5, # Probabilidad de que dos individuos contiguos se crucen\n",
    "#                                           mutpb = 0.3, # Probabilidad de que un individuo mute\n",
    "#                                           ngen = 20, # Número de generaciones\n",
    "#                                           stats = <NOM_Estadisticas>,\n",
    "#                                           halloffame = <NOM_SalonFama>)\n",
    "#\n",
    "# print('Las tres mejores soluciones encontradas han sido:')\n",
    "# for individuo in <NOM_SalonFama>:\n",
    "#     print('Individuo con fitness: {0}'.format(individuo.fitness.values[0]))"
   ]
  },
  {
   "cell_type": "code",
   "execution_count": 27,
   "metadata": {},
   "outputs": [],
   "source": [
    "# Incluimos aquí valores para algunos parámatros\n",
    "T_IND = 1000 # Tamaño de los individuos\n",
    "T_POB = 1000  # Tamaño de la población"
   ]
  },
  {
   "cell_type": "code",
   "execution_count": 28,
   "metadata": {},
   "outputs": [],
   "source": [
    "# <NOM_CajaHerramientas> <-> CajaMochila\n",
    "CajaMochila = base.Toolbox()\n",
    "\n",
    "# <NOM_CriterioEvaluacion> <-> critMax\n",
    "creator.create('critMax', base.Fitness, weights = (1,))\n",
    "\n",
    "# <NOM_EstructuraIndividuo> <-> indMochila01\n",
    "creator.create('indMochila01', list, fitness = creator.critMax)\n",
    "\n",
    "# <NOM_CrearGen> <-> gen01\n",
    "CajaMochila.register('gen01', random.randint, 0, 1)\n",
    "\n",
    "# <NOM_CrearIndividuo> <-> crearIndMochila01\n",
    "CajaMochila.register('crearIndMochila01', tools.initRepeat,\n",
    "                     container = creator.indMochila01, \n",
    "                     func = CajaMochila.gen01, \n",
    "                     n = T_IND)"
   ]
  },
  {
   "cell_type": "code",
   "execution_count": 29,
   "metadata": {},
   "outputs": [
    {
     "name": "stdout",
     "output_type": "stream",
     "text": [
      "[1, 1, 1, 1, 0, 1, 1, 1, 0]\n",
      "[1, 1, 1, 0, 1, 0, 1, 1, 1]\n",
      "[1, 0, 1, 1, 0, 1, 0, 0, 1]\n",
      "[0, 0, 1, 1, 1, 1, 1, 1, 0]\n",
      "[1, 0, 1, 0, 0, 0, 0, 1, 0]\n",
      "[1, 1, 1, 1, 0, 0, 0, 0, 1]\n",
      "[1, 1, 0, 0, 0, 0, 0, 1, 0]\n",
      "[1, 1, 1, 0, 1, 0, 0, 0, 1]\n",
      "[1, 0, 0, 1, 1, 1, 1, 0, 1]\n",
      "[0, 0, 1, 1, 1, 0, 0, 0, 1]\n"
     ]
    }
   ],
   "source": [
    "for _ in range(10): print(CajaMochila.crearIndMochila01()[1:10])"
   ]
  },
  {
   "cell_type": "code",
   "execution_count": 30,
   "metadata": {},
   "outputs": [],
   "source": [
    "CajaMochila.register('generaPobMochila01', tools.initRepeat,\n",
    "                     container = list, \n",
    "                     func = CajaMochila.crearIndMochila01, \n",
    "                     n = T_POB)"
   ]
  },
  {
   "cell_type": "code",
   "execution_count": 31,
   "metadata": {},
   "outputs": [
    {
     "data": {
      "text/plain": [
       "[1,\n",
       " 1,\n",
       " 0,\n",
       " 1,\n",
       " 0,\n",
       " 1,\n",
       " 1,\n",
       " 0,\n",
       " 0,\n",
       " 1,\n",
       " 1,\n",
       " 1,\n",
       " 1,\n",
       " 0,\n",
       " 0,\n",
       " 1,\n",
       " 1,\n",
       " 0,\n",
       " 0,\n",
       " 0,\n",
       " 0,\n",
       " 1,\n",
       " 1,\n",
       " 0,\n",
       " 0,\n",
       " 1,\n",
       " 1,\n",
       " 0,\n",
       " 1,\n",
       " 0,\n",
       " 0,\n",
       " 0,\n",
       " 0,\n",
       " 1,\n",
       " 0,\n",
       " 1,\n",
       " 1,\n",
       " 0,\n",
       " 1,\n",
       " 1,\n",
       " 0,\n",
       " 1,\n",
       " 0,\n",
       " 1,\n",
       " 1,\n",
       " 0,\n",
       " 1,\n",
       " 1,\n",
       " 0,\n",
       " 0,\n",
       " 0,\n",
       " 0,\n",
       " 0,\n",
       " 1,\n",
       " 1,\n",
       " 1,\n",
       " 0,\n",
       " 1,\n",
       " 1,\n",
       " 0,\n",
       " 0,\n",
       " 0,\n",
       " 0,\n",
       " 1,\n",
       " 0,\n",
       " 1,\n",
       " 0,\n",
       " 1,\n",
       " 0,\n",
       " 0,\n",
       " 1,\n",
       " 1,\n",
       " 0,\n",
       " 0,\n",
       " 1,\n",
       " 1,\n",
       " 1,\n",
       " 0,\n",
       " 1,\n",
       " 1,\n",
       " 0,\n",
       " 0,\n",
       " 0,\n",
       " 1,\n",
       " 0,\n",
       " 1,\n",
       " 1,\n",
       " 1,\n",
       " 0,\n",
       " 1,\n",
       " 1,\n",
       " 1,\n",
       " 0,\n",
       " 0,\n",
       " 0,\n",
       " 1,\n",
       " 1,\n",
       " 1,\n",
       " 1,\n",
       " 1,\n",
       " 1,\n",
       " 0,\n",
       " 1,\n",
       " 1,\n",
       " 0,\n",
       " 0,\n",
       " 1,\n",
       " 0,\n",
       " 0,\n",
       " 0,\n",
       " 1,\n",
       " 1,\n",
       " 1,\n",
       " 0,\n",
       " 0,\n",
       " 0,\n",
       " 0,\n",
       " 0,\n",
       " 0,\n",
       " 0,\n",
       " 0,\n",
       " 1,\n",
       " 1,\n",
       " 0,\n",
       " 1,\n",
       " 1,\n",
       " 0,\n",
       " 0,\n",
       " 0,\n",
       " 1,\n",
       " 0,\n",
       " 0,\n",
       " 0,\n",
       " 0,\n",
       " 0,\n",
       " 1,\n",
       " 0,\n",
       " 0,\n",
       " 1,\n",
       " 1,\n",
       " 0,\n",
       " 0,\n",
       " 1,\n",
       " 0,\n",
       " 1,\n",
       " 1,\n",
       " 1,\n",
       " 1,\n",
       " 1,\n",
       " 0,\n",
       " 1,\n",
       " 1,\n",
       " 1,\n",
       " 1,\n",
       " 1,\n",
       " 1,\n",
       " 1,\n",
       " 0,\n",
       " 1,\n",
       " 1,\n",
       " 1,\n",
       " 0,\n",
       " 0,\n",
       " 0,\n",
       " 0,\n",
       " 1,\n",
       " 1,\n",
       " 0,\n",
       " 0,\n",
       " 0,\n",
       " 1,\n",
       " 0,\n",
       " 1,\n",
       " 0,\n",
       " 0,\n",
       " 1,\n",
       " 0,\n",
       " 1,\n",
       " 1,\n",
       " 0,\n",
       " 0,\n",
       " 1,\n",
       " 1,\n",
       " 1,\n",
       " 0,\n",
       " 1,\n",
       " 0,\n",
       " 1,\n",
       " 0,\n",
       " 0,\n",
       " 1,\n",
       " 1,\n",
       " 0,\n",
       " 0,\n",
       " 0,\n",
       " 0,\n",
       " 1,\n",
       " 0,\n",
       " 1,\n",
       " 0,\n",
       " 0,\n",
       " 1,\n",
       " 0,\n",
       " 0,\n",
       " 1,\n",
       " 1,\n",
       " 0,\n",
       " 0,\n",
       " 0,\n",
       " 0,\n",
       " 1,\n",
       " 0,\n",
       " 1,\n",
       " 0,\n",
       " 1,\n",
       " 1,\n",
       " 0,\n",
       " 0,\n",
       " 0,\n",
       " 1,\n",
       " 0,\n",
       " 0,\n",
       " 1,\n",
       " 1,\n",
       " 0,\n",
       " 1,\n",
       " 1,\n",
       " 0,\n",
       " 1,\n",
       " 1,\n",
       " 0,\n",
       " 1,\n",
       " 1,\n",
       " 1,\n",
       " 1,\n",
       " 1,\n",
       " 1,\n",
       " 0,\n",
       " 1,\n",
       " 1,\n",
       " 0,\n",
       " 0,\n",
       " 0,\n",
       " 0,\n",
       " 0,\n",
       " 0,\n",
       " 0,\n",
       " 0,\n",
       " 0,\n",
       " 0,\n",
       " 1,\n",
       " 1,\n",
       " 1,\n",
       " 1,\n",
       " 1,\n",
       " 0,\n",
       " 1,\n",
       " 0,\n",
       " 1,\n",
       " 1,\n",
       " 1,\n",
       " 0,\n",
       " 0,\n",
       " 1,\n",
       " 0,\n",
       " 1,\n",
       " 1,\n",
       " 1,\n",
       " 1,\n",
       " 0,\n",
       " 0,\n",
       " 0,\n",
       " 0,\n",
       " 1,\n",
       " 0,\n",
       " 0,\n",
       " 1,\n",
       " 0,\n",
       " 1,\n",
       " 1,\n",
       " 0,\n",
       " 1,\n",
       " 1,\n",
       " 0,\n",
       " 1,\n",
       " 1,\n",
       " 1,\n",
       " 0,\n",
       " 1,\n",
       " 1,\n",
       " 1,\n",
       " 0,\n",
       " 1,\n",
       " 1,\n",
       " 1,\n",
       " 1,\n",
       " 1,\n",
       " 0,\n",
       " 0,\n",
       " 1,\n",
       " 1,\n",
       " 0,\n",
       " 1,\n",
       " 1,\n",
       " 0,\n",
       " 0,\n",
       " 0,\n",
       " 1,\n",
       " 0,\n",
       " 0,\n",
       " 1,\n",
       " 1,\n",
       " 1,\n",
       " 0,\n",
       " 0,\n",
       " 0,\n",
       " 0,\n",
       " 0,\n",
       " 0,\n",
       " 1,\n",
       " 1,\n",
       " 0,\n",
       " 1,\n",
       " 1,\n",
       " 1,\n",
       " 0,\n",
       " 1,\n",
       " 0,\n",
       " 1,\n",
       " 1,\n",
       " 1,\n",
       " 0,\n",
       " 1,\n",
       " 1,\n",
       " 0,\n",
       " 1,\n",
       " 1,\n",
       " 0,\n",
       " 0,\n",
       " 0,\n",
       " 1,\n",
       " 0,\n",
       " 0,\n",
       " 1,\n",
       " 1,\n",
       " 1,\n",
       " 1,\n",
       " 1,\n",
       " 1,\n",
       " 1,\n",
       " 1,\n",
       " 1,\n",
       " 1,\n",
       " 1,\n",
       " 1,\n",
       " 1,\n",
       " 0,\n",
       " 1,\n",
       " 0,\n",
       " 1,\n",
       " 0,\n",
       " 0,\n",
       " 1,\n",
       " 0,\n",
       " 1,\n",
       " 1,\n",
       " 1,\n",
       " 1,\n",
       " 0,\n",
       " 0,\n",
       " 0,\n",
       " 1,\n",
       " 0,\n",
       " 0,\n",
       " 0,\n",
       " 0,\n",
       " 1,\n",
       " 1,\n",
       " 0,\n",
       " 1,\n",
       " 1,\n",
       " 0,\n",
       " 0,\n",
       " 1,\n",
       " 0,\n",
       " 0,\n",
       " 1,\n",
       " 0,\n",
       " 0,\n",
       " 1,\n",
       " 1,\n",
       " 1,\n",
       " 1,\n",
       " 1,\n",
       " 1,\n",
       " 1,\n",
       " 1,\n",
       " 0,\n",
       " 1,\n",
       " 1,\n",
       " 1,\n",
       " 1,\n",
       " 0,\n",
       " 0,\n",
       " 1,\n",
       " 1,\n",
       " 0,\n",
       " 1,\n",
       " 1,\n",
       " 0,\n",
       " 1,\n",
       " 0,\n",
       " 0,\n",
       " 1,\n",
       " 0,\n",
       " 1,\n",
       " 1,\n",
       " 1,\n",
       " 0,\n",
       " 0,\n",
       " 0,\n",
       " 0,\n",
       " 1,\n",
       " 0,\n",
       " 1,\n",
       " 0,\n",
       " 0,\n",
       " 1,\n",
       " 0,\n",
       " 1,\n",
       " 1,\n",
       " 0,\n",
       " 1,\n",
       " 1,\n",
       " 0,\n",
       " 1,\n",
       " 1,\n",
       " 1,\n",
       " 1,\n",
       " 0,\n",
       " 0,\n",
       " 1,\n",
       " 0,\n",
       " 0,\n",
       " 1,\n",
       " 1,\n",
       " 0,\n",
       " 1,\n",
       " 0,\n",
       " 1,\n",
       " 1,\n",
       " 1,\n",
       " 1,\n",
       " 1,\n",
       " 1,\n",
       " 1,\n",
       " 0,\n",
       " 1,\n",
       " 1,\n",
       " 1,\n",
       " 0,\n",
       " 0,\n",
       " 0,\n",
       " 0,\n",
       " 1,\n",
       " 1,\n",
       " 0,\n",
       " 1,\n",
       " 0,\n",
       " 1,\n",
       " 0,\n",
       " 1,\n",
       " 0,\n",
       " 1,\n",
       " 1,\n",
       " 1,\n",
       " 0,\n",
       " 0,\n",
       " 1,\n",
       " 1,\n",
       " 1,\n",
       " 1,\n",
       " 0,\n",
       " 1,\n",
       " 1,\n",
       " 1,\n",
       " 1,\n",
       " 0,\n",
       " 0,\n",
       " 1,\n",
       " 0,\n",
       " 1,\n",
       " 0,\n",
       " 1,\n",
       " 1,\n",
       " 1,\n",
       " 1,\n",
       " 1,\n",
       " 0,\n",
       " 0,\n",
       " 0,\n",
       " 1,\n",
       " 0,\n",
       " 1,\n",
       " 0,\n",
       " 0,\n",
       " 0,\n",
       " 0,\n",
       " 1,\n",
       " 0,\n",
       " 0,\n",
       " 0,\n",
       " 1,\n",
       " 1,\n",
       " 0,\n",
       " 1,\n",
       " 1,\n",
       " 0,\n",
       " 0,\n",
       " 1,\n",
       " 0,\n",
       " 1,\n",
       " 1,\n",
       " 0,\n",
       " 1,\n",
       " 0,\n",
       " 1,\n",
       " 0,\n",
       " 1,\n",
       " 1,\n",
       " 0,\n",
       " 1,\n",
       " 1,\n",
       " 1,\n",
       " 1,\n",
       " 0,\n",
       " 0,\n",
       " 1,\n",
       " 1,\n",
       " 1,\n",
       " 0,\n",
       " 1,\n",
       " 0,\n",
       " 1,\n",
       " 1,\n",
       " 1,\n",
       " 1,\n",
       " 1,\n",
       " 1,\n",
       " 0,\n",
       " 0,\n",
       " 1,\n",
       " 0,\n",
       " 1,\n",
       " 0,\n",
       " 0,\n",
       " 1,\n",
       " 1,\n",
       " 1,\n",
       " 0,\n",
       " 1,\n",
       " 1,\n",
       " 0,\n",
       " 0,\n",
       " 1,\n",
       " 0,\n",
       " 0,\n",
       " 0,\n",
       " 1,\n",
       " 1,\n",
       " 1,\n",
       " 1,\n",
       " 1,\n",
       " 1,\n",
       " 0,\n",
       " 1,\n",
       " 1,\n",
       " 1,\n",
       " 1,\n",
       " 1,\n",
       " 1,\n",
       " 0,\n",
       " 1,\n",
       " 0,\n",
       " 1,\n",
       " 0,\n",
       " 0,\n",
       " 0,\n",
       " 0,\n",
       " 1,\n",
       " 1,\n",
       " 0,\n",
       " 0,\n",
       " 0,\n",
       " 1,\n",
       " 1,\n",
       " 0,\n",
       " 0,\n",
       " 1,\n",
       " 1,\n",
       " 1,\n",
       " 1,\n",
       " 1,\n",
       " 0,\n",
       " 1,\n",
       " 1,\n",
       " 0,\n",
       " 1,\n",
       " 1,\n",
       " 0,\n",
       " 1,\n",
       " 0,\n",
       " 0,\n",
       " 0,\n",
       " 1,\n",
       " 1,\n",
       " 1,\n",
       " 0,\n",
       " 1,\n",
       " 1,\n",
       " 1,\n",
       " 0,\n",
       " 1,\n",
       " 1,\n",
       " 1,\n",
       " 1,\n",
       " 0,\n",
       " 0,\n",
       " 1,\n",
       " 0,\n",
       " 0,\n",
       " 1,\n",
       " 1,\n",
       " 1,\n",
       " 0,\n",
       " 0,\n",
       " 0,\n",
       " 1,\n",
       " 1,\n",
       " 1,\n",
       " 1,\n",
       " 0,\n",
       " 1,\n",
       " 0,\n",
       " 1,\n",
       " 1,\n",
       " 0,\n",
       " 1,\n",
       " 0,\n",
       " 1,\n",
       " 1,\n",
       " 0,\n",
       " 0,\n",
       " 1,\n",
       " 0,\n",
       " 0,\n",
       " 0,\n",
       " 1,\n",
       " 0,\n",
       " 0,\n",
       " 1,\n",
       " 1,\n",
       " 0,\n",
       " 1,\n",
       " 1,\n",
       " 0,\n",
       " 1,\n",
       " 1,\n",
       " 1,\n",
       " 1,\n",
       " 0,\n",
       " 1,\n",
       " 0,\n",
       " 0,\n",
       " 0,\n",
       " 1,\n",
       " 1,\n",
       " 0,\n",
       " 0,\n",
       " 1,\n",
       " 1,\n",
       " 1,\n",
       " 1,\n",
       " 1,\n",
       " 1,\n",
       " 0,\n",
       " 0,\n",
       " 1,\n",
       " 0,\n",
       " 1,\n",
       " 0,\n",
       " 0,\n",
       " 0,\n",
       " 0,\n",
       " 1,\n",
       " 0,\n",
       " 1,\n",
       " 0,\n",
       " 1,\n",
       " 0,\n",
       " 0,\n",
       " 1,\n",
       " 1,\n",
       " 0,\n",
       " 1,\n",
       " 0,\n",
       " 1,\n",
       " 0,\n",
       " 1,\n",
       " 0,\n",
       " 0,\n",
       " 0,\n",
       " 0,\n",
       " 0,\n",
       " 0,\n",
       " 1,\n",
       " 1,\n",
       " 1,\n",
       " 0,\n",
       " 0,\n",
       " 0,\n",
       " 1,\n",
       " 1,\n",
       " 0,\n",
       " 1,\n",
       " 0,\n",
       " 0,\n",
       " 1,\n",
       " 1,\n",
       " 0,\n",
       " 1,\n",
       " 0,\n",
       " 0,\n",
       " 0,\n",
       " 0,\n",
       " 1,\n",
       " 1,\n",
       " 1,\n",
       " 1,\n",
       " 0,\n",
       " 1,\n",
       " 0,\n",
       " 0,\n",
       " 1,\n",
       " 0,\n",
       " 0,\n",
       " 1,\n",
       " 1,\n",
       " 0,\n",
       " 0,\n",
       " 1,\n",
       " 0,\n",
       " 0,\n",
       " 0,\n",
       " 1,\n",
       " 0,\n",
       " 0,\n",
       " 0,\n",
       " 0,\n",
       " 1,\n",
       " 1,\n",
       " 1,\n",
       " 1,\n",
       " 1,\n",
       " 0,\n",
       " 1,\n",
       " 1,\n",
       " 1,\n",
       " 0,\n",
       " 0,\n",
       " 0,\n",
       " 1,\n",
       " 0,\n",
       " 1,\n",
       " 0,\n",
       " 0,\n",
       " 1,\n",
       " 0,\n",
       " 0,\n",
       " 0,\n",
       " 0,\n",
       " 0,\n",
       " 0,\n",
       " 0,\n",
       " 0,\n",
       " 1,\n",
       " 0,\n",
       " 1,\n",
       " 0,\n",
       " 0,\n",
       " 0,\n",
       " 0,\n",
       " 1,\n",
       " 1,\n",
       " 0,\n",
       " 1,\n",
       " 1,\n",
       " 1,\n",
       " 1,\n",
       " 1,\n",
       " 1,\n",
       " 0,\n",
       " 0,\n",
       " 0,\n",
       " 0,\n",
       " 1,\n",
       " 1,\n",
       " 0,\n",
       " 1,\n",
       " 1,\n",
       " 1,\n",
       " 0,\n",
       " 0,\n",
       " 1,\n",
       " 1,\n",
       " 1,\n",
       " 0,\n",
       " 1,\n",
       " 1,\n",
       " 1,\n",
       " 1,\n",
       " 1,\n",
       " 0,\n",
       " 1,\n",
       " 1,\n",
       " 1,\n",
       " 1,\n",
       " 0,\n",
       " 1,\n",
       " 1,\n",
       " 1,\n",
       " 1,\n",
       " 0,\n",
       " 0,\n",
       " 1,\n",
       " 0,\n",
       " 0,\n",
       " 0,\n",
       " 0,\n",
       " 0,\n",
       " 1,\n",
       " 0,\n",
       " 0,\n",
       " 1,\n",
       " 0,\n",
       " 0,\n",
       " 1,\n",
       " 1,\n",
       " 0,\n",
       " 0,\n",
       " 1,\n",
       " 0,\n",
       " 1,\n",
       " 1,\n",
       " 1,\n",
       " 1,\n",
       " 0,\n",
       " 0,\n",
       " 0,\n",
       " 1,\n",
       " 1,\n",
       " 1,\n",
       " 1,\n",
       " 0,\n",
       " 0,\n",
       " 0,\n",
       " 1,\n",
       " 1,\n",
       " 0,\n",
       " 0,\n",
       " 0,\n",
       " 1,\n",
       " 0,\n",
       " 0,\n",
       " 0,\n",
       " 0,\n",
       " 1,\n",
       " 0,\n",
       " 1,\n",
       " 1,\n",
       " 1,\n",
       " 1,\n",
       " 1,\n",
       " 1,\n",
       " 1,\n",
       " 1,\n",
       " 0,\n",
       " 1,\n",
       " 0,\n",
       " 0,\n",
       " 1,\n",
       " 0,\n",
       " 1,\n",
       " 1,\n",
       " 1,\n",
       " 1,\n",
       " 1,\n",
       " 1,\n",
       " 0,\n",
       " 0,\n",
       " 1,\n",
       " 1,\n",
       " 1,\n",
       " 1,\n",
       " 1,\n",
       " 0,\n",
       " 0,\n",
       " 1,\n",
       " 0,\n",
       " 0,\n",
       " 1,\n",
       " 0,\n",
       " 1,\n",
       " 0,\n",
       " 0,\n",
       " 0,\n",
       " 0,\n",
       " 1,\n",
       " 0,\n",
       " 1,\n",
       " 1,\n",
       " 1,\n",
       " 1,\n",
       " 0,\n",
       " 0,\n",
       " 1,\n",
       " 0,\n",
       " 0,\n",
       " 1,\n",
       " 1,\n",
       " 0,\n",
       " 0,\n",
       " 1,\n",
       " 0,\n",
       " 1,\n",
       " 0,\n",
       " 0,\n",
       " 1,\n",
       " 0,\n",
       " 0,\n",
       " 0,\n",
       " 0,\n",
       " 0,\n",
       " 1,\n",
       " 1,\n",
       " 0,\n",
       " 1,\n",
       " 0,\n",
       " 0,\n",
       " 0,\n",
       " 1,\n",
       " 0,\n",
       " 0,\n",
       " 0,\n",
       " 1,\n",
       " 1,\n",
       " 0,\n",
       " 1,\n",
       " 1,\n",
       " 0,\n",
       " 1,\n",
       " 1,\n",
       " 1,\n",
       " 1,\n",
       " 0,\n",
       " 0,\n",
       " 1,\n",
       " 1,\n",
       " 0,\n",
       " 1,\n",
       " 1,\n",
       " 0,\n",
       " 0,\n",
       " 0,\n",
       " 1,\n",
       " 1,\n",
       " 1,\n",
       " 1,\n",
       " 1,\n",
       " 0,\n",
       " 0,\n",
       " 0,\n",
       " 0,\n",
       " 1,\n",
       " 0,\n",
       " 0,\n",
       " 1,\n",
       " 1,\n",
       " 0,\n",
       " 0,\n",
       " 0,\n",
       " 0,\n",
       " 1,\n",
       " 1,\n",
       " 1,\n",
       " 1,\n",
       " 0,\n",
       " 1,\n",
       " 0,\n",
       " 0]"
      ]
     },
     "execution_count": 31,
     "metadata": {},
     "output_type": "execute_result"
    }
   ],
   "source": [
    "pob = CajaMochila.generaPobMochila01()\n",
    "pob[499]"
   ]
  },
  {
   "cell_type": "code",
   "execution_count": 32,
   "metadata": {},
   "outputs": [],
   "source": [
    "def fen1(individuo): #decodifica\n",
    "    mochila=[]\n",
    "    peso_ac = 0\n",
    "    for i in range individuo:\n",
    "        peso_ac+=peso[i]\n",
    "        if peso_ac>4816:\n",
    "            return mochila\n",
    "        mochila.append(i)\n",
    "    \n",
    "    return (i for i in range(T_IND) if individuo[i])\n",
    "\n",
    "def evind1(individuo):\n",
    "    fen = fen1(individuo)\n",
    "    sumaP = sum (PESOS[i] for i in fen)\n",
    "    if (sumaP<=4816):\n",
    "        return (sum (VALORES[i] for i in fen),)\n",
    "    else:\n",
    "        return (float(\"-inf\"),)\n",
    "\n",
    "# Definiciones vistas en clase:\n",
    "# Primera\n",
    "\n",
    "def FenMochilaV1(individuo):\n",
    "    mochila = []\n",
    "    for ind in range(1000):\n",
    "        if (individuo[ind] == 1):\n",
    "            mochila.append(ind)\n",
    "    return mochila\n",
    "\n",
    "def evalMochilaV1(individuo):\n",
    "    mochila = FenMochilaV1(individuo)\n",
    "    pesoM = 0\n",
    "    for obj in mochila:\n",
    "        pesoM += PESOS[obj]\n",
    "    if (pesoM <= 4816):\n",
    "        valorM = 0\n",
    "        for obj in mochila:\n",
    "            valorM += VALORES[obj]\n",
    "        return (valorM, )\n",
    "    else:\n",
    "        return (float(\"-inf\"),)\n",
    "    \n",
    "# Segunda \n",
    "def valorMochila01_version1(individuo):\n",
    "    peso = 0\n",
    "    for ind in range(T_IND):\n",
    "        peso += individuo[ind]*PESOS[ind]\n",
    "    if (peso > 4816):\n",
    "        valor = float(\"-inf\")\n",
    "    else:\n",
    "        valor = 0\n",
    "        for ind in range(T_IND):\n",
    "            valor += individuo[ind]*VALORES[ind]\n",
    "    return (valor,)\n",
    "CajaMochila.register('evaluate', evind1)"
   ]
  },
  {
   "cell_type": "code",
   "execution_count": 33,
   "metadata": {},
   "outputs": [
    {
     "data": {
      "text/plain": [
       "(-inf,)"
      ]
     },
     "execution_count": 33,
     "metadata": {},
     "output_type": "execute_result"
    }
   ],
   "source": [
    "prueba = CajaMochila.crearIndMochila01()\n",
    "CajaMochila.evaluate(prueba)"
   ]
  },
  {
   "cell_type": "code",
   "execution_count": 34,
   "metadata": {},
   "outputs": [],
   "source": [
    "#\n",
    "CajaMochila.register('mate', tools.cxOnePoint)\n",
    "CajaMochila.register('mutate', tools.mutFlipBit, indpb=0.1)\n",
    "CajaMochila.register('select',  tools.selTournament, tournsize=3)\n",
    "#"
   ]
  },
  {
   "cell_type": "code",
   "execution_count": 35,
   "metadata": {},
   "outputs": [
    {
     "name": "stdout",
     "output_type": "stream",
     "text": [
      "gen\tnevals\tmínimo\tmedia\tmáximo\n",
      "0  \t1000  \t-inf  \t-inf \t-inf  \n",
      "1  \t660   \t-inf  \t-inf \t-inf  \n",
      "2  \t629   \t-inf  \t-inf \t-inf  \n",
      "3  \t647   \t-inf  \t-inf \t-inf  \n",
      "4  \t649   \t-inf  \t-inf \t-inf  \n",
      "5  \t647   \t-inf  \t-inf \t-inf  \n",
      "6  \t636   \t-inf  \t-inf \t-inf  \n",
      "7  \t633   \t-inf  \t-inf \t-inf  \n",
      "8  \t626   \t-inf  \t-inf \t-inf  \n",
      "9  \t678   \t-inf  \t-inf \t-inf  \n",
      "10 \t637   \t-inf  \t-inf \t-inf  \n",
      "11 \t623   \t-inf  \t-inf \t-inf  \n",
      "12 \t652   \t-inf  \t-inf \t-inf  \n",
      "13 \t655   \t-inf  \t-inf \t-inf  \n",
      "14 \t635   \t-inf  \t-inf \t-inf  \n",
      "15 \t630   \t-inf  \t-inf \t-inf  \n",
      "16 \t657   \t-inf  \t-inf \t-inf  \n",
      "17 \t674   \t-inf  \t-inf \t-inf  \n",
      "18 \t625   \t-inf  \t-inf \t-inf  \n",
      "19 \t650   \t-inf  \t-inf \t-inf  \n",
      "20 \t701   \t-inf  \t-inf \t-inf  \n",
      "Las tres mejores soluciones encontradas han sido:\n",
      "Individuo con fitness: 4.0\n",
      "Individuo con fitness: 13.0\n",
      "Individuo con fitness: 14.0\n"
     ]
    }
   ],
   "source": [
    "# <NOM_Estadisticas> = tools.Statistics(lambda ind: ind.fitness.values)\n",
    "# <NOM_Estadisticas>.register(\"mínimo\", numpy.min)\n",
    "# <NOM_Estadisticas>.register(\"media\", numpy.mean)\n",
    "# <NOM_Estadisticas>.register(\"máximo\", numpy.max)\n",
    "#\n",
    "# <NOM_SalonFama> = tools.HallOfFame(<N_mejoresSeleccionados>)\n",
    "#\n",
    "# random.seed(12345)\n",
    "población, registro = algorithms.eaSimple(CajaMochila.generaPobMochila01(),\n",
    "                                          CajaMochila,\n",
    "                                          cxpb = 0.5, # Probabilidad de que dos individuos contiguos se crucen\n",
    "                                          mutpb = 0.3, # Probabilidad de que un individuo mute\n",
    "                                          ngen = 20, # Número de generaciones\n",
    "                                          stats = estadísticas,\n",
    "                                          halloffame = salón_fama)\n",
    "#\n",
    "print('Las tres mejores soluciones encontradas han sido:')\n",
    "for individuo in salón_fama:\n",
    "    print('Individuo con fitness: {0}'.format(individuo.fitness.values[0]))"
   ]
  },
  {
   "cell_type": "markdown",
   "metadata": {
    "ein.tags": [
     "worksheet-0"
    ],
    "slideshow": {
     "slide_type": "-"
    }
   },
   "source": [
    "__Ejercicio 2__: para resolver un problema de la mochila 0-1 mediante algoritmos genéticos definimos los parámetros necesarios como sigue:\n",
    "* Los genes son 0 y 1.\n",
    "* Los individuos son cromosomas de longitud la cantidad de elementos disponibles.\n",
    "* Cada individuo representa la solución en la que el elemento $i$-ésimo se incluye en la colección si y solo si el gen $i$-ésimo es 1.\n",
    "* La evaluación del fenotipo de cada individuo es la suma de los valores de los elementos incluidos en la colección, salvo que el peso supere el límite establecido, en cuyo caso se le resta como penalización la cantidad en la que supera ese límite, multiplicada opcionalmente por un $w$ prefijado de antemano.\n",
    "\n",
    "Se pide implementar esta representación en una caja de herramientas que permita realizar las pruebas experimentales que se piden en el ejercicio 5."
   ]
  },
  {
   "cell_type": "code",
   "execution_count": 36,
   "metadata": {
    "autoscroll": "json-false",
    "ein.tags": [
     "worksheet-0"
    ],
    "slideshow": {
     "slide_type": "-"
    }
   },
   "outputs": [
    {
     "name": "stdout",
     "output_type": "stream",
     "text": [
      "gen\tnevals\tmínimo      \tmedia       \tmáximo      \n",
      "0  \t1000  \t-2.18828e+06\t-1.97506e+06\t-1.74009e+06\n",
      "1  \t646   \t-2.09386e+06\t-1.91542e+06\t-1.7106e+06 \n",
      "2  \t651   \t-2.04859e+06\t-1.87137e+06\t-1.63233e+06\n",
      "3  \t618   \t-2.01972e+06\t-1.83127e+06\t-1.6202e+06 \n",
      "4  \t625   \t-1.98613e+06\t-1.79381e+06\t-1.63233e+06\n",
      "5  \t636   \t-1.94375e+06\t-1.76083e+06\t-1.55786e+06\n",
      "6  \t632   \t-1.92646e+06\t-1.73084e+06\t-1.55524e+06\n",
      "7  \t644   \t-1.89393e+06\t-1.69965e+06\t-1.53049e+06\n",
      "8  \t621   \t-1.85909e+06\t-1.67003e+06\t-1.50352e+06\n",
      "9  \t638   \t-1.9154e+06 \t-1.64372e+06\t-1.47702e+06\n",
      "10 \t617   \t-1.87648e+06\t-1.61944e+06\t-1.46237e+06\n",
      "11 \t632   \t-1.8539e+06 \t-1.59592e+06\t-1.43353e+06\n",
      "12 \t668   \t-1.77815e+06\t-1.57126e+06\t-1.39006e+06\n",
      "13 \t617   \t-1.7899e+06 \t-1.54636e+06\t-1.38329e+06\n",
      "14 \t666   \t-1.732e+06  \t-1.52736e+06\t-1.36174e+06\n",
      "15 \t651   \t-1.74198e+06\t-1.50194e+06\t-1.35638e+06\n",
      "16 \t658   \t-1.6912e+06 \t-1.47757e+06\t-1.3392e+06 \n",
      "17 \t659   \t-1.69065e+06\t-1.45704e+06\t-1.2902e+06 \n",
      "18 \t665   \t-1.6509e+06 \t-1.437e+06  \t-1.27618e+06\n",
      "19 \t669   \t-1.69107e+06\t-1.4226e+06 \t-1.24493e+06\n",
      "20 \t618   \t-1.7383e+06 \t-1.40674e+06\t-1.24493e+06\n",
      "Las tres mejores soluciones encontradas han sido:\n",
      "Individuo con fitness: 4.0\n",
      "Individuo con fitness: 13.0\n",
      "Individuo con fitness: 14.0\n"
     ]
    }
   ],
   "source": [
    "def fen2(individuo):\n",
    "    return (i for i in range(T_IND) if individuo[i])\n",
    "def evind2(individuo,w):\n",
    "    peso_acumulado = 0\n",
    "    valor_acumulado = 0\n",
    "    for i in fen2(individuo):\n",
    "        peso_acumulado += PESOS[i]\n",
    "        valor_acumulado += VALORES[i]\n",
    "    if peso_acumulado > 4816:\n",
    "        valor_acumulado -= w * (peso_acumulado - 4816)\n",
    "    return (valor_acumulado,)\n",
    "\n",
    "## Definición vista en clase:\n",
    "\n",
    "def valorMochila01_version2(individuo, k):\n",
    "    peso = 0\n",
    "    valor = 0\n",
    "    for ind in range(T_IND):\n",
    "        peso += individuo[ind]*PESOS[ind]\n",
    "        valor += individuo[ind]*VALORES[ind]\n",
    "    if (peso > 4816):\n",
    "        valor -= k * (peso - 4816)\n",
    "        \n",
    "    return (valor,)\n",
    "\n",
    "CajaMochila.register('evaluate', evind2, w = 10)\n",
    "\n",
    "población, registro = algorithms.eaSimple(CajaMochila.generaPobMochila01(),\n",
    "                                          CajaMochila,\n",
    "                                          cxpb = 0.5, # Probabilidad de que dos individuos contiguos se crucen\n",
    "                                          mutpb = 0.3, # Probabilidad de que un individuo mute\n",
    "                                          ngen = 20, # Número de generaciones\n",
    "                                          stats = estadísticas,\n",
    "                                          halloffame = salón_fama)\n",
    "#\n",
    "print('Las tres mejores soluciones encontradas han sido:')\n",
    "for individuo in salón_fama:\n",
    "    print('Individuo con fitness: {0}'.format(individuo.fitness.values[0]))"
   ]
  },
  {
   "cell_type": "markdown",
   "metadata": {
    "ein.tags": [
     "worksheet-0"
    ],
    "slideshow": {
     "slide_type": "-"
    }
   },
   "source": [
    "__Ejercicio 3__: para resolver un problema de la mochila 0-1 mediante algoritmos genéticos definimos los parámetros necesarios como sigue:\n",
    "* Los genes son 0 y 1.\n",
    "* Los individuos son cromosomas de longitud la cantidad de elementos disponibles.\n",
    "* Cada individuo representa la solución en la que se van considerando en orden los elementos, de tal forma que el elemento $i$-ésimo se incluye en la colección si y solo si el gen $i$-esimo es 1 y no se supera el peso límite.\n",
    "* La evaluación del fenotipo de cada individuo es la suma de los valores de los elementos incluidos en la colección.\n",
    "\n",
    "Se pide implementar esta representación en una caja de herramientas que permita realizar las pruebas experimentales que se piden en el ejercicio 5."
   ]
  },
  {
   "cell_type": "code",
   "execution_count": null,
   "metadata": {},
   "outputs": [],
   "source": []
  },
  {
   "cell_type": "markdown",
   "metadata": {
    "ein.tags": [
     "worksheet-0"
    ],
    "slideshow": {
     "slide_type": "-"
    }
   },
   "source": [
    "__Ejercicio 4__: para resolver un problema de la mochila 0-1 mediante algoritmos genéticos definimos los parámetros necesarios como sigue:\n",
    "* Los genes son los elementos disponibles.\n",
    "* Los individuos son permutaciones de los genes.\n",
    "* Cada individuo representa la solución en la que se van considerando en orden los genes, de tal forma que el elemento representado por el gen se incluye en la colección si no se supera el peso límite.\n",
    "* La evaluación del fenotipo de cada individuo es la suma de los valores de los elementos incluidos en la colección.\n",
    "\n",
    "Se pide implementar esta representación en una caja de herramientas que permita realizar las pruebas experimentales que se piden en el ejercicio 5."
   ]
  },
  {
   "cell_type": "code",
   "execution_count": null,
   "metadata": {},
   "outputs": [],
   "source": []
  },
  {
   "cell_type": "markdown",
   "metadata": {
    "ein.tags": [
     "worksheet-0"
    ],
    "slideshow": {
     "slide_type": "-"
    }
   },
   "source": [
    "__Ejercicio 5__: realizar pruebas experimentales en las que se intente resolver la instancia del problema de la mochila 0-1 proporcionada mediante los algoritmos genéticos implementados en el paquete DEAP, usando las representaciones de los ejercicios 1 a 4, y considerando distintos valores para los parámetros de los algoritmos."
   ]
  },
  {
   "cell_type": "code",
   "execution_count": 1,
   "metadata": {},
   "outputs": [
    {
     "name": "stdout",
     "output_type": "stream",
     "text": [
      "Hola\n"
     ]
    }
   ],
   "source": []
  },
  {
   "cell_type": "markdown",
   "metadata": {},
   "source": [
    "¿Con cuál de las cuatro representaciones has obtenido mejores resultados? ¿Puedes razonar alguna explicación para ello?"
   ]
  }
 ],
 "metadata": {
  "kernelspec": {
   "display_name": "Python 3 (ipykernel)",
   "language": "python",
   "name": "python3"
  },
  "language_info": {
   "codemirror_mode": {
    "name": "ipython",
    "version": 3
   },
   "file_extension": ".py",
   "mimetype": "text/x-python",
   "name": "python",
   "nbconvert_exporter": "python",
   "pygments_lexer": "ipython3",
   "version": "3.9.13"
  },
  "name": "Solución_04.ipynb"
 },
 "nbformat": 4,
 "nbformat_minor": 4
}
