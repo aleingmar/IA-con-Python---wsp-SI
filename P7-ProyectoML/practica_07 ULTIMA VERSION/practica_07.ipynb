{
 "cells": [
  {
   "cell_type": "markdown",
   "metadata": {},
   "source": [
    "# Proyectos de aprendizaje automático\n",
    "\n",
    "La aplicación de algoritmos de aprendizaje automático, no solo consiste en entrenar algoritmos, sino que es un proceso complejo que requiere una serie de pasos, como son el preprocesado de datos, ajuste de modelos y validación. En esta práctica profundizaremos en el tratamiento de datos y veremos algunos de los algoritmos de aprendizaje automático vistos en clase.\n",
    "\n",
    "## Carga y tratamiento de datos\n",
    "\n",
    "En los siguientes ejercicios vamos a utilizar el conjunto de datos [Titanic](http://biostat.mc.vanderbilt.edu/wiki/pub/Main/DataSets/titanic.html) para realizar distintos tipos de modificaciones en los datos: rellenado de valores ausentes y modificación de características categóricas mediante correspondencia numérica, codificación *one-hot* y escalado. El conjunto de datos Titanic contiene información sobre 1309 pasajeros del Titanic el día del naufragio, indicando 14 características como su nombre, sexo, edad, número de ticket, tarifa, puerto de embarque, clase en la que viajaba y si sobrevivió al desastre.\n",
    "\n",
    "Para la carga y tratamiento de datos usaremos dos herramientas:\n",
    "- Pandas: Librería para la manipulación de DataFrames (tablas de datos).\n",
    "- Numpy: Librería para manipulación de vectores y matrices.\n",
    "- Scikit-learn: Este framework, además de librerías de aprendizaje automático, también proporciona numerosas operaciones de preprocesado de datos.\n",
    "\n",
    "El conjunto de datos está en formato CSV así que usaremos la librería Pandas para leerlo."
   ]
  },
  {
   "cell_type": "code",
   "execution_count": 1,
   "metadata": {},
   "outputs": [],
   "source": [
    "import pandas as pd\n",
    "import numpy as np"
   ]
  },
  {
   "cell_type": "code",
   "execution_count": 2,
   "metadata": {},
   "outputs": [],
   "source": [
    "titanic_path = ('./titanic.csv')\n",
    "df = pd.read_csv(titanic_path)"
   ]
  },
  {
   "cell_type": "markdown",
   "metadata": {},
   "source": [
    "Veamos las dimensiones de nuestro conjunto de datos."
   ]
  },
  {
   "cell_type": "code",
   "execution_count": 3,
   "metadata": {},
   "outputs": [
    {
     "data": {
      "text/plain": [
       "(1309, 14)"
      ]
     },
     "execution_count": 3,
     "metadata": {},
     "output_type": "execute_result"
    }
   ],
   "source": [
    "df.shape"
   ]
  },
  {
   "cell_type": "markdown",
   "metadata": {},
   "source": [
    "Para tener una idea de cómo es este conjunto de datos podemos visualizar los 5 primeros registros."
   ]
  },
  {
   "cell_type": "code",
   "execution_count": 4,
   "metadata": {},
   "outputs": [
    {
     "data": {
      "text/html": [
       "<div>\n",
       "<style scoped>\n",
       "    .dataframe tbody tr th:only-of-type {\n",
       "        vertical-align: middle;\n",
       "    }\n",
       "\n",
       "    .dataframe tbody tr th {\n",
       "        vertical-align: top;\n",
       "    }\n",
       "\n",
       "    .dataframe thead th {\n",
       "        text-align: right;\n",
       "    }\n",
       "</style>\n",
       "<table border=\"1\" class=\"dataframe\">\n",
       "  <thead>\n",
       "    <tr style=\"text-align: right;\">\n",
       "      <th></th>\n",
       "      <th>pclass</th>\n",
       "      <th>survived</th>\n",
       "      <th>name</th>\n",
       "      <th>sex</th>\n",
       "      <th>age</th>\n",
       "      <th>sibsp</th>\n",
       "      <th>parch</th>\n",
       "      <th>ticket</th>\n",
       "      <th>fare</th>\n",
       "      <th>cabin</th>\n",
       "      <th>embarked</th>\n",
       "      <th>boat</th>\n",
       "      <th>body</th>\n",
       "      <th>home.dest</th>\n",
       "    </tr>\n",
       "  </thead>\n",
       "  <tbody>\n",
       "    <tr>\n",
       "      <th>0</th>\n",
       "      <td>1</td>\n",
       "      <td>1</td>\n",
       "      <td>Allen, Miss. Elisabeth Walton</td>\n",
       "      <td>female</td>\n",
       "      <td>29.0000</td>\n",
       "      <td>0</td>\n",
       "      <td>0</td>\n",
       "      <td>24160</td>\n",
       "      <td>211.3375</td>\n",
       "      <td>B5</td>\n",
       "      <td>S</td>\n",
       "      <td>2</td>\n",
       "      <td>NaN</td>\n",
       "      <td>St Louis, MO</td>\n",
       "    </tr>\n",
       "    <tr>\n",
       "      <th>1</th>\n",
       "      <td>1</td>\n",
       "      <td>1</td>\n",
       "      <td>Allison, Master. Hudson Trevor</td>\n",
       "      <td>male</td>\n",
       "      <td>0.9167</td>\n",
       "      <td>1</td>\n",
       "      <td>2</td>\n",
       "      <td>113781</td>\n",
       "      <td>151.5500</td>\n",
       "      <td>C22 C26</td>\n",
       "      <td>S</td>\n",
       "      <td>11</td>\n",
       "      <td>NaN</td>\n",
       "      <td>Montreal, PQ / Chesterville, ON</td>\n",
       "    </tr>\n",
       "    <tr>\n",
       "      <th>2</th>\n",
       "      <td>1</td>\n",
       "      <td>0</td>\n",
       "      <td>Allison, Miss. Helen Loraine</td>\n",
       "      <td>female</td>\n",
       "      <td>2.0000</td>\n",
       "      <td>1</td>\n",
       "      <td>2</td>\n",
       "      <td>113781</td>\n",
       "      <td>151.5500</td>\n",
       "      <td>C22 C26</td>\n",
       "      <td>S</td>\n",
       "      <td>NaN</td>\n",
       "      <td>NaN</td>\n",
       "      <td>Montreal, PQ / Chesterville, ON</td>\n",
       "    </tr>\n",
       "    <tr>\n",
       "      <th>3</th>\n",
       "      <td>1</td>\n",
       "      <td>0</td>\n",
       "      <td>Allison, Mr. Hudson Joshua Creighton</td>\n",
       "      <td>male</td>\n",
       "      <td>30.0000</td>\n",
       "      <td>1</td>\n",
       "      <td>2</td>\n",
       "      <td>113781</td>\n",
       "      <td>151.5500</td>\n",
       "      <td>C22 C26</td>\n",
       "      <td>S</td>\n",
       "      <td>NaN</td>\n",
       "      <td>135.0</td>\n",
       "      <td>Montreal, PQ / Chesterville, ON</td>\n",
       "    </tr>\n",
       "    <tr>\n",
       "      <th>4</th>\n",
       "      <td>1</td>\n",
       "      <td>0</td>\n",
       "      <td>Allison, Mrs. Hudson J C (Bessie Waldo Daniels)</td>\n",
       "      <td>female</td>\n",
       "      <td>25.0000</td>\n",
       "      <td>1</td>\n",
       "      <td>2</td>\n",
       "      <td>113781</td>\n",
       "      <td>151.5500</td>\n",
       "      <td>C22 C26</td>\n",
       "      <td>S</td>\n",
       "      <td>NaN</td>\n",
       "      <td>NaN</td>\n",
       "      <td>Montreal, PQ / Chesterville, ON</td>\n",
       "    </tr>\n",
       "  </tbody>\n",
       "</table>\n",
       "</div>"
      ],
      "text/plain": [
       "   pclass  survived                                             name     sex  \\\n",
       "0       1         1                    Allen, Miss. Elisabeth Walton  female   \n",
       "1       1         1                   Allison, Master. Hudson Trevor    male   \n",
       "2       1         0                     Allison, Miss. Helen Loraine  female   \n",
       "3       1         0             Allison, Mr. Hudson Joshua Creighton    male   \n",
       "4       1         0  Allison, Mrs. Hudson J C (Bessie Waldo Daniels)  female   \n",
       "\n",
       "       age  sibsp  parch  ticket      fare    cabin embarked boat   body  \\\n",
       "0  29.0000      0      0   24160  211.3375       B5        S    2    NaN   \n",
       "1   0.9167      1      2  113781  151.5500  C22 C26        S   11    NaN   \n",
       "2   2.0000      1      2  113781  151.5500  C22 C26        S  NaN    NaN   \n",
       "3  30.0000      1      2  113781  151.5500  C22 C26        S  NaN  135.0   \n",
       "4  25.0000      1      2  113781  151.5500  C22 C26        S  NaN    NaN   \n",
       "\n",
       "                         home.dest  \n",
       "0                     St Louis, MO  \n",
       "1  Montreal, PQ / Chesterville, ON  \n",
       "2  Montreal, PQ / Chesterville, ON  \n",
       "3  Montreal, PQ / Chesterville, ON  \n",
       "4  Montreal, PQ / Chesterville, ON  "
      ]
     },
     "execution_count": 4,
     "metadata": {},
     "output_type": "execute_result"
    }
   ],
   "source": [
    "df[0:5]"
   ]
  },
  {
   "cell_type": "markdown",
   "metadata": {},
   "source": [
    "También podemos acceder a un subconjunto de columnas, dados sus nombres:"
   ]
  },
  {
   "cell_type": "code",
   "execution_count": 5,
   "metadata": {},
   "outputs": [
    {
     "data": {
      "text/html": [
       "<div>\n",
       "<style scoped>\n",
       "    .dataframe tbody tr th:only-of-type {\n",
       "        vertical-align: middle;\n",
       "    }\n",
       "\n",
       "    .dataframe tbody tr th {\n",
       "        vertical-align: top;\n",
       "    }\n",
       "\n",
       "    .dataframe thead th {\n",
       "        text-align: right;\n",
       "    }\n",
       "</style>\n",
       "<table border=\"1\" class=\"dataframe\">\n",
       "  <thead>\n",
       "    <tr style=\"text-align: right;\">\n",
       "      <th></th>\n",
       "      <th>name</th>\n",
       "      <th>age</th>\n",
       "      <th>survived</th>\n",
       "    </tr>\n",
       "  </thead>\n",
       "  <tbody>\n",
       "    <tr>\n",
       "      <th>0</th>\n",
       "      <td>Allen, Miss. Elisabeth Walton</td>\n",
       "      <td>29.0000</td>\n",
       "      <td>1</td>\n",
       "    </tr>\n",
       "    <tr>\n",
       "      <th>1</th>\n",
       "      <td>Allison, Master. Hudson Trevor</td>\n",
       "      <td>0.9167</td>\n",
       "      <td>1</td>\n",
       "    </tr>\n",
       "    <tr>\n",
       "      <th>2</th>\n",
       "      <td>Allison, Miss. Helen Loraine</td>\n",
       "      <td>2.0000</td>\n",
       "      <td>0</td>\n",
       "    </tr>\n",
       "    <tr>\n",
       "      <th>3</th>\n",
       "      <td>Allison, Mr. Hudson Joshua Creighton</td>\n",
       "      <td>30.0000</td>\n",
       "      <td>0</td>\n",
       "    </tr>\n",
       "    <tr>\n",
       "      <th>4</th>\n",
       "      <td>Allison, Mrs. Hudson J C (Bessie Waldo Daniels)</td>\n",
       "      <td>25.0000</td>\n",
       "      <td>0</td>\n",
       "    </tr>\n",
       "    <tr>\n",
       "      <th>...</th>\n",
       "      <td>...</td>\n",
       "      <td>...</td>\n",
       "      <td>...</td>\n",
       "    </tr>\n",
       "    <tr>\n",
       "      <th>1304</th>\n",
       "      <td>Zabour, Miss. Hileni</td>\n",
       "      <td>14.5000</td>\n",
       "      <td>0</td>\n",
       "    </tr>\n",
       "    <tr>\n",
       "      <th>1305</th>\n",
       "      <td>Zabour, Miss. Thamine</td>\n",
       "      <td>NaN</td>\n",
       "      <td>0</td>\n",
       "    </tr>\n",
       "    <tr>\n",
       "      <th>1306</th>\n",
       "      <td>Zakarian, Mr. Mapriededer</td>\n",
       "      <td>26.5000</td>\n",
       "      <td>0</td>\n",
       "    </tr>\n",
       "    <tr>\n",
       "      <th>1307</th>\n",
       "      <td>Zakarian, Mr. Ortin</td>\n",
       "      <td>27.0000</td>\n",
       "      <td>0</td>\n",
       "    </tr>\n",
       "    <tr>\n",
       "      <th>1308</th>\n",
       "      <td>Zimmerman, Mr. Leo</td>\n",
       "      <td>29.0000</td>\n",
       "      <td>0</td>\n",
       "    </tr>\n",
       "  </tbody>\n",
       "</table>\n",
       "<p>1309 rows × 3 columns</p>\n",
       "</div>"
      ],
      "text/plain": [
       "                                                 name      age  survived\n",
       "0                       Allen, Miss. Elisabeth Walton  29.0000         1\n",
       "1                      Allison, Master. Hudson Trevor   0.9167         1\n",
       "2                        Allison, Miss. Helen Loraine   2.0000         0\n",
       "3                Allison, Mr. Hudson Joshua Creighton  30.0000         0\n",
       "4     Allison, Mrs. Hudson J C (Bessie Waldo Daniels)  25.0000         0\n",
       "...                                               ...      ...       ...\n",
       "1304                             Zabour, Miss. Hileni  14.5000         0\n",
       "1305                            Zabour, Miss. Thamine      NaN         0\n",
       "1306                        Zakarian, Mr. Mapriededer  26.5000         0\n",
       "1307                              Zakarian, Mr. Ortin  27.0000         0\n",
       "1308                               Zimmerman, Mr. Leo  29.0000         0\n",
       "\n",
       "[1309 rows x 3 columns]"
      ]
     },
     "execution_count": 5,
     "metadata": {},
     "output_type": "execute_result"
    }
   ],
   "source": [
    "df[['name', 'age', 'survived']]"
   ]
  },
  {
   "cell_type": "markdown",
   "metadata": {},
   "source": [
    "Para este ejercicio utilizaremos las características clase (pclass), sexo (sex), edad (age), tarifa (fare), número de hijos y cónyuge en el barco (sibsp), camarote (cabin) y puerto de embarque (embarked), además de la variable respuesta sobre si el pasajero sobrevivió (survived). pclass es una característica numérica que puede tomar tres valores, 1, 2 o 3, correspondiendo con la clase en la que se encontraba el pasajero. age, sibsp y fare son características numéricas continuas. sex, embarked y cabin son características de tipo categórico."
   ]
  },
  {
   "cell_type": "code",
   "execution_count": 6,
   "metadata": {},
   "outputs": [],
   "source": [
    "data = df[['pclass','sex','age', 'sibsp', 'fare', 'cabin', 'embarked', 'survived']]"
   ]
  },
  {
   "cell_type": "markdown",
   "metadata": {},
   "source": [
    "#### Valores ausentes en los datos"
   ]
  },
  {
   "cell_type": "markdown",
   "metadata": {},
   "source": [
    "Primero vamos a analizar los datos para comprobar si existen valores ausentes y cuántos hay. Para esto usamos el método \n",
    "`isnull()` de los *dataframe* de Pandas, que crea un índice de los valores nulos; y a continuación contamos cuantos valores nulos hay para cada característica con el método `sum()`."
   ]
  },
  {
   "cell_type": "code",
   "execution_count": 7,
   "metadata": {},
   "outputs": [
    {
     "data": {
      "text/plain": [
       "pclass         0\n",
       "sex            0\n",
       "age          263\n",
       "sibsp          0\n",
       "fare           1\n",
       "cabin       1014\n",
       "embarked       2\n",
       "survived       0\n",
       "dtype: int64"
      ]
     },
     "execution_count": 7,
     "metadata": {},
     "output_type": "execute_result"
    }
   ],
   "source": [
    "data.isnull().sum()"
   ]
  },
  {
   "cell_type": "markdown",
   "metadata": {},
   "source": [
    "Como podemos ver, hay una gran cantidad de valores ausentes para la característica edad y uno o dos para las características tarifa y puerto de embarque."
   ]
  },
  {
   "cell_type": "markdown",
   "metadata": {},
   "source": [
    "#### Eliminación de las filas con valores faltantes\n",
    "\n",
    "La primera forma de tratar con valores ausentes consiste en eliminarlos. Esto es fácil de hacer usando la librería Pandas. Simplemente, hay que usar el método `dropna()` de los *dataframe* para conseguirlo."
   ]
  },
  {
   "cell_type": "code",
   "execution_count": 8,
   "metadata": {
    "scrolled": true
   },
   "outputs": [
    {
     "data": {
      "text/html": [
       "<div>\n",
       "<style scoped>\n",
       "    .dataframe tbody tr th:only-of-type {\n",
       "        vertical-align: middle;\n",
       "    }\n",
       "\n",
       "    .dataframe tbody tr th {\n",
       "        vertical-align: top;\n",
       "    }\n",
       "\n",
       "    .dataframe thead th {\n",
       "        text-align: right;\n",
       "    }\n",
       "</style>\n",
       "<table border=\"1\" class=\"dataframe\">\n",
       "  <thead>\n",
       "    <tr style=\"text-align: right;\">\n",
       "      <th></th>\n",
       "      <th>pclass</th>\n",
       "      <th>sex</th>\n",
       "      <th>age</th>\n",
       "      <th>sibsp</th>\n",
       "      <th>fare</th>\n",
       "      <th>cabin</th>\n",
       "      <th>embarked</th>\n",
       "      <th>survived</th>\n",
       "    </tr>\n",
       "  </thead>\n",
       "  <tbody>\n",
       "    <tr>\n",
       "      <th>0</th>\n",
       "      <td>1</td>\n",
       "      <td>female</td>\n",
       "      <td>29.0000</td>\n",
       "      <td>0</td>\n",
       "      <td>211.3375</td>\n",
       "      <td>B5</td>\n",
       "      <td>S</td>\n",
       "      <td>1</td>\n",
       "    </tr>\n",
       "    <tr>\n",
       "      <th>1</th>\n",
       "      <td>1</td>\n",
       "      <td>male</td>\n",
       "      <td>0.9167</td>\n",
       "      <td>1</td>\n",
       "      <td>151.5500</td>\n",
       "      <td>C22 C26</td>\n",
       "      <td>S</td>\n",
       "      <td>1</td>\n",
       "    </tr>\n",
       "    <tr>\n",
       "      <th>2</th>\n",
       "      <td>1</td>\n",
       "      <td>female</td>\n",
       "      <td>2.0000</td>\n",
       "      <td>1</td>\n",
       "      <td>151.5500</td>\n",
       "      <td>C22 C26</td>\n",
       "      <td>S</td>\n",
       "      <td>0</td>\n",
       "    </tr>\n",
       "    <tr>\n",
       "      <th>3</th>\n",
       "      <td>1</td>\n",
       "      <td>male</td>\n",
       "      <td>30.0000</td>\n",
       "      <td>1</td>\n",
       "      <td>151.5500</td>\n",
       "      <td>C22 C26</td>\n",
       "      <td>S</td>\n",
       "      <td>0</td>\n",
       "    </tr>\n",
       "    <tr>\n",
       "      <th>4</th>\n",
       "      <td>1</td>\n",
       "      <td>female</td>\n",
       "      <td>25.0000</td>\n",
       "      <td>1</td>\n",
       "      <td>151.5500</td>\n",
       "      <td>C22 C26</td>\n",
       "      <td>S</td>\n",
       "      <td>0</td>\n",
       "    </tr>\n",
       "    <tr>\n",
       "      <th>...</th>\n",
       "      <td>...</td>\n",
       "      <td>...</td>\n",
       "      <td>...</td>\n",
       "      <td>...</td>\n",
       "      <td>...</td>\n",
       "      <td>...</td>\n",
       "      <td>...</td>\n",
       "      <td>...</td>\n",
       "    </tr>\n",
       "    <tr>\n",
       "      <th>1188</th>\n",
       "      <td>3</td>\n",
       "      <td>female</td>\n",
       "      <td>24.0000</td>\n",
       "      <td>0</td>\n",
       "      <td>16.7000</td>\n",
       "      <td>G6</td>\n",
       "      <td>S</td>\n",
       "      <td>1</td>\n",
       "    </tr>\n",
       "    <tr>\n",
       "      <th>1189</th>\n",
       "      <td>3</td>\n",
       "      <td>female</td>\n",
       "      <td>4.0000</td>\n",
       "      <td>1</td>\n",
       "      <td>16.7000</td>\n",
       "      <td>G6</td>\n",
       "      <td>S</td>\n",
       "      <td>1</td>\n",
       "    </tr>\n",
       "    <tr>\n",
       "      <th>1217</th>\n",
       "      <td>3</td>\n",
       "      <td>male</td>\n",
       "      <td>19.0000</td>\n",
       "      <td>0</td>\n",
       "      <td>7.6500</td>\n",
       "      <td>F G73</td>\n",
       "      <td>S</td>\n",
       "      <td>0</td>\n",
       "    </tr>\n",
       "    <tr>\n",
       "      <th>1230</th>\n",
       "      <td>3</td>\n",
       "      <td>female</td>\n",
       "      <td>2.0000</td>\n",
       "      <td>0</td>\n",
       "      <td>10.4625</td>\n",
       "      <td>G6</td>\n",
       "      <td>S</td>\n",
       "      <td>0</td>\n",
       "    </tr>\n",
       "    <tr>\n",
       "      <th>1231</th>\n",
       "      <td>3</td>\n",
       "      <td>female</td>\n",
       "      <td>29.0000</td>\n",
       "      <td>1</td>\n",
       "      <td>10.4625</td>\n",
       "      <td>G6</td>\n",
       "      <td>S</td>\n",
       "      <td>0</td>\n",
       "    </tr>\n",
       "  </tbody>\n",
       "</table>\n",
       "<p>270 rows × 8 columns</p>\n",
       "</div>"
      ],
      "text/plain": [
       "      pclass     sex      age  sibsp      fare    cabin embarked  survived\n",
       "0          1  female  29.0000      0  211.3375       B5        S         1\n",
       "1          1    male   0.9167      1  151.5500  C22 C26        S         1\n",
       "2          1  female   2.0000      1  151.5500  C22 C26        S         0\n",
       "3          1    male  30.0000      1  151.5500  C22 C26        S         0\n",
       "4          1  female  25.0000      1  151.5500  C22 C26        S         0\n",
       "...      ...     ...      ...    ...       ...      ...      ...       ...\n",
       "1188       3  female  24.0000      0   16.7000       G6        S         1\n",
       "1189       3  female   4.0000      1   16.7000       G6        S         1\n",
       "1217       3    male  19.0000      0    7.6500    F G73        S         0\n",
       "1230       3  female   2.0000      0   10.4625       G6        S         0\n",
       "1231       3  female  29.0000      1   10.4625       G6        S         0\n",
       "\n",
       "[270 rows x 8 columns]"
      ]
     },
     "execution_count": 8,
     "metadata": {},
     "output_type": "execute_result"
    }
   ],
   "source": [
    "data.dropna()"
   ]
  },
  {
   "cell_type": "code",
   "execution_count": 9,
   "metadata": {},
   "outputs": [
    {
     "data": {
      "text/plain": [
       "pclass      0\n",
       "sex         0\n",
       "age         0\n",
       "sibsp       0\n",
       "fare        0\n",
       "cabin       0\n",
       "embarked    0\n",
       "survived    0\n",
       "dtype: int64"
      ]
     },
     "execution_count": 9,
     "metadata": {},
     "output_type": "execute_result"
    }
   ],
   "source": [
    "data.dropna().isnull().sum()"
   ]
  },
  {
   "cell_type": "markdown",
   "metadata": {},
   "source": [
    "A continuación vamos a ver medidas menos drásticas para tratar con los valores ausentes, pero antes vamos a crear un índice de los valores ausentes de la característica edad, para ver el efecto de los cambios que vamos a realizar."
   ]
  },
  {
   "cell_type": "code",
   "execution_count": 10,
   "metadata": {},
   "outputs": [
    {
     "data": {
      "text/html": [
       "<div>\n",
       "<style scoped>\n",
       "    .dataframe tbody tr th:only-of-type {\n",
       "        vertical-align: middle;\n",
       "    }\n",
       "\n",
       "    .dataframe tbody tr th {\n",
       "        vertical-align: top;\n",
       "    }\n",
       "\n",
       "    .dataframe thead th {\n",
       "        text-align: right;\n",
       "    }\n",
       "</style>\n",
       "<table border=\"1\" class=\"dataframe\">\n",
       "  <thead>\n",
       "    <tr style=\"text-align: right;\">\n",
       "      <th></th>\n",
       "      <th>pclass</th>\n",
       "      <th>sex</th>\n",
       "      <th>age</th>\n",
       "      <th>sibsp</th>\n",
       "      <th>fare</th>\n",
       "      <th>cabin</th>\n",
       "      <th>embarked</th>\n",
       "      <th>survived</th>\n",
       "    </tr>\n",
       "  </thead>\n",
       "  <tbody>\n",
       "    <tr>\n",
       "      <th>15</th>\n",
       "      <td>1</td>\n",
       "      <td>male</td>\n",
       "      <td>NaN</td>\n",
       "      <td>0</td>\n",
       "      <td>25.9250</td>\n",
       "      <td>NaN</td>\n",
       "      <td>S</td>\n",
       "      <td>0</td>\n",
       "    </tr>\n",
       "    <tr>\n",
       "      <th>37</th>\n",
       "      <td>1</td>\n",
       "      <td>male</td>\n",
       "      <td>NaN</td>\n",
       "      <td>0</td>\n",
       "      <td>26.5500</td>\n",
       "      <td>NaN</td>\n",
       "      <td>S</td>\n",
       "      <td>1</td>\n",
       "    </tr>\n",
       "    <tr>\n",
       "      <th>40</th>\n",
       "      <td>1</td>\n",
       "      <td>male</td>\n",
       "      <td>NaN</td>\n",
       "      <td>0</td>\n",
       "      <td>39.6000</td>\n",
       "      <td>NaN</td>\n",
       "      <td>C</td>\n",
       "      <td>0</td>\n",
       "    </tr>\n",
       "    <tr>\n",
       "      <th>46</th>\n",
       "      <td>1</td>\n",
       "      <td>male</td>\n",
       "      <td>NaN</td>\n",
       "      <td>0</td>\n",
       "      <td>31.0000</td>\n",
       "      <td>NaN</td>\n",
       "      <td>S</td>\n",
       "      <td>0</td>\n",
       "    </tr>\n",
       "    <tr>\n",
       "      <th>59</th>\n",
       "      <td>1</td>\n",
       "      <td>female</td>\n",
       "      <td>NaN</td>\n",
       "      <td>0</td>\n",
       "      <td>27.7208</td>\n",
       "      <td>NaN</td>\n",
       "      <td>C</td>\n",
       "      <td>1</td>\n",
       "    </tr>\n",
       "  </tbody>\n",
       "</table>\n",
       "</div>"
      ],
      "text/plain": [
       "    pclass     sex  age  sibsp     fare cabin embarked  survived\n",
       "15       1    male  NaN      0  25.9250   NaN        S         0\n",
       "37       1    male  NaN      0  26.5500   NaN        S         1\n",
       "40       1    male  NaN      0  39.6000   NaN        C         0\n",
       "46       1    male  NaN      0  31.0000   NaN        S         0\n",
       "59       1  female  NaN      0  27.7208   NaN        C         1"
      ]
     },
     "execution_count": 10,
     "metadata": {},
     "output_type": "execute_result"
    }
   ],
   "source": [
    "missing = data['age'].isnull()\n",
    "\n",
    "data[missing][0:5]"
   ]
  },
  {
   "cell_type": "markdown",
   "metadata": {},
   "source": [
    "#### Imputación por la media o la moda"
   ]
  },
  {
   "cell_type": "markdown",
   "metadata": {},
   "source": [
    "Vamos a rellenar los valores ausentes de la característica edad con la media de todos los datos disponibles. El valor de la media se puede obtener con el método `mean()` de los *dataframe*."
   ]
  },
  {
   "cell_type": "code",
   "execution_count": 11,
   "metadata": {},
   "outputs": [
    {
     "data": {
      "text/plain": [
       "29.8811345124283"
      ]
     },
     "execution_count": 11,
     "metadata": {},
     "output_type": "execute_result"
    }
   ],
   "source": [
    "data['age'].mean()"
   ]
  },
  {
   "cell_type": "markdown",
   "metadata": {},
   "source": [
    "Para rellenar los campos vacíos de una característica vamos a utilizar la clase `SimpleImputer` de la librería `impute` de *Scikit-learn*. Esta clase nos permite rellenar los campos vacíos de un conjunto de datos con distintas estrategias, como la media, la mediana o la moda."
   ]
  },
  {
   "cell_type": "code",
   "execution_count": 12,
   "metadata": {},
   "outputs": [],
   "source": [
    "from sklearn.impute import SimpleImputer"
   ]
  },
  {
   "cell_type": "markdown",
   "metadata": {},
   "source": [
    "El inconveniente es que la clase `SimpleImputer` actúa sobre todo el conjunto de datos, usando la misma estrategia para rellenar todos los huecos vacíos de todas las características. Si usamos esta clase con el objetivo de rellenar los campos vacíos de la característica edad con la media, se producirá un error al tratar de rellenar los campos vacíos de características categóricas. La única estrategia válida para cualquier característica, independientemente de si es categórica o numérica, es la moda."
   ]
  },
  {
   "cell_type": "code",
   "execution_count": 13,
   "metadata": {
    "scrolled": true
   },
   "outputs": [],
   "source": [
    "si = SimpleImputer(strategy='mean')\n",
    "\n",
    "#si.fit(data)"
   ]
  },
  {
   "cell_type": "markdown",
   "metadata": {},
   "source": [
    "*Scikit-learn* incorpora la clase `ColumnTransformer` con el objetivo de hacer transformaciones en un conjunto de datos especificando las columnas sobre las que queremos actuar. Se encuentra en la librería `compose`."
   ]
  },
  {
   "cell_type": "code",
   "execution_count": 14,
   "metadata": {},
   "outputs": [],
   "source": [
    "from sklearn.compose import ColumnTransformer"
   ]
  },
  {
   "cell_type": "markdown",
   "metadata": {},
   "source": [
    "En el constructor de la clase `ColumnTransformer` hay que proporcionar una lista de ternas formadas por un nombre único asociado a la transformación para un conjunto de columnas, la transformación que queremos realizar (en este caso rellenar los campos vacíos con la media) y las columnas sobre las que queremos actuar (en este caso la característica edad). Podemos indicar varias columnas y la transformación se llevará a cabo sobre todas ellas de forma independiente."
   ]
  },
  {
   "cell_type": "code",
   "execution_count": 15,
   "metadata": {},
   "outputs": [],
   "source": [
    "ct = ColumnTransformer([(\"media\",SimpleImputer(strategy='mean'),['age'])])"
   ]
  },
  {
   "cell_type": "markdown",
   "metadata": {},
   "source": [
    "Entrenamos esta instancia de la clase `ColumnTransformer` con los datos y podemos ver el resultado sobre los ejemplos que contenían valores vacíos para la característica edad."
   ]
  },
  {
   "cell_type": "code",
   "execution_count": 16,
   "metadata": {},
   "outputs": [
    {
     "data": {
      "text/plain": [
       "array([[29.88113451],\n",
       "       [29.88113451],\n",
       "       [29.88113451],\n",
       "       [29.88113451],\n",
       "       [29.88113451]])"
      ]
     },
     "execution_count": 16,
     "metadata": {},
     "output_type": "execute_result"
    }
   ],
   "source": [
    "npdata = ct.fit_transform(data)\n",
    "\n",
    "npdata[missing][0:5]"
   ]
  },
  {
   "cell_type": "markdown",
   "metadata": {},
   "source": [
    "Como podemos observar, se ha producido la transformación, pero hemos perdido el resto de columnas de nuestro conjunto de datos. Esto es porque la clase `ColumnTransformer` actúa sobre las características que se indican, eliminando todas las demás. Si queremos modificar este comportamiento, podemos hacerlo usando el parámetro `remainder`, que sirve para especificar qué hacer con el resto de las características, con el valor `passthrough`, que indica que se deben dejar sin modificar."
   ]
  },
  {
   "cell_type": "code",
   "execution_count": 17,
   "metadata": {
    "scrolled": true
   },
   "outputs": [
    {
     "data": {
      "text/plain": [
       "array([[29.8811345124283, 1, 'male', 0, 25.925, nan, 'S', 0],\n",
       "       [29.8811345124283, 1, 'male', 0, 26.55, nan, 'S', 1],\n",
       "       [29.8811345124283, 1, 'male', 0, 39.6, nan, 'C', 0],\n",
       "       [29.8811345124283, 1, 'male', 0, 31.0, nan, 'S', 0],\n",
       "       [29.8811345124283, 1, 'female', 0, 27.7208, nan, 'C', 1]],\n",
       "      dtype=object)"
      ]
     },
     "execution_count": 17,
     "metadata": {},
     "output_type": "execute_result"
    }
   ],
   "source": [
    "ct = ColumnTransformer([(\"media\",SimpleImputer(strategy='mean'),['age'])],\n",
    "                        remainder='passthrough')\n",
    "\n",
    "npdata = ct.fit_transform(data)\n",
    "\n",
    "npdata[missing][0:5]"
   ]
  },
  {
   "cell_type": "markdown",
   "metadata": {},
   "source": [
    "Otra cosa que observamos ahora es que se ha alterado el orden de las características. Esto se debe a que la clase `ColumnTransformer` deja las características en el orden en que se indican en la lista de transformaciones. Si queremos mantener el orden original, deberíamos indicar una transformación nula para el resto de características distintas de la edad, en el orden que queramos mantener. La transformación nula se indica usando el valor `'passthrough'` como segundo campo de las ternas que indican cómo actuar sobre las columnas."
   ]
  },
  {
   "cell_type": "code",
   "execution_count": 18,
   "metadata": {},
   "outputs": [],
   "source": [
    "ct = ColumnTransformer([(\"original1\",'passthrough',['pclass','sex']),\n",
    "                        (\"media\",SimpleImputer(strategy='mean'),['age']),\n",
    "                        (\"original2\",'passthrough',['fare','embarked'])])\n",
    "\n",
    "npdata = ct.fit_transform(data)"
   ]
  },
  {
   "cell_type": "code",
   "execution_count": 19,
   "metadata": {},
   "outputs": [
    {
     "name": "stdout",
     "output_type": "stream",
     "text": [
      "[[1 'male' 29.8811345124283 25.925 'S']\n",
      " [1 'male' 29.8811345124283 26.55 'S']\n",
      " [1 'male' 29.8811345124283 39.6 'C']\n",
      " ...\n",
      " [3 'male' 29.8811345124283 7.225 'C']\n",
      " [3 'male' 29.8811345124283 14.4583 'C']\n",
      " [3 'female' 29.8811345124283 14.4542 'C']]\n"
     ]
    }
   ],
   "source": [
    "print(ct.transform(data)[missing])"
   ]
  },
  {
   "cell_type": "markdown",
   "metadata": {},
   "source": [
    "Vamos ahora a rellenar valores ausentes usando otro criterio, en concreto la mediana para la característica tarifa. La mediana de un conjunto de datos se puede obtener con el método `median()` de los *dataframe*."
   ]
  },
  {
   "cell_type": "code",
   "execution_count": 20,
   "metadata": {},
   "outputs": [
    {
     "data": {
      "text/plain": [
       "14.4542"
      ]
     },
     "execution_count": 20,
     "metadata": {},
     "output_type": "execute_result"
    }
   ],
   "source": [
    "data['fare'].median()"
   ]
  },
  {
   "cell_type": "markdown",
   "metadata": {},
   "source": [
    "Hacer esta modificación es tan simple como indicarla en una instancia de la clase `ColumnTransformer` sobre el dato correspondiente. En este caso ampliamos la instancia anterior para hacer esta segunda modificación."
   ]
  },
  {
   "cell_type": "code",
   "execution_count": 21,
   "metadata": {},
   "outputs": [],
   "source": [
    "ct = ColumnTransformer([(\"original1\",'passthrough',['pclass','sex']),\n",
    "                         (\"si1\",SimpleImputer(strategy='mean'),['age']),\n",
    "                         (\"si2\",SimpleImputer(strategy='median'),['fare']),\n",
    "                         (\"original2\",'passthrough',['embarked'])])\n",
    "\n",
    "npdata = ct.fit_transform(data)"
   ]
  },
  {
   "cell_type": "markdown",
   "metadata": {},
   "source": [
    "A continuación, vamos a rellenar los valores ausentes de la característica puerto de embarque con la moda. La moda de un conjunto de datos se puede obtener con el método `mode()` de los *dataframe*. En el resultado se muestran todos los valores que tiene un máximo de frecuencia de aparición en el conjunto de datos."
   ]
  },
  {
   "cell_type": "code",
   "execution_count": 22,
   "metadata": {},
   "outputs": [
    {
     "data": {
      "text/plain": [
       "0    S\n",
       "Name: embarked, dtype: object"
      ]
     },
     "execution_count": 22,
     "metadata": {},
     "output_type": "execute_result"
    }
   ],
   "source": [
    "data['embarked'].mode()"
   ]
  },
  {
   "cell_type": "markdown",
   "metadata": {},
   "source": [
    "Finalmente, incluimos esta transformación para la característica puerto de embarque en la instancia de la clase `ColumnTransformer`. Una vez hecho esto, entrenamos la clase con nuestro conjunto de datos y creamos una versión modificada para usarla en el resto de esta hoja de trabajo."
   ]
  },
  {
   "cell_type": "code",
   "execution_count": 23,
   "metadata": {},
   "outputs": [
    {
     "data": {
      "text/plain": [
       "Index(['pclass', 'sex', 'age', 'sibsp', 'fare', 'cabin', 'embarked',\n",
       "       'survived'],\n",
       "      dtype='object')"
      ]
     },
     "execution_count": 23,
     "metadata": {},
     "output_type": "execute_result"
    }
   ],
   "source": [
    "data.columns"
   ]
  },
  {
   "cell_type": "code",
   "execution_count": 24,
   "metadata": {
    "scrolled": true
   },
   "outputs": [
    {
     "data": {
      "text/plain": [
       "array([[1, 'female', 29.0, ..., 'B5', 'S', 1],\n",
       "       [1, 'male', 0.9167, ..., 'C22 C26', 'S', 1],\n",
       "       [1, 'female', 2.0, ..., 'C22 C26', 'S', 0],\n",
       "       ...,\n",
       "       [3, 'male', 26.5, ..., nan, 'C', 0],\n",
       "       [3, 'male', 27.0, ..., nan, 'C', 0],\n",
       "       [3, 'male', 29.0, ..., nan, 'S', 0]], dtype=object)"
      ]
     },
     "execution_count": 24,
     "metadata": {},
     "output_type": "execute_result"
    }
   ],
   "source": [
    "ct = ColumnTransformer([(\"original1\",'passthrough',['pclass','sex']),\n",
    "                        (\"si1\",SimpleImputer(strategy='mean'),['age']),\n",
    "                        (\"original2\",'passthrough',['sibsp']),\n",
    "                        (\"si2\",SimpleImputer(strategy='median'),['fare']),\n",
    "                        (\"original3\",'passthrough',['cabin']),\n",
    "                        (\"si3\",SimpleImputer(strategy='most_frequent'),['embarked']),\n",
    "                        (\"original4\",'passthrough',['survived'])])\n",
    "npdata = ct.fit_transform(data)\n",
    "npdata"
   ]
  },
  {
   "cell_type": "markdown",
   "metadata": {},
   "source": [
    "El método anterior devuelve un tipo de datos diferente, una matriz de Numpy. Sin entrar en detalles, vamos a ver como volver a convertirlo en DataFrame de Pandas."
   ]
  },
  {
   "cell_type": "code",
   "execution_count": 25,
   "metadata": {
    "scrolled": true
   },
   "outputs": [
    {
     "data": {
      "text/html": [
       "<div>\n",
       "<style scoped>\n",
       "    .dataframe tbody tr th:only-of-type {\n",
       "        vertical-align: middle;\n",
       "    }\n",
       "\n",
       "    .dataframe tbody tr th {\n",
       "        vertical-align: top;\n",
       "    }\n",
       "\n",
       "    .dataframe thead th {\n",
       "        text-align: right;\n",
       "    }\n",
       "</style>\n",
       "<table border=\"1\" class=\"dataframe\">\n",
       "  <thead>\n",
       "    <tr style=\"text-align: right;\">\n",
       "      <th></th>\n",
       "      <th>pclass</th>\n",
       "      <th>sex</th>\n",
       "      <th>age</th>\n",
       "      <th>sibsp</th>\n",
       "      <th>fare</th>\n",
       "      <th>cabin</th>\n",
       "      <th>embarked</th>\n",
       "      <th>survived</th>\n",
       "    </tr>\n",
       "  </thead>\n",
       "  <tbody>\n",
       "    <tr>\n",
       "      <th>0</th>\n",
       "      <td>1</td>\n",
       "      <td>female</td>\n",
       "      <td>29.0</td>\n",
       "      <td>0</td>\n",
       "      <td>211.3375</td>\n",
       "      <td>B5</td>\n",
       "      <td>S</td>\n",
       "      <td>1</td>\n",
       "    </tr>\n",
       "    <tr>\n",
       "      <th>1</th>\n",
       "      <td>1</td>\n",
       "      <td>male</td>\n",
       "      <td>0.9167</td>\n",
       "      <td>1</td>\n",
       "      <td>151.55</td>\n",
       "      <td>C22 C26</td>\n",
       "      <td>S</td>\n",
       "      <td>1</td>\n",
       "    </tr>\n",
       "    <tr>\n",
       "      <th>2</th>\n",
       "      <td>1</td>\n",
       "      <td>female</td>\n",
       "      <td>2.0</td>\n",
       "      <td>1</td>\n",
       "      <td>151.55</td>\n",
       "      <td>C22 C26</td>\n",
       "      <td>S</td>\n",
       "      <td>0</td>\n",
       "    </tr>\n",
       "    <tr>\n",
       "      <th>3</th>\n",
       "      <td>1</td>\n",
       "      <td>male</td>\n",
       "      <td>30.0</td>\n",
       "      <td>1</td>\n",
       "      <td>151.55</td>\n",
       "      <td>C22 C26</td>\n",
       "      <td>S</td>\n",
       "      <td>0</td>\n",
       "    </tr>\n",
       "    <tr>\n",
       "      <th>4</th>\n",
       "      <td>1</td>\n",
       "      <td>female</td>\n",
       "      <td>25.0</td>\n",
       "      <td>1</td>\n",
       "      <td>151.55</td>\n",
       "      <td>C22 C26</td>\n",
       "      <td>S</td>\n",
       "      <td>0</td>\n",
       "    </tr>\n",
       "    <tr>\n",
       "      <th>...</th>\n",
       "      <td>...</td>\n",
       "      <td>...</td>\n",
       "      <td>...</td>\n",
       "      <td>...</td>\n",
       "      <td>...</td>\n",
       "      <td>...</td>\n",
       "      <td>...</td>\n",
       "      <td>...</td>\n",
       "    </tr>\n",
       "    <tr>\n",
       "      <th>1304</th>\n",
       "      <td>3</td>\n",
       "      <td>female</td>\n",
       "      <td>14.5</td>\n",
       "      <td>1</td>\n",
       "      <td>14.4542</td>\n",
       "      <td>NaN</td>\n",
       "      <td>C</td>\n",
       "      <td>0</td>\n",
       "    </tr>\n",
       "    <tr>\n",
       "      <th>1305</th>\n",
       "      <td>3</td>\n",
       "      <td>female</td>\n",
       "      <td>29.881135</td>\n",
       "      <td>1</td>\n",
       "      <td>14.4542</td>\n",
       "      <td>NaN</td>\n",
       "      <td>C</td>\n",
       "      <td>0</td>\n",
       "    </tr>\n",
       "    <tr>\n",
       "      <th>1306</th>\n",
       "      <td>3</td>\n",
       "      <td>male</td>\n",
       "      <td>26.5</td>\n",
       "      <td>0</td>\n",
       "      <td>7.225</td>\n",
       "      <td>NaN</td>\n",
       "      <td>C</td>\n",
       "      <td>0</td>\n",
       "    </tr>\n",
       "    <tr>\n",
       "      <th>1307</th>\n",
       "      <td>3</td>\n",
       "      <td>male</td>\n",
       "      <td>27.0</td>\n",
       "      <td>0</td>\n",
       "      <td>7.225</td>\n",
       "      <td>NaN</td>\n",
       "      <td>C</td>\n",
       "      <td>0</td>\n",
       "    </tr>\n",
       "    <tr>\n",
       "      <th>1308</th>\n",
       "      <td>3</td>\n",
       "      <td>male</td>\n",
       "      <td>29.0</td>\n",
       "      <td>0</td>\n",
       "      <td>7.875</td>\n",
       "      <td>NaN</td>\n",
       "      <td>S</td>\n",
       "      <td>0</td>\n",
       "    </tr>\n",
       "  </tbody>\n",
       "</table>\n",
       "<p>1309 rows × 8 columns</p>\n",
       "</div>"
      ],
      "text/plain": [
       "     pclass     sex        age sibsp      fare    cabin embarked survived\n",
       "0         1  female       29.0     0  211.3375       B5        S        1\n",
       "1         1    male     0.9167     1    151.55  C22 C26        S        1\n",
       "2         1  female        2.0     1    151.55  C22 C26        S        0\n",
       "3         1    male       30.0     1    151.55  C22 C26        S        0\n",
       "4         1  female       25.0     1    151.55  C22 C26        S        0\n",
       "...     ...     ...        ...   ...       ...      ...      ...      ...\n",
       "1304      3  female       14.5     1   14.4542      NaN        C        0\n",
       "1305      3  female  29.881135     1   14.4542      NaN        C        0\n",
       "1306      3    male       26.5     0     7.225      NaN        C        0\n",
       "1307      3    male       27.0     0     7.225      NaN        C        0\n",
       "1308      3    male       29.0     0     7.875      NaN        S        0\n",
       "\n",
       "[1309 rows x 8 columns]"
      ]
     },
     "execution_count": 25,
     "metadata": {},
     "output_type": "execute_result"
    }
   ],
   "source": [
    "data2 = pd.DataFrame(npdata, columns=data.columns)\n",
    "data2"
   ]
  },
  {
   "cell_type": "markdown",
   "metadata": {},
   "source": [
    "Veamos como ha quedado nuestro conjunto de datos"
   ]
  },
  {
   "cell_type": "code",
   "execution_count": 26,
   "metadata": {},
   "outputs": [
    {
     "data": {
      "text/plain": [
       "pclass         0\n",
       "sex            0\n",
       "age            0\n",
       "sibsp          0\n",
       "fare           0\n",
       "cabin       1014\n",
       "embarked       0\n",
       "survived       0\n",
       "dtype: int64"
      ]
     },
     "execution_count": 26,
     "metadata": {},
     "output_type": "execute_result"
    }
   ],
   "source": [
    "data2.isnull().sum()"
   ]
  },
  {
   "cell_type": "markdown",
   "metadata": {},
   "source": [
    "La columna cabin tiene muchos valores perdidos y no nos interesa, veamos como eliminarla"
   ]
  },
  {
   "cell_type": "code",
   "execution_count": 27,
   "metadata": {},
   "outputs": [
    {
     "data": {
      "text/html": [
       "<div>\n",
       "<style scoped>\n",
       "    .dataframe tbody tr th:only-of-type {\n",
       "        vertical-align: middle;\n",
       "    }\n",
       "\n",
       "    .dataframe tbody tr th {\n",
       "        vertical-align: top;\n",
       "    }\n",
       "\n",
       "    .dataframe thead th {\n",
       "        text-align: right;\n",
       "    }\n",
       "</style>\n",
       "<table border=\"1\" class=\"dataframe\">\n",
       "  <thead>\n",
       "    <tr style=\"text-align: right;\">\n",
       "      <th></th>\n",
       "      <th>pclass</th>\n",
       "      <th>sex</th>\n",
       "      <th>age</th>\n",
       "      <th>sibsp</th>\n",
       "      <th>fare</th>\n",
       "      <th>embarked</th>\n",
       "      <th>survived</th>\n",
       "    </tr>\n",
       "  </thead>\n",
       "  <tbody>\n",
       "    <tr>\n",
       "      <th>0</th>\n",
       "      <td>1</td>\n",
       "      <td>female</td>\n",
       "      <td>29.0</td>\n",
       "      <td>0</td>\n",
       "      <td>211.3375</td>\n",
       "      <td>S</td>\n",
       "      <td>1</td>\n",
       "    </tr>\n",
       "    <tr>\n",
       "      <th>1</th>\n",
       "      <td>1</td>\n",
       "      <td>male</td>\n",
       "      <td>0.9167</td>\n",
       "      <td>1</td>\n",
       "      <td>151.55</td>\n",
       "      <td>S</td>\n",
       "      <td>1</td>\n",
       "    </tr>\n",
       "    <tr>\n",
       "      <th>2</th>\n",
       "      <td>1</td>\n",
       "      <td>female</td>\n",
       "      <td>2.0</td>\n",
       "      <td>1</td>\n",
       "      <td>151.55</td>\n",
       "      <td>S</td>\n",
       "      <td>0</td>\n",
       "    </tr>\n",
       "    <tr>\n",
       "      <th>3</th>\n",
       "      <td>1</td>\n",
       "      <td>male</td>\n",
       "      <td>30.0</td>\n",
       "      <td>1</td>\n",
       "      <td>151.55</td>\n",
       "      <td>S</td>\n",
       "      <td>0</td>\n",
       "    </tr>\n",
       "    <tr>\n",
       "      <th>4</th>\n",
       "      <td>1</td>\n",
       "      <td>female</td>\n",
       "      <td>25.0</td>\n",
       "      <td>1</td>\n",
       "      <td>151.55</td>\n",
       "      <td>S</td>\n",
       "      <td>0</td>\n",
       "    </tr>\n",
       "    <tr>\n",
       "      <th>...</th>\n",
       "      <td>...</td>\n",
       "      <td>...</td>\n",
       "      <td>...</td>\n",
       "      <td>...</td>\n",
       "      <td>...</td>\n",
       "      <td>...</td>\n",
       "      <td>...</td>\n",
       "    </tr>\n",
       "    <tr>\n",
       "      <th>1304</th>\n",
       "      <td>3</td>\n",
       "      <td>female</td>\n",
       "      <td>14.5</td>\n",
       "      <td>1</td>\n",
       "      <td>14.4542</td>\n",
       "      <td>C</td>\n",
       "      <td>0</td>\n",
       "    </tr>\n",
       "    <tr>\n",
       "      <th>1305</th>\n",
       "      <td>3</td>\n",
       "      <td>female</td>\n",
       "      <td>29.881135</td>\n",
       "      <td>1</td>\n",
       "      <td>14.4542</td>\n",
       "      <td>C</td>\n",
       "      <td>0</td>\n",
       "    </tr>\n",
       "    <tr>\n",
       "      <th>1306</th>\n",
       "      <td>3</td>\n",
       "      <td>male</td>\n",
       "      <td>26.5</td>\n",
       "      <td>0</td>\n",
       "      <td>7.225</td>\n",
       "      <td>C</td>\n",
       "      <td>0</td>\n",
       "    </tr>\n",
       "    <tr>\n",
       "      <th>1307</th>\n",
       "      <td>3</td>\n",
       "      <td>male</td>\n",
       "      <td>27.0</td>\n",
       "      <td>0</td>\n",
       "      <td>7.225</td>\n",
       "      <td>C</td>\n",
       "      <td>0</td>\n",
       "    </tr>\n",
       "    <tr>\n",
       "      <th>1308</th>\n",
       "      <td>3</td>\n",
       "      <td>male</td>\n",
       "      <td>29.0</td>\n",
       "      <td>0</td>\n",
       "      <td>7.875</td>\n",
       "      <td>S</td>\n",
       "      <td>0</td>\n",
       "    </tr>\n",
       "  </tbody>\n",
       "</table>\n",
       "<p>1309 rows × 7 columns</p>\n",
       "</div>"
      ],
      "text/plain": [
       "     pclass     sex        age sibsp      fare embarked survived\n",
       "0         1  female       29.0     0  211.3375        S        1\n",
       "1         1    male     0.9167     1    151.55        S        1\n",
       "2         1  female        2.0     1    151.55        S        0\n",
       "3         1    male       30.0     1    151.55        S        0\n",
       "4         1  female       25.0     1    151.55        S        0\n",
       "...     ...     ...        ...   ...       ...      ...      ...\n",
       "1304      3  female       14.5     1   14.4542        C        0\n",
       "1305      3  female  29.881135     1   14.4542        C        0\n",
       "1306      3    male       26.5     0     7.225        C        0\n",
       "1307      3    male       27.0     0     7.225        C        0\n",
       "1308      3    male       29.0     0     7.875        S        0\n",
       "\n",
       "[1309 rows x 7 columns]"
      ]
     },
     "execution_count": 27,
     "metadata": {},
     "output_type": "execute_result"
    }
   ],
   "source": [
    "data2 = data2.drop(['cabin'],axis=1)\n",
    "data2"
   ]
  },
  {
   "cell_type": "code",
   "execution_count": 28,
   "metadata": {},
   "outputs": [
    {
     "data": {
      "text/plain": [
       "pclass      0\n",
       "sex         0\n",
       "age         0\n",
       "sibsp       0\n",
       "fare        0\n",
       "embarked    0\n",
       "survived    0\n",
       "dtype: int64"
      ]
     },
     "execution_count": 28,
     "metadata": {},
     "output_type": "execute_result"
    }
   ],
   "source": [
    "data2.isnull().sum()"
   ]
  },
  {
   "cell_type": "markdown",
   "metadata": {},
   "source": [
    "Ya hemos terminado la primera fase de preparación de los datos"
   ]
  },
  {
   "cell_type": "markdown",
   "metadata": {},
   "source": [
    "#### Manipulando matrices de numpy"
   ]
  },
  {
   "cell_type": "markdown",
   "metadata": {},
   "source": [
    "De momento seguiremos trabajando con la matriz X, ya que nos facilita el acceso a los datos mediante índices"
   ]
  },
  {
   "cell_type": "code",
   "execution_count": 29,
   "metadata": {},
   "outputs": [
    {
     "data": {
      "text/plain": [
       "array([[1, 'female', 29.0, ..., 'B5', 'S', 1],\n",
       "       [1, 'male', 0.9167, ..., 'C22 C26', 'S', 1],\n",
       "       [1, 'female', 2.0, ..., 'C22 C26', 'S', 0],\n",
       "       ...,\n",
       "       [3, 'male', 26.5, ..., nan, 'C', 0],\n",
       "       [3, 'male', 27.0, ..., nan, 'C', 0],\n",
       "       [3, 'male', 29.0, ..., nan, 'S', 0]], dtype=object)"
      ]
     },
     "execution_count": 29,
     "metadata": {},
     "output_type": "execute_result"
    }
   ],
   "source": [
    "npdata"
   ]
  },
  {
   "cell_type": "code",
   "execution_count": 30,
   "metadata": {},
   "outputs": [
    {
     "data": {
      "text/plain": [
       "1"
      ]
     },
     "execution_count": 30,
     "metadata": {},
     "output_type": "execute_result"
    }
   ],
   "source": [
    "npdata[0,0]"
   ]
  },
  {
   "cell_type": "markdown",
   "metadata": {},
   "source": [
    "El primer índice se refiere a las filas y el segundo a las columnas."
   ]
  },
  {
   "cell_type": "code",
   "execution_count": 31,
   "metadata": {},
   "outputs": [
    {
     "data": {
      "text/plain": [
       "'female'"
      ]
     },
     "execution_count": 31,
     "metadata": {},
     "output_type": "execute_result"
    }
   ],
   "source": [
    "npdata[0,1]"
   ]
  },
  {
   "cell_type": "markdown",
   "metadata": {},
   "source": [
    "También podemos usar rangos mediante el operador `:`. Recordemos que si no especificamos un valor a la izquierda, significa `desde el principio` y a la derecha, `hasta el final`. Por último, recordemos que siempre se excluye el límite superior (el último elemento es límite -1)."
   ]
  },
  {
   "cell_type": "code",
   "execution_count": 32,
   "metadata": {},
   "outputs": [
    {
     "data": {
      "text/plain": [
       "array(['female', 'male', 'female', 'male', 'female'], dtype=object)"
      ]
     },
     "execution_count": 32,
     "metadata": {},
     "output_type": "execute_result"
    }
   ],
   "source": [
    "npdata[:5,1]"
   ]
  },
  {
   "cell_type": "code",
   "execution_count": 33,
   "metadata": {},
   "outputs": [
    {
     "data": {
      "text/plain": [
       "array(['female', 'male', 'female', ..., 'male', 'male', 'male'],\n",
       "      dtype=object)"
      ]
     },
     "execution_count": 33,
     "metadata": {},
     "output_type": "execute_result"
    }
   ],
   "source": [
    "npdata[:,1]"
   ]
  },
  {
   "cell_type": "code",
   "execution_count": 34,
   "metadata": {},
   "outputs": [
    {
     "data": {
      "text/plain": [
       "array([[1, 'female', 29.0, 0],\n",
       "       [1, 'male', 0.9167, 1],\n",
       "       [1, 'female', 2.0, 1],\n",
       "       ...,\n",
       "       [3, 'male', 26.5, 0],\n",
       "       [3, 'male', 27.0, 0],\n",
       "       [3, 'male', 29.0, 0]], dtype=object)"
      ]
     },
     "execution_count": 34,
     "metadata": {},
     "output_type": "execute_result"
    }
   ],
   "source": [
    "npdata[:,:4]"
   ]
  },
  {
   "cell_type": "markdown",
   "metadata": {},
   "source": [
    "### Características categóricas"
   ]
  },
  {
   "cell_type": "markdown",
   "metadata": {},
   "source": [
    "Vamos a tratar ahora con transformaciones de variables categóricas: correspondencia numérica y codificación *one-hot*. La mayoría de las variables categóricas, especialmente las nominales, se proporcionan como texto y es necesario convertirlas a formato numérico. \n",
    "\n",
    "Existen dos tipos de variables categóricas:\n",
    "- **Ordinales:** Tienen un orden implícito. Por ejemplo, calificaciones (suspendo, aprobado, notable, sobresaliente), niveles (alto, medio, bajo) o la clase en la que viajan (`pclass`) en el caso del Titanic. Nótese, que es frecuente que estas variables ya vengan codificadas como números, como es el caso de `pclass`, en cuyo caso, no es obligatorio aplicar ningún tratamiento. En caso de que sean presentadas como texto, será necesario transformar las categorías a números, manteniendo el orden de los valores. Por ejemplo, una codificación válida sería [alto=1, medio=2, bajo=3] (el orden inverso sería igualmente válido), mientras que si codificamos esa variable como [alto=2, medio=3, bajo=1]. Las variables Ordinales también pueden ser transformadas en columnas binarias mediante one-hot encoding, sin embargo, es preferible presentarlas como una sola columna numérica.\n",
    "- **Nominales:** No tienen orden implícito. Por ejemplo, un color, una marca o `embarked` en el caso del Titanic. Es posible transformar las variables nominales en columna numérica, asignando un orden cualquiera, sin embargo, esto **solo funcionará correctamente con modelos basados en árboles**. **Para cualquier otra técnica es recomendable realizar one-hot encoding sobre las variables nominales**.\n",
    "\n",
    "**Variable respuesta:** La variable respuesta es un caso especial. Aunque sea nominal, siempre trabajaremos con una columna numérica, es decir, realizamos una asignación cualquiera de valores a las categorías."
   ]
  },
  {
   "cell_type": "markdown",
   "metadata": {},
   "source": [
    "### LabelEncoder"
   ]
  },
  {
   "cell_type": "markdown",
   "metadata": {},
   "source": [
    "#### Pasando a numérico la variable respuesta. Necesario cuando trabajamos con la variable respuesta por separado."
   ]
  },
  {
   "cell_type": "markdown",
   "metadata": {},
   "source": [
    "En *Scikit-learn* podemos hacer una correspondencia numérica con la clase `LabelEncoder` de la librería `preprocessing`. Al entrenar una instancia de esta clase con un conjunto de datos, se identifican los valores o clases que existen y, posteriormente, se pueden reemplazar por valores numéricos. Normalmente, usamos `LabelEncoder` cuando la variable respuesta está fuera de la tabla."
   ]
  },
  {
   "cell_type": "markdown",
   "metadata": {},
   "source": [
    "Nótese que esta operación está pensada para convertir una variable respuesta nominal (que se presenta en formato texto) a numérica. Como nuestra variable respuesta ya es una variable numérica, vamos a utilizar la variable `embarked` como ejemplo."
   ]
  },
  {
   "cell_type": "code",
   "execution_count": 35,
   "metadata": {},
   "outputs": [
    {
     "data": {
      "text/plain": [
       "0       S\n",
       "1       S\n",
       "2       S\n",
       "3       S\n",
       "4       S\n",
       "       ..\n",
       "1304    C\n",
       "1305    C\n",
       "1306    C\n",
       "1307    C\n",
       "1308    S\n",
       "Name: embarked, Length: 1309, dtype: object"
      ]
     },
     "execution_count": 35,
     "metadata": {},
     "output_type": "execute_result"
    }
   ],
   "source": [
    "y = data2['embarked']\n",
    "y"
   ]
  },
  {
   "cell_type": "markdown",
   "metadata": {},
   "source": [
    "Podemos ver el conjunto de valores que toma una característica con el método `unique()` de los *dataframe*. En este caso podemos comprobar que la característica puerto de embarque toma tres valores."
   ]
  },
  {
   "cell_type": "code",
   "execution_count": 36,
   "metadata": {},
   "outputs": [
    {
     "data": {
      "text/plain": [
       "array(['S', 'C', 'Q'], dtype=object)"
      ]
     },
     "execution_count": 36,
     "metadata": {},
     "output_type": "execute_result"
    }
   ],
   "source": [
    "y.unique()"
   ]
  },
  {
   "cell_type": "code",
   "execution_count": 37,
   "metadata": {},
   "outputs": [
    {
     "data": {
      "text/plain": [
       "LabelEncoder()"
      ]
     },
     "execution_count": 37,
     "metadata": {},
     "output_type": "execute_result"
    }
   ],
   "source": [
    "from sklearn.preprocessing import LabelEncoder\n",
    "\n",
    "le = LabelEncoder()\n",
    "\n",
    "le.fit(y)"
   ]
  },
  {
   "cell_type": "markdown",
   "metadata": {},
   "source": [
    "El conjunto de clases identificadas se almacena en el campo `classes_`"
   ]
  },
  {
   "cell_type": "code",
   "execution_count": 38,
   "metadata": {},
   "outputs": [
    {
     "name": "stdout",
     "output_type": "stream",
     "text": [
      "['C' 'Q' 'S']\n"
     ]
    }
   ],
   "source": [
    "print(le.classes_)"
   ]
  },
  {
   "cell_type": "markdown",
   "metadata": {},
   "source": [
    "Ahora podemos transformar los datos originales"
   ]
  },
  {
   "cell_type": "code",
   "execution_count": 39,
   "metadata": {},
   "outputs": [
    {
     "data": {
      "text/plain": [
       "array([2, 2, 2, ..., 0, 0, 2])"
      ]
     },
     "execution_count": 39,
     "metadata": {},
     "output_type": "execute_result"
    }
   ],
   "source": [
    "y_num = le.transform(y)\n",
    "y_num"
   ]
  },
  {
   "cell_type": "markdown",
   "metadata": {},
   "source": [
    "Para aplicar la correspondencia numérica dentro de la estructura de preprocesado `ColumnTransformer`, podemos usar `OrdinalEncoder`: https://scikit-learn.org/stable/modules/generated/sklearn.preprocessing.OrdinalEncoder.html"
   ]
  },
  {
   "cell_type": "markdown",
   "metadata": {},
   "source": [
    "### OneHotEncoder"
   ]
  },
  {
   "cell_type": "markdown",
   "metadata": {},
   "source": [
    "La codificación *one-hot* se consigue utilizando la clase `OneHotEncoder` de la librería `preprocessing`. En este caso podemos integrar esta transformación como un modificador de una instancia de la clase `ColumnTransformer` sobre las columnas que nos interesen. Vamos a hacerlo primero sobre la característica sexo.\n",
    "\n",
    "Para la mayoría de algoritmos, esta es la forma más adecuada de trabajar con variables categóricas. Esta técnica solo será un inconveniente en situaciones en las que tengamos un número elevado de variables categóricas con muchos valores distintos cada una, lo que hará que se generen un gran número de nuevas variables."
   ]
  },
  {
   "cell_type": "markdown",
   "metadata": {},
   "source": [
    "En primer lugar, vamos a transformar la variable `sex`"
   ]
  },
  {
   "cell_type": "code",
   "execution_count": 40,
   "metadata": {},
   "outputs": [
    {
     "data": {
      "text/plain": [
       "array([[1, 1.0, 0.0, ..., 211.3375, 'S', 1],\n",
       "       [1, 0.0, 1.0, ..., 151.55, 'S', 1],\n",
       "       [1, 1.0, 0.0, ..., 151.55, 'S', 0],\n",
       "       ...,\n",
       "       [3, 0.0, 1.0, ..., 7.225, 'C', 0],\n",
       "       [3, 0.0, 1.0, ..., 7.225, 'C', 0],\n",
       "       [3, 0.0, 1.0, ..., 7.875, 'S', 0]], dtype=object)"
      ]
     },
     "execution_count": 40,
     "metadata": {},
     "output_type": "execute_result"
    }
   ],
   "source": [
    "from sklearn.pipeline import Pipeline\n",
    "from sklearn.preprocessing import OneHotEncoder\n",
    "\n",
    "ct = ColumnTransformer([(\"original1\",'passthrough',['pclass']),\n",
    "                        (\"ohe\",OneHotEncoder(),['sex']),\n",
    "                        (\"si1\",SimpleImputer(strategy='mean'),['age']),\n",
    "                        (\"original2\",'passthrough',['sibsp']),\n",
    "                        (\"si2\",SimpleImputer(strategy='median'),['fare']),\n",
    "#                         (\"original3\",'passthrough',['cabin']), # eliminamos cabin\n",
    "                        (\"si3\",SimpleImputer(strategy='most_frequent'),['embarked']),\n",
    "                        (\"original4\",'passthrough',['survived'])])\n",
    "\n",
    "npdata = ct.fit_transform(data)\n",
    "npdata"
   ]
  },
  {
   "cell_type": "code",
   "execution_count": 41,
   "metadata": {},
   "outputs": [
    {
     "name": "stdout",
     "output_type": "stream",
     "text": [
      "[[1 1.0 0.0 29.0 0 211.3375 'S' 1]\n",
      " [1 0.0 1.0 0.9167 1 151.55 'S' 1]\n",
      " [1 1.0 0.0 2.0 1 151.55 'S' 0]\n",
      " [1 0.0 1.0 30.0 1 151.55 'S' 0]\n",
      " [1 1.0 0.0 25.0 1 151.55 'S' 0]]\n"
     ]
    }
   ],
   "source": [
    "print(npdata[0:5])"
   ]
  },
  {
   "cell_type": "markdown",
   "metadata": {},
   "source": [
    "Vamos a repetir la operación para la variable `embarked`.\n",
    "\n",
    "**Multiples operaciones sobre una columna mediante Pipelines**\n",
    "\n",
    "Hacer lo mismo sobre la característica puerto de embarque no es tan simple, puesto que ya habíamos indicado una modificación para esta característica. Para conseguir hacer una segunda modificación sobre una característica vamos a usar la clase `Pipeline` de la librería `pipeline`. Con esta clase podemos indicar una secuencia de transformaciones a realizar sobre un conjunto de datos. Estas transformaciones se realizan de forma secuencial sobre los datos e incluso se podría indicar como paso final un modelo de decisión. En nuestro caso, creamos una instancia de la clase `Pipeline` para rellenar primero los valores ausentes con el valor más frecuente (la moda) y después hacemos una codificación *one-hot*.\n",
    "\n",
    "A continuación, usamos la instancia de la clase `Pipeline` que acabamos de crear como transformador asociado a la característica puerto de embarque en una instancia de la clase `ColumnTransformer`."
   ]
  },
  {
   "cell_type": "code",
   "execution_count": 42,
   "metadata": {},
   "outputs": [
    {
     "data": {
      "text/plain": [
       "array([[1., 1., 0., ..., 0., 1., 1.],\n",
       "       [1., 0., 1., ..., 0., 1., 1.],\n",
       "       [1., 1., 0., ..., 0., 1., 0.],\n",
       "       ...,\n",
       "       [3., 0., 1., ..., 0., 0., 0.],\n",
       "       [3., 0., 1., ..., 0., 0., 0.],\n",
       "       [3., 0., 1., ..., 0., 1., 0.]])"
      ]
     },
     "execution_count": 42,
     "metadata": {},
     "output_type": "execute_result"
    }
   ],
   "source": [
    "from sklearn.pipeline import Pipeline\n",
    "from sklearn.preprocessing import OneHotEncoder\n",
    "\n",
    "impohe = Pipeline([('si3', SimpleImputer(strategy='most_frequent')),\n",
    "                   ('onehot', OneHotEncoder())])\n",
    "\n",
    "ct = ColumnTransformer([(\"original1\",'passthrough',['pclass']),\n",
    "                        (\"ohe\",OneHotEncoder(),['sex']),\n",
    "                        (\"si1\",SimpleImputer(strategy='mean'),['age']),\n",
    "                        (\"original2\",'passthrough',['sibsp']),\n",
    "                        (\"si2\",SimpleImputer(strategy='median'),['fare']),\n",
    "#                         (\"original3\",'passthrough',['cabin']), # eliminamos cabin\n",
    "                        (\"impohe\",impohe,['embarked']),\n",
    "                        (\"original4\",'passthrough',['survived'])])\n",
    "\n",
    "npdata = ct.fit_transform(data)\n",
    "npdata"
   ]
  },
  {
   "cell_type": "code",
   "execution_count": 43,
   "metadata": {},
   "outputs": [
    {
     "name": "stdout",
     "output_type": "stream",
     "text": [
      "[[  1.       1.       0.      29.       0.     211.3375   0.       0.\n",
      "    1.       1.    ]\n",
      " [  1.       0.       1.       0.9167   1.     151.55     0.       0.\n",
      "    1.       1.    ]\n",
      " [  1.       1.       0.       2.       1.     151.55     0.       0.\n",
      "    1.       0.    ]\n",
      " [  1.       0.       1.      30.       1.     151.55     0.       0.\n",
      "    1.       0.    ]\n",
      " [  1.       1.       0.      25.       1.     151.55     0.       0.\n",
      "    1.       0.    ]]\n"
     ]
    }
   ],
   "source": [
    "print(npdata[0:5])"
   ]
  },
  {
   "cell_type": "code",
   "execution_count": 44,
   "metadata": {
    "scrolled": true
   },
   "outputs": [
    {
     "data": {
      "text/html": [
       "<div>\n",
       "<style scoped>\n",
       "    .dataframe tbody tr th:only-of-type {\n",
       "        vertical-align: middle;\n",
       "    }\n",
       "\n",
       "    .dataframe tbody tr th {\n",
       "        vertical-align: top;\n",
       "    }\n",
       "\n",
       "    .dataframe thead th {\n",
       "        text-align: right;\n",
       "    }\n",
       "</style>\n",
       "<table border=\"1\" class=\"dataframe\">\n",
       "  <thead>\n",
       "    <tr style=\"text-align: right;\">\n",
       "      <th></th>\n",
       "      <th>pclass</th>\n",
       "      <th>sex</th>\n",
       "      <th>age</th>\n",
       "      <th>sibsp</th>\n",
       "      <th>fare</th>\n",
       "      <th>cabin</th>\n",
       "      <th>embarked</th>\n",
       "      <th>survived</th>\n",
       "    </tr>\n",
       "  </thead>\n",
       "  <tbody>\n",
       "    <tr>\n",
       "      <th>0</th>\n",
       "      <td>1</td>\n",
       "      <td>female</td>\n",
       "      <td>29.0000</td>\n",
       "      <td>0</td>\n",
       "      <td>211.3375</td>\n",
       "      <td>B5</td>\n",
       "      <td>S</td>\n",
       "      <td>1</td>\n",
       "    </tr>\n",
       "    <tr>\n",
       "      <th>1</th>\n",
       "      <td>1</td>\n",
       "      <td>male</td>\n",
       "      <td>0.9167</td>\n",
       "      <td>1</td>\n",
       "      <td>151.5500</td>\n",
       "      <td>C22 C26</td>\n",
       "      <td>S</td>\n",
       "      <td>1</td>\n",
       "    </tr>\n",
       "    <tr>\n",
       "      <th>2</th>\n",
       "      <td>1</td>\n",
       "      <td>female</td>\n",
       "      <td>2.0000</td>\n",
       "      <td>1</td>\n",
       "      <td>151.5500</td>\n",
       "      <td>C22 C26</td>\n",
       "      <td>S</td>\n",
       "      <td>0</td>\n",
       "    </tr>\n",
       "    <tr>\n",
       "      <th>3</th>\n",
       "      <td>1</td>\n",
       "      <td>male</td>\n",
       "      <td>30.0000</td>\n",
       "      <td>1</td>\n",
       "      <td>151.5500</td>\n",
       "      <td>C22 C26</td>\n",
       "      <td>S</td>\n",
       "      <td>0</td>\n",
       "    </tr>\n",
       "    <tr>\n",
       "      <th>4</th>\n",
       "      <td>1</td>\n",
       "      <td>female</td>\n",
       "      <td>25.0000</td>\n",
       "      <td>1</td>\n",
       "      <td>151.5500</td>\n",
       "      <td>C22 C26</td>\n",
       "      <td>S</td>\n",
       "      <td>0</td>\n",
       "    </tr>\n",
       "    <tr>\n",
       "      <th>...</th>\n",
       "      <td>...</td>\n",
       "      <td>...</td>\n",
       "      <td>...</td>\n",
       "      <td>...</td>\n",
       "      <td>...</td>\n",
       "      <td>...</td>\n",
       "      <td>...</td>\n",
       "      <td>...</td>\n",
       "    </tr>\n",
       "    <tr>\n",
       "      <th>1304</th>\n",
       "      <td>3</td>\n",
       "      <td>female</td>\n",
       "      <td>14.5000</td>\n",
       "      <td>1</td>\n",
       "      <td>14.4542</td>\n",
       "      <td>NaN</td>\n",
       "      <td>C</td>\n",
       "      <td>0</td>\n",
       "    </tr>\n",
       "    <tr>\n",
       "      <th>1305</th>\n",
       "      <td>3</td>\n",
       "      <td>female</td>\n",
       "      <td>NaN</td>\n",
       "      <td>1</td>\n",
       "      <td>14.4542</td>\n",
       "      <td>NaN</td>\n",
       "      <td>C</td>\n",
       "      <td>0</td>\n",
       "    </tr>\n",
       "    <tr>\n",
       "      <th>1306</th>\n",
       "      <td>3</td>\n",
       "      <td>male</td>\n",
       "      <td>26.5000</td>\n",
       "      <td>0</td>\n",
       "      <td>7.2250</td>\n",
       "      <td>NaN</td>\n",
       "      <td>C</td>\n",
       "      <td>0</td>\n",
       "    </tr>\n",
       "    <tr>\n",
       "      <th>1307</th>\n",
       "      <td>3</td>\n",
       "      <td>male</td>\n",
       "      <td>27.0000</td>\n",
       "      <td>0</td>\n",
       "      <td>7.2250</td>\n",
       "      <td>NaN</td>\n",
       "      <td>C</td>\n",
       "      <td>0</td>\n",
       "    </tr>\n",
       "    <tr>\n",
       "      <th>1308</th>\n",
       "      <td>3</td>\n",
       "      <td>male</td>\n",
       "      <td>29.0000</td>\n",
       "      <td>0</td>\n",
       "      <td>7.8750</td>\n",
       "      <td>NaN</td>\n",
       "      <td>S</td>\n",
       "      <td>0</td>\n",
       "    </tr>\n",
       "  </tbody>\n",
       "</table>\n",
       "<p>1309 rows × 8 columns</p>\n",
       "</div>"
      ],
      "text/plain": [
       "      pclass     sex      age  sibsp      fare    cabin embarked  survived\n",
       "0          1  female  29.0000      0  211.3375       B5        S         1\n",
       "1          1    male   0.9167      1  151.5500  C22 C26        S         1\n",
       "2          1  female   2.0000      1  151.5500  C22 C26        S         0\n",
       "3          1    male  30.0000      1  151.5500  C22 C26        S         0\n",
       "4          1  female  25.0000      1  151.5500  C22 C26        S         0\n",
       "...      ...     ...      ...    ...       ...      ...      ...       ...\n",
       "1304       3  female  14.5000      1   14.4542      NaN        C         0\n",
       "1305       3  female      NaN      1   14.4542      NaN        C         0\n",
       "1306       3    male  26.5000      0    7.2250      NaN        C         0\n",
       "1307       3    male  27.0000      0    7.2250      NaN        C         0\n",
       "1308       3    male  29.0000      0    7.8750      NaN        S         0\n",
       "\n",
       "[1309 rows x 8 columns]"
      ]
     },
     "execution_count": 44,
     "metadata": {},
     "output_type": "execute_result"
    }
   ],
   "source": [
    "data"
   ]
  },
  {
   "cell_type": "markdown",
   "metadata": {},
   "source": [
    "Al crear nuevas variables con OneHotEncoding ya es más complicado volver a la tabla con nombres original. Tendríamos que asignarle nombres a las nuevas variables manualmente:"
   ]
  },
  {
   "cell_type": "code",
   "execution_count": 45,
   "metadata": {},
   "outputs": [],
   "source": [
    "colnames = ['pclass', 'sex=female', 'sex=male', 'age', 'sibsp', 'fare', \n",
    "            'embarked=C', 'embarked=Q', 'embarked=S', 'survived']"
   ]
  },
  {
   "cell_type": "code",
   "execution_count": 46,
   "metadata": {
    "scrolled": true
   },
   "outputs": [
    {
     "data": {
      "text/html": [
       "<div>\n",
       "<style scoped>\n",
       "    .dataframe tbody tr th:only-of-type {\n",
       "        vertical-align: middle;\n",
       "    }\n",
       "\n",
       "    .dataframe tbody tr th {\n",
       "        vertical-align: top;\n",
       "    }\n",
       "\n",
       "    .dataframe thead th {\n",
       "        text-align: right;\n",
       "    }\n",
       "</style>\n",
       "<table border=\"1\" class=\"dataframe\">\n",
       "  <thead>\n",
       "    <tr style=\"text-align: right;\">\n",
       "      <th></th>\n",
       "      <th>pclass</th>\n",
       "      <th>sex=female</th>\n",
       "      <th>sex=male</th>\n",
       "      <th>age</th>\n",
       "      <th>sibsp</th>\n",
       "      <th>fare</th>\n",
       "      <th>embarked=C</th>\n",
       "      <th>embarked=Q</th>\n",
       "      <th>embarked=S</th>\n",
       "      <th>survived</th>\n",
       "    </tr>\n",
       "  </thead>\n",
       "  <tbody>\n",
       "    <tr>\n",
       "      <th>0</th>\n",
       "      <td>1.0</td>\n",
       "      <td>1.0</td>\n",
       "      <td>0.0</td>\n",
       "      <td>29.000000</td>\n",
       "      <td>0.0</td>\n",
       "      <td>211.3375</td>\n",
       "      <td>0.0</td>\n",
       "      <td>0.0</td>\n",
       "      <td>1.0</td>\n",
       "      <td>1.0</td>\n",
       "    </tr>\n",
       "    <tr>\n",
       "      <th>1</th>\n",
       "      <td>1.0</td>\n",
       "      <td>0.0</td>\n",
       "      <td>1.0</td>\n",
       "      <td>0.916700</td>\n",
       "      <td>1.0</td>\n",
       "      <td>151.5500</td>\n",
       "      <td>0.0</td>\n",
       "      <td>0.0</td>\n",
       "      <td>1.0</td>\n",
       "      <td>1.0</td>\n",
       "    </tr>\n",
       "    <tr>\n",
       "      <th>2</th>\n",
       "      <td>1.0</td>\n",
       "      <td>1.0</td>\n",
       "      <td>0.0</td>\n",
       "      <td>2.000000</td>\n",
       "      <td>1.0</td>\n",
       "      <td>151.5500</td>\n",
       "      <td>0.0</td>\n",
       "      <td>0.0</td>\n",
       "      <td>1.0</td>\n",
       "      <td>0.0</td>\n",
       "    </tr>\n",
       "    <tr>\n",
       "      <th>3</th>\n",
       "      <td>1.0</td>\n",
       "      <td>0.0</td>\n",
       "      <td>1.0</td>\n",
       "      <td>30.000000</td>\n",
       "      <td>1.0</td>\n",
       "      <td>151.5500</td>\n",
       "      <td>0.0</td>\n",
       "      <td>0.0</td>\n",
       "      <td>1.0</td>\n",
       "      <td>0.0</td>\n",
       "    </tr>\n",
       "    <tr>\n",
       "      <th>4</th>\n",
       "      <td>1.0</td>\n",
       "      <td>1.0</td>\n",
       "      <td>0.0</td>\n",
       "      <td>25.000000</td>\n",
       "      <td>1.0</td>\n",
       "      <td>151.5500</td>\n",
       "      <td>0.0</td>\n",
       "      <td>0.0</td>\n",
       "      <td>1.0</td>\n",
       "      <td>0.0</td>\n",
       "    </tr>\n",
       "    <tr>\n",
       "      <th>...</th>\n",
       "      <td>...</td>\n",
       "      <td>...</td>\n",
       "      <td>...</td>\n",
       "      <td>...</td>\n",
       "      <td>...</td>\n",
       "      <td>...</td>\n",
       "      <td>...</td>\n",
       "      <td>...</td>\n",
       "      <td>...</td>\n",
       "      <td>...</td>\n",
       "    </tr>\n",
       "    <tr>\n",
       "      <th>1304</th>\n",
       "      <td>3.0</td>\n",
       "      <td>1.0</td>\n",
       "      <td>0.0</td>\n",
       "      <td>14.500000</td>\n",
       "      <td>1.0</td>\n",
       "      <td>14.4542</td>\n",
       "      <td>1.0</td>\n",
       "      <td>0.0</td>\n",
       "      <td>0.0</td>\n",
       "      <td>0.0</td>\n",
       "    </tr>\n",
       "    <tr>\n",
       "      <th>1305</th>\n",
       "      <td>3.0</td>\n",
       "      <td>1.0</td>\n",
       "      <td>0.0</td>\n",
       "      <td>29.881135</td>\n",
       "      <td>1.0</td>\n",
       "      <td>14.4542</td>\n",
       "      <td>1.0</td>\n",
       "      <td>0.0</td>\n",
       "      <td>0.0</td>\n",
       "      <td>0.0</td>\n",
       "    </tr>\n",
       "    <tr>\n",
       "      <th>1306</th>\n",
       "      <td>3.0</td>\n",
       "      <td>0.0</td>\n",
       "      <td>1.0</td>\n",
       "      <td>26.500000</td>\n",
       "      <td>0.0</td>\n",
       "      <td>7.2250</td>\n",
       "      <td>1.0</td>\n",
       "      <td>0.0</td>\n",
       "      <td>0.0</td>\n",
       "      <td>0.0</td>\n",
       "    </tr>\n",
       "    <tr>\n",
       "      <th>1307</th>\n",
       "      <td>3.0</td>\n",
       "      <td>0.0</td>\n",
       "      <td>1.0</td>\n",
       "      <td>27.000000</td>\n",
       "      <td>0.0</td>\n",
       "      <td>7.2250</td>\n",
       "      <td>1.0</td>\n",
       "      <td>0.0</td>\n",
       "      <td>0.0</td>\n",
       "      <td>0.0</td>\n",
       "    </tr>\n",
       "    <tr>\n",
       "      <th>1308</th>\n",
       "      <td>3.0</td>\n",
       "      <td>0.0</td>\n",
       "      <td>1.0</td>\n",
       "      <td>29.000000</td>\n",
       "      <td>0.0</td>\n",
       "      <td>7.8750</td>\n",
       "      <td>0.0</td>\n",
       "      <td>0.0</td>\n",
       "      <td>1.0</td>\n",
       "      <td>0.0</td>\n",
       "    </tr>\n",
       "  </tbody>\n",
       "</table>\n",
       "<p>1309 rows × 10 columns</p>\n",
       "</div>"
      ],
      "text/plain": [
       "      pclass  sex=female  sex=male        age  sibsp      fare  embarked=C  \\\n",
       "0        1.0         1.0       0.0  29.000000    0.0  211.3375         0.0   \n",
       "1        1.0         0.0       1.0   0.916700    1.0  151.5500         0.0   \n",
       "2        1.0         1.0       0.0   2.000000    1.0  151.5500         0.0   \n",
       "3        1.0         0.0       1.0  30.000000    1.0  151.5500         0.0   \n",
       "4        1.0         1.0       0.0  25.000000    1.0  151.5500         0.0   \n",
       "...      ...         ...       ...        ...    ...       ...         ...   \n",
       "1304     3.0         1.0       0.0  14.500000    1.0   14.4542         1.0   \n",
       "1305     3.0         1.0       0.0  29.881135    1.0   14.4542         1.0   \n",
       "1306     3.0         0.0       1.0  26.500000    0.0    7.2250         1.0   \n",
       "1307     3.0         0.0       1.0  27.000000    0.0    7.2250         1.0   \n",
       "1308     3.0         0.0       1.0  29.000000    0.0    7.8750         0.0   \n",
       "\n",
       "      embarked=Q  embarked=S  survived  \n",
       "0            0.0         1.0       1.0  \n",
       "1            0.0         1.0       1.0  \n",
       "2            0.0         1.0       0.0  \n",
       "3            0.0         1.0       0.0  \n",
       "4            0.0         1.0       0.0  \n",
       "...          ...         ...       ...  \n",
       "1304         0.0         0.0       0.0  \n",
       "1305         0.0         0.0       0.0  \n",
       "1306         0.0         0.0       0.0  \n",
       "1307         0.0         0.0       0.0  \n",
       "1308         0.0         1.0       0.0  \n",
       "\n",
       "[1309 rows x 10 columns]"
      ]
     },
     "execution_count": 46,
     "metadata": {},
     "output_type": "execute_result"
    }
   ],
   "source": [
    "data3 = pd.DataFrame(npdata, columns=colnames)\n",
    "data3"
   ]
  },
  {
   "cell_type": "markdown",
   "metadata": {},
   "source": [
    "### OrdinalEncoding"
   ]
  },
  {
   "cell_type": "markdown",
   "metadata": {},
   "source": [
    "Para transformar variables nominales en numéricas, podemos usar `OrdinalEncoder`. Al igual que el resto de operaciones, está diseñada para procesar todas las columnas que reciba, por lo que debemos usarla junto con `ColumnTransformer`. Adicionalmente, `OrdinalEncoder` permite proporcionar la correspondencia numérica para las variables categóricas ordinales. Por tanto, `OrdinalEncoder` realiza la misma operación que `LabelEncoder`, sin embargo, dado que `LabelEncoder` está pensado para trabajar con la variable respuesta, no se integra con ColumnTransformer y no permite definir la correspondencia numérica (usará una cualquiera)."
   ]
  },
  {
   "cell_type": "markdown",
   "metadata": {},
   "source": [
    "En este ejemplo, dado que no tenemos ninguna variable ordinal de tipo texto, vamos a aplicar  `OrdinalEncoder` a las variables `sex` y `embarked`."
   ]
  },
  {
   "cell_type": "code",
   "execution_count": 47,
   "metadata": {},
   "outputs": [
    {
     "data": {
      "text/plain": [
       "array([[  1.    ,   0.    ,  29.    , ..., 211.3375,   0.    ,   1.    ],\n",
       "       [  1.    ,   1.    ,   0.9167, ..., 151.55  ,   0.    ,   1.    ],\n",
       "       [  1.    ,   0.    ,   2.    , ..., 151.55  ,   0.    ,   0.    ],\n",
       "       ...,\n",
       "       [  3.    ,   1.    ,  26.5   , ...,   7.225 ,   1.    ,   0.    ],\n",
       "       [  3.    ,   1.    ,  27.    , ...,   7.225 ,   1.    ,   0.    ],\n",
       "       [  3.    ,   1.    ,  29.    , ...,   7.875 ,   0.    ,   0.    ]])"
      ]
     },
     "execution_count": 47,
     "metadata": {},
     "output_type": "execute_result"
    }
   ],
   "source": [
    "from sklearn.pipeline import Pipeline\n",
    "from sklearn.preprocessing import OrdinalEncoder\n",
    "\n",
    "impohe = Pipeline([('si3', SimpleImputer(strategy='most_frequent')),\n",
    "                   ('onehot', OrdinalEncoder(categories=[['S', 'C', 'Q']]))]) \n",
    "# Se ha definido la siguiente codificación: S=0, C=1, Q=2\n",
    "\n",
    "ct = ColumnTransformer([(\"original1\",'passthrough',['pclass']),\n",
    "                        (\"ohe\",OrdinalEncoder(),['sex']), # No se especifica codificación\n",
    "                        (\"si1\",SimpleImputer(strategy='mean'),['age']),\n",
    "                        (\"original2\",'passthrough',['sibsp']),\n",
    "                        (\"si2\",SimpleImputer(strategy='median'),['fare']),\n",
    "                        (\"impohe\",impohe,['embarked']),\n",
    "                        (\"original4\",'passthrough',['survived'])])\n",
    "\n",
    "npdata = ct.fit_transform(data)\n",
    "npdata"
   ]
  },
  {
   "cell_type": "code",
   "execution_count": 48,
   "metadata": {},
   "outputs": [
    {
     "name": "stdout",
     "output_type": "stream",
     "text": [
      "[[  1.       0.      29.       0.     211.3375   0.       1.    ]\n",
      " [  1.       1.       0.9167   1.     151.55     0.       1.    ]\n",
      " [  1.       0.       2.       1.     151.55     0.       0.    ]\n",
      " [  1.       1.      30.       1.     151.55     0.       0.    ]\n",
      " [  1.       0.      25.       1.     151.55     0.       0.    ]]\n"
     ]
    }
   ],
   "source": [
    "print(npdata[0:5])"
   ]
  },
  {
   "cell_type": "code",
   "execution_count": 49,
   "metadata": {},
   "outputs": [],
   "source": [
    "colnames = ['pclass', 'sex', 'age', 'sibsp', 'fare', 'embarked', 'survived']"
   ]
  },
  {
   "cell_type": "code",
   "execution_count": 50,
   "metadata": {},
   "outputs": [
    {
     "data": {
      "text/html": [
       "<div>\n",
       "<style scoped>\n",
       "    .dataframe tbody tr th:only-of-type {\n",
       "        vertical-align: middle;\n",
       "    }\n",
       "\n",
       "    .dataframe tbody tr th {\n",
       "        vertical-align: top;\n",
       "    }\n",
       "\n",
       "    .dataframe thead th {\n",
       "        text-align: right;\n",
       "    }\n",
       "</style>\n",
       "<table border=\"1\" class=\"dataframe\">\n",
       "  <thead>\n",
       "    <tr style=\"text-align: right;\">\n",
       "      <th></th>\n",
       "      <th>pclass</th>\n",
       "      <th>sex</th>\n",
       "      <th>age</th>\n",
       "      <th>sibsp</th>\n",
       "      <th>fare</th>\n",
       "      <th>embarked</th>\n",
       "      <th>survived</th>\n",
       "    </tr>\n",
       "  </thead>\n",
       "  <tbody>\n",
       "    <tr>\n",
       "      <th>0</th>\n",
       "      <td>1.0</td>\n",
       "      <td>0.0</td>\n",
       "      <td>29.000000</td>\n",
       "      <td>0.0</td>\n",
       "      <td>211.3375</td>\n",
       "      <td>0.0</td>\n",
       "      <td>1.0</td>\n",
       "    </tr>\n",
       "    <tr>\n",
       "      <th>1</th>\n",
       "      <td>1.0</td>\n",
       "      <td>1.0</td>\n",
       "      <td>0.916700</td>\n",
       "      <td>1.0</td>\n",
       "      <td>151.5500</td>\n",
       "      <td>0.0</td>\n",
       "      <td>1.0</td>\n",
       "    </tr>\n",
       "    <tr>\n",
       "      <th>2</th>\n",
       "      <td>1.0</td>\n",
       "      <td>0.0</td>\n",
       "      <td>2.000000</td>\n",
       "      <td>1.0</td>\n",
       "      <td>151.5500</td>\n",
       "      <td>0.0</td>\n",
       "      <td>0.0</td>\n",
       "    </tr>\n",
       "    <tr>\n",
       "      <th>3</th>\n",
       "      <td>1.0</td>\n",
       "      <td>1.0</td>\n",
       "      <td>30.000000</td>\n",
       "      <td>1.0</td>\n",
       "      <td>151.5500</td>\n",
       "      <td>0.0</td>\n",
       "      <td>0.0</td>\n",
       "    </tr>\n",
       "    <tr>\n",
       "      <th>4</th>\n",
       "      <td>1.0</td>\n",
       "      <td>0.0</td>\n",
       "      <td>25.000000</td>\n",
       "      <td>1.0</td>\n",
       "      <td>151.5500</td>\n",
       "      <td>0.0</td>\n",
       "      <td>0.0</td>\n",
       "    </tr>\n",
       "    <tr>\n",
       "      <th>...</th>\n",
       "      <td>...</td>\n",
       "      <td>...</td>\n",
       "      <td>...</td>\n",
       "      <td>...</td>\n",
       "      <td>...</td>\n",
       "      <td>...</td>\n",
       "      <td>...</td>\n",
       "    </tr>\n",
       "    <tr>\n",
       "      <th>1304</th>\n",
       "      <td>3.0</td>\n",
       "      <td>0.0</td>\n",
       "      <td>14.500000</td>\n",
       "      <td>1.0</td>\n",
       "      <td>14.4542</td>\n",
       "      <td>1.0</td>\n",
       "      <td>0.0</td>\n",
       "    </tr>\n",
       "    <tr>\n",
       "      <th>1305</th>\n",
       "      <td>3.0</td>\n",
       "      <td>0.0</td>\n",
       "      <td>29.881135</td>\n",
       "      <td>1.0</td>\n",
       "      <td>14.4542</td>\n",
       "      <td>1.0</td>\n",
       "      <td>0.0</td>\n",
       "    </tr>\n",
       "    <tr>\n",
       "      <th>1306</th>\n",
       "      <td>3.0</td>\n",
       "      <td>1.0</td>\n",
       "      <td>26.500000</td>\n",
       "      <td>0.0</td>\n",
       "      <td>7.2250</td>\n",
       "      <td>1.0</td>\n",
       "      <td>0.0</td>\n",
       "    </tr>\n",
       "    <tr>\n",
       "      <th>1307</th>\n",
       "      <td>3.0</td>\n",
       "      <td>1.0</td>\n",
       "      <td>27.000000</td>\n",
       "      <td>0.0</td>\n",
       "      <td>7.2250</td>\n",
       "      <td>1.0</td>\n",
       "      <td>0.0</td>\n",
       "    </tr>\n",
       "    <tr>\n",
       "      <th>1308</th>\n",
       "      <td>3.0</td>\n",
       "      <td>1.0</td>\n",
       "      <td>29.000000</td>\n",
       "      <td>0.0</td>\n",
       "      <td>7.8750</td>\n",
       "      <td>0.0</td>\n",
       "      <td>0.0</td>\n",
       "    </tr>\n",
       "  </tbody>\n",
       "</table>\n",
       "<p>1309 rows × 7 columns</p>\n",
       "</div>"
      ],
      "text/plain": [
       "      pclass  sex        age  sibsp      fare  embarked  survived\n",
       "0        1.0  0.0  29.000000    0.0  211.3375       0.0       1.0\n",
       "1        1.0  1.0   0.916700    1.0  151.5500       0.0       1.0\n",
       "2        1.0  0.0   2.000000    1.0  151.5500       0.0       0.0\n",
       "3        1.0  1.0  30.000000    1.0  151.5500       0.0       0.0\n",
       "4        1.0  0.0  25.000000    1.0  151.5500       0.0       0.0\n",
       "...      ...  ...        ...    ...       ...       ...       ...\n",
       "1304     3.0  0.0  14.500000    1.0   14.4542       1.0       0.0\n",
       "1305     3.0  0.0  29.881135    1.0   14.4542       1.0       0.0\n",
       "1306     3.0  1.0  26.500000    0.0    7.2250       1.0       0.0\n",
       "1307     3.0  1.0  27.000000    0.0    7.2250       1.0       0.0\n",
       "1308     3.0  1.0  29.000000    0.0    7.8750       0.0       0.0\n",
       "\n",
       "[1309 rows x 7 columns]"
      ]
     },
     "execution_count": 50,
     "metadata": {},
     "output_type": "execute_result"
    }
   ],
   "source": [
    "data4 = pd.DataFrame(npdata, columns=colnames)\n",
    "data4"
   ]
  },
  {
   "cell_type": "markdown",
   "metadata": {},
   "source": [
    "**Importante:** De aquí en adelante, seguiremos trabajando con la versión anterior del conjunto de operaciones de preprocesado, es decir, la que aplica one-hot encoding a las variables `sex`y `embarked`."
   ]
  },
  {
   "cell_type": "markdown",
   "metadata": {},
   "source": [
    "### Diescretizado de variables numéricas\n",
    "\n",
    "Una estrategia interesante para eliminar ruido de un atributo, es la discretización de variables continuas usando rangos. Opcionalmente, podemos convertir esta variable discretizada a one-hot, sin embargo, esto no es necesario, ya que una variable numérica discretizada siempre será ordinal.\n",
    "\n",
    "Para esto, scikit learn nos proporciona `KBinsDiscretizer`. Este método permite, por un lado, seleccionar el tipo de discretización que queremos hacer (por rango, por frecuencia, etc.) y por otro, decidir como representar el resultado (ordinal, one-hot, etc.).\n",
    "\n",
    "Vamos a crear versiones discretas de las variables `age` y `fare`. En este caso vamos a dejar la variable original y la discretizada para luego ver, mediante métodos de selección de características, cuál tiene más poder predictivo. En caso contrario, lo normal sería sustituir la variable original por la discretizada."
   ]
  },
  {
   "cell_type": "code",
   "execution_count": 51,
   "metadata": {},
   "outputs": [
    {
     "data": {
      "text/plain": [
       "array([[1., 1., 0., ..., 0., 1., 1.],\n",
       "       [1., 0., 1., ..., 0., 1., 1.],\n",
       "       [1., 1., 0., ..., 0., 1., 0.],\n",
       "       ...,\n",
       "       [3., 0., 1., ..., 0., 0., 0.],\n",
       "       [3., 0., 1., ..., 0., 0., 0.],\n",
       "       [3., 0., 1., ..., 0., 1., 0.]])"
      ]
     },
     "execution_count": 51,
     "metadata": {},
     "output_type": "execute_result"
    }
   ],
   "source": [
    "from sklearn.preprocessing import KBinsDiscretizer\n",
    "\n",
    "impohe = Pipeline([('si3', SimpleImputer(strategy='most_frequent')),\n",
    "                   ('onehot', OneHotEncoder())])\n",
    "\n",
    "impdisc_age = Pipeline([(\"si1\", SimpleImputer(strategy='mean')),\n",
    "                   ('disc1', KBinsDiscretizer(8, strategy='uniform', encode='ordinal'))])\n",
    "\n",
    "impdisc_fare = Pipeline([(\"si2\", SimpleImputer(strategy='median')),\n",
    "                   ('disc2', KBinsDiscretizer(6, strategy='quantile', encode='ordinal'))])\n",
    "\n",
    "ct = ColumnTransformer([(\"original1\",'passthrough',['pclass']),\n",
    "                        (\"ohe\",OneHotEncoder(),['sex']),\n",
    "                        (\"si1\",SimpleImputer(strategy='mean'),['age']), # age\n",
    "                        (\"disc_age\",impdisc_age,['age']), # age_range\n",
    "                        (\"original2\",'passthrough',['sibsp']),\n",
    "                        (\"si2\",SimpleImputer(strategy='median'),['fare']), # fare\n",
    "                        (\"disc_fare\",impdisc_fare,['fare']), # fare_range\n",
    "                        (\"impohe\",impohe,['embarked']),\n",
    "                        (\"original4\",'passthrough',['survived'])])\n",
    "\n",
    "npdata = ct.fit_transform(data)\n",
    "npdata"
   ]
  },
  {
   "cell_type": "code",
   "execution_count": 52,
   "metadata": {},
   "outputs": [
    {
     "name": "stdout",
     "output_type": "stream",
     "text": [
      "[[  1.       1.       0.      29.       2.       0.     211.3375   5.\n",
      "    0.       0.       1.       1.    ]\n",
      " [  1.       0.       1.       0.9167   0.       1.     151.55     5.\n",
      "    0.       0.       1.       1.    ]\n",
      " [  1.       1.       0.       2.       0.       1.     151.55     5.\n",
      "    0.       0.       1.       0.    ]\n",
      " [  1.       0.       1.      30.       2.       1.     151.55     5.\n",
      "    0.       0.       1.       0.    ]\n",
      " [  1.       1.       0.      25.       2.       1.     151.55     5.\n",
      "    0.       0.       1.       0.    ]]\n"
     ]
    }
   ],
   "source": [
    "print(npdata[0:5])"
   ]
  },
  {
   "cell_type": "code",
   "execution_count": 53,
   "metadata": {},
   "outputs": [],
   "source": [
    "colnames = ['pclass', 'sex=female', 'sex=male', 'age', 'age_range', 'sibsp', 'fare', \n",
    "            'fare_range', 'embarked=C', 'embarked=Q', 'embarked=S', 'survived']"
   ]
  },
  {
   "cell_type": "code",
   "execution_count": 54,
   "metadata": {},
   "outputs": [
    {
     "data": {
      "text/html": [
       "<div>\n",
       "<style scoped>\n",
       "    .dataframe tbody tr th:only-of-type {\n",
       "        vertical-align: middle;\n",
       "    }\n",
       "\n",
       "    .dataframe tbody tr th {\n",
       "        vertical-align: top;\n",
       "    }\n",
       "\n",
       "    .dataframe thead th {\n",
       "        text-align: right;\n",
       "    }\n",
       "</style>\n",
       "<table border=\"1\" class=\"dataframe\">\n",
       "  <thead>\n",
       "    <tr style=\"text-align: right;\">\n",
       "      <th></th>\n",
       "      <th>pclass</th>\n",
       "      <th>sex=female</th>\n",
       "      <th>sex=male</th>\n",
       "      <th>age</th>\n",
       "      <th>age_range</th>\n",
       "      <th>sibsp</th>\n",
       "      <th>fare</th>\n",
       "      <th>fare_range</th>\n",
       "      <th>embarked=C</th>\n",
       "      <th>embarked=Q</th>\n",
       "      <th>embarked=S</th>\n",
       "      <th>survived</th>\n",
       "    </tr>\n",
       "  </thead>\n",
       "  <tbody>\n",
       "    <tr>\n",
       "      <th>0</th>\n",
       "      <td>1.0</td>\n",
       "      <td>1.0</td>\n",
       "      <td>0.0</td>\n",
       "      <td>29.000000</td>\n",
       "      <td>2.0</td>\n",
       "      <td>0.0</td>\n",
       "      <td>211.3375</td>\n",
       "      <td>5.0</td>\n",
       "      <td>0.0</td>\n",
       "      <td>0.0</td>\n",
       "      <td>1.0</td>\n",
       "      <td>1.0</td>\n",
       "    </tr>\n",
       "    <tr>\n",
       "      <th>1</th>\n",
       "      <td>1.0</td>\n",
       "      <td>0.0</td>\n",
       "      <td>1.0</td>\n",
       "      <td>0.916700</td>\n",
       "      <td>0.0</td>\n",
       "      <td>1.0</td>\n",
       "      <td>151.5500</td>\n",
       "      <td>5.0</td>\n",
       "      <td>0.0</td>\n",
       "      <td>0.0</td>\n",
       "      <td>1.0</td>\n",
       "      <td>1.0</td>\n",
       "    </tr>\n",
       "    <tr>\n",
       "      <th>2</th>\n",
       "      <td>1.0</td>\n",
       "      <td>1.0</td>\n",
       "      <td>0.0</td>\n",
       "      <td>2.000000</td>\n",
       "      <td>0.0</td>\n",
       "      <td>1.0</td>\n",
       "      <td>151.5500</td>\n",
       "      <td>5.0</td>\n",
       "      <td>0.0</td>\n",
       "      <td>0.0</td>\n",
       "      <td>1.0</td>\n",
       "      <td>0.0</td>\n",
       "    </tr>\n",
       "    <tr>\n",
       "      <th>3</th>\n",
       "      <td>1.0</td>\n",
       "      <td>0.0</td>\n",
       "      <td>1.0</td>\n",
       "      <td>30.000000</td>\n",
       "      <td>2.0</td>\n",
       "      <td>1.0</td>\n",
       "      <td>151.5500</td>\n",
       "      <td>5.0</td>\n",
       "      <td>0.0</td>\n",
       "      <td>0.0</td>\n",
       "      <td>1.0</td>\n",
       "      <td>0.0</td>\n",
       "    </tr>\n",
       "    <tr>\n",
       "      <th>4</th>\n",
       "      <td>1.0</td>\n",
       "      <td>1.0</td>\n",
       "      <td>0.0</td>\n",
       "      <td>25.000000</td>\n",
       "      <td>2.0</td>\n",
       "      <td>1.0</td>\n",
       "      <td>151.5500</td>\n",
       "      <td>5.0</td>\n",
       "      <td>0.0</td>\n",
       "      <td>0.0</td>\n",
       "      <td>1.0</td>\n",
       "      <td>0.0</td>\n",
       "    </tr>\n",
       "    <tr>\n",
       "      <th>...</th>\n",
       "      <td>...</td>\n",
       "      <td>...</td>\n",
       "      <td>...</td>\n",
       "      <td>...</td>\n",
       "      <td>...</td>\n",
       "      <td>...</td>\n",
       "      <td>...</td>\n",
       "      <td>...</td>\n",
       "      <td>...</td>\n",
       "      <td>...</td>\n",
       "      <td>...</td>\n",
       "      <td>...</td>\n",
       "    </tr>\n",
       "    <tr>\n",
       "      <th>1304</th>\n",
       "      <td>3.0</td>\n",
       "      <td>1.0</td>\n",
       "      <td>0.0</td>\n",
       "      <td>14.500000</td>\n",
       "      <td>1.0</td>\n",
       "      <td>1.0</td>\n",
       "      <td>14.4542</td>\n",
       "      <td>3.0</td>\n",
       "      <td>1.0</td>\n",
       "      <td>0.0</td>\n",
       "      <td>0.0</td>\n",
       "      <td>0.0</td>\n",
       "    </tr>\n",
       "    <tr>\n",
       "      <th>1305</th>\n",
       "      <td>3.0</td>\n",
       "      <td>1.0</td>\n",
       "      <td>0.0</td>\n",
       "      <td>29.881135</td>\n",
       "      <td>2.0</td>\n",
       "      <td>1.0</td>\n",
       "      <td>14.4542</td>\n",
       "      <td>3.0</td>\n",
       "      <td>1.0</td>\n",
       "      <td>0.0</td>\n",
       "      <td>0.0</td>\n",
       "      <td>0.0</td>\n",
       "    </tr>\n",
       "    <tr>\n",
       "      <th>1306</th>\n",
       "      <td>3.0</td>\n",
       "      <td>0.0</td>\n",
       "      <td>1.0</td>\n",
       "      <td>26.500000</td>\n",
       "      <td>2.0</td>\n",
       "      <td>0.0</td>\n",
       "      <td>7.2250</td>\n",
       "      <td>0.0</td>\n",
       "      <td>1.0</td>\n",
       "      <td>0.0</td>\n",
       "      <td>0.0</td>\n",
       "      <td>0.0</td>\n",
       "    </tr>\n",
       "    <tr>\n",
       "      <th>1307</th>\n",
       "      <td>3.0</td>\n",
       "      <td>0.0</td>\n",
       "      <td>1.0</td>\n",
       "      <td>27.000000</td>\n",
       "      <td>2.0</td>\n",
       "      <td>0.0</td>\n",
       "      <td>7.2250</td>\n",
       "      <td>0.0</td>\n",
       "      <td>1.0</td>\n",
       "      <td>0.0</td>\n",
       "      <td>0.0</td>\n",
       "      <td>0.0</td>\n",
       "    </tr>\n",
       "    <tr>\n",
       "      <th>1308</th>\n",
       "      <td>3.0</td>\n",
       "      <td>0.0</td>\n",
       "      <td>1.0</td>\n",
       "      <td>29.000000</td>\n",
       "      <td>2.0</td>\n",
       "      <td>0.0</td>\n",
       "      <td>7.8750</td>\n",
       "      <td>1.0</td>\n",
       "      <td>0.0</td>\n",
       "      <td>0.0</td>\n",
       "      <td>1.0</td>\n",
       "      <td>0.0</td>\n",
       "    </tr>\n",
       "  </tbody>\n",
       "</table>\n",
       "<p>1309 rows × 12 columns</p>\n",
       "</div>"
      ],
      "text/plain": [
       "      pclass  sex=female  sex=male        age  age_range  sibsp      fare  \\\n",
       "0        1.0         1.0       0.0  29.000000        2.0    0.0  211.3375   \n",
       "1        1.0         0.0       1.0   0.916700        0.0    1.0  151.5500   \n",
       "2        1.0         1.0       0.0   2.000000        0.0    1.0  151.5500   \n",
       "3        1.0         0.0       1.0  30.000000        2.0    1.0  151.5500   \n",
       "4        1.0         1.0       0.0  25.000000        2.0    1.0  151.5500   \n",
       "...      ...         ...       ...        ...        ...    ...       ...   \n",
       "1304     3.0         1.0       0.0  14.500000        1.0    1.0   14.4542   \n",
       "1305     3.0         1.0       0.0  29.881135        2.0    1.0   14.4542   \n",
       "1306     3.0         0.0       1.0  26.500000        2.0    0.0    7.2250   \n",
       "1307     3.0         0.0       1.0  27.000000        2.0    0.0    7.2250   \n",
       "1308     3.0         0.0       1.0  29.000000        2.0    0.0    7.8750   \n",
       "\n",
       "      fare_range  embarked=C  embarked=Q  embarked=S  survived  \n",
       "0            5.0         0.0         0.0         1.0       1.0  \n",
       "1            5.0         0.0         0.0         1.0       1.0  \n",
       "2            5.0         0.0         0.0         1.0       0.0  \n",
       "3            5.0         0.0         0.0         1.0       0.0  \n",
       "4            5.0         0.0         0.0         1.0       0.0  \n",
       "...          ...         ...         ...         ...       ...  \n",
       "1304         3.0         1.0         0.0         0.0       0.0  \n",
       "1305         3.0         1.0         0.0         0.0       0.0  \n",
       "1306         0.0         1.0         0.0         0.0       0.0  \n",
       "1307         0.0         1.0         0.0         0.0       0.0  \n",
       "1308         1.0         0.0         0.0         1.0       0.0  \n",
       "\n",
       "[1309 rows x 12 columns]"
      ]
     },
     "execution_count": 54,
     "metadata": {},
     "output_type": "execute_result"
    }
   ],
   "source": [
    "data5 = pd.DataFrame(npdata, columns=colnames)\n",
    "data5"
   ]
  },
  {
   "cell_type": "markdown",
   "metadata": {},
   "source": [
    "# Aprendizaje supervisado - Titanic"
   ]
  },
  {
   "cell_type": "markdown",
   "metadata": {},
   "source": [
    "El paquete de _Python_ [scikit-learn](http://scikit-learn.org) (_sklearn_ en lo que sigue) proporciona un marco de trabajo para el aprendizaje automático."
   ]
  },
  {
   "cell_type": "code",
   "execution_count": 55,
   "metadata": {},
   "outputs": [],
   "source": [
    "from sklearn.model_selection import train_test_split, cross_val_score, GridSearchCV\n",
    "from sklearn.tree import DecisionTreeClassifier\n",
    "from sklearn.dummy import DummyClassifier\n",
    "from sklearn.neighbors import KNeighborsClassifier\n",
    "from sklearn.metrics import accuracy_score, balanced_accuracy_score, confusion_matrix, SCORERS"
   ]
  },
  {
   "cell_type": "markdown",
   "metadata": {},
   "source": [
    "Para ilustrar las diferentes técnicas de aprendizaje supervisado vistas en clase vamos a usar el conjunto de datos sobre el titanic que acabamos de preparar."
   ]
  },
  {
   "cell_type": "markdown",
   "metadata": {},
   "source": [
    "Recuperamos nuestro conjunto de datos preprocesado en formato numpy:"
   ]
  },
  {
   "cell_type": "code",
   "execution_count": 56,
   "metadata": {},
   "outputs": [
    {
     "data": {
      "text/plain": [
       "array([[1., 1., 0., ..., 0., 1., 1.],\n",
       "       [1., 0., 1., ..., 0., 1., 1.],\n",
       "       [1., 1., 0., ..., 0., 1., 0.],\n",
       "       ...,\n",
       "       [3., 0., 1., ..., 0., 0., 0.],\n",
       "       [3., 0., 1., ..., 0., 0., 0.],\n",
       "       [3., 0., 1., ..., 0., 1., 0.]])"
      ]
     },
     "execution_count": 56,
     "metadata": {},
     "output_type": "execute_result"
    }
   ],
   "source": [
    "npdata"
   ]
  },
  {
   "cell_type": "markdown",
   "metadata": {},
   "source": [
    "La variable respuesta, *survived*, es binaria y se encuentra en última posición. Recordemos que aplicar cualquier algoritmo de scikit-learn debemos separar la variable objetivo de los atributos o variables predictoras:"
   ]
  },
  {
   "cell_type": "code",
   "execution_count": 57,
   "metadata": {},
   "outputs": [
    {
     "data": {
      "text/plain": [
       "array([1., 1., 0., ..., 0., 0., 0.])"
      ]
     },
     "execution_count": 57,
     "metadata": {},
     "output_type": "execute_result"
    }
   ],
   "source": [
    "y_titanic = npdata[:,-1]\n",
    "y_titanic"
   ]
  },
  {
   "cell_type": "code",
   "execution_count": 58,
   "metadata": {},
   "outputs": [
    {
     "data": {
      "text/plain": [
       "array([[1., 1., 0., ..., 0., 0., 1.],\n",
       "       [1., 0., 1., ..., 0., 0., 1.],\n",
       "       [1., 1., 0., ..., 0., 0., 1.],\n",
       "       ...,\n",
       "       [3., 0., 1., ..., 1., 0., 0.],\n",
       "       [3., 0., 1., ..., 1., 0., 0.],\n",
       "       [3., 0., 1., ..., 0., 0., 1.]])"
      ]
     },
     "execution_count": 58,
     "metadata": {},
     "output_type": "execute_result"
    }
   ],
   "source": [
    "X_titanic = npdata[:, :-1]\n",
    "X_titanic"
   ]
  },
  {
   "cell_type": "markdown",
   "metadata": {},
   "source": [
    "### División de datos en entrenamiento y prueba"
   ]
  },
  {
   "cell_type": "markdown",
   "metadata": {},
   "source": [
    "Una vez codificadas las variables, es necesario separar el conjunto de datos en dos: un conjunto de entrenamiento, que se usará para generar los distintos modelos; y un conjunto de prueba, que se usará para comparar los distintos modelos.\n",
    "\n",
    "Realizaremos la separación de los ejemplos se realice de manera estratificada tal y como vimos en la práctica anterior, es decir, intentando mantener la proporción anterior tanto en el conjunto de entrenamiento como en el de prueba.\n",
    "\n",
    "Para dividir un conjunto de datos en un subconjunto de entrenamiento y otro de prueba, _sklearn_ proporciona la función `train_test_split`."
   ]
  },
  {
   "cell_type": "code",
   "execution_count": 59,
   "metadata": {},
   "outputs": [],
   "source": [
    "X_titanic_train, X_titanic_test, y_titanic_train, y_titanic_test = train_test_split(X_titanic, \n",
    "                                                                                    y_titanic, \n",
    "                                                                                    test_size=.25, \n",
    "                                                                                    random_state=99, \n",
    "                                                                                    stratify=y_titanic)"
   ]
  },
  {
   "cell_type": "code",
   "execution_count": 1,
   "metadata": {},
   "outputs": [
    {
     "ename": "NameError",
     "evalue": "name 'X_titanic_train' is not defined",
     "output_type": "error",
     "traceback": [
      "\u001b[1;31m---------------------------------------------------------------------------\u001b[0m",
      "\u001b[1;31mNameError\u001b[0m                                 Traceback (most recent call last)",
      "\u001b[1;32m~\\AppData\\Local\\Temp\\ipykernel_18824\\4200310729.py\u001b[0m in \u001b[0;36m<module>\u001b[1;34m\u001b[0m\n\u001b[1;32m----> 1\u001b[1;33m \u001b[0mX_titanic_train\u001b[0m\u001b[1;33m\u001b[0m\u001b[1;33m\u001b[0m\u001b[0m\n\u001b[0m",
      "\u001b[1;31mNameError\u001b[0m: name 'X_titanic_train' is not defined"
     ]
    }
   ],
   "source": [
    "X_titanic_train.shape"
   ]
  },
  {
   "cell_type": "code",
   "execution_count": 61,
   "metadata": {},
   "outputs": [
    {
     "data": {
      "text/plain": [
       "(328, 11)"
      ]
     },
     "execution_count": 61,
     "metadata": {},
     "output_type": "execute_result"
    }
   ],
   "source": [
    "X_titanic_test.shape"
   ]
  },
  {
   "cell_type": "markdown",
   "metadata": {},
   "source": [
    "Para realizar aprendizaje supervisado en _sklearn_ basta crear una instancia de la clase de objetos que implemente el modelo que se quiera utilizar (árboles de decisión, _naive_ Bayes, _kNN_, etc.).\n",
    "\n",
    "Cada una de estas instancias dispondrá de los siguientes métodos:\n",
    "* El método `fit` permite entrenar el modelo, dados __por separado__ el conjunto de ejemplos de entrenamiento y la clase de cada uno de estos ejemplos.\n",
    "* El método `predict` permite clasificar un nuevo ejemplo una vez entrenado el modelo.\n",
    "* El método `score` calcula el rendimiento del modelo (la tasa de aciertos), dados __por separado__ el conjunto de ejemplos de prueba y la clase de cada uno de estos ejemplos."
   ]
  },
  {
   "cell_type": "markdown",
   "metadata": {},
   "source": [
    "### Árboles de decisión"
   ]
  },
  {
   "cell_type": "markdown",
   "metadata": {},
   "source": [
    "_sklearn_ implementa los árboles de decisión clasificadores como instancias de la clase `DecisionTreeClassifier`.\n",
    "\n",
    "En http://scikit-learn.org/stable/modules/tree.html se puede encontrar información acerca de los árboles de decisión implementados en _sklearn_."
   ]
  },
  {
   "cell_type": "code",
   "execution_count": 62,
   "metadata": {},
   "outputs": [
    {
     "data": {
      "text/plain": [
       "DecisionTreeClassifier(random_state=99)"
      ]
     },
     "execution_count": 62,
     "metadata": {},
     "output_type": "execute_result"
    }
   ],
   "source": [
    "dt_titanic = DecisionTreeClassifier(random_state=99)\n",
    "dt_titanic"
   ]
  },
  {
   "cell_type": "code",
   "execution_count": 63,
   "metadata": {
    "scrolled": true
   },
   "outputs": [
    {
     "data": {
      "text/plain": [
       "DecisionTreeClassifier(random_state=99)"
      ]
     },
     "execution_count": 63,
     "metadata": {},
     "output_type": "execute_result"
    }
   ],
   "source": [
    "dt_titanic.fit(X_titanic_train, y_titanic_train)"
   ]
  },
  {
   "cell_type": "markdown",
   "metadata": {},
   "source": [
    "Precisión sobre el conjunto de entrenamiento:"
   ]
  },
  {
   "cell_type": "code",
   "execution_count": 64,
   "metadata": {
    "scrolled": true
   },
   "outputs": [
    {
     "data": {
      "text/plain": [
       "0.9694189602446484"
      ]
     },
     "execution_count": 64,
     "metadata": {},
     "output_type": "execute_result"
    }
   ],
   "source": [
    "dt_titanic.score(X_titanic_train, y_titanic_train)"
   ]
  },
  {
   "cell_type": "markdown",
   "metadata": {},
   "source": [
    "Precisión sobre el conjunto de prueba:"
   ]
  },
  {
   "cell_type": "code",
   "execution_count": 65,
   "metadata": {
    "scrolled": true
   },
   "outputs": [
    {
     "data": {
      "text/plain": [
       "0.7682926829268293"
      ]
     },
     "execution_count": 65,
     "metadata": {},
     "output_type": "execute_result"
    }
   ],
   "source": [
    "dt_titanic.score(X_titanic_test, y_titanic_test)"
   ]
  },
  {
   "cell_type": "markdown",
   "metadata": {},
   "source": [
    "**Ejercicio:** ¿Diría que se está produciendo sobreajuste? ¿Cómo podríamos mejorar el resultado anterior?"
   ]
  },
  {
   "cell_type": "code",
   "execution_count": null,
   "metadata": {},
   "outputs": [],
   "source": []
  },
  {
   "cell_type": "markdown",
   "metadata": {},
   "source": [
    "### Otras métricas de evaluación"
   ]
  },
  {
   "cell_type": "markdown",
   "metadata": {},
   "source": [
    "El método `score` calcula por defecto la precisión, sin embargo, existen decenas de métricas de evaluación que podemos usar. Cada una puede ser más o menos adecuada que las demás dependiendo de la naturaleza del problema con el que trabajamos y sus objetivos. En el siguiente enlace podemos ver una lista de las principales métricas disponibles en sklearn: https://scikit-learn.org/stable/modules/model_evaluation.html"
   ]
  },
  {
   "cell_type": "code",
   "execution_count": 66,
   "metadata": {},
   "outputs": [
    {
     "data": {
      "text/plain": [
       "array([1., 0., 0., 1., 0., 1., 0., 0., 0., 0., 0., 1., 0., 1., 0., 1., 0.,\n",
       "       0., 0., 1., 0., 0., 0., 1., 0., 1., 0., 1., 0., 1., 1., 1., 1., 1.,\n",
       "       0., 1., 0., 0., 1., 0., 1., 0., 1., 1., 0., 1., 0., 1., 1., 1., 0.,\n",
       "       0., 1., 0., 0., 1., 0., 1., 1., 0., 1., 1., 1., 0., 1., 0., 0., 0.,\n",
       "       0., 0., 0., 1., 0., 0., 0., 1., 0., 0., 1., 0., 1., 1., 1., 0., 0.,\n",
       "       0., 0., 1., 1., 1., 0., 0., 1., 1., 1., 0., 0., 0., 0., 0., 0., 0.,\n",
       "       1., 0., 0., 0., 0., 1., 0., 0., 0., 1., 0., 0., 1., 0., 0., 1., 1.,\n",
       "       0., 1., 0., 0., 1., 0., 1., 1., 1., 0., 0., 0., 0., 1., 1., 0., 0.,\n",
       "       0., 1., 0., 0., 0., 0., 0., 0., 0., 0., 1., 0., 1., 1., 0., 0., 1.,\n",
       "       0., 1., 1., 0., 0., 0., 0., 1., 1., 0., 0., 0., 1., 0., 1., 0., 0.,\n",
       "       1., 0., 1., 1., 1., 0., 1., 0., 0., 0., 1., 0., 0., 0., 0., 0., 0.,\n",
       "       0., 1., 0., 0., 1., 0., 0., 0., 0., 0., 0., 0., 0., 0., 0., 1., 0.,\n",
       "       0., 0., 0., 0., 1., 1., 0., 1., 0., 0., 0., 0., 0., 0., 0., 0., 1.,\n",
       "       0., 1., 0., 1., 1., 0., 0., 0., 1., 0., 1., 0., 1., 1., 0., 1., 1.,\n",
       "       0., 1., 0., 0., 0., 0., 1., 0., 0., 1., 0., 0., 1., 0., 0., 0., 1.,\n",
       "       0., 1., 1., 1., 1., 0., 0., 1., 0., 0., 0., 0., 0., 1., 0., 0., 0.,\n",
       "       1., 0., 1., 1., 0., 1., 0., 0., 1., 1., 0., 1., 1., 0., 0., 0., 0.,\n",
       "       0., 1., 1., 0., 0., 0., 1., 0., 0., 0., 0., 1., 0., 1., 0., 0., 0.,\n",
       "       1., 1., 1., 0., 1., 0., 1., 0., 0., 0., 0., 0., 1., 0., 0., 0., 0.,\n",
       "       1., 0., 1., 1., 0.])"
      ]
     },
     "execution_count": 66,
     "metadata": {},
     "output_type": "execute_result"
    }
   ],
   "source": [
    "preds_dt_titanic = dt_titanic.predict(X_titanic_test)\n",
    "preds_dt_titanic"
   ]
  },
  {
   "cell_type": "markdown",
   "metadata": {},
   "source": [
    "Los métodos de evaluación trabajan sobre dos listas, la primera la respuesta esperada y la segunda nuestras predicciones."
   ]
  },
  {
   "cell_type": "code",
   "execution_count": 67,
   "metadata": {},
   "outputs": [
    {
     "data": {
      "text/plain": [
       "0.7682926829268293"
      ]
     },
     "execution_count": 67,
     "metadata": {},
     "output_type": "execute_result"
    }
   ],
   "source": [
    "accuracy_score(y_titanic_test, preds_dt_titanic)"
   ]
  },
  {
   "cell_type": "markdown",
   "metadata": {},
   "source": [
    "¿Es fiable la **precisión (accuracy)** como métrica de evaluación? Existe una métrica más fiable denominada precisión balanceada."
   ]
  },
  {
   "cell_type": "code",
   "execution_count": 68,
   "metadata": {},
   "outputs": [
    {
     "data": {
      "text/plain": [
       "0.7528669950738915"
      ]
     },
     "execution_count": 68,
     "metadata": {},
     "output_type": "execute_result"
    }
   ],
   "source": [
    "balanced_accuracy_score(y_titanic_test, preds_dt_titanic)"
   ]
  },
  {
   "cell_type": "code",
   "execution_count": 69,
   "metadata": {},
   "outputs": [
    {
     "data": {
      "text/plain": [
       "array([[166,  37],\n",
       "       [ 39,  86]])"
      ]
     },
     "execution_count": 69,
     "metadata": {},
     "output_type": "execute_result"
    }
   ],
   "source": [
    "confusion_matrix(y_titanic_test, preds_dt_titanic)"
   ]
  },
  {
   "cell_type": "markdown",
   "metadata": {},
   "source": [
    "En este caso, vemos que las precisiones normal y balanceada coinciden. Veamos otro ejemplo:"
   ]
  },
  {
   "cell_type": "markdown",
   "metadata": {},
   "source": [
    "### El problema del desbalanceo de clases"
   ]
  },
  {
   "cell_type": "markdown",
   "metadata": {},
   "source": [
    "A continuación vamos a usar un tipo de modelo llamado *dummy*. Estos modelos no tienen capacidad de aprendizaje y, por tanto, carecen de utilidad real. Realizan predicciones basándose en reglas sencillas y son utilizados como cota inferior al realizar comparativas entre modelos predictivos."
   ]
  },
  {
   "cell_type": "code",
   "execution_count": 70,
   "metadata": {},
   "outputs": [],
   "source": [
    "dc_titanic = DummyClassifier(strategy='most_frequent')"
   ]
  },
  {
   "cell_type": "markdown",
   "metadata": {},
   "source": [
    "Estamos entrenando un clasificador que emite una predicción constante (sea cual sea la entrada). En este caso usará el valor de la variable respuesta más frecuente en el conjunto de entrenamiento."
   ]
  },
  {
   "cell_type": "code",
   "execution_count": 71,
   "metadata": {},
   "outputs": [
    {
     "data": {
      "text/plain": [
       "DummyClassifier(strategy='most_frequent')"
      ]
     },
     "execution_count": 71,
     "metadata": {},
     "output_type": "execute_result"
    }
   ],
   "source": [
    "dc_titanic.fit(X_titanic_train, y_titanic_train)"
   ]
  },
  {
   "cell_type": "code",
   "execution_count": 72,
   "metadata": {},
   "outputs": [],
   "source": [
    "preds_dc_titanic = dc_titanic.predict(X_titanic_test)"
   ]
  },
  {
   "cell_type": "markdown",
   "metadata": {},
   "source": [
    "Veamos la capacidad predictiva de nuestro modelo *dummy*."
   ]
  },
  {
   "cell_type": "code",
   "execution_count": 73,
   "metadata": {
    "scrolled": true
   },
   "outputs": [
    {
     "data": {
      "text/plain": [
       "0.6189024390243902"
      ]
     },
     "execution_count": 73,
     "metadata": {},
     "output_type": "execute_result"
    }
   ],
   "source": [
    "accuracy_score(y_titanic_test, preds_dc_titanic)"
   ]
  },
  {
   "cell_type": "markdown",
   "metadata": {},
   "source": [
    "Casi un 62%. ¿No habíamos dicho que hemos creado un modelo que no ha aprendido nada?"
   ]
  },
  {
   "cell_type": "markdown",
   "metadata": {},
   "source": [
    "¿Cómo están distribuidos los valores de la variable respuesta?"
   ]
  },
  {
   "cell_type": "code",
   "execution_count": 74,
   "metadata": {},
   "outputs": [
    {
     "data": {
      "text/plain": [
       "(array([0., 1.]), array([809, 500]))"
      ]
     },
     "execution_count": 74,
     "metadata": {},
     "output_type": "execute_result"
    }
   ],
   "source": [
    "np.unique(y_titanic, return_counts=True)"
   ]
  },
  {
   "cell_type": "code",
   "execution_count": 75,
   "metadata": {},
   "outputs": [
    {
     "data": {
      "text/plain": [
       "array([809, 500])"
      ]
     },
     "execution_count": 75,
     "metadata": {},
     "output_type": "execute_result"
    }
   ],
   "source": [
    "counts = np.unique(y_titanic, return_counts=True)[1]\n",
    "counts"
   ]
  },
  {
   "cell_type": "markdown",
   "metadata": {},
   "source": [
    "Veamoslo como porcentajes"
   ]
  },
  {
   "cell_type": "code",
   "execution_count": 76,
   "metadata": {},
   "outputs": [
    {
     "data": {
      "text/plain": [
       "(61.8, 38.2)"
      ]
     },
     "execution_count": 76,
     "metadata": {},
     "output_type": "execute_result"
    }
   ],
   "source": [
    "round((counts[0]/sum(counts))*100, 2),  round((1 - (counts[0]/sum(counts)))*100, 2)"
   ]
  },
  {
   "cell_type": "markdown",
   "metadata": {},
   "source": [
    "Vemos que efectivamente la variable respuesta está desbalanceada, de forma que casi el 62% de registros pertenecen a la clase 0 (pasajeros que no sobreviven) y el 38% a la clase 1 (pasajeros que sobreviven). Por tanto, esta es la razón de que nuestro modelo *dummy*, que emite siempre la misma predicción (0 en este caso), obtenga una tasa de aciertos del 61.8%."
   ]
  },
  {
   "cell_type": "markdown",
   "metadata": {},
   "source": [
    "Veamos ahora una nueva métrica llamada *precisión balanceada*."
   ]
  },
  {
   "cell_type": "code",
   "execution_count": 77,
   "metadata": {},
   "outputs": [
    {
     "data": {
      "text/plain": [
       "0.5"
      ]
     },
     "execution_count": 77,
     "metadata": {},
     "output_type": "execute_result"
    }
   ],
   "source": [
    "balanced_accuracy_score(y_titanic_test, preds_dc_titanic)"
   ]
  },
  {
   "cell_type": "markdown",
   "metadata": {},
   "source": [
    "Este valor parece más razonable. Nuestro modelo *dummy* siempre emite la misma predicción, por lo que estamos acertando todos los registros de una clase y fallando todos los de la otra. Por tanto, parece razonable decir que estamos resolviendo la mitad del problema (solo estamos acertando los registro de una clase) y esto es lo que nos indica el valor obtenido 0.5.\n",
    "\n",
    "La precisión balanceada calcular tasas o porcentajes de acierto para cada uno de los posibles valores de la variable respuesta y luego los promedia, de esta forma se elimina el efecto del desbalance. En el ejemplo, estamos obteniendo una tasa de 1.0 (100%) sobre los registros que pertenecen a la clase 0 y una tasa de 0 (0%) sobre los registros de la clase 1. La media de 1 y 0 es 0.5 y esto es lo que ha devuelto la tasa de aciertos balanceada."
   ]
  },
  {
   "cell_type": "markdown",
   "metadata": {},
   "source": [
    "### Validación Cruzada"
   ]
  },
  {
   "cell_type": "markdown",
   "metadata": {},
   "source": [
    "Por último, recordemos otra metodología de evaluación vista en la práctica anterior. La evaluación mediante validación cruzada permite calcular una precisión (u otra métrica de rendimiento) honesta usando todo el conjunto de datos. Veamos además como especificar métricas alternativas."
   ]
  },
  {
   "cell_type": "code",
   "execution_count": 78,
   "metadata": {},
   "outputs": [],
   "source": [
    "titanic_dt = DecisionTreeClassifier(random_state=99)"
   ]
  },
  {
   "cell_type": "code",
   "execution_count": 79,
   "metadata": {},
   "outputs": [
    {
     "data": {
      "text/plain": [
       "array([0.74111675, 0.76020408, 0.76530612, 0.77040816, 0.76020408])"
      ]
     },
     "execution_count": 79,
     "metadata": {},
     "output_type": "execute_result"
    }
   ],
   "source": [
    "titanic_acc = cross_val_score(titanic_dt, X_titanic_train, y_titanic_train, cv=5)\n",
    "titanic_acc"
   ]
  },
  {
   "cell_type": "markdown",
   "metadata": {},
   "source": [
    "La métrica por defecto usada por `cross_val_score` es la tasa o porcentaje de aciertos, llamada `acuracy`."
   ]
  },
  {
   "cell_type": "code",
   "execution_count": 80,
   "metadata": {},
   "outputs": [
    {
     "data": {
      "text/plain": [
       "0.7594478400497254"
      ]
     },
     "execution_count": 80,
     "metadata": {},
     "output_type": "execute_result"
    }
   ],
   "source": [
    "titanic_acc.mean()"
   ]
  },
  {
   "cell_type": "markdown",
   "metadata": {},
   "source": [
    "Mediante el parámetro `scoring` podemos indicar el nombre de la métrica a usar. En este caso vamos a usar la precisión balanceada introducida anteriormente."
   ]
  },
  {
   "cell_type": "code",
   "execution_count": 81,
   "metadata": {},
   "outputs": [
    {
     "data": {
      "text/plain": [
       "array([0.72420765, 0.73482094, 0.76429752, 0.75829201, 0.73735537])"
      ]
     },
     "execution_count": 81,
     "metadata": {},
     "output_type": "execute_result"
    }
   ],
   "source": [
    "titanic_bacc = cross_val_score(titanic_dt, X_titanic_train, y_titanic_train, cv=5, scoring='balanced_accuracy')\n",
    "titanic_bacc"
   ]
  },
  {
   "cell_type": "code",
   "execution_count": 82,
   "metadata": {},
   "outputs": [
    {
     "data": {
      "text/plain": [
       "0.743794698098722"
      ]
     },
     "execution_count": 82,
     "metadata": {},
     "output_type": "execute_result"
    }
   ],
   "source": [
    "titanic_bacc.mean()"
   ]
  },
  {
   "cell_type": "markdown",
   "metadata": {},
   "source": [
    "Con la siguiente llamada podemos obtener una lista de todas las métricas disponibles."
   ]
  },
  {
   "cell_type": "code",
   "execution_count": 83,
   "metadata": {
    "scrolled": true
   },
   "outputs": [
    {
     "data": {
      "text/plain": [
       "['accuracy',\n",
       " 'adjusted_mutual_info_score',\n",
       " 'adjusted_rand_score',\n",
       " 'average_precision',\n",
       " 'balanced_accuracy',\n",
       " 'completeness_score',\n",
       " 'explained_variance',\n",
       " 'f1',\n",
       " 'f1_macro',\n",
       " 'f1_micro',\n",
       " 'f1_samples',\n",
       " 'f1_weighted',\n",
       " 'fowlkes_mallows_score',\n",
       " 'homogeneity_score',\n",
       " 'jaccard',\n",
       " 'jaccard_macro',\n",
       " 'jaccard_micro',\n",
       " 'jaccard_samples',\n",
       " 'jaccard_weighted',\n",
       " 'max_error',\n",
       " 'mutual_info_score',\n",
       " 'neg_brier_score',\n",
       " 'neg_log_loss',\n",
       " 'neg_mean_absolute_error',\n",
       " 'neg_mean_absolute_percentage_error',\n",
       " 'neg_mean_gamma_deviance',\n",
       " 'neg_mean_poisson_deviance',\n",
       " 'neg_mean_squared_error',\n",
       " 'neg_mean_squared_log_error',\n",
       " 'neg_median_absolute_error',\n",
       " 'neg_root_mean_squared_error',\n",
       " 'normalized_mutual_info_score',\n",
       " 'precision',\n",
       " 'precision_macro',\n",
       " 'precision_micro',\n",
       " 'precision_samples',\n",
       " 'precision_weighted',\n",
       " 'r2',\n",
       " 'rand_score',\n",
       " 'recall',\n",
       " 'recall_macro',\n",
       " 'recall_micro',\n",
       " 'recall_samples',\n",
       " 'recall_weighted',\n",
       " 'roc_auc',\n",
       " 'roc_auc_ovo',\n",
       " 'roc_auc_ovo_weighted',\n",
       " 'roc_auc_ovr',\n",
       " 'roc_auc_ovr_weighted',\n",
       " 'top_k_accuracy',\n",
       " 'v_measure_score']"
      ]
     },
     "execution_count": 83,
     "metadata": {},
     "output_type": "execute_result"
    }
   ],
   "source": [
    "sorted(SCORERS.keys())"
   ]
  },
  {
   "cell_type": "markdown",
   "metadata": {},
   "source": [
    "### kNN"
   ]
  },
  {
   "cell_type": "markdown",
   "metadata": {},
   "source": [
    "Veamos otro ejemplo de aplicación de un algoritmo visto en clase. sklearn_ implementa _kNN_ como instancias de la clase `KNeighborsClassifier`.\n",
    "\n",
    "El clasificador KNN permite usar diferentes distancias. Por defecto y para la mayoría de conjuntos de datos usaremos la distancia *euclídea* que es la más versátil. Sin embargo, para conjuntos de datos en los que todas las variables son binarias o nominales, podemos usar la distancia de *hamming*.\n",
    "\n",
    "Documentación: https://scikit-learn.org/stable/modules/generated/sklearn.neighbors.KNeighborsClassifier.html\n",
    "En https://scikit-learn.org/stable/modules/generated/sklearn.metrics.DistanceMetric.html#sklearn.metrics.DistanceMetric se puede encontrar una descripción de las distancias actualmente implementadas que se podrían usar."
   ]
  },
  {
   "cell_type": "code",
   "execution_count": 84,
   "metadata": {},
   "outputs": [],
   "source": [
    "# To-Do entrene y evalúe (usando la precisión balanceada) un modelo KNN. Pruebe con las distancias euclidea y manhattan."
   ]
  },
  {
   "cell_type": "markdown",
   "metadata": {},
   "source": [
    "### Perceptrón multicapa"
   ]
  },
  {
   "cell_type": "markdown",
   "metadata": {},
   "source": [
    "Aunque sklearn no es una librería especializada para el entrenamiento de redes neuronales, nos permite definir redes neuronales densamente conectadas y entrenarlas mediante el algoritmo de retropropagación, es decir, lo que hemos visto en clase: https://scikit-learn.org/stable/modules/generated/sklearn.neural_network.MLPClassifier.html#sklearn.neural_network.MLPClassifier\n",
    "\n",
    "El parámetro hidden_layer_sizes permite definir la topología de nuestra red. En concreto, nos permite especificar el número de capas ocultas y el número de neuronas en cada una de ellas. No es necesario especificar el tamaño de las capas de entrada y salida, ya que el sistema lo infiere a partir de los datos."
   ]
  },
  {
   "cell_type": "code",
   "execution_count": 85,
   "metadata": {},
   "outputs": [
    {
     "data": {
      "text/plain": [
       "MLPClassifier(random_state=99)"
      ]
     },
     "execution_count": 85,
     "metadata": {},
     "output_type": "execute_result"
    }
   ],
   "source": [
    "from sklearn.neural_network import MLPClassifier\n",
    "\n",
    "mlp_titanic = MLPClassifier(random_state=99, hidden_layer_sizes=(100,), max_iter=200)\n",
    "mlp_titanic.fit(X_titanic_train, y_titanic_train)"
   ]
  },
  {
   "cell_type": "code",
   "execution_count": 86,
   "metadata": {},
   "outputs": [
    {
     "data": {
      "text/plain": [
       "0.8154943934760448"
      ]
     },
     "execution_count": 86,
     "metadata": {},
     "output_type": "execute_result"
    }
   ],
   "source": [
    "mlp_titanic.score(X_titanic_train, y_titanic_train)"
   ]
  },
  {
   "cell_type": "code",
   "execution_count": 87,
   "metadata": {},
   "outputs": [
    {
     "data": {
      "text/plain": [
       "0.774390243902439"
      ]
     },
     "execution_count": 87,
     "metadata": {},
     "output_type": "execute_result"
    }
   ],
   "source": [
    "mlp_titanic.score(X_titanic_test, y_titanic_test)"
   ]
  },
  {
   "cell_type": "markdown",
   "metadata": {},
   "source": [
    "### Optimización de hiperparámetros: _Grid Search_\n",
    "\n",
    "Como se ha visto con algunos de los clasificadores anteriores, existen lo que llamamos _hiperparámetros_, determinados valores propios del modelo que pueden afectar grandemente al rendimiento del mismo. Por ejemplo, la profundidad máxima de los árboles de decisión o el número de vecinos en KNN. Téngase en cuenta que un mismo modelo puede tener varios hiperparámetros.\n",
    "\n",
    "No debemos confundir un _hiperparámetro_ con un _parámetro_, entendiendo estos últimos como aquellos valores que se _aprenden_ en el modelo: por ejemplo, los pesos en regresión logística o las probabilidades condicionadas en naive bayes. Dicho esto, es bastante común llamar también parámetros a los hiperparámetros, cuando el contexto no da lugar a confusión. \n",
    "\n",
    "Encontrar buenos valores para los hiperparámetros es muy importante para el buen rendimiento del modelo que finalmente se aprenda. Usualmente, esto significa probar distintas combinaciones de valores para cada hiperparámetro, aprendiendo el modelo y evaluándolo en cada una de esas combinaciones, para finalmente tomar la mejor combinación. Esta técnica se denomina _grid search_ y es tan común que `scikit-learn` la tiene implementada. "
   ]
  },
  {
   "cell_type": "markdown",
   "metadata": {},
   "source": [
    "Hasta ahora, esto lo hemos hecho realizando diferentes pruebas, cambiando los valores. Una forma de automatizar esta búsqueda sería mediante un bucle en el que vamos realizando experimentos (entrenamiento y predicción) usando diferentes valores para un mismo parámetro y quedándonos finalmente con el que mejor rendimiento proporciona.\n",
    "\n",
    "Sin embargo, sklearn nos permite realizar esta búsqueda de forma sencilla mediante *GridSearchCV* que es una implementación de grid search en la que cada combinación de hiperparámetros es evaluada mediante validación cruzada: https://scikit-learn.org/stable/modules/generated/sklearn.model_selection.GridSearchCV.html"
   ]
  },
  {
   "cell_type": "code",
   "execution_count": 88,
   "metadata": {},
   "outputs": [],
   "source": [
    "dt_titanic = DecisionTreeClassifier(random_state=99)\n",
    "parameters = {'criterion':['gini', 'entropy'], 'max_depth':range(5,15), 'min_samples_leaf': [10,20,35,50,75]}\n",
    "gcv_titanic = GridSearchCV(dt_titanic, parameters, cv=5, scoring='balanced_accuracy')"
   ]
  },
  {
   "cell_type": "markdown",
   "metadata": {},
   "source": [
    "**Cuidado con el número de combinaciones**"
   ]
  },
  {
   "cell_type": "markdown",
   "metadata": {},
   "source": [
    "Al llamar al método fit, se ejecutarán tantos experimentos por validación cruzada, como combinaciones de valores hayamos especificado. En nuestro caso 2 x 10 x 5 = 100:"
   ]
  },
  {
   "cell_type": "code",
   "execution_count": 89,
   "metadata": {
    "scrolled": true
   },
   "outputs": [
    {
     "data": {
      "text/plain": [
       "100"
      ]
     },
     "execution_count": 89,
     "metadata": {},
     "output_type": "execute_result"
    }
   ],
   "source": [
    "len(('gini', 'entropy'))*len(range(5,15))*len([10,20,35,50,75])"
   ]
  },
  {
   "cell_type": "markdown",
   "metadata": {},
   "source": [
    "Es importante no especificar un número demasiado elevado de experimentos, ya que la ejecución puede tardar mucho en completarse."
   ]
  },
  {
   "cell_type": "code",
   "execution_count": 90,
   "metadata": {},
   "outputs": [
    {
     "data": {
      "text/plain": [
       "GridSearchCV(cv=5, estimator=DecisionTreeClassifier(random_state=99),\n",
       "             param_grid={'criterion': ['gini', 'entropy'],\n",
       "                         'max_depth': range(5, 15),\n",
       "                         'min_samples_leaf': [10, 20, 35, 50, 75]},\n",
       "             scoring='balanced_accuracy')"
      ]
     },
     "execution_count": 90,
     "metadata": {},
     "output_type": "execute_result"
    }
   ],
   "source": [
    "gcv_titanic.fit(X_titanic_train, y_titanic_train)"
   ]
  },
  {
   "cell_type": "markdown",
   "metadata": {},
   "source": [
    "Dado que es un procedimiento que puede tomar tiempo, podemos usar el parámetro `verbose` para indicarle al sistema que imprima información sobre los experimentos que va realizando."
   ]
  },
  {
   "cell_type": "code",
   "execution_count": 91,
   "metadata": {},
   "outputs": [
    {
     "data": {
      "text/plain": [
       "GridSearchCV(cv=5, estimator=DecisionTreeClassifier(random_state=99),\n",
       "             param_grid={'criterion': ['gini', 'entropy'],\n",
       "                         'max_depth': range(5, 15),\n",
       "                         'min_samples_leaf': [10, 20, 35, 50, 75]},\n",
       "             scoring='balanced_accuracy')"
      ]
     },
     "execution_count": 91,
     "metadata": {},
     "output_type": "execute_result"
    }
   ],
   "source": [
    "gcv_titanic = GridSearchCV(dt_titanic, parameters, cv=5, scoring='balanced_accuracy') # verbose=2\n",
    "gcv_titanic.fit(X_titanic_train, y_titanic_train)"
   ]
  },
  {
   "cell_type": "markdown",
   "metadata": {},
   "source": [
    "La mejor configuración de hiperparámetros obtenida es:"
   ]
  },
  {
   "cell_type": "code",
   "execution_count": 92,
   "metadata": {},
   "outputs": [
    {
     "data": {
      "text/plain": [
       "{'criterion': 'entropy', 'max_depth': 6, 'min_samples_leaf': 10}"
      ]
     },
     "execution_count": 92,
     "metadata": {},
     "output_type": "execute_result"
    }
   ],
   "source": [
    "gcv_titanic.best_params_"
   ]
  },
  {
   "cell_type": "markdown",
   "metadata": {},
   "source": [
    "Siendo su tasa de aciertos balanceada:"
   ]
  },
  {
   "cell_type": "code",
   "execution_count": 93,
   "metadata": {
    "scrolled": true
   },
   "outputs": [
    {
     "data": {
      "text/plain": [
       "0.78206304475455"
      ]
     },
     "execution_count": 93,
     "metadata": {},
     "output_type": "execute_result"
    }
   ],
   "source": [
    "gcv_titanic.best_score_"
   ]
  },
  {
   "cell_type": "markdown",
   "metadata": {},
   "source": [
    "También devuelve un modelo ya entrenado, usando la mejor configuración de hiperparámetros encontrada. Vamos a usar este modelo para obtener predicciones sobre el conjunto de prueba y calcular la precisión o tasa de aciertos balanceada."
   ]
  },
  {
   "cell_type": "code",
   "execution_count": 94,
   "metadata": {},
   "outputs": [
    {
     "data": {
      "text/plain": [
       "array([1., 0., 0., 1., 0., 1., 0., 0., 0., 0., 0., 0., 0., 1., 0., 1., 0.,\n",
       "       0., 0., 0., 0., 1., 0., 1., 0., 1., 0., 1., 0., 1., 1., 1., 1., 0.,\n",
       "       0., 1., 0., 0., 1., 0., 1., 0., 0., 1., 0., 1., 0., 1., 0., 1., 0.,\n",
       "       0., 1., 0., 0., 1., 0., 1., 1., 0., 1., 1., 1., 0., 1., 0., 0., 0.,\n",
       "       0., 0., 0., 0., 0., 0., 0., 0., 0., 0., 0., 0., 1., 0., 1., 0., 0.,\n",
       "       1., 0., 0., 1., 1., 0., 1., 0., 0., 1., 0., 0., 0., 0., 0., 0., 0.,\n",
       "       1., 1., 0., 0., 1., 0., 0., 0., 1., 0., 0., 0., 0., 1., 0., 0., 1.,\n",
       "       0., 1., 1., 0., 0., 0., 1., 0., 0., 0., 0., 0., 0., 1., 1., 0., 0.,\n",
       "       0., 1., 0., 1., 0., 0., 0., 0., 0., 0., 1., 1., 1., 1., 0., 0., 0.,\n",
       "       0., 1., 0., 0., 0., 0., 0., 1., 1., 0., 0., 0., 0., 1., 0., 0., 0.,\n",
       "       1., 0., 1., 0., 0., 1., 1., 0., 0., 0., 1., 0., 1., 0., 0., 1., 0.,\n",
       "       1., 0., 0., 0., 1., 0., 0., 0., 0., 0., 0., 0., 0., 0., 0., 1., 1.,\n",
       "       0., 0., 0., 0., 0., 1., 0., 1., 0., 0., 0., 0., 0., 0., 0., 0., 0.,\n",
       "       0., 1., 0., 1., 1., 0., 0., 0., 0., 0., 1., 0., 1., 1., 0., 1., 1.,\n",
       "       0., 1., 0., 0., 0., 0., 0., 1., 0., 0., 0., 0., 0., 0., 0., 0., 0.,\n",
       "       0., 1., 1., 1., 1., 0., 0., 1., 0., 0., 0., 0., 0., 0., 0., 0., 0.,\n",
       "       0., 0., 1., 0., 0., 0., 0., 0., 1., 1., 0., 1., 1., 0., 0., 1., 0.,\n",
       "       0., 1., 1., 0., 0., 1., 1., 0., 0., 0., 0., 1., 0., 1., 0., 0., 0.,\n",
       "       1., 1., 1., 1., 1., 1., 1., 0., 0., 0., 0., 0., 1., 0., 0., 0., 0.,\n",
       "       1., 0., 0., 0., 0.])"
      ]
     },
     "execution_count": 94,
     "metadata": {},
     "output_type": "execute_result"
    }
   ],
   "source": [
    "preds_gcv_titanic = gcv_titanic.best_estimator_.predict(X_titanic_test)\n",
    "preds_gcv_titanic"
   ]
  },
  {
   "cell_type": "code",
   "execution_count": 95,
   "metadata": {},
   "outputs": [
    {
     "data": {
      "text/plain": [
       "0.751960591133005"
      ]
     },
     "execution_count": 95,
     "metadata": {},
     "output_type": "execute_result"
    }
   ],
   "source": [
    "balanced_accuracy_score(y_titanic_test, preds_gcv_titanic)"
   ]
  },
  {
   "cell_type": "markdown",
   "metadata": {},
   "source": [
    "Por último, el objeto `cv_results_` nos proporciona gran cantidad de información detallada sobre cada uno de los experimentos realizados. Será necesario procesarla para su interpretación."
   ]
  },
  {
   "cell_type": "code",
   "execution_count": 96,
   "metadata": {},
   "outputs": [
    {
     "data": {
      "text/plain": [
       "{'mean_fit_time': array([0.00222445, 0.00181766, 0.00119901, 0.00131893, 0.0010097 ,\n",
       "        0.00139079, 0.00118012, 0.00113325, 0.0010778 , 0.0010077 ,\n",
       "        0.0012742 , 0.0011971 , 0.00113888, 0.00113225, 0.00104289,\n",
       "        0.00131674, 0.00122337, 0.00115728, 0.00108976, 0.00097795,\n",
       "        0.00145154, 0.00134449, 0.00116234, 0.0010726 , 0.00098052,\n",
       "        0.00146704, 0.00130057, 0.00114737, 0.00107245, 0.00097284,\n",
       "        0.00140777, 0.00129533, 0.00138464, 0.00107374, 0.00096979,\n",
       "        0.00137086, 0.00128512, 0.00124874, 0.00107164, 0.00097518,\n",
       "        0.00138373, 0.00126543, 0.00122638, 0.00108509, 0.00097508,\n",
       "        0.00138245, 0.00125432, 0.00116005, 0.00114365, 0.0009726 ,\n",
       "        0.00125499, 0.00119996, 0.00116277, 0.00109749, 0.00108294,\n",
       "        0.00133052, 0.00125461, 0.0011611 , 0.00112619, 0.00103607,\n",
       "        0.00139246, 0.00129251, 0.00118566, 0.00111146, 0.0010211 ,\n",
       "        0.0015583 , 0.00130658, 0.00121031, 0.00110173, 0.00100012,\n",
       "        0.00165901, 0.00134144, 0.00120506, 0.0011137 , 0.00101967,\n",
       "        0.00150142, 0.00143542, 0.00121517, 0.00110645, 0.00100513,\n",
       "        0.00151606, 0.0013555 , 0.00127301, 0.00111122, 0.00100565,\n",
       "        0.00153823, 0.00136056, 0.00136275, 0.00112829, 0.0009901 ,\n",
       "        0.00154295, 0.00136247, 0.00122433, 0.00117817, 0.00099573,\n",
       "        0.00155587, 0.00138373, 0.00119538, 0.0011507 , 0.00138264]),\n",
       " 'std_fit_time': array([2.29513865e-04, 3.04897465e-04, 5.05267417e-05, 2.25875854e-04,\n",
       "        4.43522644e-05, 2.71279427e-04, 2.62383519e-05, 3.90521773e-05,\n",
       "        1.09782371e-05, 5.38345984e-05, 8.57988934e-06, 1.27886624e-05,\n",
       "        1.23190213e-05, 7.62943923e-05, 4.43769674e-05, 1.64770526e-05,\n",
       "        1.35897754e-05, 2.97020178e-05, 1.06894512e-05, 1.06179548e-05,\n",
       "        1.60158337e-04, 1.95520412e-04, 3.62513548e-05, 1.64860198e-05,\n",
       "        3.25985775e-05, 1.89746226e-04, 5.31235973e-05, 1.23671006e-05,\n",
       "        1.72371192e-05, 1.16328722e-05, 3.91136125e-05, 3.35223644e-05,\n",
       "        3.09409215e-04, 2.14897552e-05, 1.69713841e-05, 1.16248557e-05,\n",
       "        5.84675860e-05, 1.59930970e-04, 2.67753299e-05, 1.83470184e-05,\n",
       "        7.86333246e-06, 2.10277077e-05, 4.08856652e-05, 5.05812531e-05,\n",
       "        1.88313855e-05, 1.75029768e-05, 2.75721578e-05, 2.03462566e-05,\n",
       "        6.43361657e-05, 5.35163416e-06, 1.39260943e-05, 8.64641339e-06,\n",
       "        2.56718250e-05, 1.90200056e-05, 1.48107832e-04, 1.13729411e-05,\n",
       "        1.85724247e-05, 1.87106186e-05, 2.26824174e-05, 4.20657406e-05,\n",
       "        1.48361505e-05, 1.13517292e-05, 2.51293635e-05, 8.63246479e-06,\n",
       "        2.00143273e-05, 1.56035224e-04, 1.22366115e-05, 1.84164116e-05,\n",
       "        9.97262481e-06, 1.54169646e-05, 2.54235988e-04, 2.70163495e-05,\n",
       "        2.09779087e-05, 1.76219557e-05, 2.73375363e-05, 2.38139943e-05,\n",
       "        1.04127807e-04, 2.54862212e-05, 7.64784965e-06, 2.00018268e-05,\n",
       "        2.61893449e-05, 2.08703295e-05, 4.28301177e-05, 8.92895882e-06,\n",
       "        2.98520627e-05, 1.15167773e-05, 1.47045323e-05, 1.70584013e-04,\n",
       "        3.67513095e-05, 8.13618903e-06, 3.07083130e-05, 2.58754356e-05,\n",
       "        5.03277620e-05, 9.45327231e-05, 1.02343518e-05, 5.59627677e-05,\n",
       "        3.43684827e-05, 1.56460728e-05, 6.43554593e-05, 2.43760881e-04]),\n",
       " 'mean_score_time': array([0.00138955, 0.00112906, 0.00075302, 0.00078006, 0.00068035,\n",
       "        0.00071611, 0.00067263, 0.00070481, 0.00068994, 0.00067992,\n",
       "        0.00066838, 0.00067348, 0.00068288, 0.00068369, 0.00079975,\n",
       "        0.00067797, 0.00067148, 0.0006804 , 0.00067735, 0.0007288 ,\n",
       "        0.00073323, 0.00068054, 0.00072045, 0.00066805, 0.00068617,\n",
       "        0.00074835, 0.00068402, 0.00067739, 0.00067124, 0.00067816,\n",
       "        0.00069771, 0.00081425, 0.00087557, 0.00069628, 0.00067925,\n",
       "        0.00069222, 0.00069218, 0.0007093 , 0.00067654, 0.00068865,\n",
       "        0.00067673, 0.00069594, 0.00079436, 0.00067453, 0.00067539,\n",
       "        0.00067248, 0.00067625, 0.00070038, 0.0007731 , 0.0006793 ,\n",
       "        0.00068979, 0.00067797, 0.00069432, 0.00071936, 0.0007575 ,\n",
       "        0.00067182, 0.00067563, 0.00066605, 0.0007164 , 0.00080023,\n",
       "        0.00070019, 0.0006743 , 0.00068183, 0.00068135, 0.00072241,\n",
       "        0.00072594, 0.00067239, 0.0006793 , 0.00067673, 0.00075116,\n",
       "        0.00085354, 0.00069523, 0.00067954, 0.00067463, 0.00066938,\n",
       "        0.00067592, 0.00073562, 0.00069494, 0.0006876 , 0.00067058,\n",
       "        0.0006753 , 0.00068998, 0.00071502, 0.00066748, 0.000665  ,\n",
       "        0.00067635, 0.00067739, 0.00080719, 0.00067511, 0.000668  ,\n",
       "        0.00067511, 0.00069771, 0.0006804 , 0.00072055, 0.00067368,\n",
       "        0.00067744, 0.00067773, 0.00067816, 0.00067706, 0.00083637]),\n",
       " 'std_score_time': array([9.04264060e-05, 2.03514054e-04, 3.38777952e-05, 9.04436284e-05,\n",
       "        1.95895940e-05, 3.81322475e-05, 3.97065368e-06, 2.13591113e-05,\n",
       "        1.50240788e-05, 2.20577262e-05, 8.60951905e-07, 7.61507598e-06,\n",
       "        2.06484255e-05, 1.93054871e-05, 1.84931725e-04, 8.45845144e-06,\n",
       "        5.94155172e-06, 2.46697684e-05, 1.77105049e-05, 1.22862662e-04,\n",
       "        6.13918536e-05, 1.19386541e-05, 6.85753176e-05, 2.44538906e-06,\n",
       "        1.15734970e-05, 5.49587458e-05, 1.02968124e-05, 1.47822595e-05,\n",
       "        9.70876052e-06, 1.90123532e-05, 2.36150443e-05, 2.04923697e-04,\n",
       "        2.34338690e-04, 3.89534225e-05, 1.78263134e-05, 3.88441161e-05,\n",
       "        1.64079105e-05, 3.32619126e-05, 9.80199063e-06, 2.48132239e-05,\n",
       "        4.95222421e-06, 2.79875385e-05, 1.93218006e-04, 1.25810934e-05,\n",
       "        8.33769917e-06, 1.15430054e-06, 6.23290191e-06, 3.39903628e-05,\n",
       "        1.52882991e-04, 1.89481431e-05, 3.49666350e-05, 1.48927474e-05,\n",
       "        2.51675176e-05, 6.53295447e-05, 6.35411949e-05, 9.24055789e-06,\n",
       "        8.61400750e-06, 2.80321855e-06, 5.16710654e-05, 2.00914735e-04,\n",
       "        4.47438439e-05, 1.81219451e-05, 2.07998314e-05, 1.87309016e-05,\n",
       "        7.03432594e-05, 5.13413028e-05, 7.47190285e-06, 1.51379089e-05,\n",
       "        1.96446493e-05, 1.33197067e-04, 2.30577269e-04, 1.75012879e-05,\n",
       "        2.16734947e-05, 1.33723708e-05, 1.17553658e-05, 6.46109950e-06,\n",
       "        2.74670620e-05, 2.64828850e-05, 3.62763094e-05, 1.30714277e-05,\n",
       "        8.42613220e-06, 1.55195662e-05, 1.96460381e-05, 2.54382680e-06,\n",
       "        1.89178795e-06, 4.30845528e-06, 8.90218068e-06, 8.93404522e-05,\n",
       "        1.82950182e-05, 3.75280235e-06, 6.54779201e-06, 2.60007895e-05,\n",
       "        7.87633377e-06, 3.29077757e-05, 1.31070383e-05, 6.32344325e-06,\n",
       "        1.01529370e-05, 8.15461251e-06, 6.90739401e-06, 1.54463962e-04]),\n",
       " 'param_criterion': masked_array(data=['gini', 'gini', 'gini', 'gini', 'gini', 'gini', 'gini',\n",
       "                    'gini', 'gini', 'gini', 'gini', 'gini', 'gini', 'gini',\n",
       "                    'gini', 'gini', 'gini', 'gini', 'gini', 'gini', 'gini',\n",
       "                    'gini', 'gini', 'gini', 'gini', 'gini', 'gini', 'gini',\n",
       "                    'gini', 'gini', 'gini', 'gini', 'gini', 'gini', 'gini',\n",
       "                    'gini', 'gini', 'gini', 'gini', 'gini', 'gini', 'gini',\n",
       "                    'gini', 'gini', 'gini', 'gini', 'gini', 'gini', 'gini',\n",
       "                    'gini', 'entropy', 'entropy', 'entropy', 'entropy',\n",
       "                    'entropy', 'entropy', 'entropy', 'entropy', 'entropy',\n",
       "                    'entropy', 'entropy', 'entropy', 'entropy', 'entropy',\n",
       "                    'entropy', 'entropy', 'entropy', 'entropy', 'entropy',\n",
       "                    'entropy', 'entropy', 'entropy', 'entropy', 'entropy',\n",
       "                    'entropy', 'entropy', 'entropy', 'entropy', 'entropy',\n",
       "                    'entropy', 'entropy', 'entropy', 'entropy', 'entropy',\n",
       "                    'entropy', 'entropy', 'entropy', 'entropy', 'entropy',\n",
       "                    'entropy', 'entropy', 'entropy', 'entropy', 'entropy',\n",
       "                    'entropy', 'entropy', 'entropy', 'entropy', 'entropy',\n",
       "                    'entropy'],\n",
       "              mask=[False, False, False, False, False, False, False, False,\n",
       "                    False, False, False, False, False, False, False, False,\n",
       "                    False, False, False, False, False, False, False, False,\n",
       "                    False, False, False, False, False, False, False, False,\n",
       "                    False, False, False, False, False, False, False, False,\n",
       "                    False, False, False, False, False, False, False, False,\n",
       "                    False, False, False, False, False, False, False, False,\n",
       "                    False, False, False, False, False, False, False, False,\n",
       "                    False, False, False, False, False, False, False, False,\n",
       "                    False, False, False, False, False, False, False, False,\n",
       "                    False, False, False, False, False, False, False, False,\n",
       "                    False, False, False, False, False, False, False, False,\n",
       "                    False, False, False, False],\n",
       "        fill_value='?',\n",
       "             dtype=object),\n",
       " 'param_max_depth': masked_array(data=[5, 5, 5, 5, 5, 6, 6, 6, 6, 6, 7, 7, 7, 7, 7, 8, 8, 8,\n",
       "                    8, 8, 9, 9, 9, 9, 9, 10, 10, 10, 10, 10, 11, 11, 11,\n",
       "                    11, 11, 12, 12, 12, 12, 12, 13, 13, 13, 13, 13, 14, 14,\n",
       "                    14, 14, 14, 5, 5, 5, 5, 5, 6, 6, 6, 6, 6, 7, 7, 7, 7,\n",
       "                    7, 8, 8, 8, 8, 8, 9, 9, 9, 9, 9, 10, 10, 10, 10, 10,\n",
       "                    11, 11, 11, 11, 11, 12, 12, 12, 12, 12, 13, 13, 13, 13,\n",
       "                    13, 14, 14, 14, 14, 14],\n",
       "              mask=[False, False, False, False, False, False, False, False,\n",
       "                    False, False, False, False, False, False, False, False,\n",
       "                    False, False, False, False, False, False, False, False,\n",
       "                    False, False, False, False, False, False, False, False,\n",
       "                    False, False, False, False, False, False, False, False,\n",
       "                    False, False, False, False, False, False, False, False,\n",
       "                    False, False, False, False, False, False, False, False,\n",
       "                    False, False, False, False, False, False, False, False,\n",
       "                    False, False, False, False, False, False, False, False,\n",
       "                    False, False, False, False, False, False, False, False,\n",
       "                    False, False, False, False, False, False, False, False,\n",
       "                    False, False, False, False, False, False, False, False,\n",
       "                    False, False, False, False],\n",
       "        fill_value='?',\n",
       "             dtype=object),\n",
       " 'param_min_samples_leaf': masked_array(data=[10, 20, 35, 50, 75, 10, 20, 35, 50, 75, 10, 20, 35, 50,\n",
       "                    75, 10, 20, 35, 50, 75, 10, 20, 35, 50, 75, 10, 20, 35,\n",
       "                    50, 75, 10, 20, 35, 50, 75, 10, 20, 35, 50, 75, 10, 20,\n",
       "                    35, 50, 75, 10, 20, 35, 50, 75, 10, 20, 35, 50, 75, 10,\n",
       "                    20, 35, 50, 75, 10, 20, 35, 50, 75, 10, 20, 35, 50, 75,\n",
       "                    10, 20, 35, 50, 75, 10, 20, 35, 50, 75, 10, 20, 35, 50,\n",
       "                    75, 10, 20, 35, 50, 75, 10, 20, 35, 50, 75, 10, 20, 35,\n",
       "                    50, 75],\n",
       "              mask=[False, False, False, False, False, False, False, False,\n",
       "                    False, False, False, False, False, False, False, False,\n",
       "                    False, False, False, False, False, False, False, False,\n",
       "                    False, False, False, False, False, False, False, False,\n",
       "                    False, False, False, False, False, False, False, False,\n",
       "                    False, False, False, False, False, False, False, False,\n",
       "                    False, False, False, False, False, False, False, False,\n",
       "                    False, False, False, False, False, False, False, False,\n",
       "                    False, False, False, False, False, False, False, False,\n",
       "                    False, False, False, False, False, False, False, False,\n",
       "                    False, False, False, False, False, False, False, False,\n",
       "                    False, False, False, False, False, False, False, False,\n",
       "                    False, False, False, False],\n",
       "        fill_value='?',\n",
       "             dtype=object),\n",
       " 'params': [{'criterion': 'gini', 'max_depth': 5, 'min_samples_leaf': 10},\n",
       "  {'criterion': 'gini', 'max_depth': 5, 'min_samples_leaf': 20},\n",
       "  {'criterion': 'gini', 'max_depth': 5, 'min_samples_leaf': 35},\n",
       "  {'criterion': 'gini', 'max_depth': 5, 'min_samples_leaf': 50},\n",
       "  {'criterion': 'gini', 'max_depth': 5, 'min_samples_leaf': 75},\n",
       "  {'criterion': 'gini', 'max_depth': 6, 'min_samples_leaf': 10},\n",
       "  {'criterion': 'gini', 'max_depth': 6, 'min_samples_leaf': 20},\n",
       "  {'criterion': 'gini', 'max_depth': 6, 'min_samples_leaf': 35},\n",
       "  {'criterion': 'gini', 'max_depth': 6, 'min_samples_leaf': 50},\n",
       "  {'criterion': 'gini', 'max_depth': 6, 'min_samples_leaf': 75},\n",
       "  {'criterion': 'gini', 'max_depth': 7, 'min_samples_leaf': 10},\n",
       "  {'criterion': 'gini', 'max_depth': 7, 'min_samples_leaf': 20},\n",
       "  {'criterion': 'gini', 'max_depth': 7, 'min_samples_leaf': 35},\n",
       "  {'criterion': 'gini', 'max_depth': 7, 'min_samples_leaf': 50},\n",
       "  {'criterion': 'gini', 'max_depth': 7, 'min_samples_leaf': 75},\n",
       "  {'criterion': 'gini', 'max_depth': 8, 'min_samples_leaf': 10},\n",
       "  {'criterion': 'gini', 'max_depth': 8, 'min_samples_leaf': 20},\n",
       "  {'criterion': 'gini', 'max_depth': 8, 'min_samples_leaf': 35},\n",
       "  {'criterion': 'gini', 'max_depth': 8, 'min_samples_leaf': 50},\n",
       "  {'criterion': 'gini', 'max_depth': 8, 'min_samples_leaf': 75},\n",
       "  {'criterion': 'gini', 'max_depth': 9, 'min_samples_leaf': 10},\n",
       "  {'criterion': 'gini', 'max_depth': 9, 'min_samples_leaf': 20},\n",
       "  {'criterion': 'gini', 'max_depth': 9, 'min_samples_leaf': 35},\n",
       "  {'criterion': 'gini', 'max_depth': 9, 'min_samples_leaf': 50},\n",
       "  {'criterion': 'gini', 'max_depth': 9, 'min_samples_leaf': 75},\n",
       "  {'criterion': 'gini', 'max_depth': 10, 'min_samples_leaf': 10},\n",
       "  {'criterion': 'gini', 'max_depth': 10, 'min_samples_leaf': 20},\n",
       "  {'criterion': 'gini', 'max_depth': 10, 'min_samples_leaf': 35},\n",
       "  {'criterion': 'gini', 'max_depth': 10, 'min_samples_leaf': 50},\n",
       "  {'criterion': 'gini', 'max_depth': 10, 'min_samples_leaf': 75},\n",
       "  {'criterion': 'gini', 'max_depth': 11, 'min_samples_leaf': 10},\n",
       "  {'criterion': 'gini', 'max_depth': 11, 'min_samples_leaf': 20},\n",
       "  {'criterion': 'gini', 'max_depth': 11, 'min_samples_leaf': 35},\n",
       "  {'criterion': 'gini', 'max_depth': 11, 'min_samples_leaf': 50},\n",
       "  {'criterion': 'gini', 'max_depth': 11, 'min_samples_leaf': 75},\n",
       "  {'criterion': 'gini', 'max_depth': 12, 'min_samples_leaf': 10},\n",
       "  {'criterion': 'gini', 'max_depth': 12, 'min_samples_leaf': 20},\n",
       "  {'criterion': 'gini', 'max_depth': 12, 'min_samples_leaf': 35},\n",
       "  {'criterion': 'gini', 'max_depth': 12, 'min_samples_leaf': 50},\n",
       "  {'criterion': 'gini', 'max_depth': 12, 'min_samples_leaf': 75},\n",
       "  {'criterion': 'gini', 'max_depth': 13, 'min_samples_leaf': 10},\n",
       "  {'criterion': 'gini', 'max_depth': 13, 'min_samples_leaf': 20},\n",
       "  {'criterion': 'gini', 'max_depth': 13, 'min_samples_leaf': 35},\n",
       "  {'criterion': 'gini', 'max_depth': 13, 'min_samples_leaf': 50},\n",
       "  {'criterion': 'gini', 'max_depth': 13, 'min_samples_leaf': 75},\n",
       "  {'criterion': 'gini', 'max_depth': 14, 'min_samples_leaf': 10},\n",
       "  {'criterion': 'gini', 'max_depth': 14, 'min_samples_leaf': 20},\n",
       "  {'criterion': 'gini', 'max_depth': 14, 'min_samples_leaf': 35},\n",
       "  {'criterion': 'gini', 'max_depth': 14, 'min_samples_leaf': 50},\n",
       "  {'criterion': 'gini', 'max_depth': 14, 'min_samples_leaf': 75},\n",
       "  {'criterion': 'entropy', 'max_depth': 5, 'min_samples_leaf': 10},\n",
       "  {'criterion': 'entropy', 'max_depth': 5, 'min_samples_leaf': 20},\n",
       "  {'criterion': 'entropy', 'max_depth': 5, 'min_samples_leaf': 35},\n",
       "  {'criterion': 'entropy', 'max_depth': 5, 'min_samples_leaf': 50},\n",
       "  {'criterion': 'entropy', 'max_depth': 5, 'min_samples_leaf': 75},\n",
       "  {'criterion': 'entropy', 'max_depth': 6, 'min_samples_leaf': 10},\n",
       "  {'criterion': 'entropy', 'max_depth': 6, 'min_samples_leaf': 20},\n",
       "  {'criterion': 'entropy', 'max_depth': 6, 'min_samples_leaf': 35},\n",
       "  {'criterion': 'entropy', 'max_depth': 6, 'min_samples_leaf': 50},\n",
       "  {'criterion': 'entropy', 'max_depth': 6, 'min_samples_leaf': 75},\n",
       "  {'criterion': 'entropy', 'max_depth': 7, 'min_samples_leaf': 10},\n",
       "  {'criterion': 'entropy', 'max_depth': 7, 'min_samples_leaf': 20},\n",
       "  {'criterion': 'entropy', 'max_depth': 7, 'min_samples_leaf': 35},\n",
       "  {'criterion': 'entropy', 'max_depth': 7, 'min_samples_leaf': 50},\n",
       "  {'criterion': 'entropy', 'max_depth': 7, 'min_samples_leaf': 75},\n",
       "  {'criterion': 'entropy', 'max_depth': 8, 'min_samples_leaf': 10},\n",
       "  {'criterion': 'entropy', 'max_depth': 8, 'min_samples_leaf': 20},\n",
       "  {'criterion': 'entropy', 'max_depth': 8, 'min_samples_leaf': 35},\n",
       "  {'criterion': 'entropy', 'max_depth': 8, 'min_samples_leaf': 50},\n",
       "  {'criterion': 'entropy', 'max_depth': 8, 'min_samples_leaf': 75},\n",
       "  {'criterion': 'entropy', 'max_depth': 9, 'min_samples_leaf': 10},\n",
       "  {'criterion': 'entropy', 'max_depth': 9, 'min_samples_leaf': 20},\n",
       "  {'criterion': 'entropy', 'max_depth': 9, 'min_samples_leaf': 35},\n",
       "  {'criterion': 'entropy', 'max_depth': 9, 'min_samples_leaf': 50},\n",
       "  {'criterion': 'entropy', 'max_depth': 9, 'min_samples_leaf': 75},\n",
       "  {'criterion': 'entropy', 'max_depth': 10, 'min_samples_leaf': 10},\n",
       "  {'criterion': 'entropy', 'max_depth': 10, 'min_samples_leaf': 20},\n",
       "  {'criterion': 'entropy', 'max_depth': 10, 'min_samples_leaf': 35},\n",
       "  {'criterion': 'entropy', 'max_depth': 10, 'min_samples_leaf': 50},\n",
       "  {'criterion': 'entropy', 'max_depth': 10, 'min_samples_leaf': 75},\n",
       "  {'criterion': 'entropy', 'max_depth': 11, 'min_samples_leaf': 10},\n",
       "  {'criterion': 'entropy', 'max_depth': 11, 'min_samples_leaf': 20},\n",
       "  {'criterion': 'entropy', 'max_depth': 11, 'min_samples_leaf': 35},\n",
       "  {'criterion': 'entropy', 'max_depth': 11, 'min_samples_leaf': 50},\n",
       "  {'criterion': 'entropy', 'max_depth': 11, 'min_samples_leaf': 75},\n",
       "  {'criterion': 'entropy', 'max_depth': 12, 'min_samples_leaf': 10},\n",
       "  {'criterion': 'entropy', 'max_depth': 12, 'min_samples_leaf': 20},\n",
       "  {'criterion': 'entropy', 'max_depth': 12, 'min_samples_leaf': 35},\n",
       "  {'criterion': 'entropy', 'max_depth': 12, 'min_samples_leaf': 50},\n",
       "  {'criterion': 'entropy', 'max_depth': 12, 'min_samples_leaf': 75},\n",
       "  {'criterion': 'entropy', 'max_depth': 13, 'min_samples_leaf': 10},\n",
       "  {'criterion': 'entropy', 'max_depth': 13, 'min_samples_leaf': 20},\n",
       "  {'criterion': 'entropy', 'max_depth': 13, 'min_samples_leaf': 35},\n",
       "  {'criterion': 'entropy', 'max_depth': 13, 'min_samples_leaf': 50},\n",
       "  {'criterion': 'entropy', 'max_depth': 13, 'min_samples_leaf': 75},\n",
       "  {'criterion': 'entropy', 'max_depth': 14, 'min_samples_leaf': 10},\n",
       "  {'criterion': 'entropy', 'max_depth': 14, 'min_samples_leaf': 20},\n",
       "  {'criterion': 'entropy', 'max_depth': 14, 'min_samples_leaf': 35},\n",
       "  {'criterion': 'entropy', 'max_depth': 14, 'min_samples_leaf': 50},\n",
       "  {'criterion': 'entropy', 'max_depth': 14, 'min_samples_leaf': 75}],\n",
       " 'split0_test_score': array([0.74928962, 0.73442623, 0.73797814, 0.73797814, 0.75087432,\n",
       "        0.77185792, 0.73442623, 0.73797814, 0.73797814, 0.75087432,\n",
       "        0.72262295, 0.73442623, 0.73797814, 0.73797814, 0.75087432,\n",
       "        0.72262295, 0.73442623, 0.73797814, 0.73797814, 0.75087432,\n",
       "        0.72262295, 0.73442623, 0.73797814, 0.73797814, 0.75087432,\n",
       "        0.72262295, 0.73442623, 0.73797814, 0.73797814, 0.75087432,\n",
       "        0.72262295, 0.73442623, 0.73797814, 0.73797814, 0.75087432,\n",
       "        0.72262295, 0.73442623, 0.73797814, 0.73797814, 0.75087432,\n",
       "        0.72262295, 0.73442623, 0.73797814, 0.73797814, 0.75087432,\n",
       "        0.72262295, 0.73442623, 0.73797814, 0.73797814, 0.75087432,\n",
       "        0.74928962, 0.73442623, 0.73797814, 0.73797814, 0.75087432,\n",
       "        0.77185792, 0.73442623, 0.73797814, 0.73797814, 0.75087432,\n",
       "        0.72262295, 0.73442623, 0.73797814, 0.73797814, 0.75087432,\n",
       "        0.72262295, 0.73442623, 0.73797814, 0.73797814, 0.75087432,\n",
       "        0.72262295, 0.73442623, 0.73797814, 0.73797814, 0.75087432,\n",
       "        0.72262295, 0.73442623, 0.73797814, 0.73797814, 0.75087432,\n",
       "        0.72262295, 0.73442623, 0.73797814, 0.73797814, 0.75087432,\n",
       "        0.72262295, 0.73442623, 0.73797814, 0.73797814, 0.75087432,\n",
       "        0.72262295, 0.73442623, 0.73797814, 0.73797814, 0.75087432,\n",
       "        0.72262295, 0.73442623, 0.73797814, 0.73797814, 0.75087432]),\n",
       " 'split1_test_score': array([0.72121212, 0.76280992, 0.75774105, 0.75774105, 0.7538843 ,\n",
       "        0.72374656, 0.76280992, 0.75774105, 0.75774105, 0.7538843 ,\n",
       "        0.73707989, 0.76280992, 0.75774105, 0.75774105, 0.7538843 ,\n",
       "        0.73961433, 0.76280992, 0.75774105, 0.75774105, 0.7538843 ,\n",
       "        0.73707989, 0.76280992, 0.75774105, 0.75774105, 0.7538843 ,\n",
       "        0.73961433, 0.76280992, 0.75774105, 0.75774105, 0.7538843 ,\n",
       "        0.73707989, 0.76280992, 0.75774105, 0.75774105, 0.7538843 ,\n",
       "        0.73707989, 0.76280992, 0.75774105, 0.75774105, 0.7538843 ,\n",
       "        0.73707989, 0.76280992, 0.75774105, 0.75774105, 0.7538843 ,\n",
       "        0.73707989, 0.76280992, 0.75774105, 0.75774105, 0.7538843 ,\n",
       "        0.72121212, 0.73520661, 0.75774105, 0.75774105, 0.7538843 ,\n",
       "        0.72374656, 0.76280992, 0.75774105, 0.75774105, 0.7538843 ,\n",
       "        0.73707989, 0.76280992, 0.75774105, 0.75774105, 0.7538843 ,\n",
       "        0.73707989, 0.76280992, 0.75774105, 0.75774105, 0.7538843 ,\n",
       "        0.73707989, 0.76280992, 0.75774105, 0.75774105, 0.7538843 ,\n",
       "        0.73707989, 0.76280992, 0.75774105, 0.75774105, 0.7538843 ,\n",
       "        0.73707989, 0.76280992, 0.75774105, 0.75774105, 0.7538843 ,\n",
       "        0.73707989, 0.76280992, 0.75774105, 0.75774105, 0.7538843 ,\n",
       "        0.73961433, 0.76280992, 0.75774105, 0.75774105, 0.7538843 ,\n",
       "        0.73961433, 0.76280992, 0.75774105, 0.75774105, 0.7538843 ]),\n",
       " 'split2_test_score': array([0.8246832 , 0.80055096, 0.77134986, 0.79201102, 0.82055096,\n",
       "        0.79614325, 0.80055096, 0.77134986, 0.79201102, 0.82055096,\n",
       "        0.79041322, 0.80055096, 0.77134986, 0.79201102, 0.82055096,\n",
       "        0.81134986, 0.80055096, 0.77134986, 0.79201102, 0.82055096,\n",
       "        0.81134986, 0.80055096, 0.77134986, 0.79201102, 0.82055096,\n",
       "        0.81134986, 0.80055096, 0.77134986, 0.79201102, 0.82055096,\n",
       "        0.81134986, 0.80055096, 0.77134986, 0.79201102, 0.82055096,\n",
       "        0.81134986, 0.80055096, 0.77134986, 0.79201102, 0.82055096,\n",
       "        0.81134986, 0.80055096, 0.77134986, 0.79201102, 0.82055096,\n",
       "        0.81134986, 0.80055096, 0.77134986, 0.79201102, 0.82055096,\n",
       "        0.80787879, 0.80055096, 0.77134986, 0.79201102, 0.82055096,\n",
       "        0.8138843 , 0.80055096, 0.77134986, 0.79201102, 0.82055096,\n",
       "        0.79707989, 0.80055096, 0.77134986, 0.79201102, 0.82055096,\n",
       "        0.81041322, 0.80055096, 0.77134986, 0.79201102, 0.82055096,\n",
       "        0.81041322, 0.80055096, 0.77134986, 0.79201102, 0.82055096,\n",
       "        0.81041322, 0.80055096, 0.77134986, 0.79201102, 0.82055096,\n",
       "        0.81041322, 0.80055096, 0.77134986, 0.79201102, 0.82055096,\n",
       "        0.81041322, 0.80055096, 0.77134986, 0.79201102, 0.82055096,\n",
       "        0.81041322, 0.80055096, 0.77134986, 0.79201102, 0.82055096,\n",
       "        0.81041322, 0.80055096, 0.77134986, 0.79201102, 0.82055096]),\n",
       " 'split3_test_score': array([0.74121212, 0.75201102, 0.75961433, 0.75774105, 0.76402204,\n",
       "        0.77961433, 0.7830854 , 0.75961433, 0.75774105, 0.76402204,\n",
       "        0.75707989, 0.7830854 , 0.75961433, 0.75774105, 0.76402204,\n",
       "        0.7722865 , 0.7830854 , 0.75961433, 0.75774105, 0.76402204,\n",
       "        0.7646832 , 0.7830854 , 0.75961433, 0.75774105, 0.76402204,\n",
       "        0.7646832 , 0.7830854 , 0.75961433, 0.75774105, 0.76402204,\n",
       "        0.7646832 , 0.7830854 , 0.75961433, 0.75774105, 0.76402204,\n",
       "        0.7646832 , 0.7830854 , 0.75961433, 0.75774105, 0.76402204,\n",
       "        0.7646832 , 0.7830854 , 0.75961433, 0.75774105, 0.76402204,\n",
       "        0.7646832 , 0.7830854 , 0.75961433, 0.75774105, 0.76402204,\n",
       "        0.74280992, 0.78975207, 0.75322314, 0.75774105, 0.76402204,\n",
       "        0.78055096, 0.7814876 , 0.75322314, 0.75774105, 0.76402204,\n",
       "        0.75867769, 0.7814876 , 0.75322314, 0.75774105, 0.76402204,\n",
       "        0.7814876 , 0.7814876 , 0.75322314, 0.75774105, 0.76402204,\n",
       "        0.7738843 , 0.7814876 , 0.75322314, 0.75774105, 0.76402204,\n",
       "        0.7738843 , 0.7814876 , 0.75322314, 0.75774105, 0.76402204,\n",
       "        0.7738843 , 0.7814876 , 0.75322314, 0.75774105, 0.76402204,\n",
       "        0.7738843 , 0.7814876 , 0.75322314, 0.75774105, 0.76402204,\n",
       "        0.7738843 , 0.7814876 , 0.75322314, 0.75774105, 0.76402204,\n",
       "        0.7738843 , 0.7814876 , 0.75322314, 0.75774105, 0.76402204]),\n",
       " 'split4_test_score': array([0.79267218, 0.77201102, 0.76853994, 0.76853994, 0.7722865 ,\n",
       "        0.81360882, 0.77201102, 0.76853994, 0.76853994, 0.7722865 ,\n",
       "        0.82121212, 0.77201102, 0.76853994, 0.76853994, 0.7722865 ,\n",
       "        0.80628099, 0.77201102, 0.76853994, 0.76853994, 0.7722865 ,\n",
       "        0.8046832 , 0.77201102, 0.76853994, 0.76853994, 0.7722865 ,\n",
       "        0.8046832 , 0.77201102, 0.76853994, 0.76853994, 0.7722865 ,\n",
       "        0.78975207, 0.77201102, 0.76853994, 0.76853994, 0.7722865 ,\n",
       "        0.8046832 , 0.77201102, 0.76853994, 0.76853994, 0.7722865 ,\n",
       "        0.8046832 , 0.77201102, 0.76853994, 0.76853994, 0.7722865 ,\n",
       "        0.8046832 , 0.77201102, 0.76853994, 0.76853994, 0.7722865 ,\n",
       "        0.79933884, 0.77201102, 0.76853994, 0.76853994, 0.7722865 ,\n",
       "        0.82027548, 0.77201102, 0.76853994, 0.76853994, 0.7722865 ,\n",
       "        0.82787879, 0.77201102, 0.76853994, 0.76853994, 0.7722865 ,\n",
       "        0.82787879, 0.77201102, 0.76853994, 0.76853994, 0.7722865 ,\n",
       "        0.81801653, 0.77201102, 0.76853994, 0.76853994, 0.7722865 ,\n",
       "        0.81801653, 0.77201102, 0.76853994, 0.76853994, 0.7722865 ,\n",
       "        0.8030854 , 0.77201102, 0.76853994, 0.76853994, 0.7722865 ,\n",
       "        0.8030854 , 0.77201102, 0.76853994, 0.76853994, 0.7722865 ,\n",
       "        0.8030854 , 0.77201102, 0.76853994, 0.76853994, 0.7722865 ,\n",
       "        0.8030854 , 0.77201102, 0.76853994, 0.76853994, 0.7722865 ]),\n",
       " 'mean_test_score': array([0.76581385, 0.76436183, 0.75904466, 0.76280224, 0.77232362,\n",
       "        0.77699417, 0.77057671, 0.75904466, 0.76280224, 0.77232362,\n",
       "        0.76568161, 0.77057671, 0.75904466, 0.76280224, 0.77232362,\n",
       "        0.77043093, 0.77057671, 0.75904466, 0.76280224, 0.77232362,\n",
       "        0.76808382, 0.77057671, 0.75904466, 0.76280224, 0.77232362,\n",
       "        0.76859071, 0.77057671, 0.75904466, 0.76280224, 0.77232362,\n",
       "        0.76509759, 0.77057671, 0.75904466, 0.76280224, 0.77232362,\n",
       "        0.76808382, 0.77057671, 0.75904466, 0.76280224, 0.77232362,\n",
       "        0.76808382, 0.77057671, 0.75904466, 0.76280224, 0.77232362,\n",
       "        0.76808382, 0.77057671, 0.75904466, 0.76280224, 0.77232362,\n",
       "        0.76410586, 0.76638938, 0.75776643, 0.76280224, 0.77232362,\n",
       "        0.78206304, 0.77025715, 0.75776643, 0.76280224, 0.77232362,\n",
       "        0.76866784, 0.77025715, 0.75776643, 0.76280224, 0.77232362,\n",
       "        0.77589649, 0.77025715, 0.75776643, 0.76280224, 0.77232362,\n",
       "        0.77240338, 0.77025715, 0.75776643, 0.76280224, 0.77232362,\n",
       "        0.77240338, 0.77025715, 0.75776643, 0.76280224, 0.77232362,\n",
       "        0.76941715, 0.77025715, 0.75776643, 0.76280224, 0.77232362,\n",
       "        0.76941715, 0.77025715, 0.75776643, 0.76280224, 0.77232362,\n",
       "        0.76992404, 0.77025715, 0.75776643, 0.76280224, 0.77232362,\n",
       "        0.76992404, 0.77025715, 0.75776643, 0.76280224, 0.77232362]),\n",
       " 'std_test_score': array([0.03756216, 0.02199661, 0.01172519, 0.01762692, 0.02527796,\n",
       "        0.03025186, 0.0220189 , 0.01172519, 0.01762692, 0.02527796,\n",
       "        0.03589258, 0.0220189 , 0.01172519, 0.01762692, 0.02527796,\n",
       "        0.03520879, 0.0220189 , 0.01172519, 0.01762692, 0.02527796,\n",
       "        0.03535806, 0.0220189 , 0.01172519, 0.01762692, 0.02527796,\n",
       "        0.03492548, 0.0220189 , 0.01172519, 0.01762692, 0.02527796,\n",
       "        0.03266917, 0.0220189 , 0.01172519, 0.01762692, 0.02527796,\n",
       "        0.03535806, 0.0220189 , 0.01172519, 0.01762692, 0.02527796,\n",
       "        0.03535806, 0.0220189 , 0.01172519, 0.01762692, 0.02527796,\n",
       "        0.03535806, 0.0220189 , 0.01172519, 0.01762692, 0.02527796,\n",
       "        0.03367594, 0.02734388, 0.01193982, 0.01762692, 0.02527796,\n",
       "        0.03458331, 0.02184596, 0.01193982, 0.01762692, 0.02527796,\n",
       "        0.03880957, 0.02184596, 0.01193982, 0.01762692, 0.02527796,\n",
       "        0.04066847, 0.02184596, 0.01193982, 0.01762692, 0.02527796,\n",
       "        0.03808764, 0.02184596, 0.01193982, 0.01762692, 0.02527796,\n",
       "        0.03808764, 0.02184596, 0.01193982, 0.01762692, 0.02527796,\n",
       "        0.0348413 , 0.02184596, 0.01193982, 0.01762692, 0.02527796,\n",
       "        0.0348413 , 0.02184596, 0.01193982, 0.01762692, 0.02527796,\n",
       "        0.03438257, 0.02184596, 0.01193982, 0.01762692, 0.02527796,\n",
       "        0.03438257, 0.02184596, 0.01193982, 0.01762692, 0.02527796]),\n",
       " 'rank_test_score': array([56, 59, 81, 61,  6,  2, 26, 81, 61,  6, 57, 26, 81, 61,  6, 35, 26,\n",
       "        81, 61,  6, 51, 26, 81, 61,  6, 50, 26, 81, 61,  6, 58, 26, 81, 61,\n",
       "         6, 51, 26, 81, 61,  6, 51, 26, 81, 61,  6, 51, 26, 81, 61,  6, 60,\n",
       "        55, 91, 61,  6,  1, 36, 91, 61,  6, 49, 36, 91, 61,  6,  3, 36, 91,\n",
       "        61,  6,  4, 36, 91, 61,  6,  4, 36, 91, 61,  6, 47, 36, 91, 61,  6,\n",
       "        47, 36, 91, 61,  6, 45, 36, 91, 61,  6, 45, 36, 91, 61,  6],\n",
       "       dtype=int32)}"
      ]
     },
     "execution_count": 96,
     "metadata": {},
     "output_type": "execute_result"
    }
   ],
   "source": [
    "gcv_titanic.cv_results_"
   ]
  },
  {
   "cell_type": "code",
   "execution_count": 97,
   "metadata": {},
   "outputs": [
    {
     "data": {
      "text/html": [
       "<div>\n",
       "<style scoped>\n",
       "    .dataframe tbody tr th:only-of-type {\n",
       "        vertical-align: middle;\n",
       "    }\n",
       "\n",
       "    .dataframe tbody tr th {\n",
       "        vertical-align: top;\n",
       "    }\n",
       "\n",
       "    .dataframe thead th {\n",
       "        text-align: right;\n",
       "    }\n",
       "</style>\n",
       "<table border=\"1\" class=\"dataframe\">\n",
       "  <thead>\n",
       "    <tr style=\"text-align: right;\">\n",
       "      <th></th>\n",
       "      <th>mean_fit_time</th>\n",
       "      <th>std_fit_time</th>\n",
       "      <th>mean_score_time</th>\n",
       "      <th>std_score_time</th>\n",
       "      <th>param_criterion</th>\n",
       "      <th>param_max_depth</th>\n",
       "      <th>param_min_samples_leaf</th>\n",
       "      <th>params</th>\n",
       "      <th>split0_test_score</th>\n",
       "      <th>split1_test_score</th>\n",
       "      <th>split2_test_score</th>\n",
       "      <th>split3_test_score</th>\n",
       "      <th>split4_test_score</th>\n",
       "      <th>mean_test_score</th>\n",
       "      <th>std_test_score</th>\n",
       "      <th>rank_test_score</th>\n",
       "    </tr>\n",
       "  </thead>\n",
       "  <tbody>\n",
       "    <tr>\n",
       "      <th>0</th>\n",
       "      <td>0.002224</td>\n",
       "      <td>0.000230</td>\n",
       "      <td>0.001390</td>\n",
       "      <td>0.000090</td>\n",
       "      <td>gini</td>\n",
       "      <td>5</td>\n",
       "      <td>10</td>\n",
       "      <td>{'criterion': 'gini', 'max_depth': 5, 'min_sam...</td>\n",
       "      <td>0.749290</td>\n",
       "      <td>0.721212</td>\n",
       "      <td>0.824683</td>\n",
       "      <td>0.741212</td>\n",
       "      <td>0.792672</td>\n",
       "      <td>0.765814</td>\n",
       "      <td>0.037562</td>\n",
       "      <td>56</td>\n",
       "    </tr>\n",
       "    <tr>\n",
       "      <th>1</th>\n",
       "      <td>0.001818</td>\n",
       "      <td>0.000305</td>\n",
       "      <td>0.001129</td>\n",
       "      <td>0.000204</td>\n",
       "      <td>gini</td>\n",
       "      <td>5</td>\n",
       "      <td>20</td>\n",
       "      <td>{'criterion': 'gini', 'max_depth': 5, 'min_sam...</td>\n",
       "      <td>0.734426</td>\n",
       "      <td>0.762810</td>\n",
       "      <td>0.800551</td>\n",
       "      <td>0.752011</td>\n",
       "      <td>0.772011</td>\n",
       "      <td>0.764362</td>\n",
       "      <td>0.021997</td>\n",
       "      <td>59</td>\n",
       "    </tr>\n",
       "    <tr>\n",
       "      <th>2</th>\n",
       "      <td>0.001199</td>\n",
       "      <td>0.000051</td>\n",
       "      <td>0.000753</td>\n",
       "      <td>0.000034</td>\n",
       "      <td>gini</td>\n",
       "      <td>5</td>\n",
       "      <td>35</td>\n",
       "      <td>{'criterion': 'gini', 'max_depth': 5, 'min_sam...</td>\n",
       "      <td>0.737978</td>\n",
       "      <td>0.757741</td>\n",
       "      <td>0.771350</td>\n",
       "      <td>0.759614</td>\n",
       "      <td>0.768540</td>\n",
       "      <td>0.759045</td>\n",
       "      <td>0.011725</td>\n",
       "      <td>81</td>\n",
       "    </tr>\n",
       "    <tr>\n",
       "      <th>3</th>\n",
       "      <td>0.001319</td>\n",
       "      <td>0.000226</td>\n",
       "      <td>0.000780</td>\n",
       "      <td>0.000090</td>\n",
       "      <td>gini</td>\n",
       "      <td>5</td>\n",
       "      <td>50</td>\n",
       "      <td>{'criterion': 'gini', 'max_depth': 5, 'min_sam...</td>\n",
       "      <td>0.737978</td>\n",
       "      <td>0.757741</td>\n",
       "      <td>0.792011</td>\n",
       "      <td>0.757741</td>\n",
       "      <td>0.768540</td>\n",
       "      <td>0.762802</td>\n",
       "      <td>0.017627</td>\n",
       "      <td>61</td>\n",
       "    </tr>\n",
       "    <tr>\n",
       "      <th>4</th>\n",
       "      <td>0.001010</td>\n",
       "      <td>0.000044</td>\n",
       "      <td>0.000680</td>\n",
       "      <td>0.000020</td>\n",
       "      <td>gini</td>\n",
       "      <td>5</td>\n",
       "      <td>75</td>\n",
       "      <td>{'criterion': 'gini', 'max_depth': 5, 'min_sam...</td>\n",
       "      <td>0.750874</td>\n",
       "      <td>0.753884</td>\n",
       "      <td>0.820551</td>\n",
       "      <td>0.764022</td>\n",
       "      <td>0.772287</td>\n",
       "      <td>0.772324</td>\n",
       "      <td>0.025278</td>\n",
       "      <td>6</td>\n",
       "    </tr>\n",
       "  </tbody>\n",
       "</table>\n",
       "</div>"
      ],
      "text/plain": [
       "   mean_fit_time  std_fit_time  mean_score_time  std_score_time  \\\n",
       "0       0.002224      0.000230         0.001390        0.000090   \n",
       "1       0.001818      0.000305         0.001129        0.000204   \n",
       "2       0.001199      0.000051         0.000753        0.000034   \n",
       "3       0.001319      0.000226         0.000780        0.000090   \n",
       "4       0.001010      0.000044         0.000680        0.000020   \n",
       "\n",
       "  param_criterion param_max_depth param_min_samples_leaf  \\\n",
       "0            gini               5                     10   \n",
       "1            gini               5                     20   \n",
       "2            gini               5                     35   \n",
       "3            gini               5                     50   \n",
       "4            gini               5                     75   \n",
       "\n",
       "                                              params  split0_test_score  \\\n",
       "0  {'criterion': 'gini', 'max_depth': 5, 'min_sam...           0.749290   \n",
       "1  {'criterion': 'gini', 'max_depth': 5, 'min_sam...           0.734426   \n",
       "2  {'criterion': 'gini', 'max_depth': 5, 'min_sam...           0.737978   \n",
       "3  {'criterion': 'gini', 'max_depth': 5, 'min_sam...           0.737978   \n",
       "4  {'criterion': 'gini', 'max_depth': 5, 'min_sam...           0.750874   \n",
       "\n",
       "   split1_test_score  split2_test_score  split3_test_score  split4_test_score  \\\n",
       "0           0.721212           0.824683           0.741212           0.792672   \n",
       "1           0.762810           0.800551           0.752011           0.772011   \n",
       "2           0.757741           0.771350           0.759614           0.768540   \n",
       "3           0.757741           0.792011           0.757741           0.768540   \n",
       "4           0.753884           0.820551           0.764022           0.772287   \n",
       "\n",
       "   mean_test_score  std_test_score  rank_test_score  \n",
       "0         0.765814        0.037562               56  \n",
       "1         0.764362        0.021997               59  \n",
       "2         0.759045        0.011725               81  \n",
       "3         0.762802        0.017627               61  \n",
       "4         0.772324        0.025278                6  "
      ]
     },
     "metadata": {},
     "output_type": "display_data"
    }
   ],
   "source": [
    "# convertimos a Dataframe\n",
    "results = pd.DataFrame(gcv_titanic.cv_results_)\n",
    "# Mostramos las cinco primeras filas\n",
    "display(results.head())"
   ]
  },
  {
   "cell_type": "markdown",
   "metadata": {},
   "source": [
    "**Ejercicio:** Utilice el método *gridsearch* para encontrar una combinación de hiperparámetros para el perceptrón multicapa, que mejore el resultado anterior. Consulte la documentación para entender los diferentes parámetros y los valores que pueden tomar. Los parámetros más interesantes para ser optimizados son:\n",
    "- hidden_layer_sizes\n",
    "- max_iter\n",
    "- activation\n",
    "- solver\n",
    "- learning_rate\n",
    "- alpha"
   ]
  },
  {
   "cell_type": "markdown",
   "metadata": {},
   "source": [
    "**Ejercicio:** Utilice el método *gridsearch* para encontrar una buena combinación de hiperparámetros para el algoritmo KNN. Consulte la documentación para entender los diferentes parámetros y los valores que pueden tomar. Los parámetros más interesantes para ser optimizados son:\n",
    "- n_neighbors\n",
    "- metric"
   ]
  },
  {
   "cell_type": "markdown",
   "metadata": {},
   "source": [
    "### Escalado de datos\n",
    "Algunos algoritmos son sensibles a conjuntos de datos en las que las variables presentan rangos de valores diferentes. Veamos los rangos de valores de nuestro conjunto de datos mediante el método `describe`:"
   ]
  },
  {
   "cell_type": "code",
   "execution_count": 98,
   "metadata": {
    "scrolled": false
   },
   "outputs": [
    {
     "data": {
      "text/html": [
       "<div>\n",
       "<style scoped>\n",
       "    .dataframe tbody tr th:only-of-type {\n",
       "        vertical-align: middle;\n",
       "    }\n",
       "\n",
       "    .dataframe tbody tr th {\n",
       "        vertical-align: top;\n",
       "    }\n",
       "\n",
       "    .dataframe thead th {\n",
       "        text-align: right;\n",
       "    }\n",
       "</style>\n",
       "<table border=\"1\" class=\"dataframe\">\n",
       "  <thead>\n",
       "    <tr style=\"text-align: right;\">\n",
       "      <th></th>\n",
       "      <th>pclass</th>\n",
       "      <th>sex=female</th>\n",
       "      <th>sex=male</th>\n",
       "      <th>age</th>\n",
       "      <th>age_range</th>\n",
       "      <th>sibsp</th>\n",
       "      <th>fare</th>\n",
       "      <th>fare_range</th>\n",
       "      <th>embarked=C</th>\n",
       "      <th>embarked=Q</th>\n",
       "      <th>embarked=S</th>\n",
       "      <th>survived</th>\n",
       "    </tr>\n",
       "  </thead>\n",
       "  <tbody>\n",
       "    <tr>\n",
       "      <th>count</th>\n",
       "      <td>1309.000000</td>\n",
       "      <td>1309.000000</td>\n",
       "      <td>1309.000000</td>\n",
       "      <td>1309.000000</td>\n",
       "      <td>1309.000000</td>\n",
       "      <td>1309.000000</td>\n",
       "      <td>1309.000000</td>\n",
       "      <td>1309.000000</td>\n",
       "      <td>1309.000000</td>\n",
       "      <td>1309.000000</td>\n",
       "      <td>1309.000000</td>\n",
       "      <td>1309.000000</td>\n",
       "    </tr>\n",
       "    <tr>\n",
       "      <th>mean</th>\n",
       "      <td>2.294882</td>\n",
       "      <td>0.355997</td>\n",
       "      <td>0.644003</td>\n",
       "      <td>29.881135</td>\n",
       "      <td>2.354469</td>\n",
       "      <td>0.498854</td>\n",
       "      <td>33.281086</td>\n",
       "      <td>2.546218</td>\n",
       "      <td>0.206264</td>\n",
       "      <td>0.093965</td>\n",
       "      <td>0.699771</td>\n",
       "      <td>0.381971</td>\n",
       "    </tr>\n",
       "    <tr>\n",
       "      <th>std</th>\n",
       "      <td>0.837836</td>\n",
       "      <td>0.478997</td>\n",
       "      <td>0.478997</td>\n",
       "      <td>12.883199</td>\n",
       "      <td>1.302646</td>\n",
       "      <td>1.041658</td>\n",
       "      <td>51.741500</td>\n",
       "      <td>1.718414</td>\n",
       "      <td>0.404777</td>\n",
       "      <td>0.291891</td>\n",
       "      <td>0.458533</td>\n",
       "      <td>0.486055</td>\n",
       "    </tr>\n",
       "    <tr>\n",
       "      <th>min</th>\n",
       "      <td>1.000000</td>\n",
       "      <td>0.000000</td>\n",
       "      <td>0.000000</td>\n",
       "      <td>0.166700</td>\n",
       "      <td>0.000000</td>\n",
       "      <td>0.000000</td>\n",
       "      <td>0.000000</td>\n",
       "      <td>0.000000</td>\n",
       "      <td>0.000000</td>\n",
       "      <td>0.000000</td>\n",
       "      <td>0.000000</td>\n",
       "      <td>0.000000</td>\n",
       "    </tr>\n",
       "    <tr>\n",
       "      <th>25%</th>\n",
       "      <td>2.000000</td>\n",
       "      <td>0.000000</td>\n",
       "      <td>0.000000</td>\n",
       "      <td>22.000000</td>\n",
       "      <td>2.000000</td>\n",
       "      <td>0.000000</td>\n",
       "      <td>7.895800</td>\n",
       "      <td>1.000000</td>\n",
       "      <td>0.000000</td>\n",
       "      <td>0.000000</td>\n",
       "      <td>0.000000</td>\n",
       "      <td>0.000000</td>\n",
       "    </tr>\n",
       "    <tr>\n",
       "      <th>50%</th>\n",
       "      <td>3.000000</td>\n",
       "      <td>0.000000</td>\n",
       "      <td>1.000000</td>\n",
       "      <td>29.881135</td>\n",
       "      <td>2.000000</td>\n",
       "      <td>0.000000</td>\n",
       "      <td>14.454200</td>\n",
       "      <td>3.000000</td>\n",
       "      <td>0.000000</td>\n",
       "      <td>0.000000</td>\n",
       "      <td>1.000000</td>\n",
       "      <td>0.000000</td>\n",
       "    </tr>\n",
       "    <tr>\n",
       "      <th>75%</th>\n",
       "      <td>3.000000</td>\n",
       "      <td>1.000000</td>\n",
       "      <td>1.000000</td>\n",
       "      <td>35.000000</td>\n",
       "      <td>3.000000</td>\n",
       "      <td>1.000000</td>\n",
       "      <td>31.275000</td>\n",
       "      <td>4.000000</td>\n",
       "      <td>0.000000</td>\n",
       "      <td>0.000000</td>\n",
       "      <td>1.000000</td>\n",
       "      <td>1.000000</td>\n",
       "    </tr>\n",
       "    <tr>\n",
       "      <th>max</th>\n",
       "      <td>3.000000</td>\n",
       "      <td>1.000000</td>\n",
       "      <td>1.000000</td>\n",
       "      <td>80.000000</td>\n",
       "      <td>7.000000</td>\n",
       "      <td>8.000000</td>\n",
       "      <td>512.329200</td>\n",
       "      <td>5.000000</td>\n",
       "      <td>1.000000</td>\n",
       "      <td>1.000000</td>\n",
       "      <td>1.000000</td>\n",
       "      <td>1.000000</td>\n",
       "    </tr>\n",
       "  </tbody>\n",
       "</table>\n",
       "</div>"
      ],
      "text/plain": [
       "            pclass   sex=female     sex=male          age    age_range  \\\n",
       "count  1309.000000  1309.000000  1309.000000  1309.000000  1309.000000   \n",
       "mean      2.294882     0.355997     0.644003    29.881135     2.354469   \n",
       "std       0.837836     0.478997     0.478997    12.883199     1.302646   \n",
       "min       1.000000     0.000000     0.000000     0.166700     0.000000   \n",
       "25%       2.000000     0.000000     0.000000    22.000000     2.000000   \n",
       "50%       3.000000     0.000000     1.000000    29.881135     2.000000   \n",
       "75%       3.000000     1.000000     1.000000    35.000000     3.000000   \n",
       "max       3.000000     1.000000     1.000000    80.000000     7.000000   \n",
       "\n",
       "             sibsp         fare   fare_range   embarked=C   embarked=Q  \\\n",
       "count  1309.000000  1309.000000  1309.000000  1309.000000  1309.000000   \n",
       "mean      0.498854    33.281086     2.546218     0.206264     0.093965   \n",
       "std       1.041658    51.741500     1.718414     0.404777     0.291891   \n",
       "min       0.000000     0.000000     0.000000     0.000000     0.000000   \n",
       "25%       0.000000     7.895800     1.000000     0.000000     0.000000   \n",
       "50%       0.000000    14.454200     3.000000     0.000000     0.000000   \n",
       "75%       1.000000    31.275000     4.000000     0.000000     0.000000   \n",
       "max       8.000000   512.329200     5.000000     1.000000     1.000000   \n",
       "\n",
       "        embarked=S     survived  \n",
       "count  1309.000000  1309.000000  \n",
       "mean      0.699771     0.381971  \n",
       "std       0.458533     0.486055  \n",
       "min       0.000000     0.000000  \n",
       "25%       0.000000     0.000000  \n",
       "50%       1.000000     0.000000  \n",
       "75%       1.000000     1.000000  \n",
       "max       1.000000     1.000000  "
      ]
     },
     "execution_count": 98,
     "metadata": {},
     "output_type": "execute_result"
    }
   ],
   "source": [
    "data5.describe()"
   ]
  },
  {
   "cell_type": "markdown",
   "metadata": {},
   "source": [
    "Si nos fijamos en los valores máximo y mínimo de cada columna, vemos que por ejemplo la variable `fare` (precio del billete) toma valores entre 0 y 512, la variable `age` toma valores entre 0 y 80 y la variable `pclass` toma valores entre 1 y 3.\n",
    "\n",
    "Algunos algoritmos, por ejemplo aquellos basados en distancias como Knn, realizaran un aprendizaje defectuoso a partir de estos datos. El motivo es que la distancia euclídea se verá muy influenciada por variables como `fare` y `edad` y poco por otras como `pclass` o `sex`, las cuales pueden ser igual de importantes o más que las anteriores. Es decir, el modelo aprenderá mucho de las variables con valores altos y poco o nada de aquellas con valores pequeños.\n",
    "\n",
    "Para solucionar este problema debemos escalar los datos, para hacer que todas las columnas tengan el mismo rango de valores, entre 0 y 1 por ejemplo. La forma más básica de realizar esto es el escalado de máximo y mínimo (esc_xi = (xi−min(x))/(max(x)−min(x))), que en scikit-learn se llama MinMaxScaler: https://scikit-learn.org/stable/modules/generated/sklearn.preprocessing.MinMaxScaler.html\n",
    "\n",
    "También podemos aplicar la operación de estandarización mediante `StandardScaler`: https://scikit-learn.org/stable/modules/generated/sklearn.preprocessing.StandardScaler.html"
   ]
  },
  {
   "cell_type": "markdown",
   "metadata": {},
   "source": [
    "Veamos el primer registro de nuestro conjunto de datos antes de aplicar la transformación."
   ]
  },
  {
   "cell_type": "code",
   "execution_count": 99,
   "metadata": {},
   "outputs": [
    {
     "data": {
      "text/plain": [
       "array([ 3.        ,  0.        ,  1.        , 29.88113451,  2.        ,\n",
       "        0.        ,  7.8958    ,  1.        ,  0.        ,  0.        ,\n",
       "        1.        ])"
      ]
     },
     "execution_count": 99,
     "metadata": {},
     "output_type": "execute_result"
    }
   ],
   "source": [
    "X_titanic_train[0,:]"
   ]
  },
  {
   "cell_type": "markdown",
   "metadata": {},
   "source": [
    "Creamos el objeto `MinMaxScaler`, lo ajustamos (método fit) y lo aplicamos (método transform) sobre el conjunto de datos. En caso de querer aplicar esta transformación sobre el conjunto de prueba, NO debemos ajustar un nuevo estimador, sino que debemos usar el mismo:\n",
    "1. Ajustamos (método fit) el estimador sobre el conjunto de entrenamiento (o sobre la unión del conjunto de entrenamiento y el conjunto de prueba).\n",
    "2. Empleamos ese objeto ya ajustado para aplicar la transformación (método transform) sobre el conjunto de entrenamiento y el de prueba.\n",
    "\n",
    "El escalado se debe aplicar sobre todos los predictores del conjunto de datos (X_titanic_train en este caso) y no es necesario aplicarlo sobre la variable respuesta (y_titanic_train en este caso)."
   ]
  },
  {
   "cell_type": "code",
   "execution_count": 100,
   "metadata": {},
   "outputs": [],
   "source": [
    "from sklearn.preprocessing import MinMaxScaler\n",
    "scaler = MinMaxScaler(feature_range=(0, 1))\n",
    "scaler.fit(X_titanic_train)\n",
    "X_titanic_train_escalado = scaler.transform(X_titanic_train)"
   ]
  },
  {
   "cell_type": "markdown",
   "metadata": {},
   "source": [
    "Veamos como ha quedado el primer registro de nuestro conjunto de datos tras aplicar la transformación."
   ]
  },
  {
   "cell_type": "code",
   "execution_count": 101,
   "metadata": {},
   "outputs": [
    {
     "data": {
      "text/plain": [
       "array([1.        , 0.        , 1.        , 0.4194981 , 0.28571429,\n",
       "       0.        , 0.01541158, 0.2       , 0.        , 0.        ,\n",
       "       1.        ])"
      ]
     },
     "execution_count": 101,
     "metadata": {},
     "output_type": "execute_result"
    }
   ],
   "source": [
    "X_titanic_train_escalado[0,:]"
   ]
  },
  {
   "cell_type": "markdown",
   "metadata": {},
   "source": [
    "Por último, vamos a hacer un experimento con Knn para comparar el rendimiento que obtenemos antes y después de la transformación:\n",
    "\n",
    "En primer lugar, evaluamos mediante validación cruzada un modelo Knn usando el conjunto de datos sin escalar."
   ]
  },
  {
   "cell_type": "code",
   "execution_count": 102,
   "metadata": {},
   "outputs": [],
   "source": [
    "knn_titanic = KNeighborsClassifier(n_neighbors=5, metric='euclidean')"
   ]
  },
  {
   "cell_type": "code",
   "execution_count": 103,
   "metadata": {},
   "outputs": [
    {
     "data": {
      "text/plain": [
       "array([0.65289617, 0.64749311, 0.70495868, 0.57349862, 0.66655647])"
      ]
     },
     "execution_count": 103,
     "metadata": {},
     "output_type": "execute_result"
    }
   ],
   "source": [
    "bacc_knn = cross_val_score(knn_titanic, X_titanic_train, y_titanic_train, cv=5, scoring='balanced_accuracy')\n",
    "bacc_knn"
   ]
  },
  {
   "cell_type": "markdown",
   "metadata": {},
   "source": [
    "Finalmente, calculamos la precisión balanceada media."
   ]
  },
  {
   "cell_type": "code",
   "execution_count": 104,
   "metadata": {},
   "outputs": [
    {
     "data": {
      "text/plain": [
       "0.6490806123831458"
      ]
     },
     "execution_count": 104,
     "metadata": {},
     "output_type": "execute_result"
    }
   ],
   "source": [
    "bacc_knn.mean()"
   ]
  },
  {
   "cell_type": "markdown",
   "metadata": {},
   "source": [
    "A continuación, repetimos el experimento usando el conjunto de datos escalado."
   ]
  },
  {
   "cell_type": "code",
   "execution_count": 105,
   "metadata": {},
   "outputs": [
    {
     "data": {
      "text/plain": [
       "array([0.71907104, 0.72402204, 0.83134986, 0.77041322, 0.75482094])"
      ]
     },
     "execution_count": 105,
     "metadata": {},
     "output_type": "execute_result"
    }
   ],
   "source": [
    "bacc_knn_escalado = cross_val_score(knn_titanic, X_titanic_train_escalado, y_titanic_train, cv=5, scoring='balanced_accuracy')\n",
    "bacc_knn_escalado"
   ]
  },
  {
   "cell_type": "code",
   "execution_count": 106,
   "metadata": {},
   "outputs": [
    {
     "data": {
      "text/plain": [
       "0.7599354197714854"
      ]
     },
     "execution_count": 106,
     "metadata": {},
     "output_type": "execute_result"
    }
   ],
   "source": [
    "bacc_knn_escalado.mean()"
   ]
  },
  {
   "cell_type": "markdown",
   "metadata": {},
   "source": [
    "Podemos observar que la precisión ha mejorado notablemente."
   ]
  },
  {
   "cell_type": "code",
   "execution_count": 107,
   "metadata": {},
   "outputs": [],
   "source": [
    "# To-Do Repita el experimento KNN con los parámetros óptimos. \n",
    "# Repita la optimización de hiperparámetros usando el conjunto de datos escalado. \n",
    "# ¿Cuáles son los parámetros óptimos ahora?"
   ]
  },
  {
   "cell_type": "code",
   "execution_count": null,
   "metadata": {},
   "outputs": [],
   "source": []
  },
  {
   "cell_type": "markdown",
   "metadata": {},
   "source": [
    "## Selección de características\n",
    "\n",
    "Vamos a usar el conjunto de datos anterior para explorar las técnicas de selección de características."
   ]
  },
  {
   "cell_type": "code",
   "execution_count": 108,
   "metadata": {},
   "outputs": [],
   "source": [
    "scaler = MinMaxScaler(feature_range=(0, 1))\n",
    "scaler.fit(npdata)\n",
    "npdata_escalado = scaler.transform(npdata)"
   ]
  },
  {
   "cell_type": "code",
   "execution_count": 109,
   "metadata": {},
   "outputs": [],
   "source": [
    "colnames = ['pclass', 'sex=female', 'sex=male', 'age', 'age_range', 'sibsp', 'fare', \n",
    "            'fare_range', 'embarked=C', 'embarked=Q', 'embarked=S', 'survived']"
   ]
  },
  {
   "cell_type": "code",
   "execution_count": 110,
   "metadata": {},
   "outputs": [
    {
     "data": {
      "text/html": [
       "<div>\n",
       "<style scoped>\n",
       "    .dataframe tbody tr th:only-of-type {\n",
       "        vertical-align: middle;\n",
       "    }\n",
       "\n",
       "    .dataframe tbody tr th {\n",
       "        vertical-align: top;\n",
       "    }\n",
       "\n",
       "    .dataframe thead th {\n",
       "        text-align: right;\n",
       "    }\n",
       "</style>\n",
       "<table border=\"1\" class=\"dataframe\">\n",
       "  <thead>\n",
       "    <tr style=\"text-align: right;\">\n",
       "      <th></th>\n",
       "      <th>pclass</th>\n",
       "      <th>sex=female</th>\n",
       "      <th>sex=male</th>\n",
       "      <th>age</th>\n",
       "      <th>age_range</th>\n",
       "      <th>sibsp</th>\n",
       "      <th>fare</th>\n",
       "      <th>fare_range</th>\n",
       "      <th>embarked=C</th>\n",
       "      <th>embarked=Q</th>\n",
       "      <th>embarked=S</th>\n",
       "      <th>survived</th>\n",
       "    </tr>\n",
       "  </thead>\n",
       "  <tbody>\n",
       "    <tr>\n",
       "      <th>0</th>\n",
       "      <td>0.0</td>\n",
       "      <td>1.0</td>\n",
       "      <td>0.0</td>\n",
       "      <td>0.361169</td>\n",
       "      <td>0.285714</td>\n",
       "      <td>0.000</td>\n",
       "      <td>0.412503</td>\n",
       "      <td>1.0</td>\n",
       "      <td>0.0</td>\n",
       "      <td>0.0</td>\n",
       "      <td>1.0</td>\n",
       "      <td>1.0</td>\n",
       "    </tr>\n",
       "    <tr>\n",
       "      <th>1</th>\n",
       "      <td>0.0</td>\n",
       "      <td>0.0</td>\n",
       "      <td>1.0</td>\n",
       "      <td>0.009395</td>\n",
       "      <td>0.000000</td>\n",
       "      <td>0.125</td>\n",
       "      <td>0.295806</td>\n",
       "      <td>1.0</td>\n",
       "      <td>0.0</td>\n",
       "      <td>0.0</td>\n",
       "      <td>1.0</td>\n",
       "      <td>1.0</td>\n",
       "    </tr>\n",
       "    <tr>\n",
       "      <th>2</th>\n",
       "      <td>0.0</td>\n",
       "      <td>1.0</td>\n",
       "      <td>0.0</td>\n",
       "      <td>0.022964</td>\n",
       "      <td>0.000000</td>\n",
       "      <td>0.125</td>\n",
       "      <td>0.295806</td>\n",
       "      <td>1.0</td>\n",
       "      <td>0.0</td>\n",
       "      <td>0.0</td>\n",
       "      <td>1.0</td>\n",
       "      <td>0.0</td>\n",
       "    </tr>\n",
       "    <tr>\n",
       "      <th>3</th>\n",
       "      <td>0.0</td>\n",
       "      <td>0.0</td>\n",
       "      <td>1.0</td>\n",
       "      <td>0.373695</td>\n",
       "      <td>0.285714</td>\n",
       "      <td>0.125</td>\n",
       "      <td>0.295806</td>\n",
       "      <td>1.0</td>\n",
       "      <td>0.0</td>\n",
       "      <td>0.0</td>\n",
       "      <td>1.0</td>\n",
       "      <td>0.0</td>\n",
       "    </tr>\n",
       "    <tr>\n",
       "      <th>4</th>\n",
       "      <td>0.0</td>\n",
       "      <td>1.0</td>\n",
       "      <td>0.0</td>\n",
       "      <td>0.311064</td>\n",
       "      <td>0.285714</td>\n",
       "      <td>0.125</td>\n",
       "      <td>0.295806</td>\n",
       "      <td>1.0</td>\n",
       "      <td>0.0</td>\n",
       "      <td>0.0</td>\n",
       "      <td>1.0</td>\n",
       "      <td>0.0</td>\n",
       "    </tr>\n",
       "    <tr>\n",
       "      <th>...</th>\n",
       "      <td>...</td>\n",
       "      <td>...</td>\n",
       "      <td>...</td>\n",
       "      <td>...</td>\n",
       "      <td>...</td>\n",
       "      <td>...</td>\n",
       "      <td>...</td>\n",
       "      <td>...</td>\n",
       "      <td>...</td>\n",
       "      <td>...</td>\n",
       "      <td>...</td>\n",
       "      <td>...</td>\n",
       "    </tr>\n",
       "    <tr>\n",
       "      <th>1304</th>\n",
       "      <td>1.0</td>\n",
       "      <td>1.0</td>\n",
       "      <td>0.0</td>\n",
       "      <td>0.179540</td>\n",
       "      <td>0.142857</td>\n",
       "      <td>0.125</td>\n",
       "      <td>0.028213</td>\n",
       "      <td>0.6</td>\n",
       "      <td>1.0</td>\n",
       "      <td>0.0</td>\n",
       "      <td>0.0</td>\n",
       "      <td>0.0</td>\n",
       "    </tr>\n",
       "    <tr>\n",
       "      <th>1305</th>\n",
       "      <td>1.0</td>\n",
       "      <td>1.0</td>\n",
       "      <td>0.0</td>\n",
       "      <td>0.372206</td>\n",
       "      <td>0.285714</td>\n",
       "      <td>0.125</td>\n",
       "      <td>0.028213</td>\n",
       "      <td>0.6</td>\n",
       "      <td>1.0</td>\n",
       "      <td>0.0</td>\n",
       "      <td>0.0</td>\n",
       "      <td>0.0</td>\n",
       "    </tr>\n",
       "    <tr>\n",
       "      <th>1306</th>\n",
       "      <td>1.0</td>\n",
       "      <td>0.0</td>\n",
       "      <td>1.0</td>\n",
       "      <td>0.329854</td>\n",
       "      <td>0.285714</td>\n",
       "      <td>0.000</td>\n",
       "      <td>0.014102</td>\n",
       "      <td>0.0</td>\n",
       "      <td>1.0</td>\n",
       "      <td>0.0</td>\n",
       "      <td>0.0</td>\n",
       "      <td>0.0</td>\n",
       "    </tr>\n",
       "    <tr>\n",
       "      <th>1307</th>\n",
       "      <td>1.0</td>\n",
       "      <td>0.0</td>\n",
       "      <td>1.0</td>\n",
       "      <td>0.336117</td>\n",
       "      <td>0.285714</td>\n",
       "      <td>0.000</td>\n",
       "      <td>0.014102</td>\n",
       "      <td>0.0</td>\n",
       "      <td>1.0</td>\n",
       "      <td>0.0</td>\n",
       "      <td>0.0</td>\n",
       "      <td>0.0</td>\n",
       "    </tr>\n",
       "    <tr>\n",
       "      <th>1308</th>\n",
       "      <td>1.0</td>\n",
       "      <td>0.0</td>\n",
       "      <td>1.0</td>\n",
       "      <td>0.361169</td>\n",
       "      <td>0.285714</td>\n",
       "      <td>0.000</td>\n",
       "      <td>0.015371</td>\n",
       "      <td>0.2</td>\n",
       "      <td>0.0</td>\n",
       "      <td>0.0</td>\n",
       "      <td>1.0</td>\n",
       "      <td>0.0</td>\n",
       "    </tr>\n",
       "  </tbody>\n",
       "</table>\n",
       "<p>1309 rows × 12 columns</p>\n",
       "</div>"
      ],
      "text/plain": [
       "      pclass  sex=female  sex=male       age  age_range  sibsp      fare  \\\n",
       "0        0.0         1.0       0.0  0.361169   0.285714  0.000  0.412503   \n",
       "1        0.0         0.0       1.0  0.009395   0.000000  0.125  0.295806   \n",
       "2        0.0         1.0       0.0  0.022964   0.000000  0.125  0.295806   \n",
       "3        0.0         0.0       1.0  0.373695   0.285714  0.125  0.295806   \n",
       "4        0.0         1.0       0.0  0.311064   0.285714  0.125  0.295806   \n",
       "...      ...         ...       ...       ...        ...    ...       ...   \n",
       "1304     1.0         1.0       0.0  0.179540   0.142857  0.125  0.028213   \n",
       "1305     1.0         1.0       0.0  0.372206   0.285714  0.125  0.028213   \n",
       "1306     1.0         0.0       1.0  0.329854   0.285714  0.000  0.014102   \n",
       "1307     1.0         0.0       1.0  0.336117   0.285714  0.000  0.014102   \n",
       "1308     1.0         0.0       1.0  0.361169   0.285714  0.000  0.015371   \n",
       "\n",
       "      fare_range  embarked=C  embarked=Q  embarked=S  survived  \n",
       "0            1.0         0.0         0.0         1.0       1.0  \n",
       "1            1.0         0.0         0.0         1.0       1.0  \n",
       "2            1.0         0.0         0.0         1.0       0.0  \n",
       "3            1.0         0.0         0.0         1.0       0.0  \n",
       "4            1.0         0.0         0.0         1.0       0.0  \n",
       "...          ...         ...         ...         ...       ...  \n",
       "1304         0.6         1.0         0.0         0.0       0.0  \n",
       "1305         0.6         1.0         0.0         0.0       0.0  \n",
       "1306         0.0         1.0         0.0         0.0       0.0  \n",
       "1307         0.0         1.0         0.0         0.0       0.0  \n",
       "1308         0.2         0.0         0.0         1.0       0.0  \n",
       "\n",
       "[1309 rows x 12 columns]"
      ]
     },
     "execution_count": 110,
     "metadata": {},
     "output_type": "execute_result"
    }
   ],
   "source": [
    "data6 = pd.DataFrame(npdata_escalado, columns=colnames)\n",
    "data6"
   ]
  },
  {
   "cell_type": "markdown",
   "metadata": {},
   "source": [
    "#### Matriz de correlaciones\n",
    "\n",
    "El análisis de las correlaciones entre variables es una de las herramientas más sencillas para seleccionar variables y que pertenece a los **métodos de filtrado**. Este tipo de análisis puede usarse para:\n",
    "\n",
    "1) Eliminar variables redundantes"
   ]
  },
  {
   "cell_type": "code",
   "execution_count": 111,
   "metadata": {},
   "outputs": [
    {
     "data": {
      "image/png": "[encoded data removed]",
      "text/plain": [
       "<Figure size 1152x432 with 2 Axes>"
      ]
     },
     "metadata": {
      "needs_background": "light"
     },
     "output_type": "display_data"
    }
   ],
   "source": [
    "import seaborn as sns\n",
    "import matplotlib.pyplot as plt\n",
    "\n",
    "\n",
    "plt.figure(figsize=(16, 6))\n",
    "heatmap = sns.heatmap(data6.drop('survived', axis=1).corr(), \n",
    "                      vmin=-1, vmax=1, annot=True, cmap='BrBG') # method='spearman' / kendall \n",
    "heatmap.set_title('Correlation Heatmap', fontdict={'fontsize':18}, pad=12);"
   ]
  },
  {
   "cell_type": "markdown",
   "metadata": {},
   "source": [
    "#### Correlaciones con la variable respuesta\n",
    "2) Eliminar las variables menos correladas con la variable respuesta"
   ]
  },
  {
   "cell_type": "code",
   "execution_count": 112,
   "metadata": {},
   "outputs": [
    {
     "data": {
      "image/png": "[encoded data removed]",
      "text/plain": [
       "<Figure size 576x864 with 2 Axes>"
      ]
     },
     "metadata": {
      "needs_background": "light"
     },
     "output_type": "display_data"
    }
   ],
   "source": [
    "plt.figure(figsize=(8, 12))\n",
    "heatmap = sns.heatmap(data6.corr()[['survived']].sort_values(by='survived', ascending=False), vmin=-1, vmax=1, annot=True, cmap='BrBG')\n",
    "heatmap.set_title('Correlaciones con la variable respuesta', fontdict={'fontsize':18}, pad=16);"
   ]
  },
  {
   "cell_type": "markdown",
   "metadata": {},
   "source": [
    "Volvemos a separar los predictores de la variable respuesta."
   ]
  },
  {
   "cell_type": "code",
   "execution_count": 113,
   "metadata": {},
   "outputs": [
    {
     "data": {
      "text/html": [
       "<div>\n",
       "<style scoped>\n",
       "    .dataframe tbody tr th:only-of-type {\n",
       "        vertical-align: middle;\n",
       "    }\n",
       "\n",
       "    .dataframe tbody tr th {\n",
       "        vertical-align: top;\n",
       "    }\n",
       "\n",
       "    .dataframe thead th {\n",
       "        text-align: right;\n",
       "    }\n",
       "</style>\n",
       "<table border=\"1\" class=\"dataframe\">\n",
       "  <thead>\n",
       "    <tr style=\"text-align: right;\">\n",
       "      <th></th>\n",
       "      <th>pclass</th>\n",
       "      <th>sex=female</th>\n",
       "      <th>sex=male</th>\n",
       "      <th>age</th>\n",
       "      <th>age_range</th>\n",
       "      <th>sibsp</th>\n",
       "      <th>fare</th>\n",
       "      <th>fare_range</th>\n",
       "      <th>embarked=C</th>\n",
       "      <th>embarked=Q</th>\n",
       "      <th>embarked=S</th>\n",
       "    </tr>\n",
       "  </thead>\n",
       "  <tbody>\n",
       "    <tr>\n",
       "      <th>0</th>\n",
       "      <td>0.0</td>\n",
       "      <td>1.0</td>\n",
       "      <td>0.0</td>\n",
       "      <td>0.361169</td>\n",
       "      <td>0.285714</td>\n",
       "      <td>0.000</td>\n",
       "      <td>0.412503</td>\n",
       "      <td>1.0</td>\n",
       "      <td>0.0</td>\n",
       "      <td>0.0</td>\n",
       "      <td>1.0</td>\n",
       "    </tr>\n",
       "    <tr>\n",
       "      <th>1</th>\n",
       "      <td>0.0</td>\n",
       "      <td>0.0</td>\n",
       "      <td>1.0</td>\n",
       "      <td>0.009395</td>\n",
       "      <td>0.000000</td>\n",
       "      <td>0.125</td>\n",
       "      <td>0.295806</td>\n",
       "      <td>1.0</td>\n",
       "      <td>0.0</td>\n",
       "      <td>0.0</td>\n",
       "      <td>1.0</td>\n",
       "    </tr>\n",
       "    <tr>\n",
       "      <th>2</th>\n",
       "      <td>0.0</td>\n",
       "      <td>1.0</td>\n",
       "      <td>0.0</td>\n",
       "      <td>0.022964</td>\n",
       "      <td>0.000000</td>\n",
       "      <td>0.125</td>\n",
       "      <td>0.295806</td>\n",
       "      <td>1.0</td>\n",
       "      <td>0.0</td>\n",
       "      <td>0.0</td>\n",
       "      <td>1.0</td>\n",
       "    </tr>\n",
       "    <tr>\n",
       "      <th>3</th>\n",
       "      <td>0.0</td>\n",
       "      <td>0.0</td>\n",
       "      <td>1.0</td>\n",
       "      <td>0.373695</td>\n",
       "      <td>0.285714</td>\n",
       "      <td>0.125</td>\n",
       "      <td>0.295806</td>\n",
       "      <td>1.0</td>\n",
       "      <td>0.0</td>\n",
       "      <td>0.0</td>\n",
       "      <td>1.0</td>\n",
       "    </tr>\n",
       "    <tr>\n",
       "      <th>4</th>\n",
       "      <td>0.0</td>\n",
       "      <td>1.0</td>\n",
       "      <td>0.0</td>\n",
       "      <td>0.311064</td>\n",
       "      <td>0.285714</td>\n",
       "      <td>0.125</td>\n",
       "      <td>0.295806</td>\n",
       "      <td>1.0</td>\n",
       "      <td>0.0</td>\n",
       "      <td>0.0</td>\n",
       "      <td>1.0</td>\n",
       "    </tr>\n",
       "    <tr>\n",
       "      <th>...</th>\n",
       "      <td>...</td>\n",
       "      <td>...</td>\n",
       "      <td>...</td>\n",
       "      <td>...</td>\n",
       "      <td>...</td>\n",
       "      <td>...</td>\n",
       "      <td>...</td>\n",
       "      <td>...</td>\n",
       "      <td>...</td>\n",
       "      <td>...</td>\n",
       "      <td>...</td>\n",
       "    </tr>\n",
       "    <tr>\n",
       "      <th>1304</th>\n",
       "      <td>1.0</td>\n",
       "      <td>1.0</td>\n",
       "      <td>0.0</td>\n",
       "      <td>0.179540</td>\n",
       "      <td>0.142857</td>\n",
       "      <td>0.125</td>\n",
       "      <td>0.028213</td>\n",
       "      <td>0.6</td>\n",
       "      <td>1.0</td>\n",
       "      <td>0.0</td>\n",
       "      <td>0.0</td>\n",
       "    </tr>\n",
       "    <tr>\n",
       "      <th>1305</th>\n",
       "      <td>1.0</td>\n",
       "      <td>1.0</td>\n",
       "      <td>0.0</td>\n",
       "      <td>0.372206</td>\n",
       "      <td>0.285714</td>\n",
       "      <td>0.125</td>\n",
       "      <td>0.028213</td>\n",
       "      <td>0.6</td>\n",
       "      <td>1.0</td>\n",
       "      <td>0.0</td>\n",
       "      <td>0.0</td>\n",
       "    </tr>\n",
       "    <tr>\n",
       "      <th>1306</th>\n",
       "      <td>1.0</td>\n",
       "      <td>0.0</td>\n",
       "      <td>1.0</td>\n",
       "      <td>0.329854</td>\n",
       "      <td>0.285714</td>\n",
       "      <td>0.000</td>\n",
       "      <td>0.014102</td>\n",
       "      <td>0.0</td>\n",
       "      <td>1.0</td>\n",
       "      <td>0.0</td>\n",
       "      <td>0.0</td>\n",
       "    </tr>\n",
       "    <tr>\n",
       "      <th>1307</th>\n",
       "      <td>1.0</td>\n",
       "      <td>0.0</td>\n",
       "      <td>1.0</td>\n",
       "      <td>0.336117</td>\n",
       "      <td>0.285714</td>\n",
       "      <td>0.000</td>\n",
       "      <td>0.014102</td>\n",
       "      <td>0.0</td>\n",
       "      <td>1.0</td>\n",
       "      <td>0.0</td>\n",
       "      <td>0.0</td>\n",
       "    </tr>\n",
       "    <tr>\n",
       "      <th>1308</th>\n",
       "      <td>1.0</td>\n",
       "      <td>0.0</td>\n",
       "      <td>1.0</td>\n",
       "      <td>0.361169</td>\n",
       "      <td>0.285714</td>\n",
       "      <td>0.000</td>\n",
       "      <td>0.015371</td>\n",
       "      <td>0.2</td>\n",
       "      <td>0.0</td>\n",
       "      <td>0.0</td>\n",
       "      <td>1.0</td>\n",
       "    </tr>\n",
       "  </tbody>\n",
       "</table>\n",
       "<p>1309 rows × 11 columns</p>\n",
       "</div>"
      ],
      "text/plain": [
       "      pclass  sex=female  sex=male       age  age_range  sibsp      fare  \\\n",
       "0        0.0         1.0       0.0  0.361169   0.285714  0.000  0.412503   \n",
       "1        0.0         0.0       1.0  0.009395   0.000000  0.125  0.295806   \n",
       "2        0.0         1.0       0.0  0.022964   0.000000  0.125  0.295806   \n",
       "3        0.0         0.0       1.0  0.373695   0.285714  0.125  0.295806   \n",
       "4        0.0         1.0       0.0  0.311064   0.285714  0.125  0.295806   \n",
       "...      ...         ...       ...       ...        ...    ...       ...   \n",
       "1304     1.0         1.0       0.0  0.179540   0.142857  0.125  0.028213   \n",
       "1305     1.0         1.0       0.0  0.372206   0.285714  0.125  0.028213   \n",
       "1306     1.0         0.0       1.0  0.329854   0.285714  0.000  0.014102   \n",
       "1307     1.0         0.0       1.0  0.336117   0.285714  0.000  0.014102   \n",
       "1308     1.0         0.0       1.0  0.361169   0.285714  0.000  0.015371   \n",
       "\n",
       "      fare_range  embarked=C  embarked=Q  embarked=S  \n",
       "0            1.0         0.0         0.0         1.0  \n",
       "1            1.0         0.0         0.0         1.0  \n",
       "2            1.0         0.0         0.0         1.0  \n",
       "3            1.0         0.0         0.0         1.0  \n",
       "4            1.0         0.0         0.0         1.0  \n",
       "...          ...         ...         ...         ...  \n",
       "1304         0.6         1.0         0.0         0.0  \n",
       "1305         0.6         1.0         0.0         0.0  \n",
       "1306         0.0         1.0         0.0         0.0  \n",
       "1307         0.0         1.0         0.0         0.0  \n",
       "1308         0.2         0.0         0.0         1.0  \n",
       "\n",
       "[1309 rows x 11 columns]"
      ]
     },
     "execution_count": 113,
     "metadata": {},
     "output_type": "execute_result"
    }
   ],
   "source": [
    "X_titanic = data6.drop('survived', axis=1)\n",
    "X_titanic"
   ]
  },
  {
   "cell_type": "code",
   "execution_count": 114,
   "metadata": {},
   "outputs": [
    {
     "data": {
      "text/plain": [
       "0       1.0\n",
       "1       1.0\n",
       "2       0.0\n",
       "3       0.0\n",
       "4       0.0\n",
       "       ... \n",
       "1304    0.0\n",
       "1305    0.0\n",
       "1306    0.0\n",
       "1307    0.0\n",
       "1308    0.0\n",
       "Name: survived, Length: 1309, dtype: float64"
      ]
     },
     "execution_count": 114,
     "metadata": {},
     "output_type": "execute_result"
    }
   ],
   "source": [
    "y_titanic = data6['survived']\n",
    "y_titanic"
   ]
  },
  {
   "cell_type": "markdown",
   "metadata": {},
   "source": [
    "#### Modelo base\n",
    "\n",
    "Antes de empezar a eliminar características, vamos a obtener un modelo de base, o de referencia, que nos permita valorar las mejoras que vamos obteniendo."
   ]
  },
  {
   "cell_type": "code",
   "execution_count": 115,
   "metadata": {},
   "outputs": [
    {
     "data": {
      "text/plain": [
       "array([0.71888889, 0.76635802, 0.76932099, 0.70240741, 0.74130435])"
      ]
     },
     "execution_count": 115,
     "metadata": {},
     "output_type": "execute_result"
    }
   ],
   "source": [
    "from sklearn.model_selection import StratifiedKFold\n",
    "from sklearn.model_selection import cross_val_score\n",
    "from sklearn.tree import DecisionTreeClassifier\n",
    "\n",
    "strat_cv = StratifiedKFold(5, shuffle=True, random_state=2345)\n",
    "\n",
    "dt = DecisionTreeClassifier(random_state=2345)\n",
    "\n",
    "cross_val_score(dt, X_titanic, y_titanic, cv=strat_cv, scoring='balanced_accuracy')"
   ]
  },
  {
   "cell_type": "markdown",
   "metadata": {},
   "source": [
    "### Métodos de envoltura\n",
    "\n",
    "Los métodos de envoltura usan el rendimiento de un modelo predictivo cómo indicador de la bondad de un conjunto de atributos.\n",
    "\n",
    "La librería `mlxtend` de Python, proporciona diferentes algoritmos y herramientas de aprendizaje automático que quedan fuera del alcance de Scikit-learn, como por ejemplo, los métodos de selección de características de tipo envoltura.\n",
    "- https://rasbt.github.io/mlxtend/user_guide/feature_selection/SequentialFeatureSelector/"
   ]
  },
  {
   "cell_type": "code",
   "execution_count": 116,
   "metadata": {},
   "outputs": [],
   "source": [
    "#  !pip install mlxtend"
   ]
  },
  {
   "cell_type": "code",
   "execution_count": 117,
   "metadata": {},
   "outputs": [],
   "source": [
    "from mlxtend.feature_selection import SequentialFeatureSelector as SFS\n",
    "\n",
    "dt = DecisionTreeClassifier(random_state=2354)\n",
    "\n",
    "sbs = SFS(dt, k_features=1, forward=False, floating=False, \n",
    "          scoring='balanced_accuracy',cv=strat_cv) #verbose=2\n",
    "\n",
    "sbs = sbs.fit(X_titanic, y_titanic)"
   ]
  },
  {
   "cell_type": "markdown",
   "metadata": {},
   "source": [
    "Con el parámetro `k_features` indicamos el número de características a retener antes de parar. Con el parámetro `forward=False` indicamos que la búsqueda es hacia atrás.\n",
    "\n",
    "Una vez que ha terminado la ejecución, podemos consultar los mejores subconjuntos para cada número posible de características."
   ]
  },
  {
   "cell_type": "code",
   "execution_count": 118,
   "metadata": {
    "scrolled": true
   },
   "outputs": [
    {
     "data": {
      "text/plain": [
       "{11: {'feature_idx': (0, 1, 2, 3, 4, 5, 6, 7, 8, 9, 10),\n",
       "  'cv_scores': array([0.71580247, 0.73901235, 0.76623457, 0.69814815, 0.75940994]),\n",
       "  'avg_score': 0.7357214937504792,\n",
       "  'feature_names': ('pclass',\n",
       "   'sex=female',\n",
       "   'sex=male',\n",
       "   'age',\n",
       "   'age_range',\n",
       "   'sibsp',\n",
       "   'fare',\n",
       "   'fare_range',\n",
       "   'embarked=C',\n",
       "   'embarked=Q',\n",
       "   'embarked=S')},\n",
       " 10: {'feature_idx': (0, 1, 2, 4, 5, 6, 7, 8, 9, 10),\n",
       "  'cv_scores': array([0.77709877, 0.79253086, 0.77858025, 0.72475309, 0.74546584]),\n",
       "  'avg_score': 0.763685760294456,\n",
       "  'feature_names': ('pclass',\n",
       "   'sex=female',\n",
       "   'sex=male',\n",
       "   'age_range',\n",
       "   'sibsp',\n",
       "   'fare',\n",
       "   'fare_range',\n",
       "   'embarked=C',\n",
       "   'embarked=Q',\n",
       "   'embarked=S')},\n",
       " 9: {'feature_idx': (0, 1, 2, 4, 5, 6, 8, 9, 10),\n",
       "  'cv_scores': array([0.77209877, 0.79253086, 0.78166667, 0.73092593, 0.75857143]),\n",
       "  'avg_score': 0.7671587301587303,\n",
       "  'feature_names': ('pclass',\n",
       "   'sex=female',\n",
       "   'sex=male',\n",
       "   'age_range',\n",
       "   'sibsp',\n",
       "   'fare',\n",
       "   'embarked=C',\n",
       "   'embarked=Q',\n",
       "   'embarked=S')},\n",
       " 8: {'feature_idx': (0, 1, 2, 4, 5, 6, 8, 9),\n",
       "  'cv_scores': array([0.77901235, 0.79253086, 0.78475309, 0.73283951, 0.76357143]),\n",
       "  'avg_score': 0.7705414462081128,\n",
       "  'feature_names': ('pclass',\n",
       "   'sex=female',\n",
       "   'sex=male',\n",
       "   'age_range',\n",
       "   'sibsp',\n",
       "   'fare',\n",
       "   'embarked=C',\n",
       "   'embarked=Q')},\n",
       " 7: {'feature_idx': (0, 2, 4, 5, 6, 8, 9),\n",
       "  'cv_scores': array([0.77901235, 0.78944444, 0.77358025, 0.72783951, 0.75978261]),\n",
       "  'avg_score': 0.7659318303811057,\n",
       "  'feature_names': ('pclass',\n",
       "   'sex=male',\n",
       "   'age_range',\n",
       "   'sibsp',\n",
       "   'fare',\n",
       "   'embarked=C',\n",
       "   'embarked=Q')},\n",
       " 6: {'feature_idx': (0, 2, 4, 6, 8, 9),\n",
       "  'cv_scores': array([0.76092593, 0.78061728, 0.7932716 , 0.71975309, 0.77357143]),\n",
       "  'avg_score': 0.7656278659611992,\n",
       "  'feature_names': ('pclass',\n",
       "   'sex=male',\n",
       "   'age_range',\n",
       "   'fare',\n",
       "   'embarked=C',\n",
       "   'embarked=Q')},\n",
       " 5: {'feature_idx': (0, 2, 4, 6, 9),\n",
       "  'cv_scores': array([0.75166667, 0.78061728, 0.78209877, 0.73092593, 0.78046584]),\n",
       "  'avg_score': 0.7651548960969251,\n",
       "  'feature_names': ('pclass', 'sex=male', 'age_range', 'fare', 'embarked=Q')},\n",
       " 4: {'feature_idx': (0, 2, 6, 9),\n",
       "  'cv_scores': array([0.73240741, 0.76753086, 0.78444444, 0.78135802, 0.75357143]),\n",
       "  'avg_score': 0.7638624338624338,\n",
       "  'feature_names': ('pclass', 'sex=male', 'fare', 'embarked=Q')},\n",
       " 3: {'feature_idx': (0, 2, 6),\n",
       "  'cv_scores': array([0.73740741, 0.76253086, 0.78753086, 0.77135802, 0.75357143]),\n",
       "  'avg_score': 0.7624797178130512,\n",
       "  'feature_names': ('pclass', 'sex=male', 'fare')},\n",
       " 2: {'feature_idx': (2, 6),\n",
       "  'cv_scores': array([0.72932099, 0.75753086, 0.7937037 , 0.75092593, 0.74546584]),\n",
       "  'avg_score': 0.7553894639981598,\n",
       "  'feature_names': ('sex=male', 'fare')},\n",
       " 1: {'feature_idx': (2,),\n",
       "  'cv_scores': array([0.72858025, 0.76666667, 0.76092593, 0.79666667, 0.74978261]),\n",
       "  'avg_score': 0.7605244229736983,\n",
       "  'feature_names': ('sex=male',)}}"
      ]
     },
     "execution_count": 118,
     "metadata": {},
     "output_type": "execute_result"
    }
   ],
   "source": [
    "sbs.subsets_"
   ]
  },
  {
   "cell_type": "markdown",
   "metadata": {},
   "source": [
    "Podemos observar que el mejor subconjunto encontrado, tiene 8 variables."
   ]
  },
  {
   "cell_type": "code",
   "execution_count": 119,
   "metadata": {},
   "outputs": [
    {
     "data": {
      "text/plain": [
       "['pclass',\n",
       " 'sex=female',\n",
       " 'sex=male',\n",
       " 'age_range',\n",
       " 'sibsp',\n",
       " 'fare',\n",
       " 'embarked=C',\n",
       " 'embarked=Q']"
      ]
     },
     "execution_count": 119,
     "metadata": {},
     "output_type": "execute_result"
    }
   ],
   "source": [
    "seleccion = ['pclass', 'sex=female', 'sex=male', 'age_range', 'sibsp', 'fare', 'embarked=C', 'embarked=Q']\n",
    "seleccion"
   ]
  },
  {
   "cell_type": "markdown",
   "metadata": {},
   "source": [
    "Hagamos un último experimento con la selección de variables obtenida."
   ]
  },
  {
   "cell_type": "code",
   "execution_count": 120,
   "metadata": {},
   "outputs": [
    {
     "data": {
      "text/plain": [
       "0.7651663982823403"
      ]
     },
     "execution_count": 120,
     "metadata": {},
     "output_type": "execute_result"
    }
   ],
   "source": [
    "strat_cv = StratifiedKFold(5, shuffle=True, random_state=2345)\n",
    "\n",
    "dt = DecisionTreeClassifier(random_state=2345)\n",
    "\n",
    "cross_val_score(dt, X_titanic[seleccion], y_titanic, cv=strat_cv, scoring='balanced_accuracy').mean()"
   ]
  },
  {
   "cell_type": "code",
   "execution_count": null,
   "metadata": {},
   "outputs": [],
   "source": []
  },
  {
   "cell_type": "markdown",
   "metadata": {},
   "source": [
    "## ANEXO: Ingeniería de características"
   ]
  },
  {
   "cell_type": "markdown",
   "metadata": {},
   "source": [
    "Vamos a crear nuevas características a partir de los datos existentes. Esto es lo que se conoce como `ingeniería de características`."
   ]
  },
  {
   "cell_type": "code",
   "execution_count": 121,
   "metadata": {},
   "outputs": [],
   "source": [
    "titanic_path = ('./titanic.csv')\n",
    "df = pd.read_csv(titanic_path)"
   ]
  },
  {
   "cell_type": "code",
   "execution_count": 122,
   "metadata": {},
   "outputs": [
    {
     "data": {
      "text/html": [
       "<div>\n",
       "<style scoped>\n",
       "    .dataframe tbody tr th:only-of-type {\n",
       "        vertical-align: middle;\n",
       "    }\n",
       "\n",
       "    .dataframe tbody tr th {\n",
       "        vertical-align: top;\n",
       "    }\n",
       "\n",
       "    .dataframe thead th {\n",
       "        text-align: right;\n",
       "    }\n",
       "</style>\n",
       "<table border=\"1\" class=\"dataframe\">\n",
       "  <thead>\n",
       "    <tr style=\"text-align: right;\">\n",
       "      <th></th>\n",
       "      <th>pclass</th>\n",
       "      <th>survived</th>\n",
       "      <th>name</th>\n",
       "      <th>sex</th>\n",
       "      <th>age</th>\n",
       "      <th>sibsp</th>\n",
       "      <th>parch</th>\n",
       "      <th>ticket</th>\n",
       "      <th>fare</th>\n",
       "      <th>cabin</th>\n",
       "      <th>embarked</th>\n",
       "      <th>boat</th>\n",
       "      <th>body</th>\n",
       "      <th>home.dest</th>\n",
       "    </tr>\n",
       "  </thead>\n",
       "  <tbody>\n",
       "    <tr>\n",
       "      <th>0</th>\n",
       "      <td>1</td>\n",
       "      <td>1</td>\n",
       "      <td>Allen, Miss. Elisabeth Walton</td>\n",
       "      <td>female</td>\n",
       "      <td>29.0000</td>\n",
       "      <td>0</td>\n",
       "      <td>0</td>\n",
       "      <td>24160</td>\n",
       "      <td>211.3375</td>\n",
       "      <td>B5</td>\n",
       "      <td>S</td>\n",
       "      <td>2</td>\n",
       "      <td>NaN</td>\n",
       "      <td>St Louis, MO</td>\n",
       "    </tr>\n",
       "    <tr>\n",
       "      <th>1</th>\n",
       "      <td>1</td>\n",
       "      <td>1</td>\n",
       "      <td>Allison, Master. Hudson Trevor</td>\n",
       "      <td>male</td>\n",
       "      <td>0.9167</td>\n",
       "      <td>1</td>\n",
       "      <td>2</td>\n",
       "      <td>113781</td>\n",
       "      <td>151.5500</td>\n",
       "      <td>C22 C26</td>\n",
       "      <td>S</td>\n",
       "      <td>11</td>\n",
       "      <td>NaN</td>\n",
       "      <td>Montreal, PQ / Chesterville, ON</td>\n",
       "    </tr>\n",
       "    <tr>\n",
       "      <th>2</th>\n",
       "      <td>1</td>\n",
       "      <td>0</td>\n",
       "      <td>Allison, Miss. Helen Loraine</td>\n",
       "      <td>female</td>\n",
       "      <td>2.0000</td>\n",
       "      <td>1</td>\n",
       "      <td>2</td>\n",
       "      <td>113781</td>\n",
       "      <td>151.5500</td>\n",
       "      <td>C22 C26</td>\n",
       "      <td>S</td>\n",
       "      <td>NaN</td>\n",
       "      <td>NaN</td>\n",
       "      <td>Montreal, PQ / Chesterville, ON</td>\n",
       "    </tr>\n",
       "    <tr>\n",
       "      <th>3</th>\n",
       "      <td>1</td>\n",
       "      <td>0</td>\n",
       "      <td>Allison, Mr. Hudson Joshua Creighton</td>\n",
       "      <td>male</td>\n",
       "      <td>30.0000</td>\n",
       "      <td>1</td>\n",
       "      <td>2</td>\n",
       "      <td>113781</td>\n",
       "      <td>151.5500</td>\n",
       "      <td>C22 C26</td>\n",
       "      <td>S</td>\n",
       "      <td>NaN</td>\n",
       "      <td>135.0</td>\n",
       "      <td>Montreal, PQ / Chesterville, ON</td>\n",
       "    </tr>\n",
       "    <tr>\n",
       "      <th>4</th>\n",
       "      <td>1</td>\n",
       "      <td>0</td>\n",
       "      <td>Allison, Mrs. Hudson J C (Bessie Waldo Daniels)</td>\n",
       "      <td>female</td>\n",
       "      <td>25.0000</td>\n",
       "      <td>1</td>\n",
       "      <td>2</td>\n",
       "      <td>113781</td>\n",
       "      <td>151.5500</td>\n",
       "      <td>C22 C26</td>\n",
       "      <td>S</td>\n",
       "      <td>NaN</td>\n",
       "      <td>NaN</td>\n",
       "      <td>Montreal, PQ / Chesterville, ON</td>\n",
       "    </tr>\n",
       "  </tbody>\n",
       "</table>\n",
       "</div>"
      ],
      "text/plain": [
       "   pclass  survived                                             name     sex  \\\n",
       "0       1         1                    Allen, Miss. Elisabeth Walton  female   \n",
       "1       1         1                   Allison, Master. Hudson Trevor    male   \n",
       "2       1         0                     Allison, Miss. Helen Loraine  female   \n",
       "3       1         0             Allison, Mr. Hudson Joshua Creighton    male   \n",
       "4       1         0  Allison, Mrs. Hudson J C (Bessie Waldo Daniels)  female   \n",
       "\n",
       "       age  sibsp  parch  ticket      fare    cabin embarked boat   body  \\\n",
       "0  29.0000      0      0   24160  211.3375       B5        S    2    NaN   \n",
       "1   0.9167      1      2  113781  151.5500  C22 C26        S   11    NaN   \n",
       "2   2.0000      1      2  113781  151.5500  C22 C26        S  NaN    NaN   \n",
       "3  30.0000      1      2  113781  151.5500  C22 C26        S  NaN  135.0   \n",
       "4  25.0000      1      2  113781  151.5500  C22 C26        S  NaN    NaN   \n",
       "\n",
       "                         home.dest  \n",
       "0                     St Louis, MO  \n",
       "1  Montreal, PQ / Chesterville, ON  \n",
       "2  Montreal, PQ / Chesterville, ON  \n",
       "3  Montreal, PQ / Chesterville, ON  \n",
       "4  Montreal, PQ / Chesterville, ON  "
      ]
     },
     "execution_count": 122,
     "metadata": {},
     "output_type": "execute_result"
    }
   ],
   "source": [
    "df.head()"
   ]
  },
  {
   "cell_type": "code",
   "execution_count": 123,
   "metadata": {},
   "outputs": [
    {
     "data": {
      "text/plain": [
       "pclass          0\n",
       "survived        0\n",
       "name            0\n",
       "sex             0\n",
       "age           263\n",
       "sibsp           0\n",
       "parch           0\n",
       "ticket          0\n",
       "fare            1\n",
       "cabin        1014\n",
       "embarked        2\n",
       "boat          823\n",
       "body         1188\n",
       "home.dest     564\n",
       "dtype: int64"
      ]
     },
     "execution_count": 123,
     "metadata": {},
     "output_type": "execute_result"
    }
   ],
   "source": [
    "df.isnull().sum()"
   ]
  },
  {
   "cell_type": "markdown",
   "metadata": {},
   "source": [
    "### Ingeniería de características\n",
    "\n",
    "Algunas variables como cabin parecen inservibles a priori debido al número de missings o debido a su heterogeneidad como el campo nombre. Sin embargo, es posible extraer información a partir de estas, por lo que vamos a crear nuevas variables:\n",
    "\n",
    "- Título: extraída del nombre\n",
    "- Mujer casada: Extraída del nombre\n",
    "- Cubierta: extraída del camarote (cabin)\n",
    "- Familiares: a partir de parch y sibsp\n",
    "- Viaja solo: a partir del número de familiares\n",
    "\n",
    "Si alguna de estas variables tuviese valores perdidos, sería conveniente imputarlos antes de iniciar esta fase de extracción de características. Como hemos seleccionado variables sin valores perdidos, podemos realizar esta fase primero y luego todo el preprocesado de una vez."
   ]
  },
  {
   "cell_type": "markdown",
   "metadata": {},
   "source": [
    "#### Título"
   ]
  },
  {
   "cell_type": "code",
   "execution_count": 124,
   "metadata": {},
   "outputs": [
    {
     "data": {
      "text/html": [
       "<div>\n",
       "<style scoped>\n",
       "    .dataframe tbody tr th:only-of-type {\n",
       "        vertical-align: middle;\n",
       "    }\n",
       "\n",
       "    .dataframe tbody tr th {\n",
       "        vertical-align: top;\n",
       "    }\n",
       "\n",
       "    .dataframe thead th {\n",
       "        text-align: right;\n",
       "    }\n",
       "</style>\n",
       "<table border=\"1\" class=\"dataframe\">\n",
       "  <thead>\n",
       "    <tr style=\"text-align: right;\">\n",
       "      <th></th>\n",
       "      <th>pclass</th>\n",
       "      <th>survived</th>\n",
       "      <th>name</th>\n",
       "      <th>sex</th>\n",
       "      <th>age</th>\n",
       "      <th>sibsp</th>\n",
       "      <th>parch</th>\n",
       "      <th>ticket</th>\n",
       "      <th>fare</th>\n",
       "      <th>cabin</th>\n",
       "      <th>embarked</th>\n",
       "      <th>boat</th>\n",
       "      <th>body</th>\n",
       "      <th>home.dest</th>\n",
       "      <th>title</th>\n",
       "    </tr>\n",
       "  </thead>\n",
       "  <tbody>\n",
       "    <tr>\n",
       "      <th>0</th>\n",
       "      <td>1</td>\n",
       "      <td>1</td>\n",
       "      <td>Allen, Miss. Elisabeth Walton</td>\n",
       "      <td>female</td>\n",
       "      <td>29.0000</td>\n",
       "      <td>0</td>\n",
       "      <td>0</td>\n",
       "      <td>24160</td>\n",
       "      <td>211.3375</td>\n",
       "      <td>B5</td>\n",
       "      <td>S</td>\n",
       "      <td>2</td>\n",
       "      <td>NaN</td>\n",
       "      <td>St Louis, MO</td>\n",
       "      <td>Miss</td>\n",
       "    </tr>\n",
       "    <tr>\n",
       "      <th>1</th>\n",
       "      <td>1</td>\n",
       "      <td>1</td>\n",
       "      <td>Allison, Master. Hudson Trevor</td>\n",
       "      <td>male</td>\n",
       "      <td>0.9167</td>\n",
       "      <td>1</td>\n",
       "      <td>2</td>\n",
       "      <td>113781</td>\n",
       "      <td>151.5500</td>\n",
       "      <td>C22 C26</td>\n",
       "      <td>S</td>\n",
       "      <td>11</td>\n",
       "      <td>NaN</td>\n",
       "      <td>Montreal, PQ / Chesterville, ON</td>\n",
       "      <td>Master</td>\n",
       "    </tr>\n",
       "    <tr>\n",
       "      <th>2</th>\n",
       "      <td>1</td>\n",
       "      <td>0</td>\n",
       "      <td>Allison, Miss. Helen Loraine</td>\n",
       "      <td>female</td>\n",
       "      <td>2.0000</td>\n",
       "      <td>1</td>\n",
       "      <td>2</td>\n",
       "      <td>113781</td>\n",
       "      <td>151.5500</td>\n",
       "      <td>C22 C26</td>\n",
       "      <td>S</td>\n",
       "      <td>NaN</td>\n",
       "      <td>NaN</td>\n",
       "      <td>Montreal, PQ / Chesterville, ON</td>\n",
       "      <td>Miss</td>\n",
       "    </tr>\n",
       "  </tbody>\n",
       "</table>\n",
       "</div>"
      ],
      "text/plain": [
       "   pclass  survived                            name     sex      age  sibsp  \\\n",
       "0       1         1   Allen, Miss. Elisabeth Walton  female  29.0000      0   \n",
       "1       1         1  Allison, Master. Hudson Trevor    male   0.9167      1   \n",
       "2       1         0    Allison, Miss. Helen Loraine  female   2.0000      1   \n",
       "\n",
       "   parch  ticket      fare    cabin embarked boat  body  \\\n",
       "0      0   24160  211.3375       B5        S    2   NaN   \n",
       "1      2  113781  151.5500  C22 C26        S   11   NaN   \n",
       "2      2  113781  151.5500  C22 C26        S  NaN   NaN   \n",
       "\n",
       "                         home.dest   title  \n",
       "0                     St Louis, MO    Miss  \n",
       "1  Montreal, PQ / Chesterville, ON  Master  \n",
       "2  Montreal, PQ / Chesterville, ON    Miss  "
      ]
     },
     "execution_count": 124,
     "metadata": {},
     "output_type": "execute_result"
    }
   ],
   "source": [
    "df['title'] = df['name'].str.split(', ', expand=True)[1].str.split('.', expand=True)[0]\n",
    "df.head(3)"
   ]
  },
  {
   "cell_type": "code",
   "execution_count": 125,
   "metadata": {},
   "outputs": [
    {
     "data": {
      "text/plain": [
       "array(['Miss', 'Master', 'Mr', 'Mrs', 'Col', 'Mme', 'Dr', 'Major', 'Capt',\n",
       "       'Lady', 'Sir', 'Mlle', 'Dona', 'Jonkheer', 'the Countess', 'Don',\n",
       "       'Rev', 'Ms'], dtype=object)"
      ]
     },
     "execution_count": 125,
     "metadata": {},
     "output_type": "execute_result"
    }
   ],
   "source": [
    "df['title'].unique()"
   ]
  },
  {
   "cell_type": "markdown",
   "metadata": {},
   "source": [
    "#### Casada"
   ]
  },
  {
   "cell_type": "code",
   "execution_count": 126,
   "metadata": {},
   "outputs": [
    {
     "data": {
      "text/html": [
       "<div>\n",
       "<style scoped>\n",
       "    .dataframe tbody tr th:only-of-type {\n",
       "        vertical-align: middle;\n",
       "    }\n",
       "\n",
       "    .dataframe tbody tr th {\n",
       "        vertical-align: top;\n",
       "    }\n",
       "\n",
       "    .dataframe thead th {\n",
       "        text-align: right;\n",
       "    }\n",
       "</style>\n",
       "<table border=\"1\" class=\"dataframe\">\n",
       "  <thead>\n",
       "    <tr style=\"text-align: right;\">\n",
       "      <th></th>\n",
       "      <th>pclass</th>\n",
       "      <th>survived</th>\n",
       "      <th>name</th>\n",
       "      <th>sex</th>\n",
       "      <th>age</th>\n",
       "      <th>sibsp</th>\n",
       "      <th>parch</th>\n",
       "      <th>ticket</th>\n",
       "      <th>fare</th>\n",
       "      <th>cabin</th>\n",
       "      <th>embarked</th>\n",
       "      <th>boat</th>\n",
       "      <th>body</th>\n",
       "      <th>home.dest</th>\n",
       "      <th>title</th>\n",
       "      <th>is_married</th>\n",
       "    </tr>\n",
       "  </thead>\n",
       "  <tbody>\n",
       "    <tr>\n",
       "      <th>0</th>\n",
       "      <td>1</td>\n",
       "      <td>1</td>\n",
       "      <td>Allen, Miss. Elisabeth Walton</td>\n",
       "      <td>female</td>\n",
       "      <td>29.0000</td>\n",
       "      <td>0</td>\n",
       "      <td>0</td>\n",
       "      <td>24160</td>\n",
       "      <td>211.3375</td>\n",
       "      <td>B5</td>\n",
       "      <td>S</td>\n",
       "      <td>2</td>\n",
       "      <td>NaN</td>\n",
       "      <td>St Louis, MO</td>\n",
       "      <td>Miss</td>\n",
       "      <td>0</td>\n",
       "    </tr>\n",
       "    <tr>\n",
       "      <th>1</th>\n",
       "      <td>1</td>\n",
       "      <td>1</td>\n",
       "      <td>Allison, Master. Hudson Trevor</td>\n",
       "      <td>male</td>\n",
       "      <td>0.9167</td>\n",
       "      <td>1</td>\n",
       "      <td>2</td>\n",
       "      <td>113781</td>\n",
       "      <td>151.5500</td>\n",
       "      <td>C22 C26</td>\n",
       "      <td>S</td>\n",
       "      <td>11</td>\n",
       "      <td>NaN</td>\n",
       "      <td>Montreal, PQ / Chesterville, ON</td>\n",
       "      <td>Master</td>\n",
       "      <td>0</td>\n",
       "    </tr>\n",
       "    <tr>\n",
       "      <th>2</th>\n",
       "      <td>1</td>\n",
       "      <td>0</td>\n",
       "      <td>Allison, Miss. Helen Loraine</td>\n",
       "      <td>female</td>\n",
       "      <td>2.0000</td>\n",
       "      <td>1</td>\n",
       "      <td>2</td>\n",
       "      <td>113781</td>\n",
       "      <td>151.5500</td>\n",
       "      <td>C22 C26</td>\n",
       "      <td>S</td>\n",
       "      <td>NaN</td>\n",
       "      <td>NaN</td>\n",
       "      <td>Montreal, PQ / Chesterville, ON</td>\n",
       "      <td>Miss</td>\n",
       "      <td>0</td>\n",
       "    </tr>\n",
       "  </tbody>\n",
       "</table>\n",
       "</div>"
      ],
      "text/plain": [
       "   pclass  survived                            name     sex      age  sibsp  \\\n",
       "0       1         1   Allen, Miss. Elisabeth Walton  female  29.0000      0   \n",
       "1       1         1  Allison, Master. Hudson Trevor    male   0.9167      1   \n",
       "2       1         0    Allison, Miss. Helen Loraine  female   2.0000      1   \n",
       "\n",
       "   parch  ticket      fare    cabin embarked boat  body  \\\n",
       "0      0   24160  211.3375       B5        S    2   NaN   \n",
       "1      2  113781  151.5500  C22 C26        S   11   NaN   \n",
       "2      2  113781  151.5500  C22 C26        S  NaN   NaN   \n",
       "\n",
       "                         home.dest   title  is_married  \n",
       "0                     St Louis, MO    Miss           0  \n",
       "1  Montreal, PQ / Chesterville, ON  Master           0  \n",
       "2  Montreal, PQ / Chesterville, ON    Miss           0  "
      ]
     },
     "execution_count": 126,
     "metadata": {},
     "output_type": "execute_result"
    }
   ],
   "source": [
    "df['is_married'] = 0\n",
    "df['is_married'] = df['title'].apply(lambda s: 1 if s == 'Mrs' else 0)\n",
    "df.head(3)"
   ]
  },
  {
   "cell_type": "markdown",
   "metadata": {},
   "source": [
    "#### Cubierta"
   ]
  },
  {
   "cell_type": "code",
   "execution_count": 127,
   "metadata": {},
   "outputs": [
    {
     "data": {
      "text/html": [
       "<div>\n",
       "<style scoped>\n",
       "    .dataframe tbody tr th:only-of-type {\n",
       "        vertical-align: middle;\n",
       "    }\n",
       "\n",
       "    .dataframe tbody tr th {\n",
       "        vertical-align: top;\n",
       "    }\n",
       "\n",
       "    .dataframe thead th {\n",
       "        text-align: right;\n",
       "    }\n",
       "</style>\n",
       "<table border=\"1\" class=\"dataframe\">\n",
       "  <thead>\n",
       "    <tr style=\"text-align: right;\">\n",
       "      <th></th>\n",
       "      <th>pclass</th>\n",
       "      <th>survived</th>\n",
       "      <th>name</th>\n",
       "      <th>sex</th>\n",
       "      <th>age</th>\n",
       "      <th>sibsp</th>\n",
       "      <th>parch</th>\n",
       "      <th>ticket</th>\n",
       "      <th>fare</th>\n",
       "      <th>cabin</th>\n",
       "      <th>embarked</th>\n",
       "      <th>boat</th>\n",
       "      <th>body</th>\n",
       "      <th>home.dest</th>\n",
       "      <th>title</th>\n",
       "      <th>is_married</th>\n",
       "      <th>deck</th>\n",
       "    </tr>\n",
       "  </thead>\n",
       "  <tbody>\n",
       "    <tr>\n",
       "      <th>0</th>\n",
       "      <td>1</td>\n",
       "      <td>1</td>\n",
       "      <td>Allen, Miss. Elisabeth Walton</td>\n",
       "      <td>female</td>\n",
       "      <td>29.0000</td>\n",
       "      <td>0</td>\n",
       "      <td>0</td>\n",
       "      <td>24160</td>\n",
       "      <td>211.3375</td>\n",
       "      <td>B5</td>\n",
       "      <td>S</td>\n",
       "      <td>2</td>\n",
       "      <td>NaN</td>\n",
       "      <td>St Louis, MO</td>\n",
       "      <td>Miss</td>\n",
       "      <td>0</td>\n",
       "      <td>B</td>\n",
       "    </tr>\n",
       "    <tr>\n",
       "      <th>1</th>\n",
       "      <td>1</td>\n",
       "      <td>1</td>\n",
       "      <td>Allison, Master. Hudson Trevor</td>\n",
       "      <td>male</td>\n",
       "      <td>0.9167</td>\n",
       "      <td>1</td>\n",
       "      <td>2</td>\n",
       "      <td>113781</td>\n",
       "      <td>151.5500</td>\n",
       "      <td>C22 C26</td>\n",
       "      <td>S</td>\n",
       "      <td>11</td>\n",
       "      <td>NaN</td>\n",
       "      <td>Montreal, PQ / Chesterville, ON</td>\n",
       "      <td>Master</td>\n",
       "      <td>0</td>\n",
       "      <td>C</td>\n",
       "    </tr>\n",
       "    <tr>\n",
       "      <th>2</th>\n",
       "      <td>1</td>\n",
       "      <td>0</td>\n",
       "      <td>Allison, Miss. Helen Loraine</td>\n",
       "      <td>female</td>\n",
       "      <td>2.0000</td>\n",
       "      <td>1</td>\n",
       "      <td>2</td>\n",
       "      <td>113781</td>\n",
       "      <td>151.5500</td>\n",
       "      <td>C22 C26</td>\n",
       "      <td>S</td>\n",
       "      <td>NaN</td>\n",
       "      <td>NaN</td>\n",
       "      <td>Montreal, PQ / Chesterville, ON</td>\n",
       "      <td>Miss</td>\n",
       "      <td>0</td>\n",
       "      <td>C</td>\n",
       "    </tr>\n",
       "  </tbody>\n",
       "</table>\n",
       "</div>"
      ],
      "text/plain": [
       "   pclass  survived                            name     sex      age  sibsp  \\\n",
       "0       1         1   Allen, Miss. Elisabeth Walton  female  29.0000      0   \n",
       "1       1         1  Allison, Master. Hudson Trevor    male   0.9167      1   \n",
       "2       1         0    Allison, Miss. Helen Loraine  female   2.0000      1   \n",
       "\n",
       "   parch  ticket      fare    cabin embarked boat  body  \\\n",
       "0      0   24160  211.3375       B5        S    2   NaN   \n",
       "1      2  113781  151.5500  C22 C26        S   11   NaN   \n",
       "2      2  113781  151.5500  C22 C26        S  NaN   NaN   \n",
       "\n",
       "                         home.dest   title  is_married deck  \n",
       "0                     St Louis, MO    Miss           0    B  \n",
       "1  Montreal, PQ / Chesterville, ON  Master           0    C  \n",
       "2  Montreal, PQ / Chesterville, ON    Miss           0    C  "
      ]
     },
     "execution_count": 127,
     "metadata": {},
     "output_type": "execute_result"
    }
   ],
   "source": [
    "df['deck'] = df['cabin'].apply(lambda s: s[0] if pd.notnull(s) else 'U')\n",
    "df.head(3)"
   ]
  },
  {
   "cell_type": "markdown",
   "metadata": {},
   "source": [
    "#### Familiares"
   ]
  },
  {
   "cell_type": "code",
   "execution_count": 128,
   "metadata": {},
   "outputs": [
    {
     "data": {
      "text/html": [
       "<div>\n",
       "<style scoped>\n",
       "    .dataframe tbody tr th:only-of-type {\n",
       "        vertical-align: middle;\n",
       "    }\n",
       "\n",
       "    .dataframe tbody tr th {\n",
       "        vertical-align: top;\n",
       "    }\n",
       "\n",
       "    .dataframe thead th {\n",
       "        text-align: right;\n",
       "    }\n",
       "</style>\n",
       "<table border=\"1\" class=\"dataframe\">\n",
       "  <thead>\n",
       "    <tr style=\"text-align: right;\">\n",
       "      <th></th>\n",
       "      <th>pclass</th>\n",
       "      <th>survived</th>\n",
       "      <th>name</th>\n",
       "      <th>sex</th>\n",
       "      <th>age</th>\n",
       "      <th>sibsp</th>\n",
       "      <th>parch</th>\n",
       "      <th>ticket</th>\n",
       "      <th>fare</th>\n",
       "      <th>cabin</th>\n",
       "      <th>embarked</th>\n",
       "      <th>boat</th>\n",
       "      <th>body</th>\n",
       "      <th>home.dest</th>\n",
       "      <th>title</th>\n",
       "      <th>is_married</th>\n",
       "      <th>deck</th>\n",
       "      <th>relatives</th>\n",
       "    </tr>\n",
       "  </thead>\n",
       "  <tbody>\n",
       "    <tr>\n",
       "      <th>0</th>\n",
       "      <td>1</td>\n",
       "      <td>1</td>\n",
       "      <td>Allen, Miss. Elisabeth Walton</td>\n",
       "      <td>female</td>\n",
       "      <td>29.0000</td>\n",
       "      <td>0</td>\n",
       "      <td>0</td>\n",
       "      <td>24160</td>\n",
       "      <td>211.3375</td>\n",
       "      <td>B5</td>\n",
       "      <td>S</td>\n",
       "      <td>2</td>\n",
       "      <td>NaN</td>\n",
       "      <td>St Louis, MO</td>\n",
       "      <td>Miss</td>\n",
       "      <td>0</td>\n",
       "      <td>B</td>\n",
       "      <td>0</td>\n",
       "    </tr>\n",
       "    <tr>\n",
       "      <th>1</th>\n",
       "      <td>1</td>\n",
       "      <td>1</td>\n",
       "      <td>Allison, Master. Hudson Trevor</td>\n",
       "      <td>male</td>\n",
       "      <td>0.9167</td>\n",
       "      <td>1</td>\n",
       "      <td>2</td>\n",
       "      <td>113781</td>\n",
       "      <td>151.5500</td>\n",
       "      <td>C22 C26</td>\n",
       "      <td>S</td>\n",
       "      <td>11</td>\n",
       "      <td>NaN</td>\n",
       "      <td>Montreal, PQ / Chesterville, ON</td>\n",
       "      <td>Master</td>\n",
       "      <td>0</td>\n",
       "      <td>C</td>\n",
       "      <td>3</td>\n",
       "    </tr>\n",
       "    <tr>\n",
       "      <th>2</th>\n",
       "      <td>1</td>\n",
       "      <td>0</td>\n",
       "      <td>Allison, Miss. Helen Loraine</td>\n",
       "      <td>female</td>\n",
       "      <td>2.0000</td>\n",
       "      <td>1</td>\n",
       "      <td>2</td>\n",
       "      <td>113781</td>\n",
       "      <td>151.5500</td>\n",
       "      <td>C22 C26</td>\n",
       "      <td>S</td>\n",
       "      <td>NaN</td>\n",
       "      <td>NaN</td>\n",
       "      <td>Montreal, PQ / Chesterville, ON</td>\n",
       "      <td>Miss</td>\n",
       "      <td>0</td>\n",
       "      <td>C</td>\n",
       "      <td>3</td>\n",
       "    </tr>\n",
       "  </tbody>\n",
       "</table>\n",
       "</div>"
      ],
      "text/plain": [
       "   pclass  survived                            name     sex      age  sibsp  \\\n",
       "0       1         1   Allen, Miss. Elisabeth Walton  female  29.0000      0   \n",
       "1       1         1  Allison, Master. Hudson Trevor    male   0.9167      1   \n",
       "2       1         0    Allison, Miss. Helen Loraine  female   2.0000      1   \n",
       "\n",
       "   parch  ticket      fare    cabin embarked boat  body  \\\n",
       "0      0   24160  211.3375       B5        S    2   NaN   \n",
       "1      2  113781  151.5500  C22 C26        S   11   NaN   \n",
       "2      2  113781  151.5500  C22 C26        S  NaN   NaN   \n",
       "\n",
       "                         home.dest   title  is_married deck  relatives  \n",
       "0                     St Louis, MO    Miss           0    B          0  \n",
       "1  Montreal, PQ / Chesterville, ON  Master           0    C          3  \n",
       "2  Montreal, PQ / Chesterville, ON    Miss           0    C          3  "
      ]
     },
     "execution_count": 128,
     "metadata": {},
     "output_type": "execute_result"
    }
   ],
   "source": [
    "df['relatives'] = df['parch'] + df['sibsp']\n",
    "df.head(3)"
   ]
  },
  {
   "cell_type": "markdown",
   "metadata": {},
   "source": [
    "#### Viaja solo"
   ]
  },
  {
   "cell_type": "code",
   "execution_count": 129,
   "metadata": {},
   "outputs": [
    {
     "data": {
      "text/html": [
       "<div>\n",
       "<style scoped>\n",
       "    .dataframe tbody tr th:only-of-type {\n",
       "        vertical-align: middle;\n",
       "    }\n",
       "\n",
       "    .dataframe tbody tr th {\n",
       "        vertical-align: top;\n",
       "    }\n",
       "\n",
       "    .dataframe thead th {\n",
       "        text-align: right;\n",
       "    }\n",
       "</style>\n",
       "<table border=\"1\" class=\"dataframe\">\n",
       "  <thead>\n",
       "    <tr style=\"text-align: right;\">\n",
       "      <th></th>\n",
       "      <th>pclass</th>\n",
       "      <th>survived</th>\n",
       "      <th>name</th>\n",
       "      <th>sex</th>\n",
       "      <th>age</th>\n",
       "      <th>sibsp</th>\n",
       "      <th>parch</th>\n",
       "      <th>ticket</th>\n",
       "      <th>fare</th>\n",
       "      <th>cabin</th>\n",
       "      <th>embarked</th>\n",
       "      <th>boat</th>\n",
       "      <th>body</th>\n",
       "      <th>home.dest</th>\n",
       "      <th>title</th>\n",
       "      <th>is_married</th>\n",
       "      <th>deck</th>\n",
       "      <th>relatives</th>\n",
       "      <th>alone</th>\n",
       "    </tr>\n",
       "  </thead>\n",
       "  <tbody>\n",
       "    <tr>\n",
       "      <th>0</th>\n",
       "      <td>1</td>\n",
       "      <td>1</td>\n",
       "      <td>Allen, Miss. Elisabeth Walton</td>\n",
       "      <td>female</td>\n",
       "      <td>29.0000</td>\n",
       "      <td>0</td>\n",
       "      <td>0</td>\n",
       "      <td>24160</td>\n",
       "      <td>211.3375</td>\n",
       "      <td>B5</td>\n",
       "      <td>S</td>\n",
       "      <td>2</td>\n",
       "      <td>NaN</td>\n",
       "      <td>St Louis, MO</td>\n",
       "      <td>Miss</td>\n",
       "      <td>0</td>\n",
       "      <td>B</td>\n",
       "      <td>0</td>\n",
       "      <td>1</td>\n",
       "    </tr>\n",
       "    <tr>\n",
       "      <th>1</th>\n",
       "      <td>1</td>\n",
       "      <td>1</td>\n",
       "      <td>Allison, Master. Hudson Trevor</td>\n",
       "      <td>male</td>\n",
       "      <td>0.9167</td>\n",
       "      <td>1</td>\n",
       "      <td>2</td>\n",
       "      <td>113781</td>\n",
       "      <td>151.5500</td>\n",
       "      <td>C22 C26</td>\n",
       "      <td>S</td>\n",
       "      <td>11</td>\n",
       "      <td>NaN</td>\n",
       "      <td>Montreal, PQ / Chesterville, ON</td>\n",
       "      <td>Master</td>\n",
       "      <td>0</td>\n",
       "      <td>C</td>\n",
       "      <td>3</td>\n",
       "      <td>0</td>\n",
       "    </tr>\n",
       "    <tr>\n",
       "      <th>2</th>\n",
       "      <td>1</td>\n",
       "      <td>0</td>\n",
       "      <td>Allison, Miss. Helen Loraine</td>\n",
       "      <td>female</td>\n",
       "      <td>2.0000</td>\n",
       "      <td>1</td>\n",
       "      <td>2</td>\n",
       "      <td>113781</td>\n",
       "      <td>151.5500</td>\n",
       "      <td>C22 C26</td>\n",
       "      <td>S</td>\n",
       "      <td>NaN</td>\n",
       "      <td>NaN</td>\n",
       "      <td>Montreal, PQ / Chesterville, ON</td>\n",
       "      <td>Miss</td>\n",
       "      <td>0</td>\n",
       "      <td>C</td>\n",
       "      <td>3</td>\n",
       "      <td>0</td>\n",
       "    </tr>\n",
       "  </tbody>\n",
       "</table>\n",
       "</div>"
      ],
      "text/plain": [
       "   pclass  survived                            name     sex      age  sibsp  \\\n",
       "0       1         1   Allen, Miss. Elisabeth Walton  female  29.0000      0   \n",
       "1       1         1  Allison, Master. Hudson Trevor    male   0.9167      1   \n",
       "2       1         0    Allison, Miss. Helen Loraine  female   2.0000      1   \n",
       "\n",
       "   parch  ticket      fare    cabin embarked boat  body  \\\n",
       "0      0   24160  211.3375       B5        S    2   NaN   \n",
       "1      2  113781  151.5500  C22 C26        S   11   NaN   \n",
       "2      2  113781  151.5500  C22 C26        S  NaN   NaN   \n",
       "\n",
       "                         home.dest   title  is_married deck  relatives  alone  \n",
       "0                     St Louis, MO    Miss           0    B          0      1  \n",
       "1  Montreal, PQ / Chesterville, ON  Master           0    C          3      0  \n",
       "2  Montreal, PQ / Chesterville, ON    Miss           0    C          3      0  "
      ]
     },
     "execution_count": 129,
     "metadata": {},
     "output_type": "execute_result"
    }
   ],
   "source": [
    "df['alone'] = 0\n",
    "df['alone'] = df['relatives'].apply(lambda v: 1 if v == 0 else 0)\n",
    "df.head(3)"
   ]
  },
  {
   "cell_type": "markdown",
   "metadata": {},
   "source": [
    "Finalmente, implementamos el conjunto de transformaciones necesarias. Mantenemos versiones discretizadas de la edad y la tarifa, manteniendo las originales."
   ]
  },
  {
   "cell_type": "code",
   "execution_count": 130,
   "metadata": {
    "scrolled": true
   },
   "outputs": [
    {
     "data": {
      "text/plain": [
       "array([[1., 0., 0., ..., 0., 1., 1.],\n",
       "       [0., 1., 0., ..., 3., 0., 1.],\n",
       "       [1., 0., 0., ..., 3., 0., 0.],\n",
       "       ...,\n",
       "       [0., 1., 0., ..., 0., 1., 0.],\n",
       "       [0., 1., 0., ..., 0., 1., 0.],\n",
       "       [0., 1., 0., ..., 0., 1., 0.]])"
      ]
     },
     "execution_count": 130,
     "metadata": {},
     "output_type": "execute_result"
    }
   ],
   "source": [
    "from sklearn.preprocessing import KBinsDiscretizer\n",
    "\n",
    "impohe = Pipeline([('si3', SimpleImputer(strategy='most_frequent')),\n",
    "                   ('onehot', OneHotEncoder())])\n",
    "\n",
    "impdisc_age = Pipeline([(\"si1\", SimpleImputer(strategy='mean')),\n",
    "                   ('disc1', KBinsDiscretizer(8, strategy='uniform', encode='ordinal'))])\n",
    "\n",
    "impdisc_fare = Pipeline([(\"si2\", SimpleImputer(strategy='median')),\n",
    "                   ('disc2', KBinsDiscretizer(6, strategy='quantile', encode='ordinal'))])\n",
    "\n",
    "ct = ColumnTransformer([(\"ohe\",OneHotEncoder(),['sex', 'deck', 'title']),\n",
    "                        (\"si1\",SimpleImputer(strategy='mean'),['age']), # age\n",
    "                        (\"disc_age\",impdisc_age,['age']), # age_range\n",
    "                        (\"si2\",SimpleImputer(strategy='median'),['fare']), # fare\n",
    "                        (\"disc_fare\",impdisc_fare,['fare']), # fare_range\n",
    "                        (\"impohe\",impohe,['embarked']),\n",
    "                        (\"original\",'passthrough',['pclass', 'sibsp', 'parch', 'is_married', 'relatives', 'alone', 'survived'])])\n",
    "\n",
    "npdata = ct.fit_transform(df)\n",
    "npdata"
   ]
  },
  {
   "cell_type": "markdown",
   "metadata": {},
   "source": [
    "Venamos una fila:"
   ]
  },
  {
   "cell_type": "code",
   "execution_count": 131,
   "metadata": {},
   "outputs": [
    {
     "name": "stdout",
     "output_type": "stream",
     "text": [
      "43\n"
     ]
    },
    {
     "data": {
      "text/plain": [
       "array([  1.    ,   0.    ,   0.    ,   1.    ,   0.    ,   0.    ,\n",
       "         0.    ,   0.    ,   0.    ,   0.    ,   0.    ,   0.    ,\n",
       "         0.    ,   0.    ,   0.    ,   0.    ,   0.    ,   0.    ,\n",
       "         0.    ,   0.    ,   1.    ,   0.    ,   0.    ,   0.    ,\n",
       "         0.    ,   0.    ,   0.    ,   0.    ,   0.    ,  29.    ,\n",
       "         2.    , 211.3375,   5.    ,   0.    ,   0.    ,   1.    ,\n",
       "         1.    ,   0.    ,   0.    ,   0.    ,   0.    ,   1.    ,\n",
       "         1.    ])"
      ]
     },
     "execution_count": 131,
     "metadata": {},
     "output_type": "execute_result"
    }
   ],
   "source": [
    "print(len(npdata[0,:]))\n",
    "npdata[0,:]"
   ]
  },
  {
   "cell_type": "markdown",
   "metadata": {},
   "source": [
    "Finalmente, separamos los predictores de la variable respuesta."
   ]
  },
  {
   "cell_type": "code",
   "execution_count": 132,
   "metadata": {},
   "outputs": [
    {
     "data": {
      "text/plain": [
       "array([  1.    ,   0.    ,   0.    ,   1.    ,   0.    ,   0.    ,\n",
       "         0.    ,   0.    ,   0.    ,   0.    ,   0.    ,   0.    ,\n",
       "         0.    ,   0.    ,   0.    ,   0.    ,   0.    ,   0.    ,\n",
       "         0.    ,   0.    ,   1.    ,   0.    ,   0.    ,   0.    ,\n",
       "         0.    ,   0.    ,   0.    ,   0.    ,   0.    ,  29.    ,\n",
       "         2.    , 211.3375,   5.    ,   0.    ,   0.    ,   1.    ,\n",
       "         1.    ,   0.    ,   0.    ,   0.    ,   0.    ,   1.    ])"
      ]
     },
     "execution_count": 132,
     "metadata": {},
     "output_type": "execute_result"
    }
   ],
   "source": [
    "X_titanic = npdata[:,:-1]\n",
    "X_titanic[0,:]"
   ]
  },
  {
   "cell_type": "code",
   "execution_count": 133,
   "metadata": {},
   "outputs": [
    {
     "data": {
      "text/plain": [
       "array([1., 1., 0., ..., 0., 0., 0.])"
      ]
     },
     "execution_count": 133,
     "metadata": {},
     "output_type": "execute_result"
    }
   ],
   "source": [
    "y_titanic = npdata[:,-1]\n",
    "y_titanic"
   ]
  },
  {
   "cell_type": "markdown",
   "metadata": {},
   "source": [
    "Por último, escalamos los datos."
   ]
  },
  {
   "cell_type": "code",
   "execution_count": 134,
   "metadata": {},
   "outputs": [],
   "source": [
    "from sklearn.preprocessing import MinMaxScaler\n",
    "scaler = MinMaxScaler(feature_range=(0, 1))\n",
    "scaler.fit(X_titanic)\n",
    "X_titanic_escalado = scaler.transform(X_titanic)"
   ]
  },
  {
   "cell_type": "markdown",
   "metadata": {},
   "source": [
    "Veamos como ha quedado el primer registro de nuestro conjunto de datos tras aplicar la transformación."
   ]
  },
  {
   "cell_type": "code",
   "execution_count": 135,
   "metadata": {},
   "outputs": [
    {
     "data": {
      "text/plain": [
       "array([1.        , 0.        , 0.        , 1.        , 0.        ,\n",
       "       0.        , 0.        , 0.        , 0.        , 0.        ,\n",
       "       0.        , 0.        , 0.        , 0.        , 0.        ,\n",
       "       0.        , 0.        , 0.        , 0.        , 0.        ,\n",
       "       1.        , 0.        , 0.        , 0.        , 0.        ,\n",
       "       0.        , 0.        , 0.        , 0.        , 0.36116884,\n",
       "       0.28571429, 0.41250333, 1.        , 0.        , 0.        ,\n",
       "       1.        , 0.        , 0.        , 0.        , 0.        ,\n",
       "       0.        , 1.        ])"
      ]
     },
     "execution_count": 135,
     "metadata": {},
     "output_type": "execute_result"
    }
   ],
   "source": [
    "X_titanic_escalado[0,:]"
   ]
  },
  {
   "cell_type": "code",
   "execution_count": null,
   "metadata": {},
   "outputs": [],
   "source": [
    "# HISTORIA\n",
    "\n",
    "# La empresa organizadora del viaje espacial, pidió antes de saber el triste destino de los pasajeros, \n",
    "# que analisaramos a los tripulantes de la nave para  poder decidir que tipo de ofertas y productos venderles \n",
    "# a la llegada a su destino final.\n",
    "# Para ello, decidimos aplicar kmeans, un algoritmo de aprendizaje no supervisado, con el que podemos dividir a la población en \n",
    "# distintos grupos según sus consumo en la nave y según su edad.\n",
    "# Personificando posteriormente a estos grupos en un individuo \"medio\" con el que su agencia publicitaria decidirá que productos\n",
    "# ofrecer para hacer un mejor negocio. (como por ejemplo puede ser los hoteles para hospedarse, cerca de que tiendas poner las habitaciones,\n",
    "# por que tiendas pasar en las rutas turísticas...)"
   ]
  }
 ],
 "metadata": {
  "kernelspec": {
   "display_name": "Python 3 (ipykernel)",
   "language": "python",
   "name": "python3"
  },
  "language_info": {
   "codemirror_mode": {
    "name": "ipython",
    "version": 3
   },
   "file_extension": ".py",
   "mimetype": "text/x-python",
   "name": "python",
   "nbconvert_exporter": "python",
   "pygments_lexer": "ipython3",
   "version": "3.9.13"
  }
 },
 "nbformat": 4,
 "nbformat_minor": 2
}
